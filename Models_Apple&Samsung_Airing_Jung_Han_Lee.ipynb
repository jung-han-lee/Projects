{
  "nbformat": 4,
  "nbformat_minor": 0,
  "metadata": {
    "kernelspec": {
      "display_name": "Python 3",
      "language": "python",
      "name": "python3"
    },
    "language_info": {
      "codemirror_mode": {
        "name": "ipython",
        "version": 3
      },
      "file_extension": ".py",
      "mimetype": "text/x-python",
      "name": "python",
      "nbconvert_exporter": "python",
      "pygments_lexer": "ipython3",
      "version": "3.7.1"
    },
    "colab": {
      "name": "Models_Apple&Samsung_Airing_Jung_Han_Lee.ipynb",
      "provenance": [],
      "collapsed_sections": [
        "L27_O84EVMn_",
        "ZRoa9GFVVMoD",
        "h4FqgW0GVMoE",
        "P6qgP5upVMoI",
        "de2utKEkVMoL",
        "d2b2wrfTVMoW",
        "mSmf-1YWVMoZ",
        "j0nL7LRuVMob",
        "gIKkCqJgVMof",
        "y_U2SyK9VMoi",
        "MX2mG08bVMop",
        "Jj93veQiVMow",
        "f03MrXpeVMo0",
        "loo53EGVVMo4",
        "xuRFv-b3VMo6",
        "g7nxPrr0VMo_",
        "vfbtNN2SVMpF",
        "KZMVu59JVMpI",
        "-029D0r9VMpJ",
        "x4fEl4TUVMpM",
        "qMjY1jYkVMpQ",
        "4a3W-uwGVMpW",
        "kOR2liBoVMpc",
        "f8Nyo4W5VMpe",
        "JdtYrC8HVMpf",
        "YovHa_CXVMph",
        "T-ox5UtZVMpi",
        "spPWxAmkVMpn",
        "Fu_WXRqFVMpr",
        "rV-Aw14hVMpv",
        "IhAGWm_TVMpw",
        "vwiRwfBuVMpz",
        "soUv3I7JVMp0",
        "MmVG-OuVVMp7",
        "G6Zd0kDaVMqA",
        "1zmMlauMVMqG",
        "Htupf0zzVMqN",
        "UWyVaFlhVMqS",
        "pHrhhCbkVMqZ",
        "ULbsg4HjVMqZ",
        "uiaJZKWUVMqa",
        "f0Dx9fDyVMqb",
        "lUk8AD4pVMqe",
        "gGDwYU74VMqg",
        "CR1kGFsiVMqo",
        "S8Mlqx0iVMqv",
        "XQ7LDwflVMq0",
        "-oKMNotLVMq4"
      ],
      "include_colab_link": true
    }
  },
  "cells": [
    {
      "cell_type": "markdown",
      "metadata": {
        "id": "view-in-github",
        "colab_type": "text"
      },
      "source": [
        "<a href=\"https://colab.research.google.com/github/jung-han-lee/Projects/blob/master/Models_Apple%26Samsung_Airing_Jung_Han_Lee.ipynb\" target=\"_parent\"><img src=\"https://colab.research.google.com/assets/colab-badge.svg\" alt=\"Open In Colab\"/></a>"
      ]
    },
    {
      "cell_type": "markdown",
      "metadata": {
        "id": "xU6fql4bVMlc",
        "colab_type": "text"
      },
      "source": [
        "# Part 0: Data Preparation"
      ]
    },
    {
      "cell_type": "code",
      "metadata": {
        "id": "63kWZYStVMld",
        "colab_type": "code",
        "colab": {}
      },
      "source": [
        "import pandas as pd\n",
        "import numpy as np\n",
        "import matplotlib.pyplot as plt\n",
        "import seaborn as sns\n",
        "from scipy import stats\n",
        "import scipy.stats as stats\n",
        "from scipy.stats import chi2_contingency\n",
        "from sklearn import preprocessing\n",
        "from sklearn.model_selection import train_test_split,KFold\n",
        "from sklearn.linear_model import LinearRegression\n",
        "from sklearn.linear_model import ElasticNet\n",
        "from sklearn.linear_model import Lasso\n",
        "from sklearn.linear_model import Ridge\n",
        "from sklearn.ensemble import RandomForestRegressor,GradientBoostingRegressor\n",
        "from sklearn import metrics\n",
        "import statistics\n",
        "import math\n",
        "import xgboost as xgb\n",
        "from sklearn.base import BaseEstimator, TransformerMixin, RegressorMixin, clone\n",
        "%matplotlib inline\n",
        "\n",
        "import warnings\n",
        "warnings.filterwarnings('ignore')"
      ],
      "execution_count": null,
      "outputs": []
    },
    {
      "cell_type": "code",
      "metadata": {
        "id": "MRQco2NqVMlg",
        "colab_type": "code",
        "colab": {}
      },
      "source": [
        "df_apple = pd.read_excel('Airings-Report-Apple.xlsx'\n",
        "                         , header=1, sheet_name='Brand Campaign Details')\n",
        "df_samsung = pd.read_excel('Alphonso-Airings-Report-Samsung-20200302.xlsx'\n",
        "                        , header=1, sheet_name='Brand Campaign Details')\n",
        "df = pd.concat([df_apple, df_samsung])\n",
        "df = df.reset_index(drop=True)"
      ],
      "execution_count": null,
      "outputs": []
    },
    {
      "cell_type": "code",
      "metadata": {
        "id": "aQ5tdQnIVMls",
        "colab_type": "code",
        "colab": {},
        "outputId": "103eb653-ebd1-4952-f4c8-977ca00d4bb5"
      },
      "source": [
        "df.shape"
      ],
      "execution_count": null,
      "outputs": [
        {
          "output_type": "execute_result",
          "data": {
            "text/plain": [
              "(16811, 23)"
            ]
          },
          "metadata": {
            "tags": []
          },
          "execution_count": 388
        }
      ]
    },
    {
      "cell_type": "code",
      "metadata": {
        "id": "COZ_Tf9NVMlw",
        "colab_type": "code",
        "colab": {},
        "outputId": "1ff556bd-cc0a-4713-b3f7-1d505ca20423"
      },
      "source": [
        "df.tail()"
      ],
      "execution_count": null,
      "outputs": [
        {
          "output_type": "execute_result",
          "data": {
            "text/html": [
              "<div>\n",
              "<style scoped>\n",
              "    .dataframe tbody tr th:only-of-type {\n",
              "        vertical-align: middle;\n",
              "    }\n",
              "\n",
              "    .dataframe tbody tr th {\n",
              "        vertical-align: top;\n",
              "    }\n",
              "\n",
              "    .dataframe thead th {\n",
              "        text-align: right;\n",
              "    }\n",
              "</style>\n",
              "<table border=\"1\" class=\"dataframe\">\n",
              "  <thead>\n",
              "    <tr style=\"text-align: right;\">\n",
              "      <th></th>\n",
              "      <th>Id</th>\n",
              "      <th>Title</th>\n",
              "      <th>Brand</th>\n",
              "      <th>Product</th>\n",
              "      <th>Category</th>\n",
              "      <th>Network</th>\n",
              "      <th>Network Type</th>\n",
              "      <th>Show</th>\n",
              "      <th>Date</th>\n",
              "      <th>Time</th>\n",
              "      <th>...</th>\n",
              "      <th>Co-Op Product</th>\n",
              "      <th>Duration</th>\n",
              "      <th>EQ Units</th>\n",
              "      <th>Spend ($)</th>\n",
              "      <th>Broadcast Year</th>\n",
              "      <th>Broadcast Month</th>\n",
              "      <th>Broadcast Week</th>\n",
              "      <th>Day Of Week</th>\n",
              "      <th>Hour Of Day</th>\n",
              "      <th>TimeZone</th>\n",
              "    </tr>\n",
              "  </thead>\n",
              "  <tbody>\n",
              "    <tr>\n",
              "      <th>16806</th>\n",
              "      <td>4063180</td>\n",
              "      <td>Samsung Galaxy</td>\n",
              "      <td>Samsung</td>\n",
              "      <td>Samsung Galaxy</td>\n",
              "      <td>Electronics &amp; Communication</td>\n",
              "      <td>FOX News Channel</td>\n",
              "      <td>cable</td>\n",
              "      <td>FOX and Friends</td>\n",
              "      <td>12/03/2019</td>\n",
              "      <td>7:16:42 AM</td>\n",
              "      <td>...</td>\n",
              "      <td>NaN</td>\n",
              "      <td>30</td>\n",
              "      <td>1.0</td>\n",
              "      <td>3491</td>\n",
              "      <td>2019</td>\n",
              "      <td>DEC</td>\n",
              "      <td>49</td>\n",
              "      <td>2</td>\n",
              "      <td>7</td>\n",
              "      <td>US/Eastern</td>\n",
              "    </tr>\n",
              "    <tr>\n",
              "      <th>16807</th>\n",
              "      <td>4063180</td>\n",
              "      <td>Samsung Galaxy</td>\n",
              "      <td>Samsung</td>\n",
              "      <td>Samsung Galaxy</td>\n",
              "      <td>Electronics &amp; Communication</td>\n",
              "      <td>NBC</td>\n",
              "      <td>broadcast</td>\n",
              "      <td>Late Night With Seth Meyers</td>\n",
              "      <td>12/06/2019</td>\n",
              "      <td>1:27:27 AM</td>\n",
              "      <td>...</td>\n",
              "      <td>NaN</td>\n",
              "      <td>30</td>\n",
              "      <td>1.0</td>\n",
              "      <td>5257</td>\n",
              "      <td>2019</td>\n",
              "      <td>DEC</td>\n",
              "      <td>49</td>\n",
              "      <td>5</td>\n",
              "      <td>1</td>\n",
              "      <td>US/Eastern</td>\n",
              "    </tr>\n",
              "    <tr>\n",
              "      <th>16808</th>\n",
              "      <td>3861210</td>\n",
              "      <td>Samsung Galaxy Note 10</td>\n",
              "      <td>Samsung</td>\n",
              "      <td>Samsung Galaxy Note 10</td>\n",
              "      <td>Cell Phones</td>\n",
              "      <td>E!</td>\n",
              "      <td>cable</td>\n",
              "      <td>It's a Wonderful Life</td>\n",
              "      <td>12/25/2019</td>\n",
              "      <td>7:09:21 AM</td>\n",
              "      <td>...</td>\n",
              "      <td>NaN</td>\n",
              "      <td>30</td>\n",
              "      <td>1.0</td>\n",
              "      <td>2122</td>\n",
              "      <td>2019</td>\n",
              "      <td>DEC</td>\n",
              "      <td>52</td>\n",
              "      <td>3</td>\n",
              "      <td>7</td>\n",
              "      <td>US/Eastern</td>\n",
              "    </tr>\n",
              "    <tr>\n",
              "      <th>16809</th>\n",
              "      <td>3618599</td>\n",
              "      <td>Samsung Galaxy S10</td>\n",
              "      <td>Samsung</td>\n",
              "      <td>Samsung Galaxy S10</td>\n",
              "      <td>Cell Phones</td>\n",
              "      <td>FOX Sports 2</td>\n",
              "      <td>cable</td>\n",
              "      <td>FS1 College Football Playoff Preview</td>\n",
              "      <td>12/23/2019</td>\n",
              "      <td>11:41:32 PM</td>\n",
              "      <td>...</td>\n",
              "      <td>NaN</td>\n",
              "      <td>30</td>\n",
              "      <td>1.0</td>\n",
              "      <td>32</td>\n",
              "      <td>2019</td>\n",
              "      <td>DEC</td>\n",
              "      <td>52</td>\n",
              "      <td>1</td>\n",
              "      <td>23</td>\n",
              "      <td>US/Eastern</td>\n",
              "    </tr>\n",
              "    <tr>\n",
              "      <th>16810</th>\n",
              "      <td>3861210</td>\n",
              "      <td>Samsung Galaxy Note 10</td>\n",
              "      <td>Samsung</td>\n",
              "      <td>Samsung Galaxy Note 10</td>\n",
              "      <td>Cell Phones</td>\n",
              "      <td>CBS</td>\n",
              "      <td>broadcast</td>\n",
              "      <td>Carol's Second Act</td>\n",
              "      <td>12/25/2019</td>\n",
              "      <td>9:53:06 PM</td>\n",
              "      <td>...</td>\n",
              "      <td>NaN</td>\n",
              "      <td>30</td>\n",
              "      <td>1.0</td>\n",
              "      <td>109063</td>\n",
              "      <td>2019</td>\n",
              "      <td>DEC</td>\n",
              "      <td>52</td>\n",
              "      <td>3</td>\n",
              "      <td>21</td>\n",
              "      <td>US/Eastern</td>\n",
              "    </tr>\n",
              "  </tbody>\n",
              "</table>\n",
              "<p>5 rows × 23 columns</p>\n",
              "</div>"
            ],
            "text/plain": [
              "            Id                   Title    Brand                 Product  \\\n",
              "16806  4063180          Samsung Galaxy  Samsung          Samsung Galaxy   \n",
              "16807  4063180          Samsung Galaxy  Samsung          Samsung Galaxy   \n",
              "16808  3861210  Samsung Galaxy Note 10  Samsung  Samsung Galaxy Note 10   \n",
              "16809  3618599      Samsung Galaxy S10  Samsung      Samsung Galaxy S10   \n",
              "16810  3861210  Samsung Galaxy Note 10  Samsung  Samsung Galaxy Note 10   \n",
              "\n",
              "                          Category           Network Network Type  \\\n",
              "16806  Electronics & Communication  FOX News Channel        cable   \n",
              "16807  Electronics & Communication               NBC    broadcast   \n",
              "16808                  Cell Phones                E!        cable   \n",
              "16809                  Cell Phones      FOX Sports 2        cable   \n",
              "16810                  Cell Phones               CBS    broadcast   \n",
              "\n",
              "                                       Show        Date         Time  ...  \\\n",
              "16806                       FOX and Friends  12/03/2019   7:16:42 AM  ...   \n",
              "16807           Late Night With Seth Meyers  12/06/2019   1:27:27 AM  ...   \n",
              "16808                 It's a Wonderful Life  12/25/2019   7:09:21 AM  ...   \n",
              "16809  FS1 College Football Playoff Preview  12/23/2019  11:41:32 PM  ...   \n",
              "16810                    Carol's Second Act  12/25/2019   9:53:06 PM  ...   \n",
              "\n",
              "       Co-Op Product Duration  EQ Units  Spend ($)  Broadcast Year  \\\n",
              "16806            NaN       30       1.0       3491            2019   \n",
              "16807            NaN       30       1.0       5257            2019   \n",
              "16808            NaN       30       1.0       2122            2019   \n",
              "16809            NaN       30       1.0         32            2019   \n",
              "16810            NaN       30       1.0     109063            2019   \n",
              "\n",
              "       Broadcast Month  Broadcast Week  Day Of Week Hour Of Day    TimeZone  \n",
              "16806              DEC              49            2           7  US/Eastern  \n",
              "16807              DEC              49            5           1  US/Eastern  \n",
              "16808              DEC              52            3           7  US/Eastern  \n",
              "16809              DEC              52            1          23  US/Eastern  \n",
              "16810              DEC              52            3          21  US/Eastern  \n",
              "\n",
              "[5 rows x 23 columns]"
            ]
          },
          "metadata": {
            "tags": []
          },
          "execution_count": 389
        }
      ]
    },
    {
      "cell_type": "code",
      "metadata": {
        "id": "a6MPOFokVMl1",
        "colab_type": "code",
        "colab": {},
        "outputId": "7c449878-ec44-4924-b5d0-e1850b8f5a5b"
      },
      "source": [
        "sns.heatmap(df.isnull(),yticklabels=False, cmap='plasma')"
      ],
      "execution_count": null,
      "outputs": [
        {
          "output_type": "execute_result",
          "data": {
            "text/plain": [
              "<matplotlib.axes._subplots.AxesSubplot at 0x17f819f98>"
            ]
          },
          "metadata": {
            "tags": []
          },
          "execution_count": 390
        },
        {
          "output_type": "display_data",
          "data": {
            "image/png": "[encoded data removed]",
            "text/plain": [
              "<Figure size 432x288 with 2 Axes>"
            ]
          },
          "metadata": {
            "tags": [],
            "needs_background": "light"
          }
        }
      ]
    },
    {
      "cell_type": "code",
      "metadata": {
        "id": "9LdXgTZlVMl5",
        "colab_type": "code",
        "colab": {}
      },
      "source": [
        "# Dropped those columns since all of there values are NaN\n",
        "df.drop(columns=['Co-Op Brand','Co-Op Product'], inplace=True)"
      ],
      "execution_count": null,
      "outputs": []
    },
    {
      "cell_type": "code",
      "metadata": {
        "id": "x55H7BYPVMl9",
        "colab_type": "code",
        "colab": {}
      },
      "source": [
        "spend = df.pop('Spend ($)')\n",
        "df['Cost']=spend "
      ],
      "execution_count": null,
      "outputs": []
    },
    {
      "cell_type": "code",
      "metadata": {
        "scrolled": true,
        "id": "FNT1SgqwVMl_",
        "colab_type": "code",
        "colab": {},
        "outputId": "4002f7d3-153f-45b4-e428-2d5a06fa622d"
      },
      "source": [
        "df.columns"
      ],
      "execution_count": null,
      "outputs": [
        {
          "output_type": "execute_result",
          "data": {
            "text/plain": [
              "Index(['Id', 'Title', 'Brand', 'Product', 'Category', 'Network',\n",
              "       'Network Type', 'Show', 'Date', 'Time', 'Pod Position', 'Dayparts',\n",
              "       'Duration', 'EQ Units', 'Broadcast Year', 'Broadcast Month',\n",
              "       'Broadcast Week', 'Day Of Week', 'Hour Of Day', 'TimeZone', 'Cost'],\n",
              "      dtype='object')"
            ]
          },
          "metadata": {
            "tags": []
          },
          "execution_count": 393
        }
      ]
    },
    {
      "cell_type": "code",
      "metadata": {
        "id": "NJhs7kM7VMmD",
        "colab_type": "code",
        "colab": {}
      },
      "source": [
        "df.drop(columns=['Date','Time'], inplace=True)\n",
        "df[['Broadcast Year', 'Broadcast Week', 'Day Of Week', 'Hour Of Day']] = df[['Broadcast Year', 'Broadcast Week', 'Day Of Week', 'Hour Of Day']].astype(str)\n",
        "df[['Pod Position']] = df[['Pod Position']].astype(str)\n",
        "df[['Id']] = df[['Id']].astype(str)\n"
      ],
      "execution_count": null,
      "outputs": []
    },
    {
      "cell_type": "code",
      "metadata": {
        "scrolled": true,
        "id": "4061H7A5VMmF",
        "colab_type": "code",
        "colab": {},
        "outputId": "e6e5222a-80f2-4ea3-d26b-eb2ac4cfdb5c"
      },
      "source": [
        "sns.distplot(df['Cost'])"
      ],
      "execution_count": null,
      "outputs": [
        {
          "output_type": "execute_result",
          "data": {
            "text/plain": [
              "<matplotlib.axes._subplots.AxesSubplot at 0x13bb8d780>"
            ]
          },
          "metadata": {
            "tags": []
          },
          "execution_count": 395
        },
        {
          "output_type": "display_data",
          "data": {
            "image/png": "[encoded data removed]",
            "text/plain": [
              "<Figure size 432x288 with 1 Axes>"
            ]
          },
          "metadata": {
            "tags": [],
            "needs_background": "light"
          }
        }
      ]
    },
    {
      "cell_type": "code",
      "metadata": {
        "id": "kegG7gDCVMmJ",
        "colab_type": "code",
        "colab": {},
        "outputId": "81f89a15-496a-4fc0-b64b-bda0baf9e3c4"
      },
      "source": [
        "df['Cost'].describe()"
      ],
      "execution_count": null,
      "outputs": [
        {
          "output_type": "execute_result",
          "data": {
            "text/plain": [
              "count    1.681100e+04\n",
              "mean     7.592298e+03\n",
              "std      4.009662e+04\n",
              "min      0.000000e+00\n",
              "25%      1.340000e+02\n",
              "50%      5.690000e+02\n",
              "75%      1.868000e+03\n",
              "max      1.130473e+06\n",
              "Name: Cost, dtype: float64"
            ]
          },
          "metadata": {
            "tags": []
          },
          "execution_count": 397
        }
      ]
    },
    {
      "cell_type": "code",
      "metadata": {
        "scrolled": true,
        "id": "2O605gQlVMmL",
        "colab_type": "code",
        "colab": {},
        "outputId": "58ac9a51-cf5e-45a1-982f-3f67f28899e1"
      },
      "source": [
        "#skewness and kurtosis\n",
        "print(\"Skewness: %f\" % df['Cost'].skew())\n",
        "print(\"Kurtosis: %f\" % df['Cost'].kurt())"
      ],
      "execution_count": null,
      "outputs": [
        {
          "output_type": "stream",
          "text": [
            "Skewness: 11.859168\n",
            "Kurtosis: 187.934735\n"
          ],
          "name": "stdout"
        }
      ]
    },
    {
      "cell_type": "code",
      "metadata": {
        "scrolled": true,
        "id": "7-0YyeFsVMmO",
        "colab_type": "code",
        "colab": {},
        "outputId": "8c1f18b1-3e39-42d5-e02d-0e4bc3cf8869"
      },
      "source": [
        "corr = df.corr()\n",
        "sns.heatmap(corr, vmin=-1, vmax=1,annot=True,annot_kws={'size': 10})"
      ],
      "execution_count": null,
      "outputs": [
        {
          "output_type": "execute_result",
          "data": {
            "text/plain": [
              "<matplotlib.axes._subplots.AxesSubplot at 0x1a206a358>"
            ]
          },
          "metadata": {
            "tags": []
          },
          "execution_count": 399
        },
        {
          "output_type": "display_data",
          "data": {
            "image/png": "[encoded data removed]",
            "text/plain": [
              "<Figure size 432x288 with 2 Axes>"
            ]
          },
          "metadata": {
            "tags": [],
            "needs_background": "light"
          }
        }
      ]
    },
    {
      "cell_type": "code",
      "metadata": {
        "id": "qET5EcVuVMmP",
        "colab_type": "code",
        "colab": {}
      },
      "source": [
        "#drop 'EQ Units'\n",
        "df.drop(columns=['EQ Units'], inplace=True)"
      ],
      "execution_count": null,
      "outputs": []
    },
    {
      "cell_type": "code",
      "metadata": {
        "scrolled": true,
        "id": "PbalATqTVMmS",
        "colab_type": "code",
        "colab": {},
        "outputId": "1cc7f618-874a-49c2-e4df-30a55f336f62"
      },
      "source": [
        "corr = df.corr()\n",
        "sns.heatmap(corr, vmin=-1, vmax=1,annot=True,annot_kws={'size': 10})"
      ],
      "execution_count": null,
      "outputs": [
        {
          "output_type": "execute_result",
          "data": {
            "text/plain": [
              "<matplotlib.axes._subplots.AxesSubplot at 0x186b19748>"
            ]
          },
          "metadata": {
            "tags": []
          },
          "execution_count": 401
        },
        {
          "output_type": "display_data",
          "data": {
            "image/png": "[encoded data removed]",
            "text/plain": [
              "<Figure size 432x288 with 2 Axes>"
            ]
          },
          "metadata": {
            "tags": [],
            "needs_background": "light"
          }
        }
      ]
    },
    {
      "cell_type": "markdown",
      "metadata": {
        "id": "8o70HOsQVMmU",
        "colab_type": "text"
      },
      "source": [
        "## Check correlation among categorical variables"
      ]
    },
    {
      "cell_type": "code",
      "metadata": {
        "id": "Jt4hL31oVMmV",
        "colab_type": "code",
        "colab": {}
      },
      "source": [
        "def cramers_V(var1,var2) :\n",
        "    crosstab =np.array(pd.crosstab(var1,var2, rownames=None, colnames=None)) # Cross table building\n",
        "    stat = chi2_contingency(crosstab)[0] # Keeping of the test statistic of the Chi2 test\n",
        "    obs = np.sum(crosstab) # Number of observations\n",
        "    mini = min(crosstab.shape)-1 # Take the minimum value between the columns and the rows of the cross table\n",
        "    return (stat/(obs*mini))"
      ],
      "execution_count": null,
      "outputs": []
    },
    {
      "cell_type": "code",
      "metadata": {
        "id": "gSPnGikfVMmX",
        "colab_type": "code",
        "colab": {}
      },
      "source": [
        "def cat_corr(df):\n",
        "    label = preprocessing.LabelEncoder()\n",
        "    data_encoded = pd.DataFrame() \n",
        "    cats = ['Cost','Id','Title','Brand', 'Product','Pod Position', 'Category','Network','Network Type','Show','Dayparts'\n",
        "       ,'Broadcast Year','Broadcast Month','Broadcast Week','Day Of Week','Hour Of Day','TimeZone']\n",
        "\n",
        "    for i in cats :\n",
        "        data_encoded[i]=label.fit_transform(df[i])\n",
        "    \n",
        "    rows= []\n",
        "\n",
        "    for var1 in data_encoded:\n",
        "        col = []\n",
        "        for var2 in data_encoded :\n",
        "            cramers =cramers_V(data_encoded[var1], data_encoded[var2]) # Cramer's V test\n",
        "            col.append(round(cramers,2)) # Keeping of the rounded value of the Cramer's V  \n",
        "        rows.append(col)\n",
        "\n",
        "    \n",
        "    cramers_results = np.array(rows)\n",
        "    df = pd.DataFrame(cramers_results, columns = data_encoded.columns, index =data_encoded.columns)\n",
        "    return df"
      ],
      "execution_count": null,
      "outputs": []
    },
    {
      "cell_type": "code",
      "metadata": {
        "scrolled": false,
        "id": "h2t3rqS-VMmZ",
        "colab_type": "code",
        "colab": {},
        "outputId": "7bc98438-4edb-42f5-cf38-3e855f0e448d"
      },
      "source": [
        "fig, ax = plt.subplots(figsize=(8,8))\n",
        "sns.heatmap(cat_corr(df), annot=True,annot_kws={'size': 10})"
      ],
      "execution_count": null,
      "outputs": [
        {
          "output_type": "execute_result",
          "data": {
            "text/plain": [
              "<matplotlib.axes._subplots.AxesSubplot at 0x1a0fd0160>"
            ]
          },
          "metadata": {
            "tags": []
          },
          "execution_count": 404
        },
        {
          "output_type": "display_data",
          "data": {
            "image/png": "[encoded data removed]",
            "text/plain": [
              "<Figure size 576x576 with 2 Axes>"
            ]
          },
          "metadata": {
            "tags": [],
            "needs_background": "light"
          }
        }
      ]
    },
    {
      "cell_type": "code",
      "metadata": {
        "id": "7zeUga_nVMmc",
        "colab_type": "code",
        "colab": {}
      },
      "source": [
        "#Drop 'Id', 'Brand', 'Product', 'Category', 'Network Type', 'Broadcast Month' and 'TimeZone'\n",
        "df.drop(columns=['Id','Brand', 'Product', 'Category', 'Network Type', 'TimeZone', 'Broadcast Year','Broadcast Month'], inplace=True)"
      ],
      "execution_count": null,
      "outputs": []
    },
    {
      "cell_type": "markdown",
      "metadata": {
        "id": "qImsKJ1zVMme",
        "colab_type": "text"
      },
      "source": [
        "## Log Transformation : Cost"
      ]
    },
    {
      "cell_type": "code",
      "metadata": {
        "id": "itY3WjkuVMmf",
        "colab_type": "code",
        "colab": {}
      },
      "source": [
        "df['Cost_log']=np.log(df['Cost'])"
      ],
      "execution_count": null,
      "outputs": []
    },
    {
      "cell_type": "markdown",
      "metadata": {
        "id": "gW3p3rItVMmi",
        "colab_type": "text"
      },
      "source": [
        "## Outliers detection"
      ]
    },
    {
      "cell_type": "code",
      "metadata": {
        "scrolled": true,
        "id": "RTIeSv11VMmj",
        "colab_type": "code",
        "colab": {},
        "outputId": "4f74d2f7-c43e-47a7-d3ce-5e4e995f406b"
      },
      "source": [
        "#box plot Day of Week/cost\n",
        "var = 'Day Of Week'\n",
        "data = pd.concat([df['Cost_log'], df[var]], axis=1)\n",
        "f, ax = plt.subplots(figsize=(20, 6))\n",
        "fig = sns.boxplot(x=var, y=\"Cost_log\", data=data)\n",
        "fig.axis(ymin=0, ymax=20)"
      ],
      "execution_count": null,
      "outputs": [
        {
          "output_type": "execute_result",
          "data": {
            "text/plain": [
              "(-0.5, 6.5, 0, 20)"
            ]
          },
          "metadata": {
            "tags": []
          },
          "execution_count": 541
        },
        {
          "output_type": "display_data",
          "data": {
            "image/png": "[encoded data removed]",
            "text/plain": [
              "<Figure size 1440x432 with 1 Axes>"
            ]
          },
          "metadata": {
            "tags": [],
            "needs_background": "light"
          }
        }
      ]
    },
    {
      "cell_type": "markdown",
      "metadata": {
        "id": "58fw4YDaVMml",
        "colab_type": "text"
      },
      "source": [
        "From the above chart, I can say that no need to remove any data."
      ]
    },
    {
      "cell_type": "markdown",
      "metadata": {
        "id": "qVoTKIjHVMml",
        "colab_type": "text"
      },
      "source": [
        "## Categorize the 'Cost' Variable : For Classification Modeling"
      ]
    },
    {
      "cell_type": "code",
      "metadata": {
        "id": "bOwOTMg9VMmm",
        "colab_type": "code",
        "colab": {}
      },
      "source": [
        "Cost_cat = []\n",
        "for cost in df.Cost:\n",
        "    if cost < 10000:\n",
        "        Cost_cat.append('Under 10k')\n",
        "    elif cost<100000:\n",
        "        Cost_cat.append('10k')\n",
        "    elif cost<100000:\n",
        "        Cost_cat.append('100k')\n",
        "    else:\n",
        "        Cost_cat.append('Over 100k')\n",
        "df['Cost_cat'] = Cost_cat"
      ],
      "execution_count": null,
      "outputs": []
    },
    {
      "cell_type": "code",
      "metadata": {
        "id": "sC0VsYkBVMmo",
        "colab_type": "code",
        "colab": {},
        "outputId": "4ebb19dd-6f81-402b-ff55-c0f9c90689a1"
      },
      "source": [
        "df.head(3)"
      ],
      "execution_count": null,
      "outputs": [
        {
          "output_type": "execute_result",
          "data": {
            "text/html": [
              "<div>\n",
              "<style scoped>\n",
              "    .dataframe tbody tr th:only-of-type {\n",
              "        vertical-align: middle;\n",
              "    }\n",
              "\n",
              "    .dataframe tbody tr th {\n",
              "        vertical-align: top;\n",
              "    }\n",
              "\n",
              "    .dataframe thead th {\n",
              "        text-align: right;\n",
              "    }\n",
              "</style>\n",
              "<table border=\"1\" class=\"dataframe\">\n",
              "  <thead>\n",
              "    <tr style=\"text-align: right;\">\n",
              "      <th></th>\n",
              "      <th>Title</th>\n",
              "      <th>Network</th>\n",
              "      <th>Show</th>\n",
              "      <th>Pod Position</th>\n",
              "      <th>Dayparts</th>\n",
              "      <th>Duration</th>\n",
              "      <th>Broadcast Week</th>\n",
              "      <th>Day Of Week</th>\n",
              "      <th>Hour Of Day</th>\n",
              "      <th>Cost</th>\n",
              "      <th>Cost_log</th>\n",
              "      <th>Cost_cat</th>\n",
              "    </tr>\n",
              "  </thead>\n",
              "  <tbody>\n",
              "    <tr>\n",
              "      <th>0</th>\n",
              "      <td>Apple Music Bazzi</td>\n",
              "      <td>MTVU</td>\n",
              "      <td>mtvU Music Block</td>\n",
              "      <td>2</td>\n",
              "      <td>PRIME TIME</td>\n",
              "      <td>30</td>\n",
              "      <td>42</td>\n",
              "      <td>4</td>\n",
              "      <td>21</td>\n",
              "      <td>1</td>\n",
              "      <td>0.000000</td>\n",
              "      <td>Under 10k</td>\n",
              "    </tr>\n",
              "    <tr>\n",
              "      <th>1</th>\n",
              "      <td>Apple iPhone 11 Pro</td>\n",
              "      <td>MLB Network</td>\n",
              "      <td>MLB Tonight</td>\n",
              "      <td>2</td>\n",
              "      <td>PRIME ACCESS</td>\n",
              "      <td>30</td>\n",
              "      <td>41</td>\n",
              "      <td>5</td>\n",
              "      <td>19</td>\n",
              "      <td>810</td>\n",
              "      <td>6.697034</td>\n",
              "      <td>Under 10k</td>\n",
              "    </tr>\n",
              "    <tr>\n",
              "      <th>2</th>\n",
              "      <td>Verizon With Apple Music</td>\n",
              "      <td>ESPN Deportes</td>\n",
              "      <td>Fútbol picante</td>\n",
              "      <td>6</td>\n",
              "      <td>OVERNIGHT</td>\n",
              "      <td>30</td>\n",
              "      <td>41</td>\n",
              "      <td>1</td>\n",
              "      <td>3</td>\n",
              "      <td>6</td>\n",
              "      <td>1.791759</td>\n",
              "      <td>Under 10k</td>\n",
              "    </tr>\n",
              "  </tbody>\n",
              "</table>\n",
              "</div>"
            ],
            "text/plain": [
              "                      Title        Network              Show Pod Position  \\\n",
              "0         Apple Music Bazzi           MTVU  mtvU Music Block            2   \n",
              "1       Apple iPhone 11 Pro    MLB Network       MLB Tonight            2   \n",
              "2  Verizon With Apple Music  ESPN Deportes    Fútbol picante            6   \n",
              "\n",
              "       Dayparts  Duration Broadcast Week Day Of Week Hour Of Day  Cost  \\\n",
              "0    PRIME TIME        30             42           4          21     1   \n",
              "1  PRIME ACCESS        30             41           5          19   810   \n",
              "2     OVERNIGHT        30             41           1           3     6   \n",
              "\n",
              "   Cost_log   Cost_cat  \n",
              "0  0.000000  Under 10k  \n",
              "1  6.697034  Under 10k  \n",
              "2  1.791759  Under 10k  "
            ]
          },
          "metadata": {
            "tags": []
          },
          "execution_count": 408
        }
      ]
    },
    {
      "cell_type": "markdown",
      "metadata": {
        "id": "qO0mnqO_VMms",
        "colab_type": "text"
      },
      "source": [
        "## Dummy Coding"
      ]
    },
    {
      "cell_type": "code",
      "metadata": {
        "id": "qRQMJ3iZVMms",
        "colab_type": "code",
        "colab": {}
      },
      "source": [
        "df_dummy = pd.get_dummies(df, columns=['Title', 'Network', 'Show', 'Pod Position','Dayparts',\n",
        "                                       'Broadcast Week','Day Of Week','Hour Of Day'], drop_first=True)"
      ],
      "execution_count": null,
      "outputs": []
    },
    {
      "cell_type": "code",
      "metadata": {
        "id": "CGonxKIMVMmu",
        "colab_type": "code",
        "colab": {},
        "outputId": "e2e9069f-6e7b-48f5-be35-cac3888aa694"
      },
      "source": [
        "df_dummy.shape"
      ],
      "execution_count": null,
      "outputs": [
        {
          "output_type": "execute_result",
          "data": {
            "text/plain": [
              "(16811, 1964)"
            ]
          },
          "metadata": {
            "tags": []
          },
          "execution_count": 410
        }
      ]
    },
    {
      "cell_type": "code",
      "metadata": {
        "scrolled": false,
        "id": "Z1khTDq8VMmx",
        "colab_type": "code",
        "colab": {},
        "outputId": "660f6490-4861-4c07-cc74-ef0087990d06"
      },
      "source": [
        "df_dummy['Cost_log']"
      ],
      "execution_count": null,
      "outputs": [
        {
          "output_type": "execute_result",
          "data": {
            "text/plain": [
              "0         0.000000\n",
              "1         6.697034\n",
              "2         1.791759\n",
              "3         6.921658\n",
              "4         7.826842\n",
              "           ...    \n",
              "16806     8.157944\n",
              "16807     8.567316\n",
              "16808     7.660114\n",
              "16809     3.465736\n",
              "16810    11.599681\n",
              "Name: Cost_log, Length: 16811, dtype: float64"
            ]
          },
          "metadata": {
            "tags": []
          },
          "execution_count": 411
        }
      ]
    },
    {
      "cell_type": "code",
      "metadata": {
        "id": "lM2zC-1RVMm0",
        "colab_type": "code",
        "colab": {}
      },
      "source": [
        "delete_row = df_dummy[df_dummy[\"Cost_log\"]==float('-inf')].index\n",
        "df_dummy = df_dummy.drop(delete_row)\n",
        "df_dummy = df_dummy.reset_index(drop=True)"
      ],
      "execution_count": null,
      "outputs": []
    },
    {
      "cell_type": "code",
      "metadata": {
        "scrolled": false,
        "id": "dHr4oUdsVMm1",
        "colab_type": "code",
        "colab": {},
        "outputId": "e5ed875a-0070-46b3-b762-5ff933f91434"
      },
      "source": [
        "sns.distplot(df_dummy['Cost_log'])"
      ],
      "execution_count": null,
      "outputs": [
        {
          "output_type": "execute_result",
          "data": {
            "text/plain": [
              "<matplotlib.axes._subplots.AxesSubplot at 0x17f51b8d0>"
            ]
          },
          "metadata": {
            "tags": []
          },
          "execution_count": 413
        },
        {
          "output_type": "display_data",
          "data": {
            "image/png": "[encoded data removed]",
            "text/plain": [
              "<Figure size 432x288 with 1 Axes>"
            ]
          },
          "metadata": {
            "tags": [],
            "needs_background": "light"
          }
        }
      ]
    },
    {
      "cell_type": "markdown",
      "metadata": {
        "id": "9VQ4z-RDVMm4",
        "colab_type": "text"
      },
      "source": [
        "## Scale"
      ]
    },
    {
      "cell_type": "code",
      "metadata": {
        "id": "VTYZGn0kVMm5",
        "colab_type": "code",
        "colab": {}
      },
      "source": [
        "from sklearn.preprocessing import StandardScaler\n",
        "scaler = StandardScaler()"
      ],
      "execution_count": null,
      "outputs": []
    },
    {
      "cell_type": "code",
      "metadata": {
        "id": "RVGN8TX1VMm8",
        "colab_type": "code",
        "colab": {}
      },
      "source": [
        "y = df_dummy.Cost_log\n",
        "x = df_dummy.drop(columns=[\"Cost\", \"Cost_log\", \"Cost_cat\"], axis = 1)"
      ],
      "execution_count": null,
      "outputs": []
    },
    {
      "cell_type": "code",
      "metadata": {
        "scrolled": true,
        "id": "vcpKz5y3VMm-",
        "colab_type": "code",
        "colab": {},
        "outputId": "3c284494-97f5-43a8-8484-f038d3e08cc3"
      },
      "source": [
        "x.head()"
      ],
      "execution_count": null,
      "outputs": [
        {
          "output_type": "execute_result",
          "data": {
            "text/html": [
              "<div>\n",
              "<style scoped>\n",
              "    .dataframe tbody tr th:only-of-type {\n",
              "        vertical-align: middle;\n",
              "    }\n",
              "\n",
              "    .dataframe tbody tr th {\n",
              "        vertical-align: top;\n",
              "    }\n",
              "\n",
              "    .dataframe thead th {\n",
              "        text-align: right;\n",
              "    }\n",
              "</style>\n",
              "<table border=\"1\" class=\"dataframe\">\n",
              "  <thead>\n",
              "    <tr style=\"text-align: right;\">\n",
              "      <th></th>\n",
              "      <th>Duration</th>\n",
              "      <th>Title_Apple</th>\n",
              "      <th>Title_Apple \"Share Your Gifts\"</th>\n",
              "      <th>Title_Apple App Store</th>\n",
              "      <th>Title_Apple Behind The Mac</th>\n",
              "      <th>Title_Apple Card</th>\n",
              "      <th>Title_Apple HomePod</th>\n",
              "      <th>Title_Apple IPhone 11 Pro</th>\n",
              "      <th>Title_Apple IPhone 11Pro</th>\n",
              "      <th>Title_Apple Mac mini</th>\n",
              "      <th>...</th>\n",
              "      <th>Hour Of Day_21</th>\n",
              "      <th>Hour Of Day_22</th>\n",
              "      <th>Hour Of Day_23</th>\n",
              "      <th>Hour Of Day_3</th>\n",
              "      <th>Hour Of Day_4</th>\n",
              "      <th>Hour Of Day_5</th>\n",
              "      <th>Hour Of Day_6</th>\n",
              "      <th>Hour Of Day_7</th>\n",
              "      <th>Hour Of Day_8</th>\n",
              "      <th>Hour Of Day_9</th>\n",
              "    </tr>\n",
              "  </thead>\n",
              "  <tbody>\n",
              "    <tr>\n",
              "      <th>0</th>\n",
              "      <td>30</td>\n",
              "      <td>0</td>\n",
              "      <td>0</td>\n",
              "      <td>0</td>\n",
              "      <td>0</td>\n",
              "      <td>0</td>\n",
              "      <td>0</td>\n",
              "      <td>0</td>\n",
              "      <td>0</td>\n",
              "      <td>0</td>\n",
              "      <td>...</td>\n",
              "      <td>1</td>\n",
              "      <td>0</td>\n",
              "      <td>0</td>\n",
              "      <td>0</td>\n",
              "      <td>0</td>\n",
              "      <td>0</td>\n",
              "      <td>0</td>\n",
              "      <td>0</td>\n",
              "      <td>0</td>\n",
              "      <td>0</td>\n",
              "    </tr>\n",
              "    <tr>\n",
              "      <th>1</th>\n",
              "      <td>30</td>\n",
              "      <td>0</td>\n",
              "      <td>0</td>\n",
              "      <td>0</td>\n",
              "      <td>0</td>\n",
              "      <td>0</td>\n",
              "      <td>0</td>\n",
              "      <td>0</td>\n",
              "      <td>0</td>\n",
              "      <td>0</td>\n",
              "      <td>...</td>\n",
              "      <td>0</td>\n",
              "      <td>0</td>\n",
              "      <td>0</td>\n",
              "      <td>0</td>\n",
              "      <td>0</td>\n",
              "      <td>0</td>\n",
              "      <td>0</td>\n",
              "      <td>0</td>\n",
              "      <td>0</td>\n",
              "      <td>0</td>\n",
              "    </tr>\n",
              "    <tr>\n",
              "      <th>2</th>\n",
              "      <td>30</td>\n",
              "      <td>0</td>\n",
              "      <td>0</td>\n",
              "      <td>0</td>\n",
              "      <td>0</td>\n",
              "      <td>0</td>\n",
              "      <td>0</td>\n",
              "      <td>0</td>\n",
              "      <td>0</td>\n",
              "      <td>0</td>\n",
              "      <td>...</td>\n",
              "      <td>0</td>\n",
              "      <td>0</td>\n",
              "      <td>0</td>\n",
              "      <td>1</td>\n",
              "      <td>0</td>\n",
              "      <td>0</td>\n",
              "      <td>0</td>\n",
              "      <td>0</td>\n",
              "      <td>0</td>\n",
              "      <td>0</td>\n",
              "    </tr>\n",
              "    <tr>\n",
              "      <th>3</th>\n",
              "      <td>30</td>\n",
              "      <td>0</td>\n",
              "      <td>0</td>\n",
              "      <td>0</td>\n",
              "      <td>0</td>\n",
              "      <td>0</td>\n",
              "      <td>0</td>\n",
              "      <td>0</td>\n",
              "      <td>0</td>\n",
              "      <td>0</td>\n",
              "      <td>...</td>\n",
              "      <td>0</td>\n",
              "      <td>0</td>\n",
              "      <td>0</td>\n",
              "      <td>0</td>\n",
              "      <td>0</td>\n",
              "      <td>0</td>\n",
              "      <td>0</td>\n",
              "      <td>0</td>\n",
              "      <td>0</td>\n",
              "      <td>0</td>\n",
              "    </tr>\n",
              "    <tr>\n",
              "      <th>4</th>\n",
              "      <td>30</td>\n",
              "      <td>0</td>\n",
              "      <td>0</td>\n",
              "      <td>0</td>\n",
              "      <td>0</td>\n",
              "      <td>0</td>\n",
              "      <td>0</td>\n",
              "      <td>0</td>\n",
              "      <td>0</td>\n",
              "      <td>0</td>\n",
              "      <td>...</td>\n",
              "      <td>0</td>\n",
              "      <td>0</td>\n",
              "      <td>0</td>\n",
              "      <td>0</td>\n",
              "      <td>0</td>\n",
              "      <td>0</td>\n",
              "      <td>0</td>\n",
              "      <td>0</td>\n",
              "      <td>1</td>\n",
              "      <td>0</td>\n",
              "    </tr>\n",
              "  </tbody>\n",
              "</table>\n",
              "<p>5 rows × 1961 columns</p>\n",
              "</div>"
            ],
            "text/plain": [
              "   Duration  Title_Apple  Title_Apple \"Share Your Gifts\"  \\\n",
              "0        30            0                               0   \n",
              "1        30            0                               0   \n",
              "2        30            0                               0   \n",
              "3        30            0                               0   \n",
              "4        30            0                               0   \n",
              "\n",
              "   Title_Apple App Store  Title_Apple Behind The Mac  Title_Apple Card  \\\n",
              "0                      0                           0                 0   \n",
              "1                      0                           0                 0   \n",
              "2                      0                           0                 0   \n",
              "3                      0                           0                 0   \n",
              "4                      0                           0                 0   \n",
              "\n",
              "   Title_Apple HomePod  Title_Apple IPhone 11 Pro  Title_Apple IPhone 11Pro  \\\n",
              "0                    0                          0                         0   \n",
              "1                    0                          0                         0   \n",
              "2                    0                          0                         0   \n",
              "3                    0                          0                         0   \n",
              "4                    0                          0                         0   \n",
              "\n",
              "   Title_Apple Mac mini  ...  Hour Of Day_21  Hour Of Day_22  Hour Of Day_23  \\\n",
              "0                     0  ...               1               0               0   \n",
              "1                     0  ...               0               0               0   \n",
              "2                     0  ...               0               0               0   \n",
              "3                     0  ...               0               0               0   \n",
              "4                     0  ...               0               0               0   \n",
              "\n",
              "   Hour Of Day_3  Hour Of Day_4  Hour Of Day_5  Hour Of Day_6  Hour Of Day_7  \\\n",
              "0              0              0              0              0              0   \n",
              "1              0              0              0              0              0   \n",
              "2              1              0              0              0              0   \n",
              "3              0              0              0              0              0   \n",
              "4              0              0              0              0              0   \n",
              "\n",
              "   Hour Of Day_8  Hour Of Day_9  \n",
              "0              0              0  \n",
              "1              0              0  \n",
              "2              0              0  \n",
              "3              0              0  \n",
              "4              1              0  \n",
              "\n",
              "[5 rows x 1961 columns]"
            ]
          },
          "metadata": {
            "tags": []
          },
          "execution_count": 332
        }
      ]
    },
    {
      "cell_type": "code",
      "metadata": {
        "id": "es37H5bTVMnB",
        "colab_type": "code",
        "colab": {}
      },
      "source": [
        "scaler.fit(x)\n",
        "scaled_x = x.copy()\n",
        "scaled_x.iloc[:] = scaler.transform(x)"
      ],
      "execution_count": null,
      "outputs": []
    },
    {
      "cell_type": "code",
      "metadata": {
        "id": "Q1kQmK3cVMnD",
        "colab_type": "code",
        "colab": {},
        "outputId": "dc252444-a222-45bf-c990-a1876f31271d"
      },
      "source": [
        "scaled_x.head()"
      ],
      "execution_count": null,
      "outputs": [
        {
          "output_type": "execute_result",
          "data": {
            "text/html": [
              "<div>\n",
              "<style scoped>\n",
              "    .dataframe tbody tr th:only-of-type {\n",
              "        vertical-align: middle;\n",
              "    }\n",
              "\n",
              "    .dataframe tbody tr th {\n",
              "        vertical-align: top;\n",
              "    }\n",
              "\n",
              "    .dataframe thead th {\n",
              "        text-align: right;\n",
              "    }\n",
              "</style>\n",
              "<table border=\"1\" class=\"dataframe\">\n",
              "  <thead>\n",
              "    <tr style=\"text-align: right;\">\n",
              "      <th></th>\n",
              "      <th>Duration</th>\n",
              "      <th>Title_Apple</th>\n",
              "      <th>Title_Apple \"Share Your Gifts\"</th>\n",
              "      <th>Title_Apple App Store</th>\n",
              "      <th>Title_Apple Behind The Mac</th>\n",
              "      <th>Title_Apple Card</th>\n",
              "      <th>Title_Apple HomePod</th>\n",
              "      <th>Title_Apple IPhone 11 Pro</th>\n",
              "      <th>Title_Apple IPhone 11Pro</th>\n",
              "      <th>Title_Apple Mac mini</th>\n",
              "      <th>...</th>\n",
              "      <th>Hour Of Day_21</th>\n",
              "      <th>Hour Of Day_22</th>\n",
              "      <th>Hour Of Day_23</th>\n",
              "      <th>Hour Of Day_3</th>\n",
              "      <th>Hour Of Day_4</th>\n",
              "      <th>Hour Of Day_5</th>\n",
              "      <th>Hour Of Day_6</th>\n",
              "      <th>Hour Of Day_7</th>\n",
              "      <th>Hour Of Day_8</th>\n",
              "      <th>Hour Of Day_9</th>\n",
              "    </tr>\n",
              "  </thead>\n",
              "  <tbody>\n",
              "    <tr>\n",
              "      <th>0</th>\n",
              "      <td>0.654269</td>\n",
              "      <td>-0.077831</td>\n",
              "      <td>-0.024424</td>\n",
              "      <td>-0.02785</td>\n",
              "      <td>-0.071366</td>\n",
              "      <td>-0.125476</td>\n",
              "      <td>-0.025617</td>\n",
              "      <td>-0.039401</td>\n",
              "      <td>-0.041616</td>\n",
              "      <td>-0.048275</td>\n",
              "      <td>...</td>\n",
              "      <td>3.607404</td>\n",
              "      <td>-0.258544</td>\n",
              "      <td>-0.23332</td>\n",
              "      <td>-0.184466</td>\n",
              "      <td>-0.136767</td>\n",
              "      <td>-0.152452</td>\n",
              "      <td>-0.163935</td>\n",
              "      <td>-0.174558</td>\n",
              "      <td>-0.170343</td>\n",
              "      <td>-0.181333</td>\n",
              "    </tr>\n",
              "    <tr>\n",
              "      <th>1</th>\n",
              "      <td>0.654269</td>\n",
              "      <td>-0.077831</td>\n",
              "      <td>-0.024424</td>\n",
              "      <td>-0.02785</td>\n",
              "      <td>-0.071366</td>\n",
              "      <td>-0.125476</td>\n",
              "      <td>-0.025617</td>\n",
              "      <td>-0.039401</td>\n",
              "      <td>-0.041616</td>\n",
              "      <td>-0.048275</td>\n",
              "      <td>...</td>\n",
              "      <td>-0.277208</td>\n",
              "      <td>-0.258544</td>\n",
              "      <td>-0.23332</td>\n",
              "      <td>-0.184466</td>\n",
              "      <td>-0.136767</td>\n",
              "      <td>-0.152452</td>\n",
              "      <td>-0.163935</td>\n",
              "      <td>-0.174558</td>\n",
              "      <td>-0.170343</td>\n",
              "      <td>-0.181333</td>\n",
              "    </tr>\n",
              "    <tr>\n",
              "      <th>2</th>\n",
              "      <td>0.654269</td>\n",
              "      <td>-0.077831</td>\n",
              "      <td>-0.024424</td>\n",
              "      <td>-0.02785</td>\n",
              "      <td>-0.071366</td>\n",
              "      <td>-0.125476</td>\n",
              "      <td>-0.025617</td>\n",
              "      <td>-0.039401</td>\n",
              "      <td>-0.041616</td>\n",
              "      <td>-0.048275</td>\n",
              "      <td>...</td>\n",
              "      <td>-0.277208</td>\n",
              "      <td>-0.258544</td>\n",
              "      <td>-0.23332</td>\n",
              "      <td>5.421041</td>\n",
              "      <td>-0.136767</td>\n",
              "      <td>-0.152452</td>\n",
              "      <td>-0.163935</td>\n",
              "      <td>-0.174558</td>\n",
              "      <td>-0.170343</td>\n",
              "      <td>-0.181333</td>\n",
              "    </tr>\n",
              "    <tr>\n",
              "      <th>3</th>\n",
              "      <td>0.654269</td>\n",
              "      <td>-0.077831</td>\n",
              "      <td>-0.024424</td>\n",
              "      <td>-0.02785</td>\n",
              "      <td>-0.071366</td>\n",
              "      <td>-0.125476</td>\n",
              "      <td>-0.025617</td>\n",
              "      <td>-0.039401</td>\n",
              "      <td>-0.041616</td>\n",
              "      <td>-0.048275</td>\n",
              "      <td>...</td>\n",
              "      <td>-0.277208</td>\n",
              "      <td>-0.258544</td>\n",
              "      <td>-0.23332</td>\n",
              "      <td>-0.184466</td>\n",
              "      <td>-0.136767</td>\n",
              "      <td>-0.152452</td>\n",
              "      <td>-0.163935</td>\n",
              "      <td>-0.174558</td>\n",
              "      <td>-0.170343</td>\n",
              "      <td>-0.181333</td>\n",
              "    </tr>\n",
              "    <tr>\n",
              "      <th>4</th>\n",
              "      <td>0.654269</td>\n",
              "      <td>-0.077831</td>\n",
              "      <td>-0.024424</td>\n",
              "      <td>-0.02785</td>\n",
              "      <td>-0.071366</td>\n",
              "      <td>-0.125476</td>\n",
              "      <td>-0.025617</td>\n",
              "      <td>-0.039401</td>\n",
              "      <td>-0.041616</td>\n",
              "      <td>-0.048275</td>\n",
              "      <td>...</td>\n",
              "      <td>-0.277208</td>\n",
              "      <td>-0.258544</td>\n",
              "      <td>-0.23332</td>\n",
              "      <td>-0.184466</td>\n",
              "      <td>-0.136767</td>\n",
              "      <td>-0.152452</td>\n",
              "      <td>-0.163935</td>\n",
              "      <td>-0.174558</td>\n",
              "      <td>5.870520</td>\n",
              "      <td>-0.181333</td>\n",
              "    </tr>\n",
              "  </tbody>\n",
              "</table>\n",
              "<p>5 rows × 1961 columns</p>\n",
              "</div>"
            ],
            "text/plain": [
              "   Duration  Title_Apple  Title_Apple \"Share Your Gifts\"  \\\n",
              "0  0.654269    -0.077831                       -0.024424   \n",
              "1  0.654269    -0.077831                       -0.024424   \n",
              "2  0.654269    -0.077831                       -0.024424   \n",
              "3  0.654269    -0.077831                       -0.024424   \n",
              "4  0.654269    -0.077831                       -0.024424   \n",
              "\n",
              "   Title_Apple App Store  Title_Apple Behind The Mac  Title_Apple Card  \\\n",
              "0               -0.02785                   -0.071366         -0.125476   \n",
              "1               -0.02785                   -0.071366         -0.125476   \n",
              "2               -0.02785                   -0.071366         -0.125476   \n",
              "3               -0.02785                   -0.071366         -0.125476   \n",
              "4               -0.02785                   -0.071366         -0.125476   \n",
              "\n",
              "   Title_Apple HomePod  Title_Apple IPhone 11 Pro  Title_Apple IPhone 11Pro  \\\n",
              "0            -0.025617                  -0.039401                 -0.041616   \n",
              "1            -0.025617                  -0.039401                 -0.041616   \n",
              "2            -0.025617                  -0.039401                 -0.041616   \n",
              "3            -0.025617                  -0.039401                 -0.041616   \n",
              "4            -0.025617                  -0.039401                 -0.041616   \n",
              "\n",
              "   Title_Apple Mac mini  ...  Hour Of Day_21  Hour Of Day_22  Hour Of Day_23  \\\n",
              "0             -0.048275  ...        3.607404       -0.258544        -0.23332   \n",
              "1             -0.048275  ...       -0.277208       -0.258544        -0.23332   \n",
              "2             -0.048275  ...       -0.277208       -0.258544        -0.23332   \n",
              "3             -0.048275  ...       -0.277208       -0.258544        -0.23332   \n",
              "4             -0.048275  ...       -0.277208       -0.258544        -0.23332   \n",
              "\n",
              "   Hour Of Day_3  Hour Of Day_4  Hour Of Day_5  Hour Of Day_6  Hour Of Day_7  \\\n",
              "0      -0.184466      -0.136767      -0.152452      -0.163935      -0.174558   \n",
              "1      -0.184466      -0.136767      -0.152452      -0.163935      -0.174558   \n",
              "2       5.421041      -0.136767      -0.152452      -0.163935      -0.174558   \n",
              "3      -0.184466      -0.136767      -0.152452      -0.163935      -0.174558   \n",
              "4      -0.184466      -0.136767      -0.152452      -0.163935      -0.174558   \n",
              "\n",
              "   Hour Of Day_8  Hour Of Day_9  \n",
              "0      -0.170343      -0.181333  \n",
              "1      -0.170343      -0.181333  \n",
              "2      -0.170343      -0.181333  \n",
              "3      -0.170343      -0.181333  \n",
              "4       5.870520      -0.181333  \n",
              "\n",
              "[5 rows x 1961 columns]"
            ]
          },
          "metadata": {
            "tags": []
          },
          "execution_count": 334
        }
      ]
    },
    {
      "cell_type": "code",
      "metadata": {
        "id": "qfdB9afFVMnE",
        "colab_type": "code",
        "colab": {},
        "outputId": "eea4bbde-46d8-474a-ce50-38af2ab877b9"
      },
      "source": [
        "plt.plot(scaled_x.iloc[:100,0])\n",
        "plt.plot(scaled_x.iloc[:100,1])\n",
        "plt.plot(scaled_x.iloc[:100,-1])\n",
        "plt.legend(['Duration ','Title_Apple ','Hour Of Day_9'])"
      ],
      "execution_count": null,
      "outputs": [
        {
          "output_type": "execute_result",
          "data": {
            "text/plain": [
              "<matplotlib.legend.Legend at 0x256359278>"
            ]
          },
          "metadata": {
            "tags": []
          },
          "execution_count": 335
        },
        {
          "output_type": "display_data",
          "data": {
            "image/png": "[encoded data removed]",
            "text/plain": [
              "<Figure size 432x288 with 1 Axes>"
            ]
          },
          "metadata": {
            "tags": [],
            "needs_background": "light"
          }
        }
      ]
    },
    {
      "cell_type": "code",
      "metadata": {
        "id": "lTRNpWDiVMnG",
        "colab_type": "code",
        "colab": {}
      },
      "source": [
        "x_train_scaled, x_test_scaled, y_train_scaled, y_test_scaled = train_test_split(scaled_x, y, test_size=0.2, random_state=0)"
      ],
      "execution_count": null,
      "outputs": []
    },
    {
      "cell_type": "markdown",
      "metadata": {
        "id": "xkgUl93eVMnJ",
        "colab_type": "text"
      },
      "source": [
        "## Dimension Reduction : Principal Component Analysis"
      ]
    },
    {
      "cell_type": "code",
      "metadata": {
        "id": "LakkKMijVMnJ",
        "colab_type": "code",
        "colab": {}
      },
      "source": [
        "import sklearn.decomposition as skd\n",
        "pca = skd.PCA()\n",
        "pca_model=pca.fit(x_train_scaled)"
      ],
      "execution_count": null,
      "outputs": []
    },
    {
      "cell_type": "markdown",
      "metadata": {
        "id": "aYRI56YyVMnL",
        "colab_type": "text"
      },
      "source": [
        "### How much of the variance does each component explain?"
      ]
    },
    {
      "cell_type": "code",
      "metadata": {
        "id": "uaPCbFmCVMnL",
        "colab_type": "code",
        "colab": {},
        "outputId": "6cf81fac-b685-4777-e683-f15ff8d64279"
      },
      "source": [
        "pca_model.components_.shape"
      ],
      "execution_count": null,
      "outputs": [
        {
          "output_type": "execute_result",
          "data": {
            "text/plain": [
              "(1961, 1961)"
            ]
          },
          "metadata": {
            "tags": []
          },
          "execution_count": 338
        }
      ]
    },
    {
      "cell_type": "code",
      "metadata": {
        "id": "K9sWhlBBVMnN",
        "colab_type": "code",
        "colab": {},
        "outputId": "f0f68a03-d2b8-4c84-dbb4-8a4f9efbf6f6"
      },
      "source": [
        "pca_model.explained_variance_"
      ],
      "execution_count": null,
      "outputs": [
        {
          "output_type": "execute_result",
          "data": {
            "text/plain": [
              "array([3.65466038e+00, 3.55385631e+00, 3.53518377e+00, ...,\n",
              "       1.44816598e-32, 6.23927406e-33, 2.07315002e-34])"
            ]
          },
          "metadata": {
            "tags": []
          },
          "execution_count": 339
        }
      ]
    },
    {
      "cell_type": "markdown",
      "metadata": {
        "id": "Isq6nhaZVMnR",
        "colab_type": "text"
      },
      "source": [
        "### What would be an appropriate number of components to keep?"
      ]
    },
    {
      "cell_type": "code",
      "metadata": {
        "id": "gw2zjrV3VMnR",
        "colab_type": "code",
        "colab": {},
        "outputId": "3f28ee2a-456f-4396-edb0-817f86bfb6cf"
      },
      "source": [
        "plt.plot(range(1,1000),pca_model.explained_variance_[:999],'b-o')"
      ],
      "execution_count": null,
      "outputs": [
        {
          "output_type": "execute_result",
          "data": {
            "text/plain": [
              "[<matplotlib.lines.Line2D at 0x2563215f8>]"
            ]
          },
          "metadata": {
            "tags": []
          },
          "execution_count": 340
        },
        {
          "output_type": "display_data",
          "data": {
            "image/png": "[encoded data removed]",
            "text/plain": [
              "<Figure size 432x288 with 1 Axes>"
            ]
          },
          "metadata": {
            "tags": [],
            "needs_background": "light"
          }
        }
      ]
    },
    {
      "cell_type": "code",
      "metadata": {
        "scrolled": true,
        "id": "e-Bjb9G-VMnb",
        "colab_type": "code",
        "colab": {},
        "outputId": "b6a62581-e0ff-4653-d768-17cdd362f26a"
      },
      "source": [
        "plt.plot(range(221,270),pca_model.explained_variance_[220:269],'b-o')"
      ],
      "execution_count": null,
      "outputs": [
        {
          "output_type": "execute_result",
          "data": {
            "text/plain": [
              "[<matplotlib.lines.Line2D at 0x227933e80>]"
            ]
          },
          "metadata": {
            "tags": []
          },
          "execution_count": 341
        },
        {
          "output_type": "display_data",
          "data": {
            "image/png": "[encoded data removed]",
            "text/plain": [
              "<Figure size 432x288 with 1 Axes>"
            ]
          },
          "metadata": {
            "tags": [],
            "needs_background": "light"
          }
        }
      ]
    },
    {
      "cell_type": "markdown",
      "metadata": {
        "id": "zM9idvsHVMnd",
        "colab_type": "text"
      },
      "source": [
        "The improvements will decline, at some point rapidly, creating the elbow shape.\n",
        "\n",
        "That point is the optimal value for K. In the image above, K=230. So, the appropriate number of components is 230."
      ]
    },
    {
      "cell_type": "markdown",
      "metadata": {
        "id": "QJHj-DfjVMne",
        "colab_type": "text"
      },
      "source": [
        "### Exploratory Factor Analysis"
      ]
    },
    {
      "cell_type": "code",
      "metadata": {
        "scrolled": false,
        "id": "MT5kqmnJVMne",
        "colab_type": "code",
        "colab": {}
      },
      "source": [
        "fa_model = skd.FactorAnalysis(n_components=230).fit(x_train_scaled)"
      ],
      "execution_count": null,
      "outputs": []
    },
    {
      "cell_type": "code",
      "metadata": {
        "id": "mHWt08hwVMnj",
        "colab_type": "code",
        "colab": {}
      },
      "source": [
        "df_fa=pd.DataFrame(fa_model.components_[:230,:].T, \n",
        "             index=x_train_scaled.columns)"
      ],
      "execution_count": null,
      "outputs": []
    },
    {
      "cell_type": "code",
      "metadata": {
        "scrolled": false,
        "id": "exNPragUVMnl",
        "colab_type": "code",
        "colab": {},
        "outputId": "8561f8ec-e741-4ad8-b7a7-13cc3f3ed207"
      },
      "source": [
        "df_fa.head()"
      ],
      "execution_count": null,
      "outputs": [
        {
          "output_type": "execute_result",
          "data": {
            "text/html": [
              "<div>\n",
              "<style scoped>\n",
              "    .dataframe tbody tr th:only-of-type {\n",
              "        vertical-align: middle;\n",
              "    }\n",
              "\n",
              "    .dataframe tbody tr th {\n",
              "        vertical-align: top;\n",
              "    }\n",
              "\n",
              "    .dataframe thead th {\n",
              "        text-align: right;\n",
              "    }\n",
              "</style>\n",
              "<table border=\"1\" class=\"dataframe\">\n",
              "  <thead>\n",
              "    <tr style=\"text-align: right;\">\n",
              "      <th></th>\n",
              "      <th>0</th>\n",
              "      <th>1</th>\n",
              "      <th>2</th>\n",
              "      <th>3</th>\n",
              "      <th>4</th>\n",
              "      <th>5</th>\n",
              "      <th>6</th>\n",
              "      <th>7</th>\n",
              "      <th>8</th>\n",
              "      <th>9</th>\n",
              "      <th>...</th>\n",
              "      <th>220</th>\n",
              "      <th>221</th>\n",
              "      <th>222</th>\n",
              "      <th>223</th>\n",
              "      <th>224</th>\n",
              "      <th>225</th>\n",
              "      <th>226</th>\n",
              "      <th>227</th>\n",
              "      <th>228</th>\n",
              "      <th>229</th>\n",
              "    </tr>\n",
              "  </thead>\n",
              "  <tbody>\n",
              "    <tr>\n",
              "      <th>Duration</th>\n",
              "      <td>-0.010903</td>\n",
              "      <td>3.751090e-02</td>\n",
              "      <td>-0.019129</td>\n",
              "      <td>-0.036208</td>\n",
              "      <td>9.683816e-03</td>\n",
              "      <td>4.000566e-06</td>\n",
              "      <td>-2.165409e-02</td>\n",
              "      <td>3.745455e-04</td>\n",
              "      <td>0.075306</td>\n",
              "      <td>1.565158e-07</td>\n",
              "      <td>...</td>\n",
              "      <td>0.000374</td>\n",
              "      <td>0.000746</td>\n",
              "      <td>0.000594</td>\n",
              "      <td>-0.001331</td>\n",
              "      <td>-0.001441</td>\n",
              "      <td>0.000841</td>\n",
              "      <td>-0.000884</td>\n",
              "      <td>0.001100</td>\n",
              "      <td>-0.000010</td>\n",
              "      <td>-0.000983</td>\n",
              "    </tr>\n",
              "    <tr>\n",
              "      <th>Title_Apple</th>\n",
              "      <td>-0.000232</td>\n",
              "      <td>-1.987467e-09</td>\n",
              "      <td>0.000153</td>\n",
              "      <td>-0.000100</td>\n",
              "      <td>-2.058906e-09</td>\n",
              "      <td>-1.025625e-10</td>\n",
              "      <td>-3.836332e-11</td>\n",
              "      <td>-9.125026e-11</td>\n",
              "      <td>-0.003133</td>\n",
              "      <td>-3.350331e-09</td>\n",
              "      <td>...</td>\n",
              "      <td>0.014554</td>\n",
              "      <td>-0.031646</td>\n",
              "      <td>-0.007964</td>\n",
              "      <td>0.016065</td>\n",
              "      <td>0.023196</td>\n",
              "      <td>0.016790</td>\n",
              "      <td>-0.015265</td>\n",
              "      <td>-0.017912</td>\n",
              "      <td>-0.022974</td>\n",
              "      <td>-0.037312</td>\n",
              "    </tr>\n",
              "    <tr>\n",
              "      <th>Title_Apple \"Share Your Gifts\"</th>\n",
              "      <td>-0.000065</td>\n",
              "      <td>4.748237e-10</td>\n",
              "      <td>0.000043</td>\n",
              "      <td>-0.000028</td>\n",
              "      <td>-2.862544e-10</td>\n",
              "      <td>-9.284559e-11</td>\n",
              "      <td>5.221770e-12</td>\n",
              "      <td>-1.621912e-11</td>\n",
              "      <td>-0.000880</td>\n",
              "      <td>-7.223911e-10</td>\n",
              "      <td>...</td>\n",
              "      <td>-0.000345</td>\n",
              "      <td>-0.000191</td>\n",
              "      <td>0.000979</td>\n",
              "      <td>0.001037</td>\n",
              "      <td>0.000013</td>\n",
              "      <td>0.000060</td>\n",
              "      <td>-0.000685</td>\n",
              "      <td>0.000090</td>\n",
              "      <td>0.000095</td>\n",
              "      <td>0.000588</td>\n",
              "    </tr>\n",
              "    <tr>\n",
              "      <th>Title_Apple App Store</th>\n",
              "      <td>-0.000098</td>\n",
              "      <td>-2.922583e-09</td>\n",
              "      <td>0.000065</td>\n",
              "      <td>-0.000042</td>\n",
              "      <td>-6.890979e-10</td>\n",
              "      <td>9.511080e-11</td>\n",
              "      <td>2.125935e-12</td>\n",
              "      <td>2.758412e-12</td>\n",
              "      <td>-0.001323</td>\n",
              "      <td>-1.142716e-09</td>\n",
              "      <td>...</td>\n",
              "      <td>0.000138</td>\n",
              "      <td>-0.000053</td>\n",
              "      <td>-0.000180</td>\n",
              "      <td>-0.000057</td>\n",
              "      <td>0.000094</td>\n",
              "      <td>-0.000071</td>\n",
              "      <td>0.000016</td>\n",
              "      <td>-0.000042</td>\n",
              "      <td>0.000093</td>\n",
              "      <td>-0.000021</td>\n",
              "    </tr>\n",
              "    <tr>\n",
              "      <th>Title_Apple Behind The Mac</th>\n",
              "      <td>0.016177</td>\n",
              "      <td>-1.045792e-06</td>\n",
              "      <td>0.037707</td>\n",
              "      <td>-0.075509</td>\n",
              "      <td>-8.879288e-02</td>\n",
              "      <td>-2.916384e-05</td>\n",
              "      <td>-9.924829e-02</td>\n",
              "      <td>1.718060e-03</td>\n",
              "      <td>0.076358</td>\n",
              "      <td>-2.263213e-09</td>\n",
              "      <td>...</td>\n",
              "      <td>0.000125</td>\n",
              "      <td>0.000196</td>\n",
              "      <td>0.000321</td>\n",
              "      <td>-0.000011</td>\n",
              "      <td>-0.000016</td>\n",
              "      <td>-0.000078</td>\n",
              "      <td>-0.000096</td>\n",
              "      <td>-0.000074</td>\n",
              "      <td>-0.000094</td>\n",
              "      <td>0.000198</td>\n",
              "    </tr>\n",
              "  </tbody>\n",
              "</table>\n",
              "<p>5 rows × 230 columns</p>\n",
              "</div>"
            ],
            "text/plain": [
              "                                     0             1         2         3    \\\n",
              "Duration                       -0.010903  3.751090e-02 -0.019129 -0.036208   \n",
              "Title_Apple                    -0.000232 -1.987467e-09  0.000153 -0.000100   \n",
              "Title_Apple \"Share Your Gifts\" -0.000065  4.748237e-10  0.000043 -0.000028   \n",
              "Title_Apple App Store          -0.000098 -2.922583e-09  0.000065 -0.000042   \n",
              "Title_Apple Behind The Mac      0.016177 -1.045792e-06  0.037707 -0.075509   \n",
              "\n",
              "                                         4             5             6    \\\n",
              "Duration                        9.683816e-03  4.000566e-06 -2.165409e-02   \n",
              "Title_Apple                    -2.058906e-09 -1.025625e-10 -3.836332e-11   \n",
              "Title_Apple \"Share Your Gifts\" -2.862544e-10 -9.284559e-11  5.221770e-12   \n",
              "Title_Apple App Store          -6.890979e-10  9.511080e-11  2.125935e-12   \n",
              "Title_Apple Behind The Mac     -8.879288e-02 -2.916384e-05 -9.924829e-02   \n",
              "\n",
              "                                         7         8             9    ...  \\\n",
              "Duration                        3.745455e-04  0.075306  1.565158e-07  ...   \n",
              "Title_Apple                    -9.125026e-11 -0.003133 -3.350331e-09  ...   \n",
              "Title_Apple \"Share Your Gifts\" -1.621912e-11 -0.000880 -7.223911e-10  ...   \n",
              "Title_Apple App Store           2.758412e-12 -0.001323 -1.142716e-09  ...   \n",
              "Title_Apple Behind The Mac      1.718060e-03  0.076358 -2.263213e-09  ...   \n",
              "\n",
              "                                     220       221       222       223  \\\n",
              "Duration                        0.000374  0.000746  0.000594 -0.001331   \n",
              "Title_Apple                     0.014554 -0.031646 -0.007964  0.016065   \n",
              "Title_Apple \"Share Your Gifts\" -0.000345 -0.000191  0.000979  0.001037   \n",
              "Title_Apple App Store           0.000138 -0.000053 -0.000180 -0.000057   \n",
              "Title_Apple Behind The Mac      0.000125  0.000196  0.000321 -0.000011   \n",
              "\n",
              "                                     224       225       226       227  \\\n",
              "Duration                       -0.001441  0.000841 -0.000884  0.001100   \n",
              "Title_Apple                     0.023196  0.016790 -0.015265 -0.017912   \n",
              "Title_Apple \"Share Your Gifts\"  0.000013  0.000060 -0.000685  0.000090   \n",
              "Title_Apple App Store           0.000094 -0.000071  0.000016 -0.000042   \n",
              "Title_Apple Behind The Mac     -0.000016 -0.000078 -0.000096 -0.000074   \n",
              "\n",
              "                                     228       229  \n",
              "Duration                       -0.000010 -0.000983  \n",
              "Title_Apple                    -0.022974 -0.037312  \n",
              "Title_Apple \"Share Your Gifts\"  0.000095  0.000588  \n",
              "Title_Apple App Store           0.000093 -0.000021  \n",
              "Title_Apple Behind The Mac     -0.000094  0.000198  \n",
              "\n",
              "[5 rows x 230 columns]"
            ]
          },
          "metadata": {
            "tags": []
          },
          "execution_count": 344
        }
      ]
    },
    {
      "cell_type": "code",
      "metadata": {
        "id": "Al6p2u09VMnr",
        "colab_type": "code",
        "colab": {}
      },
      "source": [
        "factors = skd.FactorAnalysis(230).fit_transform(x_train_scaled)"
      ],
      "execution_count": null,
      "outputs": []
    },
    {
      "cell_type": "code",
      "metadata": {
        "id": "dl7vadQnVMnt",
        "colab_type": "code",
        "colab": {}
      },
      "source": [
        "df_fa_ = pd.concat([x_train_scaled, pd.DataFrame(factors)], axis=1)"
      ],
      "execution_count": null,
      "outputs": []
    },
    {
      "cell_type": "code",
      "metadata": {
        "scrolled": true,
        "id": "xEz71bQNVMnw",
        "colab_type": "code",
        "colab": {},
        "outputId": "9412e294-29dd-4a04-94b1-2371eedf3d9a"
      },
      "source": [
        "df_fa_.head()"
      ],
      "execution_count": null,
      "outputs": [
        {
          "output_type": "execute_result",
          "data": {
            "text/html": [
              "<div>\n",
              "<style scoped>\n",
              "    .dataframe tbody tr th:only-of-type {\n",
              "        vertical-align: middle;\n",
              "    }\n",
              "\n",
              "    .dataframe tbody tr th {\n",
              "        vertical-align: top;\n",
              "    }\n",
              "\n",
              "    .dataframe thead th {\n",
              "        text-align: right;\n",
              "    }\n",
              "</style>\n",
              "<table border=\"1\" class=\"dataframe\">\n",
              "  <thead>\n",
              "    <tr style=\"text-align: right;\">\n",
              "      <th></th>\n",
              "      <th>Duration</th>\n",
              "      <th>Title_Apple</th>\n",
              "      <th>Title_Apple \"Share Your Gifts\"</th>\n",
              "      <th>Title_Apple App Store</th>\n",
              "      <th>Title_Apple Behind The Mac</th>\n",
              "      <th>Title_Apple Card</th>\n",
              "      <th>Title_Apple HomePod</th>\n",
              "      <th>Title_Apple IPhone 11 Pro</th>\n",
              "      <th>Title_Apple IPhone 11Pro</th>\n",
              "      <th>Title_Apple Mac mini</th>\n",
              "      <th>...</th>\n",
              "      <th>220</th>\n",
              "      <th>221</th>\n",
              "      <th>222</th>\n",
              "      <th>223</th>\n",
              "      <th>224</th>\n",
              "      <th>225</th>\n",
              "      <th>226</th>\n",
              "      <th>227</th>\n",
              "      <th>228</th>\n",
              "      <th>229</th>\n",
              "    </tr>\n",
              "  </thead>\n",
              "  <tbody>\n",
              "    <tr>\n",
              "      <th>0</th>\n",
              "      <td>0.654269</td>\n",
              "      <td>-0.077831</td>\n",
              "      <td>-0.024424</td>\n",
              "      <td>-0.02785</td>\n",
              "      <td>-0.071366</td>\n",
              "      <td>-0.125476</td>\n",
              "      <td>-0.025617</td>\n",
              "      <td>-0.039401</td>\n",
              "      <td>-0.041616</td>\n",
              "      <td>-0.048275</td>\n",
              "      <td>...</td>\n",
              "      <td>-0.451472</td>\n",
              "      <td>0.316971</td>\n",
              "      <td>-1.538880</td>\n",
              "      <td>-1.805150</td>\n",
              "      <td>0.203476</td>\n",
              "      <td>0.092058</td>\n",
              "      <td>-0.685956</td>\n",
              "      <td>-1.211331</td>\n",
              "      <td>-1.132337</td>\n",
              "      <td>0.498939</td>\n",
              "    </tr>\n",
              "    <tr>\n",
              "      <th>1</th>\n",
              "      <td>0.654269</td>\n",
              "      <td>-0.077831</td>\n",
              "      <td>-0.024424</td>\n",
              "      <td>-0.02785</td>\n",
              "      <td>-0.071366</td>\n",
              "      <td>-0.125476</td>\n",
              "      <td>-0.025617</td>\n",
              "      <td>-0.039401</td>\n",
              "      <td>-0.041616</td>\n",
              "      <td>-0.048275</td>\n",
              "      <td>...</td>\n",
              "      <td>-0.294027</td>\n",
              "      <td>-0.191938</td>\n",
              "      <td>0.024471</td>\n",
              "      <td>-0.372344</td>\n",
              "      <td>0.579024</td>\n",
              "      <td>-0.325927</td>\n",
              "      <td>-0.079047</td>\n",
              "      <td>-0.046548</td>\n",
              "      <td>0.358807</td>\n",
              "      <td>-0.263176</td>\n",
              "    </tr>\n",
              "    <tr>\n",
              "      <th>2</th>\n",
              "      <td>0.654269</td>\n",
              "      <td>-0.077831</td>\n",
              "      <td>-0.024424</td>\n",
              "      <td>-0.02785</td>\n",
              "      <td>-0.071366</td>\n",
              "      <td>-0.125476</td>\n",
              "      <td>-0.025617</td>\n",
              "      <td>-0.039401</td>\n",
              "      <td>-0.041616</td>\n",
              "      <td>-0.048275</td>\n",
              "      <td>...</td>\n",
              "      <td>0.456845</td>\n",
              "      <td>0.101553</td>\n",
              "      <td>0.115915</td>\n",
              "      <td>-0.825851</td>\n",
              "      <td>0.187337</td>\n",
              "      <td>0.628371</td>\n",
              "      <td>-0.883922</td>\n",
              "      <td>0.255762</td>\n",
              "      <td>0.433678</td>\n",
              "      <td>0.164757</td>\n",
              "    </tr>\n",
              "    <tr>\n",
              "      <th>3</th>\n",
              "      <td>0.654269</td>\n",
              "      <td>-0.077831</td>\n",
              "      <td>-0.024424</td>\n",
              "      <td>-0.02785</td>\n",
              "      <td>-0.071366</td>\n",
              "      <td>-0.125476</td>\n",
              "      <td>-0.025617</td>\n",
              "      <td>-0.039401</td>\n",
              "      <td>-0.041616</td>\n",
              "      <td>-0.048275</td>\n",
              "      <td>...</td>\n",
              "      <td>0.490313</td>\n",
              "      <td>-0.331621</td>\n",
              "      <td>0.125906</td>\n",
              "      <td>-0.300132</td>\n",
              "      <td>-0.297905</td>\n",
              "      <td>0.014429</td>\n",
              "      <td>0.061394</td>\n",
              "      <td>0.166480</td>\n",
              "      <td>-0.426406</td>\n",
              "      <td>-0.064282</td>\n",
              "    </tr>\n",
              "    <tr>\n",
              "      <th>4</th>\n",
              "      <td>0.654269</td>\n",
              "      <td>-0.077831</td>\n",
              "      <td>-0.024424</td>\n",
              "      <td>-0.02785</td>\n",
              "      <td>-0.071366</td>\n",
              "      <td>-0.125476</td>\n",
              "      <td>-0.025617</td>\n",
              "      <td>-0.039401</td>\n",
              "      <td>-0.041616</td>\n",
              "      <td>-0.048275</td>\n",
              "      <td>...</td>\n",
              "      <td>-0.449411</td>\n",
              "      <td>0.537947</td>\n",
              "      <td>-0.432909</td>\n",
              "      <td>-0.185269</td>\n",
              "      <td>0.877523</td>\n",
              "      <td>0.039390</td>\n",
              "      <td>0.141497</td>\n",
              "      <td>0.333703</td>\n",
              "      <td>-0.397943</td>\n",
              "      <td>0.632220</td>\n",
              "    </tr>\n",
              "  </tbody>\n",
              "</table>\n",
              "<p>5 rows × 2191 columns</p>\n",
              "</div>"
            ],
            "text/plain": [
              "   Duration  Title_Apple  Title_Apple \"Share Your Gifts\"  \\\n",
              "0  0.654269    -0.077831                       -0.024424   \n",
              "1  0.654269    -0.077831                       -0.024424   \n",
              "2  0.654269    -0.077831                       -0.024424   \n",
              "3  0.654269    -0.077831                       -0.024424   \n",
              "4  0.654269    -0.077831                       -0.024424   \n",
              "\n",
              "   Title_Apple App Store  Title_Apple Behind The Mac  Title_Apple Card  \\\n",
              "0               -0.02785                   -0.071366         -0.125476   \n",
              "1               -0.02785                   -0.071366         -0.125476   \n",
              "2               -0.02785                   -0.071366         -0.125476   \n",
              "3               -0.02785                   -0.071366         -0.125476   \n",
              "4               -0.02785                   -0.071366         -0.125476   \n",
              "\n",
              "   Title_Apple HomePod  Title_Apple IPhone 11 Pro  Title_Apple IPhone 11Pro  \\\n",
              "0            -0.025617                  -0.039401                 -0.041616   \n",
              "1            -0.025617                  -0.039401                 -0.041616   \n",
              "2            -0.025617                  -0.039401                 -0.041616   \n",
              "3            -0.025617                  -0.039401                 -0.041616   \n",
              "4            -0.025617                  -0.039401                 -0.041616   \n",
              "\n",
              "   Title_Apple Mac mini  ...       220       221       222       223  \\\n",
              "0             -0.048275  ... -0.451472  0.316971 -1.538880 -1.805150   \n",
              "1             -0.048275  ... -0.294027 -0.191938  0.024471 -0.372344   \n",
              "2             -0.048275  ...  0.456845  0.101553  0.115915 -0.825851   \n",
              "3             -0.048275  ...  0.490313 -0.331621  0.125906 -0.300132   \n",
              "4             -0.048275  ... -0.449411  0.537947 -0.432909 -0.185269   \n",
              "\n",
              "        224       225       226       227       228       229  \n",
              "0  0.203476  0.092058 -0.685956 -1.211331 -1.132337  0.498939  \n",
              "1  0.579024 -0.325927 -0.079047 -0.046548  0.358807 -0.263176  \n",
              "2  0.187337  0.628371 -0.883922  0.255762  0.433678  0.164757  \n",
              "3 -0.297905  0.014429  0.061394  0.166480 -0.426406 -0.064282  \n",
              "4  0.877523  0.039390  0.141497  0.333703 -0.397943  0.632220  \n",
              "\n",
              "[5 rows x 2191 columns]"
            ]
          },
          "metadata": {
            "tags": []
          },
          "execution_count": 348
        }
      ]
    },
    {
      "cell_type": "code",
      "metadata": {
        "id": "gFne3lzLVMny",
        "colab_type": "code",
        "colab": {}
      },
      "source": [
        "fa_cor = df_fa_.corr()[df_fa_.columns[-230:]]"
      ],
      "execution_count": null,
      "outputs": []
    },
    {
      "cell_type": "code",
      "metadata": {
        "scrolled": true,
        "id": "v07gq197VMn0",
        "colab_type": "code",
        "colab": {},
        "outputId": "c73f568f-2317-4096-cc7a-eaef45f2b73b"
      },
      "source": [
        "#Extract the original variables which have the value of correlation \n",
        "#higher than 0.5 with each factor(In factor analysis model)\n",
        "for c in fa_cor.columns:\n",
        "    a=[]\n",
        "    for i in fa_cor.index:\n",
        "        if abs(fa_cor.loc[i,c])>0.5:\n",
        "            a.append(i)\n",
        "    print(c,a)"
      ],
      "execution_count": null,
      "outputs": [
        {
          "output_type": "stream",
          "text": [
            "0 [0]\n",
            "1 [1]\n",
            "2 [2]\n",
            "3 [3]\n",
            "4 [4]\n",
            "5 [5]\n",
            "6 [6]\n",
            "7 [7]\n",
            "8 [8]\n",
            "9 [9]\n",
            "10 [10]\n",
            "11 [11]\n",
            "12 [12]\n",
            "13 [13]\n",
            "14 ['Show_A Very Vintage Christmas', 14]\n",
            "15 [15]\n",
            "16 [16]\n",
            "17 [17]\n",
            "18 ['Show_A Very Vintage Christmas', 18]\n",
            "19 [19]\n",
            "20 [20]\n",
            "21 ['Show_Lights Out With David Spade', 21]\n",
            "22 [22]\n",
            "23 [23]\n",
            "24 [24]\n",
            "25 [25]\n",
            "26 [26]\n",
            "27 [27]\n",
            "28 [28]\n",
            "29 [29]\n",
            "30 [30]\n",
            "31 [31]\n",
            "32 [32]\n",
            "33 [33]\n",
            "34 [34]\n",
            "35 [35]\n",
            "36 [36]\n",
            "37 [37]\n",
            "38 [38]\n",
            "39 [39]\n",
            "40 [40]\n",
            "41 [41]\n",
            "42 [42]\n",
            "43 [43]\n",
            "44 [44]\n",
            "45 ['Show_Afternoon Bonus Coverage', 45]\n",
            "46 [46]\n",
            "47 [47]\n",
            "48 [48]\n",
            "49 [49]\n",
            "50 [50]\n",
            "51 [51]\n",
            "52 [52]\n",
            "53 [53]\n",
            "54 [54]\n",
            "55 [55]\n",
            "56 [56]\n",
            "57 [57]\n",
            "58 [58]\n",
            "59 [59]\n",
            "60 [60]\n",
            "61 [61]\n",
            "62 [62]\n",
            "63 [63]\n",
            "64 [64]\n",
            "65 [65]\n",
            "66 [66]\n",
            "67 [67]\n",
            "68 [68]\n",
            "69 [69]\n",
            "70 [70]\n",
            "71 [71]\n",
            "72 [72]\n",
            "73 [73]\n",
            "74 [74]\n",
            "75 [75]\n",
            "76 [76]\n",
            "77 [77]\n",
            "78 [78]\n",
            "79 [79]\n",
            "80 [80]\n",
            "81 [81]\n",
            "82 [82]\n",
            "83 [83]\n",
            "84 [84]\n",
            "85 [85]\n",
            "86 [86]\n",
            "87 [87]\n",
            "88 [88]\n",
            "89 [89]\n",
            "90 [90]\n",
            "91 [91]\n",
            "92 [92]\n",
            "93 [93]\n",
            "94 [94]\n",
            "95 [95]\n",
            "96 [96]\n",
            "97 [97]\n",
            "98 [98]\n",
            "99 [99]\n",
            "100 [100]\n",
            "101 [101]\n",
            "102 [102]\n",
            "103 [103]\n",
            "104 [104]\n",
            "105 [105]\n",
            "106 [106]\n",
            "107 [107]\n",
            "108 [108]\n",
            "109 [109]\n",
            "110 [110]\n",
            "111 [111]\n",
            "112 [112]\n",
            "113 [113]\n",
            "114 [114]\n",
            "115 [115]\n",
            "116 [116]\n",
            "117 [117]\n",
            "118 [118]\n",
            "119 [119]\n",
            "120 [120]\n",
            "121 [121]\n",
            "122 [122]\n",
            "123 [123]\n",
            "124 [124]\n",
            "125 [125]\n",
            "126 [126]\n",
            "127 [127]\n",
            "128 [128]\n",
            "129 [129]\n",
            "130 [130]\n",
            "131 [131]\n",
            "132 [132]\n",
            "133 [133]\n",
            "134 [134]\n",
            "135 [135]\n",
            "136 [136]\n",
            "137 [137]\n",
            "138 [138]\n",
            "139 [139]\n",
            "140 [140]\n",
            "141 [141]\n",
            "142 [142]\n",
            "143 [143]\n",
            "144 [144]\n",
            "145 [145]\n",
            "146 [146]\n",
            "147 [147]\n",
            "148 [148]\n",
            "149 [149]\n",
            "150 [150]\n",
            "151 [151]\n",
            "152 [152]\n",
            "153 [153]\n",
            "154 [154]\n",
            "155 [155]\n",
            "156 [156]\n",
            "157 [157]\n",
            "158 [158]\n",
            "159 [159]\n",
            "160 [160]\n",
            "161 [161]\n",
            "162 [162]\n",
            "163 [163]\n",
            "164 [164]\n",
            "165 [165]\n",
            "166 [166]\n",
            "167 [167]\n",
            "168 [168]\n",
            "169 [169]\n",
            "170 [170]\n",
            "171 [171]\n",
            "172 [172]\n",
            "173 [173]\n",
            "174 [174]\n",
            "175 [175]\n",
            "176 [176]\n",
            "177 [177]\n",
            "178 [178]\n",
            "179 [179]\n",
            "180 [180]\n",
            "181 [181]\n",
            "182 [182]\n",
            "183 [183]\n",
            "184 [184]\n",
            "185 [185]\n",
            "186 [186]\n",
            "187 [187]\n",
            "188 [188]\n",
            "189 [189]\n",
            "190 [190]\n",
            "191 [191]\n",
            "192 [192]\n",
            "193 [193]\n",
            "194 [194]\n",
            "195 [195]\n",
            "196 [196]\n",
            "197 [197]\n",
            "198 [198]\n",
            "199 [199]\n",
            "200 [200]\n",
            "201 [201]\n",
            "202 [202]\n",
            "203 [203]\n",
            "204 [204]\n",
            "205 [205]\n",
            "206 [206]\n",
            "207 [207]\n",
            "208 [208]\n",
            "209 [209]\n",
            "210 [210]\n",
            "211 [211]\n",
            "212 [212]\n",
            "213 [213]\n",
            "214 [214]\n",
            "215 [215]\n",
            "216 [216]\n",
            "217 [217]\n",
            "218 [218]\n",
            "219 [219]\n",
            "220 [220]\n",
            "221 [221]\n",
            "222 [222]\n",
            "223 [223]\n",
            "224 [224]\n",
            "225 [225]\n",
            "226 [226]\n",
            "227 [227]\n",
            "228 [228]\n",
            "229 [229]\n"
          ],
          "name": "stdout"
        }
      ]
    },
    {
      "cell_type": "markdown",
      "metadata": {
        "id": "TSWAaPZQVMn4",
        "colab_type": "text"
      },
      "source": [
        "As we can find from above, it is hard to find relationships between original features and features from EFA.\n",
        "\n",
        "Therefore, I will use 230 as the optimal number of components for dimension reduction."
      ]
    },
    {
      "cell_type": "code",
      "metadata": {
        "id": "UMilzoYmVMn5",
        "colab_type": "code",
        "colab": {}
      },
      "source": [
        "pca_model = skd.PCA(n_components=230).fit(x_train_scaled)\n",
        "df_pca=pd.DataFrame(pca_model.components_[:230,:].T, \n",
        "             index=x_train_scaled.columns)"
      ],
      "execution_count": null,
      "outputs": []
    },
    {
      "cell_type": "code",
      "metadata": {
        "scrolled": false,
        "id": "fga0ToAXVMn6",
        "colab_type": "code",
        "colab": {},
        "outputId": "b8a7e015-feef-4b1d-ba79-905c1eae4ad4"
      },
      "source": [
        "df_pca.head()"
      ],
      "execution_count": null,
      "outputs": [
        {
          "output_type": "execute_result",
          "data": {
            "text/html": [
              "<div>\n",
              "<style scoped>\n",
              "    .dataframe tbody tr th:only-of-type {\n",
              "        vertical-align: middle;\n",
              "    }\n",
              "\n",
              "    .dataframe tbody tr th {\n",
              "        vertical-align: top;\n",
              "    }\n",
              "\n",
              "    .dataframe thead th {\n",
              "        text-align: right;\n",
              "    }\n",
              "</style>\n",
              "<table border=\"1\" class=\"dataframe\">\n",
              "  <thead>\n",
              "    <tr style=\"text-align: right;\">\n",
              "      <th></th>\n",
              "      <th>0</th>\n",
              "      <th>1</th>\n",
              "      <th>2</th>\n",
              "      <th>3</th>\n",
              "      <th>4</th>\n",
              "      <th>5</th>\n",
              "      <th>6</th>\n",
              "      <th>7</th>\n",
              "      <th>8</th>\n",
              "      <th>9</th>\n",
              "      <th>...</th>\n",
              "      <th>220</th>\n",
              "      <th>221</th>\n",
              "      <th>222</th>\n",
              "      <th>223</th>\n",
              "      <th>224</th>\n",
              "      <th>225</th>\n",
              "      <th>226</th>\n",
              "      <th>227</th>\n",
              "      <th>228</th>\n",
              "      <th>229</th>\n",
              "    </tr>\n",
              "  </thead>\n",
              "  <tbody>\n",
              "    <tr>\n",
              "      <th>Duration</th>\n",
              "      <td>0.248367</td>\n",
              "      <td>0.144296</td>\n",
              "      <td>-0.150789</td>\n",
              "      <td>-0.092840</td>\n",
              "      <td>0.011368</td>\n",
              "      <td>0.068860</td>\n",
              "      <td>0.120339</td>\n",
              "      <td>0.005703</td>\n",
              "      <td>0.029372</td>\n",
              "      <td>0.025613</td>\n",
              "      <td>...</td>\n",
              "      <td>0.011065</td>\n",
              "      <td>0.000844</td>\n",
              "      <td>-0.001267</td>\n",
              "      <td>0.001482</td>\n",
              "      <td>-0.002328</td>\n",
              "      <td>-0.000126</td>\n",
              "      <td>-0.004712</td>\n",
              "      <td>0.002088</td>\n",
              "      <td>0.003626</td>\n",
              "      <td>0.002885</td>\n",
              "    </tr>\n",
              "    <tr>\n",
              "      <th>Title_Apple</th>\n",
              "      <td>-0.008095</td>\n",
              "      <td>-0.007351</td>\n",
              "      <td>0.005608</td>\n",
              "      <td>-0.011822</td>\n",
              "      <td>0.001760</td>\n",
              "      <td>-0.003295</td>\n",
              "      <td>0.012509</td>\n",
              "      <td>0.003528</td>\n",
              "      <td>-0.001476</td>\n",
              "      <td>-0.021050</td>\n",
              "      <td>...</td>\n",
              "      <td>-0.001509</td>\n",
              "      <td>-0.012990</td>\n",
              "      <td>-0.025534</td>\n",
              "      <td>-0.006938</td>\n",
              "      <td>-0.012641</td>\n",
              "      <td>0.018141</td>\n",
              "      <td>0.014357</td>\n",
              "      <td>-0.007921</td>\n",
              "      <td>0.027551</td>\n",
              "      <td>0.005470</td>\n",
              "    </tr>\n",
              "    <tr>\n",
              "      <th>Title_Apple \"Share Your Gifts\"</th>\n",
              "      <td>0.010323</td>\n",
              "      <td>0.001705</td>\n",
              "      <td>-0.005517</td>\n",
              "      <td>-0.002957</td>\n",
              "      <td>0.000220</td>\n",
              "      <td>0.005407</td>\n",
              "      <td>0.010999</td>\n",
              "      <td>0.003717</td>\n",
              "      <td>0.021000</td>\n",
              "      <td>-0.000667</td>\n",
              "      <td>...</td>\n",
              "      <td>0.010707</td>\n",
              "      <td>0.007928</td>\n",
              "      <td>0.013420</td>\n",
              "      <td>-0.004691</td>\n",
              "      <td>-0.009697</td>\n",
              "      <td>0.014297</td>\n",
              "      <td>-0.000518</td>\n",
              "      <td>0.014093</td>\n",
              "      <td>-0.000506</td>\n",
              "      <td>-0.012689</td>\n",
              "    </tr>\n",
              "    <tr>\n",
              "      <th>Title_Apple App Store</th>\n",
              "      <td>-0.002674</td>\n",
              "      <td>-0.016399</td>\n",
              "      <td>0.006184</td>\n",
              "      <td>-0.002464</td>\n",
              "      <td>0.001233</td>\n",
              "      <td>-0.008983</td>\n",
              "      <td>-0.000114</td>\n",
              "      <td>-0.005514</td>\n",
              "      <td>0.001490</td>\n",
              "      <td>0.017996</td>\n",
              "      <td>...</td>\n",
              "      <td>-0.002020</td>\n",
              "      <td>0.000632</td>\n",
              "      <td>0.000893</td>\n",
              "      <td>0.002521</td>\n",
              "      <td>0.000027</td>\n",
              "      <td>0.000471</td>\n",
              "      <td>-0.000569</td>\n",
              "      <td>0.001202</td>\n",
              "      <td>0.000117</td>\n",
              "      <td>-0.000116</td>\n",
              "    </tr>\n",
              "    <tr>\n",
              "      <th>Title_Apple Behind The Mac</th>\n",
              "      <td>0.077660</td>\n",
              "      <td>0.013263</td>\n",
              "      <td>0.010532</td>\n",
              "      <td>-0.002849</td>\n",
              "      <td>0.000132</td>\n",
              "      <td>0.064095</td>\n",
              "      <td>0.197941</td>\n",
              "      <td>-0.011182</td>\n",
              "      <td>0.444098</td>\n",
              "      <td>-0.028594</td>\n",
              "      <td>...</td>\n",
              "      <td>0.004506</td>\n",
              "      <td>-0.003484</td>\n",
              "      <td>0.007685</td>\n",
              "      <td>0.001454</td>\n",
              "      <td>-0.007951</td>\n",
              "      <td>0.001407</td>\n",
              "      <td>-0.000036</td>\n",
              "      <td>0.004161</td>\n",
              "      <td>0.002753</td>\n",
              "      <td>0.004313</td>\n",
              "    </tr>\n",
              "  </tbody>\n",
              "</table>\n",
              "<p>5 rows × 230 columns</p>\n",
              "</div>"
            ],
            "text/plain": [
              "                                     0         1         2         3    \\\n",
              "Duration                        0.248367  0.144296 -0.150789 -0.092840   \n",
              "Title_Apple                    -0.008095 -0.007351  0.005608 -0.011822   \n",
              "Title_Apple \"Share Your Gifts\"  0.010323  0.001705 -0.005517 -0.002957   \n",
              "Title_Apple App Store          -0.002674 -0.016399  0.006184 -0.002464   \n",
              "Title_Apple Behind The Mac      0.077660  0.013263  0.010532 -0.002849   \n",
              "\n",
              "                                     4         5         6         7    \\\n",
              "Duration                        0.011368  0.068860  0.120339  0.005703   \n",
              "Title_Apple                     0.001760 -0.003295  0.012509  0.003528   \n",
              "Title_Apple \"Share Your Gifts\"  0.000220  0.005407  0.010999  0.003717   \n",
              "Title_Apple App Store           0.001233 -0.008983 -0.000114 -0.005514   \n",
              "Title_Apple Behind The Mac      0.000132  0.064095  0.197941 -0.011182   \n",
              "\n",
              "                                     8         9    ...       220       221  \\\n",
              "Duration                        0.029372  0.025613  ...  0.011065  0.000844   \n",
              "Title_Apple                    -0.001476 -0.021050  ... -0.001509 -0.012990   \n",
              "Title_Apple \"Share Your Gifts\"  0.021000 -0.000667  ...  0.010707  0.007928   \n",
              "Title_Apple App Store           0.001490  0.017996  ... -0.002020  0.000632   \n",
              "Title_Apple Behind The Mac      0.444098 -0.028594  ...  0.004506 -0.003484   \n",
              "\n",
              "                                     222       223       224       225  \\\n",
              "Duration                       -0.001267  0.001482 -0.002328 -0.000126   \n",
              "Title_Apple                    -0.025534 -0.006938 -0.012641  0.018141   \n",
              "Title_Apple \"Share Your Gifts\"  0.013420 -0.004691 -0.009697  0.014297   \n",
              "Title_Apple App Store           0.000893  0.002521  0.000027  0.000471   \n",
              "Title_Apple Behind The Mac      0.007685  0.001454 -0.007951  0.001407   \n",
              "\n",
              "                                     226       227       228       229  \n",
              "Duration                       -0.004712  0.002088  0.003626  0.002885  \n",
              "Title_Apple                     0.014357 -0.007921  0.027551  0.005470  \n",
              "Title_Apple \"Share Your Gifts\" -0.000518  0.014093 -0.000506 -0.012689  \n",
              "Title_Apple App Store          -0.000569  0.001202  0.000117 -0.000116  \n",
              "Title_Apple Behind The Mac     -0.000036  0.004161  0.002753  0.004313  \n",
              "\n",
              "[5 rows x 230 columns]"
            ]
          },
          "metadata": {
            "tags": []
          },
          "execution_count": 352
        }
      ]
    },
    {
      "cell_type": "markdown",
      "metadata": {
        "id": "L27_O84EVMn_",
        "colab_type": "text"
      },
      "source": [
        "### Compressed dataset for Regression models"
      ]
    },
    {
      "cell_type": "code",
      "metadata": {
        "id": "0qOmsUtoVMoB",
        "colab_type": "code",
        "colab": {}
      },
      "source": [
        "pca_train = skd.PCA(n_components=230).fit_transform(x_train_scaled)\n",
        "\n",
        "df_pca_train=pd.DataFrame(pca_train)\n",
        "\n",
        "pca_test = skd.PCA(n_components=230).fit_transform(x_test_scaled)\n",
        "\n",
        "df_pca_test=pd.DataFrame(pca_test)\n",
        "\n",
        "y_train_pca, y_test_pca = y_train_scaled, y_test_scaled"
      ],
      "execution_count": null,
      "outputs": []
    },
    {
      "cell_type": "markdown",
      "metadata": {
        "id": "ZRoa9GFVVMoD",
        "colab_type": "text"
      },
      "source": [
        "# Part 1: Regression Modeling"
      ]
    },
    {
      "cell_type": "code",
      "metadata": {
        "id": "3fSRPnhOVMoD",
        "colab_type": "code",
        "colab": {}
      },
      "source": [
        "x_train_reg, x_test_reg, y_train_reg, y_test_reg = train_test_split(x, y, test_size=0.2, random_state=0)"
      ],
      "execution_count": null,
      "outputs": []
    },
    {
      "cell_type": "markdown",
      "metadata": {
        "id": "h4FqgW0GVMoE",
        "colab_type": "text"
      },
      "source": [
        "# 1.1. Linear Regression"
      ]
    },
    {
      "cell_type": "code",
      "metadata": {
        "id": "H8sk088uVMoE",
        "colab_type": "code",
        "colab": {},
        "outputId": "526534bf-7b13-4b4c-f08a-0fdfd069082f"
      },
      "source": [
        "regressor = LinearRegression() \n",
        "regressor.fit(x_train_reg, y_train_reg)"
      ],
      "execution_count": null,
      "outputs": [
        {
          "output_type": "execute_result",
          "data": {
            "text/plain": [
              "LinearRegression()"
            ]
          },
          "metadata": {
            "tags": []
          },
          "execution_count": 28
        }
      ]
    },
    {
      "cell_type": "markdown",
      "metadata": {
        "id": "P6qgP5upVMoI",
        "colab_type": "text"
      },
      "source": [
        "### Compare the actual 'Cost' and the predicted value of 'Cost'"
      ]
    },
    {
      "cell_type": "code",
      "metadata": {
        "id": "KYJUgHOIVMoI",
        "colab_type": "code",
        "colab": {},
        "outputId": "e0bae026-36b7-407c-8272-b092a02ef697"
      },
      "source": [
        "y_pred_reg = regressor.predict(x_test_reg)\n",
        "df_reg = pd.DataFrame({'Actual': y_test_reg, 'Predicted': y_pred_reg})\n",
        "df_reg.head(10)"
      ],
      "execution_count": null,
      "outputs": [
        {
          "output_type": "execute_result",
          "data": {
            "text/html": [
              "<div>\n",
              "<style scoped>\n",
              "    .dataframe tbody tr th:only-of-type {\n",
              "        vertical-align: middle;\n",
              "    }\n",
              "\n",
              "    .dataframe tbody tr th {\n",
              "        vertical-align: top;\n",
              "    }\n",
              "\n",
              "    .dataframe thead th {\n",
              "        text-align: right;\n",
              "    }\n",
              "</style>\n",
              "<table border=\"1\" class=\"dataframe\">\n",
              "  <thead>\n",
              "    <tr style=\"text-align: right;\">\n",
              "      <th></th>\n",
              "      <th>Actual</th>\n",
              "      <th>Predicted</th>\n",
              "    </tr>\n",
              "  </thead>\n",
              "  <tbody>\n",
              "    <tr>\n",
              "      <th>14868</th>\n",
              "      <td>8.356555</td>\n",
              "      <td>8.550338</td>\n",
              "    </tr>\n",
              "    <tr>\n",
              "      <th>14301</th>\n",
              "      <td>5.863631</td>\n",
              "      <td>6.017879</td>\n",
              "    </tr>\n",
              "    <tr>\n",
              "      <th>9691</th>\n",
              "      <td>1.609438</td>\n",
              "      <td>2.371875</td>\n",
              "    </tr>\n",
              "    <tr>\n",
              "      <th>6274</th>\n",
              "      <td>4.418841</td>\n",
              "      <td>4.709358</td>\n",
              "    </tr>\n",
              "    <tr>\n",
              "      <th>12593</th>\n",
              "      <td>5.398163</td>\n",
              "      <td>4.628446</td>\n",
              "    </tr>\n",
              "    <tr>\n",
              "      <th>51</th>\n",
              "      <td>6.122493</td>\n",
              "      <td>6.264700</td>\n",
              "    </tr>\n",
              "    <tr>\n",
              "      <th>1963</th>\n",
              "      <td>6.167516</td>\n",
              "      <td>5.624810</td>\n",
              "    </tr>\n",
              "    <tr>\n",
              "      <th>11503</th>\n",
              "      <td>5.924256</td>\n",
              "      <td>6.121684</td>\n",
              "    </tr>\n",
              "    <tr>\n",
              "      <th>5334</th>\n",
              "      <td>4.709530</td>\n",
              "      <td>4.957455</td>\n",
              "    </tr>\n",
              "    <tr>\n",
              "      <th>13206</th>\n",
              "      <td>6.608001</td>\n",
              "      <td>6.107259</td>\n",
              "    </tr>\n",
              "  </tbody>\n",
              "</table>\n",
              "</div>"
            ],
            "text/plain": [
              "         Actual  Predicted\n",
              "14868  8.356555   8.550338\n",
              "14301  5.863631   6.017879\n",
              "9691   1.609438   2.371875\n",
              "6274   4.418841   4.709358\n",
              "12593  5.398163   4.628446\n",
              "51     6.122493   6.264700\n",
              "1963   6.167516   5.624810\n",
              "11503  5.924256   6.121684\n",
              "5334   4.709530   4.957455\n",
              "13206  6.608001   6.107259"
            ]
          },
          "metadata": {
            "tags": []
          },
          "execution_count": 29
        }
      ]
    },
    {
      "cell_type": "code",
      "metadata": {
        "id": "yi6rL0S2VMoK",
        "colab_type": "code",
        "colab": {},
        "outputId": "ddd726a9-7f4a-4f20-a1eb-62e18aed063f"
      },
      "source": [
        "df1=df_reg.head(20)\n",
        "df1.plot(kind='bar',figsize=(10,8))\n",
        "plt.grid(which='major', linestyle='-', linewidth='0.5', color='green')\n",
        "plt.grid(which='minor', linestyle=':', linewidth='0.5', color='black')\n",
        "plt.show()"
      ],
      "execution_count": null,
      "outputs": [
        {
          "output_type": "display_data",
          "data": {
            "image/png": "[encoded data removed]",
            "text/plain": [
              "<Figure size 720x576 with 1 Axes>"
            ]
          },
          "metadata": {
            "tags": [],
            "needs_background": "light"
          }
        }
      ]
    },
    {
      "cell_type": "markdown",
      "metadata": {
        "id": "de2utKEkVMoL",
        "colab_type": "text"
      },
      "source": [
        "### Calculate the error for log-Cost"
      ]
    },
    {
      "cell_type": "code",
      "metadata": {
        "scrolled": true,
        "id": "NEfijLwbVMoM",
        "colab_type": "code",
        "colab": {},
        "outputId": "83624fe4-e935-49aa-e2f5-9e9ef9645985"
      },
      "source": [
        "print('Mean Absolute Error:', metrics.mean_absolute_error(y_test_reg, y_pred_reg))  \n",
        "print('Mean Squared Error:', metrics.mean_squared_error(y_test_reg, y_pred_reg))  \n",
        "print('Root Mean Squared Error:', np.sqrt(metrics.mean_squared_error(y_test_reg, y_pred_reg)))"
      ],
      "execution_count": null,
      "outputs": [
        {
          "output_type": "stream",
          "text": [
            "Mean Absolute Error: 20136.824642544896\n",
            "Mean Squared Error: 42587335080.531166\n",
            "Root Mean Squared Error: 206366.99125715616\n"
          ],
          "name": "stdout"
        }
      ]
    },
    {
      "cell_type": "code",
      "metadata": {
        "scrolled": true,
        "id": "XjoP-TPxVMoO",
        "colab_type": "code",
        "colab": {},
        "outputId": "8ef21364-b75d-4dfb-f975-85351a140eb9"
      },
      "source": [
        "for i in y_pred_reg:\n",
        "    if abs(i)>1000:\n",
        "        print(i)"
      ],
      "execution_count": null,
      "outputs": [
        {
          "output_type": "stream",
          "text": [
            "-106268.7699361234\n",
            "1437535.5463056215\n",
            "574389.440112351\n",
            "1911021.8850140828\n",
            "-649461.9832710982\n",
            "-17184.40529868938\n",
            "3537799.601967462\n",
            "-854940.8427665639\n",
            "-975784.1627658769\n",
            "-35474.10618975712\n",
            "-960960.368653472\n",
            "942210.8375943252\n",
            "141727.29576646816\n",
            "348178.7494664956\n",
            "-191686.7499329145\n",
            "1372296.9246389158\n",
            "-672047.4555262248\n",
            "1437533.7666896894\n",
            "797135.2760378853\n",
            "2386292.8736705747\n",
            "-661491.9140514\n",
            "-375189.8798205382\n",
            "-804556.6626935429\n",
            "2386292.578481203\n",
            "1437533.260797069\n",
            "7496248.256232776\n",
            "906431.552934486\n",
            "-189985.35812638002\n",
            "1761190.5252627274\n",
            "517924.4137957231\n",
            "-624300.2209767974\n",
            "-1954019.0812358647\n",
            "1330995.4715659958\n",
            "-624300.8473798535\n",
            "931773.3116499712\n",
            "831415.1897899378\n",
            "-191686.8981937277\n",
            "942208.456667088\n",
            "-1045776.6896928544\n",
            "-1045774.3351783226\n",
            "-1730059.2741919258\n",
            "1437533.8801835203\n",
            "178673.31671030493\n",
            "-364214.9472776954\n",
            "-357753.89133039257\n",
            "-1045776.5679113311\n",
            "-187898.01602673111\n",
            "-960961.8963639778\n",
            "1437534.8607486375\n",
            "-1220601.7790183998\n",
            "255164.3252317109\n",
            "166511.84329531435\n",
            "1426304.8533219625\n",
            "524436.2619110816\n",
            "-249626.75793649675\n",
            "517925.63669627765\n",
            "255163.15781920264\n",
            "2877639.032689476\n",
            "201855.9167179931\n",
            "-191684.9890530971\n",
            "-237497.79557674332\n",
            "1437533.5537416697\n",
            "736344.8325948366\n",
            "-745116.3754946743\n",
            "691984.0033239312\n",
            "230678.51988139423\n",
            "1437533.2636051863\n",
            "-1045776.3973400644\n"
          ],
          "name": "stdout"
        }
      ]
    },
    {
      "cell_type": "code",
      "metadata": {
        "id": "qj__JCqJVMoP",
        "colab_type": "code",
        "colab": {}
      },
      "source": [
        "prediction_reg = regressor.predict(x_train_reg)"
      ],
      "execution_count": null,
      "outputs": []
    },
    {
      "cell_type": "code",
      "metadata": {
        "scrolled": false,
        "id": "EVJh-lGnVMoR",
        "colab_type": "code",
        "colab": {},
        "outputId": "a1699f6b-06b8-41b1-f73d-8f9774477d1d"
      },
      "source": [
        "residuals_reg = y_train_reg - prediction_reg.reshape(-1)\n",
        "\n",
        "plt.figure(figsize=(7,7))\n",
        "stats.probplot(residuals_lasso, dist=\"norm\", plot=plt)\n",
        "plt.title(\"Normal Q-Q Plot\")"
      ],
      "execution_count": null,
      "outputs": [
        {
          "output_type": "execute_result",
          "data": {
            "text/plain": [
              "Text(0.5, 1.0, 'Normal Q-Q Plot')"
            ]
          },
          "metadata": {
            "tags": []
          },
          "execution_count": 68
        },
        {
          "output_type": "display_data",
          "data": {
            "image/png": "[encoded data removed]",
            "text/plain": [
              "<Figure size 504x504 with 1 Axes>"
            ]
          },
          "metadata": {
            "tags": [],
            "needs_background": "light"
          }
        }
      ]
    },
    {
      "cell_type": "code",
      "metadata": {
        "id": "NNriay4sVMoV",
        "colab_type": "code",
        "colab": {}
      },
      "source": [
        "idx_reg=list(y_test_reg.index)"
      ],
      "execution_count": null,
      "outputs": []
    },
    {
      "cell_type": "markdown",
      "metadata": {
        "id": "d2b2wrfTVMoW",
        "colab_type": "text"
      },
      "source": [
        "### Retransform the log transformed 'Cost' : Smear Factor"
      ]
    },
    {
      "cell_type": "code",
      "metadata": {
        "id": "ooFMWVgoVMoW",
        "colab_type": "code",
        "colab": {}
      },
      "source": [
        "std_reg = statistics.stdev(y_pred_reg)\n",
        "y_pred_reg_real = list(map(lambda x: math.exp(x + 0.5*std_reg**2), y_pred_reg ))\n",
        "y_test_reg_real = df_dummy.Cost.iloc[idx_reg]"
      ],
      "execution_count": null,
      "outputs": []
    },
    {
      "cell_type": "markdown",
      "metadata": {
        "id": "IJXagP3JVMoY",
        "colab_type": "text"
      },
      "source": [
        "Since the residuals are nearly normally distributed, I retrandsformed log-cost with not only using the variation of the data."
      ]
    },
    {
      "cell_type": "markdown",
      "metadata": {
        "id": "mSmf-1YWVMoZ",
        "colab_type": "text"
      },
      "source": [
        "### Calculate the error for retransformed Cost"
      ]
    },
    {
      "cell_type": "code",
      "metadata": {
        "scrolled": true,
        "id": "ecuh6BMWVMoZ",
        "colab_type": "code",
        "colab": {},
        "outputId": "491e4300-0ca9-4f3d-fc66-21da4e998928"
      },
      "source": [
        "print('Mean Absolute Error:', metrics.mean_absolute_error(y_test_ridge_real, y_pred_ridge_real))  \n",
        "print('Mean Squared Error:', metrics.mean_squared_error(y_test_ridge_real, y_pred_ridge_real))  \n",
        "print('Root Mean Squared Error:', np.sqrt(metrics.mean_squared_error(y_test_ridge_real, y_pred_ridge_real)))"
      ],
      "execution_count": null,
      "outputs": [
        {
          "output_type": "stream",
          "text": [
            "Mean Absolute Error: 3572.7038102335982\n",
            "Mean Squared Error: 361304870.2505872\n",
            "Root Mean Squared Error: 19008.02120817912\n"
          ],
          "name": "stdout"
        }
      ]
    },
    {
      "cell_type": "markdown",
      "metadata": {
        "id": "H4cFTnlDVMob",
        "colab_type": "text"
      },
      "source": [
        "The errorwas much bigger than I expected. \n",
        "\n",
        "Therefore, I plan to try some feature selection via Lasso, Ridge, and Elastic Net regression mothods"
      ]
    },
    {
      "cell_type": "markdown",
      "metadata": {
        "id": "j0nL7LRuVMob",
        "colab_type": "text"
      },
      "source": [
        "# 1.2. Lasso"
      ]
    },
    {
      "cell_type": "code",
      "metadata": {
        "id": "cq-b82oqVMob",
        "colab_type": "code",
        "colab": {}
      },
      "source": [
        "regressor_lasso = Lasso(alpha=1.0,max_iter=1000, tol=0.0001)"
      ],
      "execution_count": null,
      "outputs": []
    },
    {
      "cell_type": "code",
      "metadata": {
        "id": "6DzvxsVSVMoc",
        "colab_type": "code",
        "colab": {},
        "outputId": "3e58e752-8d7e-46a6-c109-dfa844a5d663"
      },
      "source": [
        "regressor_lasso.fit(x_train_reg, y_train_reg)"
      ],
      "execution_count": null,
      "outputs": [
        {
          "output_type": "execute_result",
          "data": {
            "text/plain": [
              "Lasso()"
            ]
          },
          "metadata": {
            "tags": []
          },
          "execution_count": 33
        }
      ]
    },
    {
      "cell_type": "markdown",
      "metadata": {
        "id": "gIKkCqJgVMof",
        "colab_type": "text"
      },
      "source": [
        "### Find coefficients for the model"
      ]
    },
    {
      "cell_type": "code",
      "metadata": {
        "scrolled": false,
        "id": "BqATNPrAVMog",
        "colab_type": "code",
        "colab": {},
        "outputId": "6ec2618c-9879-482d-b80d-c6510aa66768"
      },
      "source": [
        "coeff_df = pd.DataFrame(regressor_lasso.coef_, x.columns, columns=['Coefficient'])  \n",
        "coeff_df"
      ],
      "execution_count": null,
      "outputs": [
        {
          "output_type": "execute_result",
          "data": {
            "text/html": [
              "<div>\n",
              "<style scoped>\n",
              "    .dataframe tbody tr th:only-of-type {\n",
              "        vertical-align: middle;\n",
              "    }\n",
              "\n",
              "    .dataframe tbody tr th {\n",
              "        vertical-align: top;\n",
              "    }\n",
              "\n",
              "    .dataframe thead th {\n",
              "        text-align: right;\n",
              "    }\n",
              "</style>\n",
              "<table border=\"1\" class=\"dataframe\">\n",
              "  <thead>\n",
              "    <tr style=\"text-align: right;\">\n",
              "      <th></th>\n",
              "      <th>Coefficient</th>\n",
              "    </tr>\n",
              "  </thead>\n",
              "  <tbody>\n",
              "    <tr>\n",
              "      <th>Id</th>\n",
              "      <td>0.000006</td>\n",
              "    </tr>\n",
              "    <tr>\n",
              "      <th>Duration</th>\n",
              "      <td>0.022363</td>\n",
              "    </tr>\n",
              "    <tr>\n",
              "      <th>Title_Apple</th>\n",
              "      <td>0.000000</td>\n",
              "    </tr>\n",
              "    <tr>\n",
              "      <th>Title_Apple \"Share Your Gifts\"</th>\n",
              "      <td>0.000000</td>\n",
              "    </tr>\n",
              "    <tr>\n",
              "      <th>Title_Apple App Store</th>\n",
              "      <td>0.000000</td>\n",
              "    </tr>\n",
              "    <tr>\n",
              "      <th>...</th>\n",
              "      <td>...</td>\n",
              "    </tr>\n",
              "    <tr>\n",
              "      <th>Hour Of Day_5</th>\n",
              "      <td>-0.000000</td>\n",
              "    </tr>\n",
              "    <tr>\n",
              "      <th>Hour Of Day_6</th>\n",
              "      <td>-0.000000</td>\n",
              "    </tr>\n",
              "    <tr>\n",
              "      <th>Hour Of Day_7</th>\n",
              "      <td>-0.000000</td>\n",
              "    </tr>\n",
              "    <tr>\n",
              "      <th>Hour Of Day_8</th>\n",
              "      <td>-0.000000</td>\n",
              "    </tr>\n",
              "    <tr>\n",
              "      <th>Hour Of Day_9</th>\n",
              "      <td>-0.000000</td>\n",
              "    </tr>\n",
              "  </tbody>\n",
              "</table>\n",
              "<p>1963 rows × 1 columns</p>\n",
              "</div>"
            ],
            "text/plain": [
              "                                Coefficient\n",
              "Id                                 0.000006\n",
              "Duration                           0.022363\n",
              "Title_Apple                        0.000000\n",
              "Title_Apple \"Share Your Gifts\"     0.000000\n",
              "Title_Apple App Store              0.000000\n",
              "...                                     ...\n",
              "Hour Of Day_5                     -0.000000\n",
              "Hour Of Day_6                     -0.000000\n",
              "Hour Of Day_7                     -0.000000\n",
              "Hour Of Day_8                     -0.000000\n",
              "Hour Of Day_9                     -0.000000\n",
              "\n",
              "[1963 rows x 1 columns]"
            ]
          },
          "metadata": {
            "tags": []
          },
          "execution_count": 34
        }
      ]
    },
    {
      "cell_type": "markdown",
      "metadata": {
        "id": "y_U2SyK9VMoi",
        "colab_type": "text"
      },
      "source": [
        "### Compare the actual 'Cost' and the predicted value of 'Cost'"
      ]
    },
    {
      "cell_type": "code",
      "metadata": {
        "scrolled": true,
        "id": "YwAcwAPvVMoi",
        "colab_type": "code",
        "colab": {},
        "outputId": "ffc295be-853a-4a1e-84b4-d5c83e103218"
      },
      "source": [
        "y_pred_lasso = regressor_lasso.predict(x_test_reg)\n",
        "df_lasso = pd.DataFrame({'Actual': y_test_reg, 'Predicted': y_pred_lasso})\n",
        "df_lasso.head(10)"
      ],
      "execution_count": null,
      "outputs": [
        {
          "output_type": "execute_result",
          "data": {
            "text/html": [
              "<div>\n",
              "<style scoped>\n",
              "    .dataframe tbody tr th:only-of-type {\n",
              "        vertical-align: middle;\n",
              "    }\n",
              "\n",
              "    .dataframe tbody tr th {\n",
              "        vertical-align: top;\n",
              "    }\n",
              "\n",
              "    .dataframe thead th {\n",
              "        text-align: right;\n",
              "    }\n",
              "</style>\n",
              "<table border=\"1\" class=\"dataframe\">\n",
              "  <thead>\n",
              "    <tr style=\"text-align: right;\">\n",
              "      <th></th>\n",
              "      <th>Actual</th>\n",
              "      <th>Predicted</th>\n",
              "    </tr>\n",
              "  </thead>\n",
              "  <tbody>\n",
              "    <tr>\n",
              "      <th>14868</th>\n",
              "      <td>8.356555</td>\n",
              "      <td>5.674582</td>\n",
              "    </tr>\n",
              "    <tr>\n",
              "      <th>14301</th>\n",
              "      <td>5.863631</td>\n",
              "      <td>6.517447</td>\n",
              "    </tr>\n",
              "    <tr>\n",
              "      <th>9691</th>\n",
              "      <td>1.609438</td>\n",
              "      <td>4.693742</td>\n",
              "    </tr>\n",
              "    <tr>\n",
              "      <th>6274</th>\n",
              "      <td>4.418841</td>\n",
              "      <td>5.916408</td>\n",
              "    </tr>\n",
              "    <tr>\n",
              "      <th>12593</th>\n",
              "      <td>5.398163</td>\n",
              "      <td>5.745828</td>\n",
              "    </tr>\n",
              "    <tr>\n",
              "      <th>51</th>\n",
              "      <td>6.122493</td>\n",
              "      <td>6.183766</td>\n",
              "    </tr>\n",
              "    <tr>\n",
              "      <th>1963</th>\n",
              "      <td>6.167516</td>\n",
              "      <td>6.323202</td>\n",
              "    </tr>\n",
              "    <tr>\n",
              "      <th>11503</th>\n",
              "      <td>5.924256</td>\n",
              "      <td>5.712390</td>\n",
              "    </tr>\n",
              "    <tr>\n",
              "      <th>5334</th>\n",
              "      <td>4.709530</td>\n",
              "      <td>6.592135</td>\n",
              "    </tr>\n",
              "    <tr>\n",
              "      <th>13206</th>\n",
              "      <td>6.608001</td>\n",
              "      <td>5.972632</td>\n",
              "    </tr>\n",
              "  </tbody>\n",
              "</table>\n",
              "</div>"
            ],
            "text/plain": [
              "         Actual  Predicted\n",
              "14868  8.356555   5.674582\n",
              "14301  5.863631   6.517447\n",
              "9691   1.609438   4.693742\n",
              "6274   4.418841   5.916408\n",
              "12593  5.398163   5.745828\n",
              "51     6.122493   6.183766\n",
              "1963   6.167516   6.323202\n",
              "11503  5.924256   5.712390\n",
              "5334   4.709530   6.592135\n",
              "13206  6.608001   5.972632"
            ]
          },
          "metadata": {
            "tags": []
          },
          "execution_count": 35
        }
      ]
    },
    {
      "cell_type": "code",
      "metadata": {
        "scrolled": false,
        "id": "Ieenw0crVMon",
        "colab_type": "code",
        "colab": {},
        "outputId": "507eb184-0e82-4244-b4ff-4ed265cdf99d"
      },
      "source": [
        "df1=df_lasso.head(20)\n",
        "df1.plot(kind='bar',figsize=(10,8))\n",
        "plt.grid(which='major', linestyle='-', linewidth='0.5', color='green')\n",
        "plt.grid(which='minor', linestyle=':', linewidth='0.5', color='black')\n",
        "plt.show()"
      ],
      "execution_count": null,
      "outputs": [
        {
          "output_type": "display_data",
          "data": {
            "image/png": "[encoded data removed]",
            "text/plain": [
              "<Figure size 720x576 with 1 Axes>"
            ]
          },
          "metadata": {
            "tags": [],
            "needs_background": "light"
          }
        }
      ]
    },
    {
      "cell_type": "markdown",
      "metadata": {
        "id": "MX2mG08bVMop",
        "colab_type": "text"
      },
      "source": [
        "### Calculate the error for log-Cost"
      ]
    },
    {
      "cell_type": "code",
      "metadata": {
        "id": "GJbj8fSzVMop",
        "colab_type": "code",
        "colab": {},
        "outputId": "1d7221ab-3d41-4821-ae99-5f74af05aad6"
      },
      "source": [
        "print('Mean Absolute Error:', metrics.mean_absolute_error(y_test_reg, y_pred_lasso))  \n",
        "print('Mean Squared Error:', metrics.mean_squared_error(y_test_reg, y_pred_lasso))  \n",
        "print('Root Mean Squared Error:', np.sqrt(metrics.mean_squared_error(y_test_reg, y_pred_lasso)))"
      ],
      "execution_count": null,
      "outputs": [
        {
          "output_type": "stream",
          "text": [
            "Mean Absolute Error: 1.701993713964688\n",
            "Mean Squared Error: 4.8484045734376275\n",
            "Root Mean Squared Error: 2.2019093018191342\n"
          ],
          "name": "stdout"
        }
      ]
    },
    {
      "cell_type": "markdown",
      "metadata": {
        "id": "1kQpVR35VMoq",
        "colab_type": "text"
      },
      "source": [
        "Compare to the Linear Regression model, Lasso model has much smaller error."
      ]
    },
    {
      "cell_type": "code",
      "metadata": {
        "id": "8YVUtu2NVMoq",
        "colab_type": "code",
        "colab": {}
      },
      "source": [
        "prediction_lasso = regressor_lasso.predict(x_train_reg)"
      ],
      "execution_count": null,
      "outputs": []
    },
    {
      "cell_type": "code",
      "metadata": {
        "scrolled": false,
        "id": "owp1uOu_VMos",
        "colab_type": "code",
        "colab": {},
        "outputId": "092c9490-5b3e-41d9-c02e-5179feed9719"
      },
      "source": [
        "import scipy.stats as stats\n",
        "residuals_lasso = y_train_reg - prediction_lasso.reshape(-1)\n",
        "\n",
        "plt.figure(figsize=(7,7))\n",
        "stats.probplot(residuals_lasso, dist=\"norm\", plot=plt)\n",
        "plt.title(\"Normal Q-Q Plot\")"
      ],
      "execution_count": null,
      "outputs": [
        {
          "output_type": "execute_result",
          "data": {
            "text/plain": [
              "Text(0.5, 1.0, 'Normal Q-Q Plot')"
            ]
          },
          "metadata": {
            "tags": []
          },
          "execution_count": 39
        },
        {
          "output_type": "display_data",
          "data": {
            "image/png": "[encoded data removed]",
            "text/plain": [
              "<Figure size 504x504 with 1 Axes>"
            ]
          },
          "metadata": {
            "tags": [],
            "needs_background": "light"
          }
        }
      ]
    },
    {
      "cell_type": "markdown",
      "metadata": {
        "id": "Gv6qkvfdVMou",
        "colab_type": "text"
      },
      "source": [
        "Residuals are nearly normally distributed."
      ]
    },
    {
      "cell_type": "markdown",
      "metadata": {
        "id": "Jj93veQiVMow",
        "colab_type": "text"
      },
      "source": [
        "### Retransform the log transformed 'Cost' : Smear Factor"
      ]
    },
    {
      "cell_type": "code",
      "metadata": {
        "id": "NmTN_AGXVMow",
        "colab_type": "code",
        "colab": {}
      },
      "source": [
        "std_lasso = statistics.stdev(y_pred_lasso)"
      ],
      "execution_count": null,
      "outputs": []
    },
    {
      "cell_type": "code",
      "metadata": {
        "id": "Hmtdn0brVMoy",
        "colab_type": "code",
        "colab": {}
      },
      "source": [
        "y_pred_lasso_real = list(map(lambda x: math.exp(x + 0.5*std_lasso**2), y_pred_lasso ))"
      ],
      "execution_count": null,
      "outputs": []
    },
    {
      "cell_type": "code",
      "metadata": {
        "scrolled": false,
        "id": "QWIOX-_GVMoz",
        "colab_type": "code",
        "colab": {}
      },
      "source": [
        "y_test_lasso_real = df_dummy.Cost.iloc[idx_reg]"
      ],
      "execution_count": null,
      "outputs": []
    },
    {
      "cell_type": "markdown",
      "metadata": {
        "id": "f03MrXpeVMo0",
        "colab_type": "text"
      },
      "source": [
        "### Calculate the error for retransformed Cost"
      ]
    },
    {
      "cell_type": "code",
      "metadata": {
        "scrolled": false,
        "id": "GM_1do_hVMo1",
        "colab_type": "code",
        "colab": {},
        "outputId": "09185fc2-a8e6-44e9-a6e3-cd21571a6f3b"
      },
      "source": [
        "print('Mean Absolute Error:', metrics.mean_absolute_error(y_test_lasso_real, y_pred_lasso_real))  \n",
        "print('Mean Squared Error:', metrics.mean_squared_error(y_test_lasso_real, y_pred_lasso_real))  \n",
        "print('Root Mean Squared Error:', np.sqrt(metrics.mean_squared_error(y_test_lasso_real, y_pred_lasso_real)))"
      ],
      "execution_count": null,
      "outputs": [
        {
          "output_type": "stream",
          "text": [
            "Mean Absolute Error: 7193.341736987032\n",
            "Mean Squared Error: 1285621761.2116323\n",
            "Root Mean Squared Error: 35855.568064271865\n"
          ],
          "name": "stdout"
        }
      ]
    },
    {
      "cell_type": "markdown",
      "metadata": {
        "id": "loo53EGVVMo4",
        "colab_type": "text"
      },
      "source": [
        "# 1.3. Ridge"
      ]
    },
    {
      "cell_type": "code",
      "metadata": {
        "id": "pmNJCqBRVMo4",
        "colab_type": "code",
        "colab": {}
      },
      "source": [
        "regressor_ridge = Ridge(alpha=1.0,tol=0.001, solver='auto')"
      ],
      "execution_count": null,
      "outputs": []
    },
    {
      "cell_type": "code",
      "metadata": {
        "id": "rij-1pVHVMo5",
        "colab_type": "code",
        "colab": {},
        "outputId": "0b09bf06-1a1a-4a0e-9537-0ddb0d87c52e"
      },
      "source": [
        "regressor_ridge.fit(x_train_reg, y_train_reg)"
      ],
      "execution_count": null,
      "outputs": [
        {
          "output_type": "execute_result",
          "data": {
            "text/plain": [
              "Ridge()"
            ]
          },
          "metadata": {
            "tags": []
          },
          "execution_count": 46
        }
      ]
    },
    {
      "cell_type": "markdown",
      "metadata": {
        "id": "xuRFv-b3VMo6",
        "colab_type": "text"
      },
      "source": [
        "### Compare the actual 'Cost' and the predicted value of 'Cost'"
      ]
    },
    {
      "cell_type": "code",
      "metadata": {
        "scrolled": false,
        "id": "GqtCYwlNVMo8",
        "colab_type": "code",
        "colab": {},
        "outputId": "e15aada0-e85f-488d-b491-64abfa6a85a6"
      },
      "source": [
        "y_pred_ridge = regressor_ridge.predict(x_test_reg)\n",
        "df_ridge = pd.DataFrame({'Actual': y_test_reg, 'Predicted': y_pred_ridge})\n",
        "df_ridge.head(10)"
      ],
      "execution_count": null,
      "outputs": [
        {
          "output_type": "execute_result",
          "data": {
            "text/html": [
              "<div>\n",
              "<style scoped>\n",
              "    .dataframe tbody tr th:only-of-type {\n",
              "        vertical-align: middle;\n",
              "    }\n",
              "\n",
              "    .dataframe tbody tr th {\n",
              "        vertical-align: top;\n",
              "    }\n",
              "\n",
              "    .dataframe thead th {\n",
              "        text-align: right;\n",
              "    }\n",
              "</style>\n",
              "<table border=\"1\" class=\"dataframe\">\n",
              "  <thead>\n",
              "    <tr style=\"text-align: right;\">\n",
              "      <th></th>\n",
              "      <th>Actual</th>\n",
              "      <th>Predicted</th>\n",
              "    </tr>\n",
              "  </thead>\n",
              "  <tbody>\n",
              "    <tr>\n",
              "      <th>14868</th>\n",
              "      <td>8.356555</td>\n",
              "      <td>8.559191</td>\n",
              "    </tr>\n",
              "    <tr>\n",
              "      <th>14301</th>\n",
              "      <td>5.863631</td>\n",
              "      <td>6.044780</td>\n",
              "    </tr>\n",
              "    <tr>\n",
              "      <th>9691</th>\n",
              "      <td>1.609438</td>\n",
              "      <td>2.375650</td>\n",
              "    </tr>\n",
              "    <tr>\n",
              "      <th>6274</th>\n",
              "      <td>4.418841</td>\n",
              "      <td>4.840814</td>\n",
              "    </tr>\n",
              "    <tr>\n",
              "      <th>12593</th>\n",
              "      <td>5.398163</td>\n",
              "      <td>4.708962</td>\n",
              "    </tr>\n",
              "    <tr>\n",
              "      <th>51</th>\n",
              "      <td>6.122493</td>\n",
              "      <td>6.322903</td>\n",
              "    </tr>\n",
              "    <tr>\n",
              "      <th>1963</th>\n",
              "      <td>6.167516</td>\n",
              "      <td>5.571626</td>\n",
              "    </tr>\n",
              "    <tr>\n",
              "      <th>11503</th>\n",
              "      <td>5.924256</td>\n",
              "      <td>6.064426</td>\n",
              "    </tr>\n",
              "    <tr>\n",
              "      <th>5334</th>\n",
              "      <td>4.709530</td>\n",
              "      <td>4.855263</td>\n",
              "    </tr>\n",
              "    <tr>\n",
              "      <th>13206</th>\n",
              "      <td>6.608001</td>\n",
              "      <td>6.161072</td>\n",
              "    </tr>\n",
              "  </tbody>\n",
              "</table>\n",
              "</div>"
            ],
            "text/plain": [
              "         Actual  Predicted\n",
              "14868  8.356555   8.559191\n",
              "14301  5.863631   6.044780\n",
              "9691   1.609438   2.375650\n",
              "6274   4.418841   4.840814\n",
              "12593  5.398163   4.708962\n",
              "51     6.122493   6.322903\n",
              "1963   6.167516   5.571626\n",
              "11503  5.924256   6.064426\n",
              "5334   4.709530   4.855263\n",
              "13206  6.608001   6.161072"
            ]
          },
          "metadata": {
            "tags": []
          },
          "execution_count": 47
        }
      ]
    },
    {
      "cell_type": "code",
      "metadata": {
        "id": "BLKkl0oYVMo9",
        "colab_type": "code",
        "colab": {},
        "outputId": "a5983b03-e6a1-4f17-8109-e2ff7c2beeaf"
      },
      "source": [
        "df1=df_ridge.head(20)\n",
        "df1.plot(kind='bar',figsize=(10,8))\n",
        "plt.grid(which='major', linestyle='-', linewidth='0.5', color='green')\n",
        "plt.grid(which='minor', linestyle=':', linewidth='0.5', color='black')\n",
        "plt.show()"
      ],
      "execution_count": null,
      "outputs": [
        {
          "output_type": "display_data",
          "data": {
            "image/png": "[encoded data removed]",
            "text/plain": [
              "<Figure size 720x576 with 1 Axes>"
            ]
          },
          "metadata": {
            "tags": [],
            "needs_background": "light"
          }
        }
      ]
    },
    {
      "cell_type": "markdown",
      "metadata": {
        "id": "g7nxPrr0VMo_",
        "colab_type": "text"
      },
      "source": [
        "### Calculate the error for log-Cost\n"
      ]
    },
    {
      "cell_type": "code",
      "metadata": {
        "scrolled": false,
        "id": "6pBdauJKVMo_",
        "colab_type": "code",
        "colab": {},
        "outputId": "665ef69e-fd74-46ba-fda5-e296eebfed2f"
      },
      "source": [
        "print('Mean Absolute Error:', metrics.mean_absolute_error(y_test_reg, y_pred_ridge))  \n",
        "print('Mean Squared Error:', metrics.mean_squared_error(y_test_reg, y_pred_ridge))  \n",
        "print('Root Mean Squared Error:', np.sqrt(metrics.mean_squared_error(y_test_reg, y_pred_ridge)))"
      ],
      "execution_count": null,
      "outputs": [
        {
          "output_type": "stream",
          "text": [
            "Mean Absolute Error: 0.4394722207345003\n",
            "Mean Squared Error: 0.3578269271517539\n",
            "Root Mean Squared Error: 0.5981863648995637\n"
          ],
          "name": "stdout"
        }
      ]
    },
    {
      "cell_type": "markdown",
      "metadata": {
        "id": "iA0_MRVIVMpB",
        "colab_type": "text"
      },
      "source": [
        "Ridge model has a better result compare to Lasso model!"
      ]
    },
    {
      "cell_type": "code",
      "metadata": {
        "id": "UBqeQT6NVMpB",
        "colab_type": "code",
        "colab": {}
      },
      "source": [
        "prediction_ridge = regressor_ridge.predict(x_train_reg)"
      ],
      "execution_count": null,
      "outputs": []
    },
    {
      "cell_type": "code",
      "metadata": {
        "scrolled": false,
        "id": "yOULmhyPVMpD",
        "colab_type": "code",
        "colab": {},
        "outputId": "ce41987a-aceb-4c99-fc4f-82657b5cdbe1"
      },
      "source": [
        "residuals_ridge = y_train_reg - prediction_ridge.reshape(-1)\n",
        "\n",
        "plt.figure(figsize=(7,7))\n",
        "stats.probplot(residuals_ridge, dist=\"norm\", plot=plt)\n",
        "plt.title(\"Normal Q-Q Plot\")"
      ],
      "execution_count": null,
      "outputs": [
        {
          "output_type": "execute_result",
          "data": {
            "text/plain": [
              "Text(0.5, 1.0, 'Normal Q-Q Plot')"
            ]
          },
          "metadata": {
            "tags": []
          },
          "execution_count": 51
        },
        {
          "output_type": "display_data",
          "data": {
            "image/png": "[encoded data removed]",
            "text/plain": [
              "<Figure size 504x504 with 1 Axes>"
            ]
          },
          "metadata": {
            "tags": [],
            "needs_background": "light"
          }
        }
      ]
    },
    {
      "cell_type": "markdown",
      "metadata": {
        "id": "9MhdSuGcVMpF",
        "colab_type": "text"
      },
      "source": [
        "The residuals from Ridge model are not normally distributed. It seems more like fat tail distribution!\n",
        "\n",
        "Therefore, I tried emprical way to find the best result."
      ]
    },
    {
      "cell_type": "markdown",
      "metadata": {
        "id": "vfbtNN2SVMpF",
        "colab_type": "text"
      },
      "source": [
        "### Retransform the log transformed 'Cost' : Smear Factor"
      ]
    },
    {
      "cell_type": "code",
      "metadata": {
        "id": "F6cPXeF_VMpF",
        "colab_type": "code",
        "colab": {}
      },
      "source": [
        "std_ridge = statistics.stdev(y_pred_ridge)\n",
        "y_pred_ridge_real = list(map(lambda x: math.exp(x - 0.1*std_lasso**2), y_pred_ridge ))\n",
        "y_test_ridge_real = df_dummy.Cost.iloc[idx_reg]"
      ],
      "execution_count": null,
      "outputs": []
    },
    {
      "cell_type": "markdown",
      "metadata": {
        "id": "KZMVu59JVMpI",
        "colab_type": "text"
      },
      "source": [
        "### Calculate the error for retransformed Cost"
      ]
    },
    {
      "cell_type": "code",
      "metadata": {
        "id": "_LRhSAMNVMpI",
        "colab_type": "code",
        "colab": {},
        "outputId": "49e3c95f-5598-404f-fce0-a5bb5d4e35ac"
      },
      "source": [
        "print('Mean Absolute Error:', metrics.mean_absolute_error(y_test_ridge_real, y_pred_ridge_real))  \n",
        "print('Mean Squared Error:', metrics.mean_squared_error(y_test_ridge_real, y_pred_ridge_real))  \n",
        "print('Root Mean Squared Error:', np.sqrt(metrics.mean_squared_error(y_test_ridge_real, y_pred_ridge_real)))"
      ],
      "execution_count": null,
      "outputs": [
        {
          "output_type": "stream",
          "text": [
            "Mean Absolute Error: 3572.7038102335982\n",
            "Mean Squared Error: 361304870.2505872\n",
            "Root Mean Squared Error: 19008.02120817912\n"
          ],
          "name": "stdout"
        }
      ]
    },
    {
      "cell_type": "markdown",
      "metadata": {
        "id": "-029D0r9VMpJ",
        "colab_type": "text"
      },
      "source": [
        "# 1.4. Elastic Net"
      ]
    },
    {
      "cell_type": "code",
      "metadata": {
        "id": "B4n2qzVcVMpK",
        "colab_type": "code",
        "colab": {}
      },
      "source": [
        "regressor_net = ElasticNet(alpha=1.0,l1_ratio=0.5, tol=0.0001)"
      ],
      "execution_count": null,
      "outputs": []
    },
    {
      "cell_type": "code",
      "metadata": {
        "id": "ienCeQnaVMpL",
        "colab_type": "code",
        "colab": {},
        "outputId": "cd6fd65a-78cb-46fb-c31a-9d686b07d8a7"
      },
      "source": [
        "regressor_net.fit(x_train_reg, y_train_reg)"
      ],
      "execution_count": null,
      "outputs": [
        {
          "output_type": "execute_result",
          "data": {
            "text/plain": [
              "ElasticNet()"
            ]
          },
          "metadata": {
            "tags": []
          },
          "execution_count": 73
        }
      ]
    },
    {
      "cell_type": "markdown",
      "metadata": {
        "id": "x4fEl4TUVMpM",
        "colab_type": "text"
      },
      "source": [
        "### Compare the actual 'Cost' and the predicted value of 'Cost'"
      ]
    },
    {
      "cell_type": "code",
      "metadata": {
        "id": "gNPADdw2VMpN",
        "colab_type": "code",
        "colab": {},
        "outputId": "3fa0f0b3-dc0b-4f7b-e529-4e87921f507d"
      },
      "source": [
        "y_pred_net = regressor_net.predict(x_test_reg)\n",
        "df_net = pd.DataFrame({'Actual': y_test_reg, 'Predicted': y_pred_ridge})\n",
        "df_net.head(10)"
      ],
      "execution_count": null,
      "outputs": [
        {
          "output_type": "execute_result",
          "data": {
            "text/html": [
              "<div>\n",
              "<style scoped>\n",
              "    .dataframe tbody tr th:only-of-type {\n",
              "        vertical-align: middle;\n",
              "    }\n",
              "\n",
              "    .dataframe tbody tr th {\n",
              "        vertical-align: top;\n",
              "    }\n",
              "\n",
              "    .dataframe thead th {\n",
              "        text-align: right;\n",
              "    }\n",
              "</style>\n",
              "<table border=\"1\" class=\"dataframe\">\n",
              "  <thead>\n",
              "    <tr style=\"text-align: right;\">\n",
              "      <th></th>\n",
              "      <th>Actual</th>\n",
              "      <th>Predicted</th>\n",
              "    </tr>\n",
              "  </thead>\n",
              "  <tbody>\n",
              "    <tr>\n",
              "      <th>14868</th>\n",
              "      <td>8.356555</td>\n",
              "      <td>8.559191</td>\n",
              "    </tr>\n",
              "    <tr>\n",
              "      <th>14301</th>\n",
              "      <td>5.863631</td>\n",
              "      <td>6.044780</td>\n",
              "    </tr>\n",
              "    <tr>\n",
              "      <th>9691</th>\n",
              "      <td>1.609438</td>\n",
              "      <td>2.375650</td>\n",
              "    </tr>\n",
              "    <tr>\n",
              "      <th>6274</th>\n",
              "      <td>4.418841</td>\n",
              "      <td>4.840814</td>\n",
              "    </tr>\n",
              "    <tr>\n",
              "      <th>12593</th>\n",
              "      <td>5.398163</td>\n",
              "      <td>4.708962</td>\n",
              "    </tr>\n",
              "    <tr>\n",
              "      <th>51</th>\n",
              "      <td>6.122493</td>\n",
              "      <td>6.322903</td>\n",
              "    </tr>\n",
              "    <tr>\n",
              "      <th>1963</th>\n",
              "      <td>6.167516</td>\n",
              "      <td>5.571626</td>\n",
              "    </tr>\n",
              "    <tr>\n",
              "      <th>11503</th>\n",
              "      <td>5.924256</td>\n",
              "      <td>6.064426</td>\n",
              "    </tr>\n",
              "    <tr>\n",
              "      <th>5334</th>\n",
              "      <td>4.709530</td>\n",
              "      <td>4.855263</td>\n",
              "    </tr>\n",
              "    <tr>\n",
              "      <th>13206</th>\n",
              "      <td>6.608001</td>\n",
              "      <td>6.161072</td>\n",
              "    </tr>\n",
              "  </tbody>\n",
              "</table>\n",
              "</div>"
            ],
            "text/plain": [
              "         Actual  Predicted\n",
              "14868  8.356555   8.559191\n",
              "14301  5.863631   6.044780\n",
              "9691   1.609438   2.375650\n",
              "6274   4.418841   4.840814\n",
              "12593  5.398163   4.708962\n",
              "51     6.122493   6.322903\n",
              "1963   6.167516   5.571626\n",
              "11503  5.924256   6.064426\n",
              "5334   4.709530   4.855263\n",
              "13206  6.608001   6.161072"
            ]
          },
          "metadata": {
            "tags": []
          },
          "execution_count": 74
        }
      ]
    },
    {
      "cell_type": "code",
      "metadata": {
        "id": "OIYYgkGOVMpP",
        "colab_type": "code",
        "colab": {},
        "outputId": "287aff25-bd6e-4527-bc4b-f20de162983b"
      },
      "source": [
        "df1=df_net.head(20)\n",
        "df1.plot(kind='bar',figsize=(10,8))\n",
        "plt.grid(which='major', linestyle='-', linewidth='0.5', color='green')\n",
        "plt.grid(which='minor', linestyle=':', linewidth='0.5', color='black')\n",
        "plt.show()"
      ],
      "execution_count": null,
      "outputs": [
        {
          "output_type": "display_data",
          "data": {
            "image/png": "[encoded data removed]",
            "text/plain": [
              "<Figure size 720x576 with 1 Axes>"
            ]
          },
          "metadata": {
            "tags": [],
            "needs_background": "light"
          }
        }
      ]
    },
    {
      "cell_type": "markdown",
      "metadata": {
        "id": "qMjY1jYkVMpQ",
        "colab_type": "text"
      },
      "source": [
        "### Calculate the error for log-Cost\n"
      ]
    },
    {
      "cell_type": "code",
      "metadata": {
        "id": "sXpNbJ4XVMpR",
        "colab_type": "code",
        "colab": {},
        "outputId": "eede81aa-097e-4849-a312-b351e86e1f7d"
      },
      "source": [
        "print('Mean Absolute Error:', metrics.mean_absolute_error(y_test_reg, y_pred_net))  \n",
        "print('Mean Squared Error:', metrics.mean_squared_error(y_test_reg, y_pred_net))  \n",
        "print('Root Mean Squared Error:', np.sqrt(metrics.mean_squared_error(y_test_reg, y_pred_net)))"
      ],
      "execution_count": null,
      "outputs": [
        {
          "output_type": "stream",
          "text": [
            "Mean Absolute Error: 1.6996209652113214\n",
            "Mean Squared Error: 4.838866508519041\n",
            "Root Mean Squared Error: 2.1997423732153365\n"
          ],
          "name": "stdout"
        }
      ]
    },
    {
      "cell_type": "code",
      "metadata": {
        "id": "TwwTAYSgVMpS",
        "colab_type": "code",
        "colab": {}
      },
      "source": [
        "prediction_net = regressor_net.predict(x_train_reg)"
      ],
      "execution_count": null,
      "outputs": []
    },
    {
      "cell_type": "code",
      "metadata": {
        "scrolled": false,
        "id": "Kv3Wy1dQVMpU",
        "colab_type": "code",
        "colab": {},
        "outputId": "61609330-9ef1-4233-b960-d5eba3dd9641"
      },
      "source": [
        "import scipy.stats as stats\n",
        "residuals_net = y_train_reg - prediction_net.reshape(-1)\n",
        "\n",
        "plt.figure(figsize=(7,7))\n",
        "stats.probplot(residuals_net, dist=\"norm\", plot=plt)\n",
        "plt.title(\"Normal Q-Q Plot\")"
      ],
      "execution_count": null,
      "outputs": [
        {
          "output_type": "execute_result",
          "data": {
            "text/plain": [
              "Text(0.5, 1.0, 'Normal Q-Q Plot')"
            ]
          },
          "metadata": {
            "tags": []
          },
          "execution_count": 91
        },
        {
          "output_type": "display_data",
          "data": {
            "image/png": "[encoded data removed]",
            "text/plain": [
              "<Figure size 504x504 with 1 Axes>"
            ]
          },
          "metadata": {
            "tags": [],
            "needs_background": "light"
          }
        }
      ]
    },
    {
      "cell_type": "markdown",
      "metadata": {
        "id": "4a3W-uwGVMpW",
        "colab_type": "text"
      },
      "source": [
        "### Retransform the log transformed 'Cost' : Smear Factor\n"
      ]
    },
    {
      "cell_type": "code",
      "metadata": {
        "id": "Z_LT1rsCVMpW",
        "colab_type": "code",
        "colab": {}
      },
      "source": [
        "std_net = statistics.stdev(y_pred_net)\n",
        "y_pred_net_real = list(map(lambda x: math.exp(x + 0.5*std_net**2), y_pred_net ))\n",
        "y_test_net_real = df_dummy.Cost.iloc[idx_reg]"
      ],
      "execution_count": null,
      "outputs": []
    },
    {
      "cell_type": "markdown",
      "metadata": {
        "id": "kOR2liBoVMpc",
        "colab_type": "text"
      },
      "source": [
        "### Calculate the error for retransformed Cost"
      ]
    },
    {
      "cell_type": "code",
      "metadata": {
        "id": "B52h6l1CVMpc",
        "colab_type": "code",
        "colab": {},
        "outputId": "738f2cf1-644c-4b60-c68a-074a14fab2a1"
      },
      "source": [
        "print('Mean Absolute Error:', metrics.mean_absolute_error(y_test_net_real, y_pred_net_real))  \n",
        "print('Mean Squared Error:', metrics.mean_squared_error(y_test_net_real, y_pred_net_real))  \n",
        "print('Root Mean Squared Error:', np.sqrt(metrics.mean_squared_error(y_test_net_real, y_pred_net_real)))"
      ],
      "execution_count": null,
      "outputs": [
        {
          "output_type": "stream",
          "text": [
            "Mean Absolute Error: 7189.434321162769\n",
            "Mean Squared Error: 1284621554.6672354\n",
            "Root Mean Squared Error: 35841.617634633\n"
          ],
          "name": "stdout"
        }
      ]
    },
    {
      "cell_type": "markdown",
      "metadata": {
        "id": "f8Nyo4W5VMpe",
        "colab_type": "text"
      },
      "source": [
        "# 1.5. RandomForest Regression"
      ]
    },
    {
      "cell_type": "code",
      "metadata": {
        "id": "v2E6d88DVMpe",
        "colab_type": "code",
        "colab": {}
      },
      "source": [
        "train_features_reg, test_features_reg, train_labels_reg, test_labels_reg = train_test_split(x, y,\n",
        "                                                                                            test_size=0.2, \n",
        "                                                                                            random_state=42)"
      ],
      "execution_count": null,
      "outputs": []
    },
    {
      "cell_type": "markdown",
      "metadata": {
        "id": "JdtYrC8HVMpf",
        "colab_type": "text"
      },
      "source": [
        "### Train Model"
      ]
    },
    {
      "cell_type": "code",
      "metadata": {
        "id": "jFTGPEFTVMpf",
        "colab_type": "code",
        "colab": {},
        "outputId": "39a3f361-d2e1-450a-d4d3-ae4c3e1ca97c"
      },
      "source": [
        "# Instantiate model with 1000 decision trees\n",
        "rf = RandomForestRegressor(n_estimators = 1000, random_state = 42)\n",
        "# Train the model on training data\n",
        "rf.fit(train_features_reg, train_labels_reg)"
      ],
      "execution_count": null,
      "outputs": [
        {
          "output_type": "execute_result",
          "data": {
            "text/plain": [
              "RandomForestRegressor(n_estimators=1000, random_state=42)"
            ]
          },
          "metadata": {
            "tags": []
          },
          "execution_count": 84
        }
      ]
    },
    {
      "cell_type": "markdown",
      "metadata": {
        "id": "YovHa_CXVMph",
        "colab_type": "text"
      },
      "source": [
        "### Make predictions on the test sets"
      ]
    },
    {
      "cell_type": "code",
      "metadata": {
        "id": "aCDrKTcmVMph",
        "colab_type": "code",
        "colab": {},
        "outputId": "1528d196-c8a8-4dc3-82d7-5f26af382c5a"
      },
      "source": [
        "# Use the forest's predict method on the test data\n",
        "predictions_rfr = rf.predict(test_features_reg)\n",
        "# Calculate the absolute errors\n",
        "errors = abs(predictions_rfr - test_labels_reg)\n",
        "# Print out the mean absolute error (mae)\n",
        "print('Mean Absolute Error:', round(np.mean(errors), 2), 'degrees.')"
      ],
      "execution_count": null,
      "outputs": [
        {
          "output_type": "stream",
          "text": [
            "Mean Absolute Error: 0.36 degrees.\n"
          ],
          "name": "stdout"
        }
      ]
    },
    {
      "cell_type": "markdown",
      "metadata": {
        "id": "T-ox5UtZVMpi",
        "colab_type": "text"
      },
      "source": [
        "### Compare the actual 'Cost' and the predicted value of 'Cost'\n"
      ]
    },
    {
      "cell_type": "code",
      "metadata": {
        "id": "qg1JS7K4VMpj",
        "colab_type": "code",
        "colab": {},
        "outputId": "0ad9b90e-bd8f-49a0-bbb5-0634b426c36b"
      },
      "source": [
        "df_rfr = pd.DataFrame({'Actual': test_labels_reg, 'Predicted': predictions_rfr})\n",
        "df_rfr.head(10)"
      ],
      "execution_count": null,
      "outputs": [
        {
          "output_type": "execute_result",
          "data": {
            "text/html": [
              "<div>\n",
              "<style scoped>\n",
              "    .dataframe tbody tr th:only-of-type {\n",
              "        vertical-align: middle;\n",
              "    }\n",
              "\n",
              "    .dataframe tbody tr th {\n",
              "        vertical-align: top;\n",
              "    }\n",
              "\n",
              "    .dataframe thead th {\n",
              "        text-align: right;\n",
              "    }\n",
              "</style>\n",
              "<table border=\"1\" class=\"dataframe\">\n",
              "  <thead>\n",
              "    <tr style=\"text-align: right;\">\n",
              "      <th></th>\n",
              "      <th>Actual</th>\n",
              "      <th>Predicted</th>\n",
              "    </tr>\n",
              "  </thead>\n",
              "  <tbody>\n",
              "    <tr>\n",
              "      <th>8929</th>\n",
              "      <td>0.693147</td>\n",
              "      <td>0.614804</td>\n",
              "    </tr>\n",
              "    <tr>\n",
              "      <th>12271</th>\n",
              "      <td>11.043322</td>\n",
              "      <td>8.320539</td>\n",
              "    </tr>\n",
              "    <tr>\n",
              "      <th>361</th>\n",
              "      <td>7.811163</td>\n",
              "      <td>8.168885</td>\n",
              "    </tr>\n",
              "    <tr>\n",
              "      <th>4296</th>\n",
              "      <td>4.007333</td>\n",
              "      <td>4.116612</td>\n",
              "    </tr>\n",
              "    <tr>\n",
              "      <th>8600</th>\n",
              "      <td>1.609438</td>\n",
              "      <td>1.955775</td>\n",
              "    </tr>\n",
              "    <tr>\n",
              "      <th>15505</th>\n",
              "      <td>5.953243</td>\n",
              "      <td>6.022062</td>\n",
              "    </tr>\n",
              "    <tr>\n",
              "      <th>9586</th>\n",
              "      <td>5.713733</td>\n",
              "      <td>6.833707</td>\n",
              "    </tr>\n",
              "    <tr>\n",
              "      <th>8977</th>\n",
              "      <td>13.531476</td>\n",
              "      <td>13.433029</td>\n",
              "    </tr>\n",
              "    <tr>\n",
              "      <th>16332</th>\n",
              "      <td>2.397895</td>\n",
              "      <td>2.535570</td>\n",
              "    </tr>\n",
              "    <tr>\n",
              "      <th>4407</th>\n",
              "      <td>4.219508</td>\n",
              "      <td>4.644576</td>\n",
              "    </tr>\n",
              "  </tbody>\n",
              "</table>\n",
              "</div>"
            ],
            "text/plain": [
              "          Actual  Predicted\n",
              "8929    0.693147   0.614804\n",
              "12271  11.043322   8.320539\n",
              "361     7.811163   8.168885\n",
              "4296    4.007333   4.116612\n",
              "8600    1.609438   1.955775\n",
              "15505   5.953243   6.022062\n",
              "9586    5.713733   6.833707\n",
              "8977   13.531476  13.433029\n",
              "16332   2.397895   2.535570\n",
              "4407    4.219508   4.644576"
            ]
          },
          "metadata": {
            "tags": []
          },
          "execution_count": 89
        }
      ]
    },
    {
      "cell_type": "code",
      "metadata": {
        "scrolled": false,
        "id": "P0suRFaEVMpl",
        "colab_type": "code",
        "colab": {},
        "outputId": "9b97324f-f3b5-4f6a-b4af-c875436287bc"
      },
      "source": [
        "df1=df_rfr.head(20)\n",
        "df1.plot(kind='bar',figsize=(10,8))\n",
        "plt.grid(which='major', linestyle='-', linewidth='0.5', color='green')\n",
        "plt.grid(which='minor', linestyle=':', linewidth='0.5', color='black')\n",
        "plt.show()"
      ],
      "execution_count": null,
      "outputs": [
        {
          "output_type": "display_data",
          "data": {
            "image/png": "[encoded data removed]",
            "text/plain": [
              "<Figure size 720x576 with 1 Axes>"
            ]
          },
          "metadata": {
            "tags": [],
            "needs_background": "light"
          }
        }
      ]
    },
    {
      "cell_type": "markdown",
      "metadata": {
        "id": "spPWxAmkVMpn",
        "colab_type": "text"
      },
      "source": [
        "### Calculate the error for log-Cost\n"
      ]
    },
    {
      "cell_type": "code",
      "metadata": {
        "scrolled": false,
        "id": "ephEIa-RVMpn",
        "colab_type": "code",
        "colab": {},
        "outputId": "e172df1f-5171-43c1-f002-738fa1f20d2b"
      },
      "source": [
        "print('Mean Absolute Error:', metrics.mean_absolute_error(test_labels_reg, predictions_rfr))  \n",
        "print('Mean Squared Error:', metrics.mean_squared_error(test_labels_reg, predictions_rfr))  \n",
        "print('Root Mean Squared Error:', np.sqrt(metrics.mean_squared_error(test_labels_reg, predictions_rfr)))"
      ],
      "execution_count": null,
      "outputs": [
        {
          "output_type": "stream",
          "text": [
            "Mean Absolute Error: 0.35910229494130735\n",
            "Mean Squared Error: 0.2962998459916919\n",
            "Root Mean Squared Error: 0.5443343145454748\n"
          ],
          "name": "stdout"
        }
      ]
    },
    {
      "cell_type": "markdown",
      "metadata": {
        "id": "Hh151oZdVMpo",
        "colab_type": "text"
      },
      "source": [
        "The Random Forest Regression model has the most accurate result!"
      ]
    },
    {
      "cell_type": "code",
      "metadata": {
        "id": "xGJm7tCqVMpo",
        "colab_type": "code",
        "colab": {},
        "outputId": "ac6d384f-977c-49e7-b6fb-e8ed13b33821"
      },
      "source": [
        "prediction_rfr = rf.predict(train_features_reg)\n",
        "residuals_rfr = train_labels_reg - prediction_rfr.reshape(-1)\n",
        "\n",
        "plt.figure(figsize=(7,7))\n",
        "stats.probplot(residuals_ridge, dist=\"norm\", plot=plt)\n",
        "plt.title(\"Normal Q-Q Plot\")"
      ],
      "execution_count": null,
      "outputs": [
        {
          "output_type": "execute_result",
          "data": {
            "text/plain": [
              "Text(0.5, 1.0, 'Normal Q-Q Plot')"
            ]
          },
          "metadata": {
            "tags": []
          },
          "execution_count": 98
        },
        {
          "output_type": "display_data",
          "data": {
            "image/png": "[encoded data removed]",
            "text/plain": [
              "<Figure size 504x504 with 1 Axes>"
            ]
          },
          "metadata": {
            "tags": [],
            "needs_background": "light"
          }
        }
      ]
    },
    {
      "cell_type": "code",
      "metadata": {
        "id": "nTYtZKjuVMpq",
        "colab_type": "code",
        "colab": {}
      },
      "source": [
        "idx_rfr=list(test_labels_reg.index)"
      ],
      "execution_count": null,
      "outputs": []
    },
    {
      "cell_type": "markdown",
      "metadata": {
        "id": "Fu_WXRqFVMpr",
        "colab_type": "text"
      },
      "source": [
        "### Retransform the log transformed 'Cost' : Smear Factor\n"
      ]
    },
    {
      "cell_type": "code",
      "metadata": {
        "id": "xbdPcYynVMpr",
        "colab_type": "code",
        "colab": {}
      },
      "source": [
        "std_net = statistics.stdev(predictions_rfr)\n",
        "predictions_rfr_real = list(map(lambda x: math.exp(x), predictions_rfr ))\n",
        "test_rfr_real = df_dummy.Cost.iloc[idx_rfr]"
      ],
      "execution_count": null,
      "outputs": []
    },
    {
      "cell_type": "markdown",
      "metadata": {
        "id": "rV-Aw14hVMpv",
        "colab_type": "text"
      },
      "source": [
        "### Calculate the error for retransformed Cost"
      ]
    },
    {
      "cell_type": "code",
      "metadata": {
        "scrolled": true,
        "id": "yIpplVhDVMpv",
        "colab_type": "code",
        "colab": {},
        "outputId": "c44984d8-70d0-4fc3-d8ef-93eeb2631d72"
      },
      "source": [
        "print('Mean Absolute Error:', metrics.mean_absolute_error(test_rfr_real, predictions_rfr_real))  \n",
        "print('Mean Squared Error:', metrics.mean_squared_error(test_rfr_real, predictions_rfr_real))  \n",
        "print('Root Mean Squared Error:', np.sqrt(metrics.mean_squared_error(test_rfr_real, predictions_rfr_real)))"
      ],
      "execution_count": null,
      "outputs": [
        {
          "output_type": "stream",
          "text": [
            "Mean Absolute Error: 3392.082777411623\n",
            "Mean Squared Error: 588313342.933759\n",
            "Root Mean Squared Error: 24255.171467828444\n"
          ],
          "name": "stdout"
        }
      ]
    },
    {
      "cell_type": "markdown",
      "metadata": {
        "id": "IhAGWm_TVMpw",
        "colab_type": "text"
      },
      "source": [
        "### Check the importance of each variable"
      ]
    },
    {
      "cell_type": "code",
      "metadata": {
        "id": "DnRmLBAqVMpw",
        "colab_type": "code",
        "colab": {},
        "outputId": "f65c3dad-6084-43de-e36d-d7f84c1196e3"
      },
      "source": [
        "# Get numerical feature importances\n",
        "importances = list(rf.feature_importances_)\n",
        "\n",
        "# List of tuples with variable and importance\n",
        "feature_importances = [(feature, round(importance, 2)) for feature, importance in zip(list(x.columns), importances)]\n",
        "\n",
        "# Sort the feature importances by most important first\n",
        "feature_importances = sorted(feature_importances, key = lambda x: x[1], reverse = True)[:10]\n",
        "\n",
        "# Print out the feature and importances \n",
        "[print('Variable: {:20} Importance: {}'.format(*pair)) for pair in feature_importances];"
      ],
      "execution_count": null,
      "outputs": [
        {
          "output_type": "stream",
          "text": [
            "Variable: Id                   Importance: 0.22\n",
            "Variable: Dayparts_PRIME TIME  Importance: 0.13\n",
            "Variable: Network_NBC          Importance: 0.05\n",
            "Variable: Network_ESPN         Importance: 0.04\n",
            "Variable: Network_FOX          Importance: 0.04\n",
            "Variable: Network_MLB Network  Importance: 0.04\n",
            "Variable: Network_Universal Kids Importance: 0.04\n",
            "Variable: Duration             Importance: 0.03\n",
            "Variable: Network_ABC          Importance: 0.03\n",
            "Variable: Network_Universo     Importance: 0.03\n"
          ],
          "name": "stdout"
        }
      ]
    },
    {
      "cell_type": "markdown",
      "metadata": {
        "id": "vwiRwfBuVMpz",
        "colab_type": "text"
      },
      "source": [
        "### Find the accuracy !"
      ]
    },
    {
      "cell_type": "code",
      "metadata": {
        "id": "9p9-E2tZVMpz",
        "colab_type": "code",
        "colab": {},
        "outputId": "6f194104-09ca-4beb-d4e4-76094234e31c"
      },
      "source": [
        "# Calculate the absolute errors\n",
        "mu = np.mean(test_labels_reg)\n",
        "test_labels_reg0 = [mu if x==0 else x for x in test_labels_reg]\n",
        "predictions = rf.predict(test_features_reg)\n",
        "errors_rfr = abs(predictions - np.array(test_labels_reg0))\n",
        "\n",
        "# Print out the mean absolute error (mae)\n",
        "print('Mean Absolute Error:', round(np.mean(errors_rfr), 2), 'degrees.')\n",
        "# Calculate mean absolute percentage error (MAPE)\n",
        "mape_rfr = 100 * (errors_rfr / test_labels_reg0)\n",
        "\n",
        "# Calculate and display accuracy\n",
        "accuracy_rfr = 100 - np.mean(mape_rfr)\n",
        "print('Accuracy(MAPE):', round(accuracy_rfr, 2), '%.')"
      ],
      "execution_count": null,
      "outputs": [
        {
          "output_type": "stream",
          "text": [
            "Mean Absolute Error: 0.43 degrees.\n",
            "Accuracy(MAPE): 91.34 %.\n"
          ],
          "name": "stdout"
        }
      ]
    },
    {
      "cell_type": "markdown",
      "metadata": {
        "id": "soUv3I7JVMp0",
        "colab_type": "text"
      },
      "source": [
        "# 1.5.1. Random Forest Regression with scaled data"
      ]
    },
    {
      "cell_type": "markdown",
      "metadata": {
        "id": "5omfl1YhVMp0",
        "colab_type": "text"
      },
      "source": [
        "Since the Random Forest Regression model has the best result, I just wanted to try sclaed data to predict the cost...!!"
      ]
    },
    {
      "cell_type": "code",
      "metadata": {
        "id": "aX0QGYPdVMp0",
        "colab_type": "code",
        "colab": {},
        "outputId": "fa770743-ced8-44b3-a82e-19c00a892904"
      },
      "source": [
        "rf = RandomForestRegressor(n_estimators = 1000, random_state = 42)\n",
        "rf.fit(x_train_scaled, y_train_scaled)"
      ],
      "execution_count": null,
      "outputs": [
        {
          "output_type": "execute_result",
          "data": {
            "text/plain": [
              "RandomForestRegressor(n_estimators=1000, random_state=42)"
            ]
          },
          "metadata": {
            "tags": []
          },
          "execution_count": 481
        }
      ]
    },
    {
      "cell_type": "code",
      "metadata": {
        "id": "6qh7faODVMp2",
        "colab_type": "code",
        "colab": {},
        "outputId": "b01790f1-3177-4167-cff9-0e0101bfaa24"
      },
      "source": [
        "# Use the forest's predict method on the test data\n",
        "predictions_rfr_sc = rf.predict(x_test_scaled)\n",
        "# Calculate the absolute errors\n",
        "errors = abs(predictions_rfr_sc - y_test_scaled)\n",
        "# Print out the mean absolute error (mae)\n",
        "print('Mean Absolute Error:', round(np.mean(errors), 2), 'degrees.')"
      ],
      "execution_count": null,
      "outputs": [
        {
          "output_type": "stream",
          "text": [
            "Mean Absolute Error: 0.37 degrees.\n"
          ],
          "name": "stdout"
        }
      ]
    },
    {
      "cell_type": "code",
      "metadata": {
        "id": "S8PnDYjsVMp3",
        "colab_type": "code",
        "colab": {},
        "outputId": "10281555-ecc9-45fd-bab6-547b8400d5c5"
      },
      "source": [
        "df_rfr_sc = pd.DataFrame({'Actual': y_test_scaled, 'Predicted': predictions_rfr_sc})\n",
        "df_rfr_sc.head(10)"
      ],
      "execution_count": null,
      "outputs": [
        {
          "output_type": "execute_result",
          "data": {
            "text/html": [
              "<div>\n",
              "<style scoped>\n",
              "    .dataframe tbody tr th:only-of-type {\n",
              "        vertical-align: middle;\n",
              "    }\n",
              "\n",
              "    .dataframe tbody tr th {\n",
              "        vertical-align: top;\n",
              "    }\n",
              "\n",
              "    .dataframe thead th {\n",
              "        text-align: right;\n",
              "    }\n",
              "</style>\n",
              "<table border=\"1\" class=\"dataframe\">\n",
              "  <thead>\n",
              "    <tr style=\"text-align: right;\">\n",
              "      <th></th>\n",
              "      <th>Actual</th>\n",
              "      <th>Predicted</th>\n",
              "    </tr>\n",
              "  </thead>\n",
              "  <tbody>\n",
              "    <tr>\n",
              "      <th>14868</th>\n",
              "      <td>8.356555</td>\n",
              "      <td>8.372565</td>\n",
              "    </tr>\n",
              "    <tr>\n",
              "      <th>14301</th>\n",
              "      <td>5.863631</td>\n",
              "      <td>5.867175</td>\n",
              "    </tr>\n",
              "    <tr>\n",
              "      <th>9691</th>\n",
              "      <td>1.609438</td>\n",
              "      <td>2.349417</td>\n",
              "    </tr>\n",
              "    <tr>\n",
              "      <th>6274</th>\n",
              "      <td>4.418841</td>\n",
              "      <td>4.287724</td>\n",
              "    </tr>\n",
              "    <tr>\n",
              "      <th>12593</th>\n",
              "      <td>5.398163</td>\n",
              "      <td>5.414966</td>\n",
              "    </tr>\n",
              "    <tr>\n",
              "      <th>51</th>\n",
              "      <td>6.122493</td>\n",
              "      <td>5.870797</td>\n",
              "    </tr>\n",
              "    <tr>\n",
              "      <th>1963</th>\n",
              "      <td>6.167516</td>\n",
              "      <td>5.913213</td>\n",
              "    </tr>\n",
              "    <tr>\n",
              "      <th>11503</th>\n",
              "      <td>5.924256</td>\n",
              "      <td>6.219136</td>\n",
              "    </tr>\n",
              "    <tr>\n",
              "      <th>5334</th>\n",
              "      <td>4.709530</td>\n",
              "      <td>4.681689</td>\n",
              "    </tr>\n",
              "    <tr>\n",
              "      <th>13206</th>\n",
              "      <td>6.608001</td>\n",
              "      <td>6.717275</td>\n",
              "    </tr>\n",
              "  </tbody>\n",
              "</table>\n",
              "</div>"
            ],
            "text/plain": [
              "         Actual  Predicted\n",
              "14868  8.356555   8.372565\n",
              "14301  5.863631   5.867175\n",
              "9691   1.609438   2.349417\n",
              "6274   4.418841   4.287724\n",
              "12593  5.398163   5.414966\n",
              "51     6.122493   5.870797\n",
              "1963   6.167516   5.913213\n",
              "11503  5.924256   6.219136\n",
              "5334   4.709530   4.681689\n",
              "13206  6.608001   6.717275"
            ]
          },
          "metadata": {
            "tags": []
          },
          "execution_count": 484
        }
      ]
    },
    {
      "cell_type": "code",
      "metadata": {
        "id": "U0ttyeSdVMp4",
        "colab_type": "code",
        "colab": {},
        "outputId": "f04cfd50-5ef2-4628-8d91-48ffa222bd2e"
      },
      "source": [
        "df1=df_rfr_sc.head(20)\n",
        "df1.plot(kind='bar',figsize=(10,8))\n",
        "plt.grid(which='major', linestyle='-', linewidth='0.5', color='green')\n",
        "plt.grid(which='minor', linestyle=':', linewidth='0.5', color='black')\n",
        "plt.show()"
      ],
      "execution_count": null,
      "outputs": [
        {
          "output_type": "display_data",
          "data": {
            "image/png": "[encoded data removed]",
            "text/plain": [
              "<Figure size 720x576 with 1 Axes>"
            ]
          },
          "metadata": {
            "tags": [],
            "needs_background": "light"
          }
        }
      ]
    },
    {
      "cell_type": "code",
      "metadata": {
        "scrolled": true,
        "id": "Ov51Jrw2VMp5",
        "colab_type": "code",
        "colab": {},
        "outputId": "0222049e-78b0-4bd4-cb88-512e214cf767"
      },
      "source": [
        "print('Mean Absolute Error:', metrics.mean_absolute_error(y_test_scaled, predictions_rfr_sc))  \n",
        "print('Mean Squared Error:', metrics.mean_squared_error(y_test_scaled, predictions_rfr_sc))  \n",
        "print('Root Mean Squared Error:', np.sqrt(metrics.mean_squared_error(y_test_scaled, predictions_rfr_sc)))"
      ],
      "execution_count": null,
      "outputs": [
        {
          "output_type": "stream",
          "text": [
            "Mean Absolute Error: 0.36766295204390853\n",
            "Mean Squared Error: 0.3140279449210311\n",
            "Root Mean Squared Error: 0.5603819634151612\n"
          ],
          "name": "stdout"
        }
      ]
    },
    {
      "cell_type": "markdown",
      "metadata": {
        "id": "Xkn-6UawVMp7",
        "colab_type": "text"
      },
      "source": [
        "Unfortunately, it has worse accuracy than the Random Forest Regression model with the original dataset."
      ]
    },
    {
      "cell_type": "markdown",
      "metadata": {
        "id": "MmVG-OuVVMp7",
        "colab_type": "text"
      },
      "source": [
        "# 1.5.2. Random Forest Regression with compressed data"
      ]
    },
    {
      "cell_type": "code",
      "metadata": {
        "id": "52NaR5xpVMp7",
        "colab_type": "code",
        "colab": {},
        "outputId": "d412e735-d8b5-4b30-d998-b68add62fa9e"
      },
      "source": [
        "rf.fit(df_pca_train, y_train_pca)"
      ],
      "execution_count": null,
      "outputs": [
        {
          "output_type": "execute_result",
          "data": {
            "text/plain": [
              "RandomForestRegressor(n_estimators=1000, random_state=42)"
            ]
          },
          "metadata": {
            "tags": []
          },
          "execution_count": 296
        }
      ]
    },
    {
      "cell_type": "code",
      "metadata": {
        "id": "63sSVyDKVMp8",
        "colab_type": "code",
        "colab": {},
        "outputId": "ae15e4de-2917-4530-acb1-5fa00a72d4fc"
      },
      "source": [
        "# Use the forest's predict method on the test data\n",
        "predictions_rfr_pca = rf.predict(df_pca_test)\n",
        "# Calculate the absolute errors\n",
        "errors = abs(predictions_rfr_pca - y_test_pca)\n",
        "# Print out the mean absolute error (mae)\n",
        "print('Mean Absolute Error:', round(np.mean(errors), 2), 'degrees.')"
      ],
      "execution_count": null,
      "outputs": [
        {
          "output_type": "stream",
          "text": [
            "Mean Absolute Error: 1.77 degrees.\n"
          ],
          "name": "stdout"
        }
      ]
    },
    {
      "cell_type": "code",
      "metadata": {
        "id": "M-jhhju9VMp9",
        "colab_type": "code",
        "colab": {},
        "outputId": "c8d43aec-7e9d-4d65-88d1-f5ef0ec6bc6d"
      },
      "source": [
        "df_rfr_pca = pd.DataFrame({'Actual': y_test_pca, 'Predicted': predictions_rfr_pca})\n",
        "df_rfr_pca.head(10)"
      ],
      "execution_count": null,
      "outputs": [
        {
          "output_type": "execute_result",
          "data": {
            "text/html": [
              "<div>\n",
              "<style scoped>\n",
              "    .dataframe tbody tr th:only-of-type {\n",
              "        vertical-align: middle;\n",
              "    }\n",
              "\n",
              "    .dataframe tbody tr th {\n",
              "        vertical-align: top;\n",
              "    }\n",
              "\n",
              "    .dataframe thead th {\n",
              "        text-align: right;\n",
              "    }\n",
              "</style>\n",
              "<table border=\"1\" class=\"dataframe\">\n",
              "  <thead>\n",
              "    <tr style=\"text-align: right;\">\n",
              "      <th></th>\n",
              "      <th>Actual</th>\n",
              "      <th>Predicted</th>\n",
              "    </tr>\n",
              "  </thead>\n",
              "  <tbody>\n",
              "    <tr>\n",
              "      <th>14868</th>\n",
              "      <td>8.356555</td>\n",
              "      <td>6.378504</td>\n",
              "    </tr>\n",
              "    <tr>\n",
              "      <th>14301</th>\n",
              "      <td>5.863631</td>\n",
              "      <td>6.540903</td>\n",
              "    </tr>\n",
              "    <tr>\n",
              "      <th>9691</th>\n",
              "      <td>1.609438</td>\n",
              "      <td>6.494159</td>\n",
              "    </tr>\n",
              "    <tr>\n",
              "      <th>6274</th>\n",
              "      <td>4.418841</td>\n",
              "      <td>6.378042</td>\n",
              "    </tr>\n",
              "    <tr>\n",
              "      <th>12593</th>\n",
              "      <td>5.398163</td>\n",
              "      <td>6.475518</td>\n",
              "    </tr>\n",
              "    <tr>\n",
              "      <th>51</th>\n",
              "      <td>6.122493</td>\n",
              "      <td>6.291492</td>\n",
              "    </tr>\n",
              "    <tr>\n",
              "      <th>1963</th>\n",
              "      <td>6.167516</td>\n",
              "      <td>6.462562</td>\n",
              "    </tr>\n",
              "    <tr>\n",
              "      <th>11503</th>\n",
              "      <td>5.924256</td>\n",
              "      <td>6.304537</td>\n",
              "    </tr>\n",
              "    <tr>\n",
              "      <th>5334</th>\n",
              "      <td>4.709530</td>\n",
              "      <td>6.336310</td>\n",
              "    </tr>\n",
              "    <tr>\n",
              "      <th>13206</th>\n",
              "      <td>6.608001</td>\n",
              "      <td>6.058675</td>\n",
              "    </tr>\n",
              "  </tbody>\n",
              "</table>\n",
              "</div>"
            ],
            "text/plain": [
              "         Actual  Predicted\n",
              "14868  8.356555   6.378504\n",
              "14301  5.863631   6.540903\n",
              "9691   1.609438   6.494159\n",
              "6274   4.418841   6.378042\n",
              "12593  5.398163   6.475518\n",
              "51     6.122493   6.291492\n",
              "1963   6.167516   6.462562\n",
              "11503  5.924256   6.304537\n",
              "5334   4.709530   6.336310\n",
              "13206  6.608001   6.058675"
            ]
          },
          "metadata": {
            "tags": []
          },
          "execution_count": 298
        }
      ]
    },
    {
      "cell_type": "code",
      "metadata": {
        "id": "o95emm1DVMp-",
        "colab_type": "code",
        "colab": {},
        "outputId": "8e5100bd-b221-48b5-be11-b61b8959d7e5"
      },
      "source": [
        "df1=df_rfr_pca.head(20)\n",
        "df1.plot(kind='bar',figsize=(10,8))\n",
        "plt.grid(which='major', linestyle='-', linewidth='0.5', color='green')\n",
        "plt.grid(which='minor', linestyle=':', linewidth='0.5', color='black')\n",
        "plt.show()"
      ],
      "execution_count": null,
      "outputs": [
        {
          "output_type": "display_data",
          "data": {
            "image/png": "[encoded data removed]",
            "text/plain": [
              "<Figure size 720x576 with 1 Axes>"
            ]
          },
          "metadata": {
            "tags": [],
            "needs_background": "light"
          }
        }
      ]
    },
    {
      "cell_type": "code",
      "metadata": {
        "id": "H5Meg9o5VMp_",
        "colab_type": "code",
        "colab": {},
        "outputId": "fb9c708b-1d5c-41f8-b854-d5294c1858fd"
      },
      "source": [
        "print('Mean Absolute Error:', metrics.mean_absolute_error(y_test_pca, predictions_rfr_pca))  \n",
        "print('Mean Squared Error:', metrics.mean_squared_error(y_test_pca, predictions_rfr_pca))  \n",
        "print('Root Mean Squared Error:', np.sqrt(metrics.mean_squared_error(y_test_pca, predictions_rfr_pca)))"
      ],
      "execution_count": null,
      "outputs": [
        {
          "output_type": "stream",
          "text": [
            "Mean Absolute Error: 1.767717330509106\n",
            "Mean Squared Error: 5.432629885150196\n",
            "Root Mean Squared Error: 2.330800267107887\n"
          ],
          "name": "stdout"
        }
      ]
    },
    {
      "cell_type": "markdown",
      "metadata": {
        "id": "A9VQrc4AVMqA",
        "colab_type": "text"
      },
      "source": [
        "Unfortunately, it was worse accuracy than the Random Forest Regression model with the original dataset."
      ]
    },
    {
      "cell_type": "markdown",
      "metadata": {
        "id": "G6Zd0kDaVMqA",
        "colab_type": "text"
      },
      "source": [
        "# 1.6. Gradient Boosting Regression"
      ]
    },
    {
      "cell_type": "code",
      "metadata": {
        "id": "rw8obXboVMqA",
        "colab_type": "code",
        "colab": {}
      },
      "source": [
        "GBoost = GradientBoostingRegressor(n_estimators=3000, learning_rate=0.05,\n",
        "                                   max_depth=4, max_features='sqrt',\n",
        "                                   min_samples_leaf=15, min_samples_split=10, \n",
        "                                   loss='huber', random_state =5)"
      ],
      "execution_count": null,
      "outputs": []
    },
    {
      "cell_type": "code",
      "metadata": {
        "id": "b34oUJlXVMqB",
        "colab_type": "code",
        "colab": {},
        "outputId": "a30cd9dc-0c8b-4a2b-ca8b-9bf4ca5c5677"
      },
      "source": [
        "GBoost.fit(train_features_reg, train_labels_reg)"
      ],
      "execution_count": null,
      "outputs": [
        {
          "output_type": "execute_result",
          "data": {
            "text/plain": [
              "GradientBoostingRegressor(learning_rate=0.05, loss='huber', max_depth=4,\n",
              "                          max_features='sqrt', min_samples_leaf=15,\n",
              "                          min_samples_split=10, n_estimators=3000,\n",
              "                          random_state=5)"
            ]
          },
          "metadata": {
            "tags": []
          },
          "execution_count": 491
        }
      ]
    },
    {
      "cell_type": "code",
      "metadata": {
        "id": "8kYiddmsVMqD",
        "colab_type": "code",
        "colab": {}
      },
      "source": [
        "predictions_GBoost =GBoost.predict(test_features_reg)"
      ],
      "execution_count": null,
      "outputs": []
    },
    {
      "cell_type": "code",
      "metadata": {
        "id": "OjuBUgJqVMqE",
        "colab_type": "code",
        "colab": {},
        "outputId": "f381f8eb-3a95-48e4-903a-784e1e7ccf49"
      },
      "source": [
        "print('Mean Absolute Error:', metrics.mean_absolute_error(test_labels_reg, predictions_GBoost))  \n",
        "print('Mean Squared Error:', metrics.mean_squared_error(test_labels_reg, predictions_GBoost))  \n",
        "print('Root Mean Squared Error:', np.sqrt(metrics.mean_squared_error(test_labels_reg, predictions_GBoost)))"
      ],
      "execution_count": null,
      "outputs": [
        {
          "output_type": "stream",
          "text": [
            "Mean Absolute Error: 0.4549793505701891\n",
            "Mean Squared Error: 0.4358328276309172\n",
            "Root Mean Squared Error: 0.660176361005843\n"
          ],
          "name": "stdout"
        }
      ]
    },
    {
      "cell_type": "markdown",
      "metadata": {
        "id": "Moe6LBv1VMqF",
        "colab_type": "text"
      },
      "source": [
        "Worse than Random Forest Regression"
      ]
    },
    {
      "cell_type": "markdown",
      "metadata": {
        "id": "1zmMlauMVMqG",
        "colab_type": "text"
      },
      "source": [
        "# 1.7. XG Boosting Regression\n"
      ]
    },
    {
      "cell_type": "code",
      "metadata": {
        "id": "3FFb65HpVMqG",
        "colab_type": "code",
        "colab": {}
      },
      "source": [
        "model_xgb = xgb.XGBRegressor(colsample_bytree=0.4603, gamma=0.0468, \n",
        "                             learning_rate=0.05, max_depth=3, \n",
        "                             min_child_weight=1.7817, n_estimators=2200,\n",
        "                             reg_alpha=0.4640, reg_lambda=0.8571,\n",
        "                             subsample=0.5213, silent=1,\n",
        "                             random_state =7, nthread = -1)"
      ],
      "execution_count": null,
      "outputs": []
    },
    {
      "cell_type": "code",
      "metadata": {
        "scrolled": true,
        "id": "AucxtgYBVMqI",
        "colab_type": "code",
        "colab": {},
        "outputId": "d9658ca8-c070-4140-e5c4-2def75492231"
      },
      "source": [
        "model_xgb.fit(train_features_reg, train_labels_reg)"
      ],
      "execution_count": null,
      "outputs": [
        {
          "output_type": "stream",
          "text": [
            "[15:42:14] WARNING: /Users/travis/build/dmlc/xgboost/src/learner.cc:480: \n",
            "Parameters: { silent } might not be used.\n",
            "\n",
            "  This may not be accurate due to some parameters are only used in language bindings but\n",
            "  passed down to XGBoost core.  Or some parameters are not used but slip through this\n",
            "  verification. Please open an issue if you find above cases.\n",
            "\n",
            "\n"
          ],
          "name": "stdout"
        },
        {
          "output_type": "execute_result",
          "data": {
            "text/plain": [
              "XGBRegressor(base_score=0.5, booster='gbtree', colsample_bylevel=1,\n",
              "             colsample_bynode=1, colsample_bytree=0.4603, gamma=0.0468,\n",
              "             gpu_id=-1, importance_type='gain', interaction_constraints='',\n",
              "             learning_rate=0.05, max_delta_step=0, max_depth=3,\n",
              "             min_child_weight=1.7817, missing=nan, monotone_constraints='()',\n",
              "             n_estimators=2200, n_jobs=-1, nthread=-1, num_parallel_tree=1,\n",
              "             random_state=7, reg_alpha=0.464, reg_lambda=0.8571,\n",
              "             scale_pos_weight=1, silent=1, subsample=0.5213,\n",
              "             tree_method='exact', validate_parameters=1, verbosity=None)"
            ]
          },
          "metadata": {
            "tags": []
          },
          "execution_count": 506
        }
      ]
    },
    {
      "cell_type": "code",
      "metadata": {
        "id": "eoimzHSFVMqJ",
        "colab_type": "code",
        "colab": {}
      },
      "source": [
        "predictions_xgb =model_xgb.predict(test_features_reg)"
      ],
      "execution_count": null,
      "outputs": []
    },
    {
      "cell_type": "code",
      "metadata": {
        "id": "CNlaBF2kVMqK",
        "colab_type": "code",
        "colab": {},
        "outputId": "13247658-16c6-4651-d27e-1c9de4d602b4"
      },
      "source": [
        "print('Mean Absolute Error:', metrics.mean_absolute_error(test_labels_reg, predictions_xgb))  \n",
        "print('Mean Squared Error:', metrics.mean_squared_error(test_labels_reg, predictions_xgb))  \n",
        "print('Root Mean Squared Error:', np.sqrt(metrics.mean_squared_error(test_labels_reg, predictions_xgb)))"
      ],
      "execution_count": null,
      "outputs": [
        {
          "output_type": "stream",
          "text": [
            "Mean Absolute Error: 0.4141781878144589\n",
            "Mean Squared Error: 0.32634145004560067\n",
            "Root Mean Squared Error: 0.5712630305258697\n"
          ],
          "name": "stdout"
        }
      ]
    },
    {
      "cell_type": "markdown",
      "metadata": {
        "id": "Uuq2v8ygVMqN",
        "colab_type": "text"
      },
      "source": [
        "XG Boosting model is better than Gradient Boosting Regression, so I tried the model with scaled data."
      ]
    },
    {
      "cell_type": "markdown",
      "metadata": {
        "id": "Htupf0zzVMqN",
        "colab_type": "text"
      },
      "source": [
        "# 1.7.1. XG Boosting Regression with Scaled Data\n"
      ]
    },
    {
      "cell_type": "code",
      "metadata": {
        "id": "aUb5NCKxVMqO",
        "colab_type": "code",
        "colab": {},
        "outputId": "67826242-7c27-4386-ab35-aad2d46afc9d"
      },
      "source": [
        "model_xgb.fit(x_train_scaled, y_train_scaled)"
      ],
      "execution_count": null,
      "outputs": [
        {
          "output_type": "stream",
          "text": [
            "[16:32:21] WARNING: /Users/travis/build/dmlc/xgboost/src/learner.cc:480: \n",
            "Parameters: { silent } might not be used.\n",
            "\n",
            "  This may not be accurate due to some parameters are only used in language bindings but\n",
            "  passed down to XGBoost core.  Or some parameters are not used but slip through this\n",
            "  verification. Please open an issue if you find above cases.\n",
            "\n",
            "\n"
          ],
          "name": "stdout"
        },
        {
          "output_type": "execute_result",
          "data": {
            "text/plain": [
              "XGBRegressor(base_score=0.5, booster='gbtree', colsample_bylevel=1,\n",
              "             colsample_bynode=1, colsample_bytree=0.4603, gamma=0.0468,\n",
              "             gpu_id=-1, importance_type='gain', interaction_constraints='',\n",
              "             learning_rate=0.05, max_delta_step=0, max_depth=3,\n",
              "             min_child_weight=1.7817, missing=nan, monotone_constraints='()',\n",
              "             n_estimators=2200, n_jobs=-1, nthread=-1, num_parallel_tree=1,\n",
              "             random_state=7, reg_alpha=0.464, reg_lambda=0.8571,\n",
              "             scale_pos_weight=1, silent=1, subsample=0.5213,\n",
              "             tree_method='exact', validate_parameters=1, verbosity=None)"
            ]
          },
          "metadata": {
            "tags": []
          },
          "execution_count": 510
        }
      ]
    },
    {
      "cell_type": "code",
      "metadata": {
        "id": "AH9-wfokVMqQ",
        "colab_type": "code",
        "colab": {}
      },
      "source": [
        "predictions_xgb_sc =model_xgb.predict(x_test_scaled)"
      ],
      "execution_count": null,
      "outputs": []
    },
    {
      "cell_type": "code",
      "metadata": {
        "scrolled": true,
        "id": "HyYJmA2EVMqQ",
        "colab_type": "code",
        "colab": {},
        "outputId": "0c431f42-5ad6-42d0-9f79-0960d3cb6665"
      },
      "source": [
        "print('Mean Absolute Error:', metrics.mean_absolute_error(test_labels_reg, predictions_xgb_sc))  \n",
        "print('Mean Squared Error:', metrics.mean_squared_error(test_labels_reg, predictions_xgb_sc))  \n",
        "print('Root Mean Squared Error:', np.sqrt(metrics.mean_squared_error(test_labels_reg, predictions_xgb_sc)))"
      ],
      "execution_count": null,
      "outputs": [
        {
          "output_type": "stream",
          "text": [
            "Mean Absolute Error: 2.547462280568252\n",
            "Mean Squared Error: 10.669597030406312\n",
            "Root Mean Squared Error: 3.2664349113990183\n"
          ],
          "name": "stdout"
        }
      ]
    },
    {
      "cell_type": "markdown",
      "metadata": {
        "id": "m2mDpijVVMqR",
        "colab_type": "text"
      },
      "source": [
        "Much less accurate than XG Boosting model trained by original dataset."
      ]
    },
    {
      "cell_type": "markdown",
      "metadata": {
        "id": "UWyVaFlhVMqS",
        "colab_type": "text"
      },
      "source": [
        "# 1.8. Stacking Model"
      ]
    },
    {
      "cell_type": "markdown",
      "metadata": {
        "id": "2HK5QnH8VMqS",
        "colab_type": "text"
      },
      "source": [
        "The simplest stacking approach : Averaging base models"
      ]
    },
    {
      "cell_type": "code",
      "metadata": {
        "id": "gYi6RfTJVMqS",
        "colab_type": "code",
        "colab": {}
      },
      "source": [
        "class AveragingModels(BaseEstimator, RegressorMixin, TransformerMixin):\n",
        "    def __init__(self, models):\n",
        "        self.models = models\n",
        "        \n",
        "    # we define clones of the original models to fit the data in\n",
        "    def fit(self, X, y):\n",
        "        self.models_ = [clone(x) for x in self.models]\n",
        "        \n",
        "        # Train cloned base models\n",
        "        for model in self.models_:\n",
        "            model.fit(X, y)\n",
        "\n",
        "        return self\n",
        "    \n",
        "    #Now we do the predictions for cloned models and average them\n",
        "    def predict(self, X):\n",
        "        predictions = np.column_stack([\n",
        "            model.predict(X) for model in self.models_\n",
        "        ])\n",
        "        return np.mean(predictions, axis=1) "
      ],
      "execution_count": null,
      "outputs": []
    },
    {
      "cell_type": "code",
      "metadata": {
        "id": "vqtf-e5dVMqT",
        "colab_type": "code",
        "colab": {}
      },
      "source": [
        "averaged_models = AveragingModels(models = (rf, GBoost, regressor_ridge, model_xgb))"
      ],
      "execution_count": null,
      "outputs": []
    },
    {
      "cell_type": "code",
      "metadata": {
        "id": "dt1xaEycVMqV",
        "colab_type": "code",
        "colab": {},
        "outputId": "7805434a-e923-4dea-a2d7-7446d97e23bc"
      },
      "source": [
        "averaged_models.fit(train_features_reg, train_labels_reg)"
      ],
      "execution_count": null,
      "outputs": [
        {
          "output_type": "stream",
          "text": [
            "[17:06:31] WARNING: /Users/travis/build/dmlc/xgboost/src/learner.cc:480: \n",
            "Parameters: { silent } might not be used.\n",
            "\n",
            "  This may not be accurate due to some parameters are only used in language bindings but\n",
            "  passed down to XGBoost core.  Or some parameters are not used but slip through this\n",
            "  verification. Please open an issue if you find above cases.\n",
            "\n",
            "\n"
          ],
          "name": "stdout"
        },
        {
          "output_type": "execute_result",
          "data": {
            "text/plain": [
              "AveragingModels(models=(RandomForestRegressor(n_estimators=1000,\n",
              "                                              random_state=42),\n",
              "                        GradientBoostingRegressor(learning_rate=0.05,\n",
              "                                                  loss='huber', max_depth=4,\n",
              "                                                  max_features='sqrt',\n",
              "                                                  min_samples_leaf=15,\n",
              "                                                  min_samples_split=10,\n",
              "                                                  n_estimators=3000,\n",
              "                                                  random_state=5),\n",
              "                        Ridge(),\n",
              "                        XGBRegressor(base_score=0.5, booster='gbtree',\n",
              "                                     colsample_bylevel=1, colsample_bynode=1,\n",
              "                                     colsample_by...\n",
              "                                     gpu_id=-1, importance_type='gain',\n",
              "                                     interaction_constraints='',\n",
              "                                     learning_rate=0.05, max_delta_step=0,\n",
              "                                     max_depth=3, min_child_weight=1.7817,\n",
              "                                     missing=nan, monotone_constraints='()',\n",
              "                                     n_estimators=2200, n_jobs=-1, nthread=-1,\n",
              "                                     num_parallel_tree=1, random_state=7,\n",
              "                                     reg_alpha=0.464, reg_lambda=0.8571,\n",
              "                                     scale_pos_weight=1, silent=1,\n",
              "                                     subsample=0.5213, tree_method='exact',\n",
              "                                     validate_parameters=1, verbosity=None)))"
            ]
          },
          "metadata": {
            "tags": []
          },
          "execution_count": 518
        }
      ]
    },
    {
      "cell_type": "code",
      "metadata": {
        "id": "MN-DO0sIVMqW",
        "colab_type": "code",
        "colab": {}
      },
      "source": [
        "predictions_stack =averaged_models.predict(test_features_reg)"
      ],
      "execution_count": null,
      "outputs": []
    },
    {
      "cell_type": "code",
      "metadata": {
        "scrolled": true,
        "id": "52rFXUPnVMqY",
        "colab_type": "code",
        "colab": {},
        "outputId": "0a7b2edb-2680-44a2-b76e-4dbb40dd83c8"
      },
      "source": [
        "print('Mean Absolute Error:', metrics.mean_absolute_error(test_labels_reg, predictions_stack))  \n",
        "print('Mean Squared Error:', metrics.mean_squared_error(test_labels_reg, predictions_stack))  \n",
        "print('Root Mean Squared Error:', np.sqrt(metrics.mean_squared_error(test_labels_reg, predictions_stack)))"
      ],
      "execution_count": null,
      "outputs": [
        {
          "output_type": "stream",
          "text": [
            "Mean Absolute Error: 0.3910923609148743\n",
            "Mean Squared Error: 0.30676769319456454\n",
            "Root Mean Squared Error: 0.5538661329189252\n"
          ],
          "name": "stdout"
        }
      ]
    },
    {
      "cell_type": "markdown",
      "metadata": {
        "id": "sHlew9x2VMqZ",
        "colab_type": "text"
      },
      "source": [
        " It seems even the simplest stacking approach really improve the score compare to GBoosting method, Ridge regression, and XGboosing methods while Random Forest Regression method the most accurate model."
      ]
    },
    {
      "cell_type": "markdown",
      "metadata": {
        "id": "pHrhhCbkVMqZ",
        "colab_type": "text"
      },
      "source": [
        "# Part 2: Classification"
      ]
    },
    {
      "cell_type": "markdown",
      "metadata": {
        "id": "ULbsg4HjVMqZ",
        "colab_type": "text"
      },
      "source": [
        "# 2.0. Data preparation for classification modeling"
      ]
    },
    {
      "cell_type": "markdown",
      "metadata": {
        "id": "uiaJZKWUVMqa",
        "colab_type": "text"
      },
      "source": [
        "### Original data with dummy variables"
      ]
    },
    {
      "cell_type": "code",
      "metadata": {
        "id": "0OMP4KuNVMqa",
        "colab_type": "code",
        "colab": {}
      },
      "source": [
        "y = df_dummy.Cost_cat\n",
        "x = df_dummy.drop(columns=[\"Cost\", \"Cost_log\", \"Cost_cat\"], axis = 1)\n",
        "train_features_cl, test_features_cl, train_labels_cl, test_labels_cl = train_test_split(x, y,\n",
        "                                                                                test_size=0.2, random_state=0)"
      ],
      "execution_count": null,
      "outputs": []
    },
    {
      "cell_type": "markdown",
      "metadata": {
        "id": "f0Dx9fDyVMqb",
        "colab_type": "text"
      },
      "source": [
        "### Scaled data"
      ]
    },
    {
      "cell_type": "code",
      "metadata": {
        "id": "C91zlx32VMqb",
        "colab_type": "code",
        "colab": {}
      },
      "source": [
        "scaler.fit(x)\n",
        "scaled_x = x.copy()\n",
        "scaled_x.iloc[:] = scaler.transform(x)"
      ],
      "execution_count": null,
      "outputs": []
    },
    {
      "cell_type": "code",
      "metadata": {
        "id": "ysTEhX-EVMqe",
        "colab_type": "code",
        "colab": {}
      },
      "source": [
        "x_train_scaled, x_test_scaled, y_train_scaled, y_test_scaled = train_test_split(scaled_x, y, test_size=0.2, random_state=0)"
      ],
      "execution_count": null,
      "outputs": []
    },
    {
      "cell_type": "markdown",
      "metadata": {
        "id": "lUk8AD4pVMqe",
        "colab_type": "text"
      },
      "source": [
        "### Compressed data"
      ]
    },
    {
      "cell_type": "code",
      "metadata": {
        "id": "X8NIYtQqVMqf",
        "colab_type": "code",
        "colab": {}
      },
      "source": [
        "pca_train = skd.PCA(n_components=230).fit_transform(x_train_scaled)\n",
        "df_pca_train=pd.DataFrame(pca_train)"
      ],
      "execution_count": null,
      "outputs": []
    },
    {
      "cell_type": "code",
      "metadata": {
        "id": "eCPFEgVIVMqf",
        "colab_type": "code",
        "colab": {}
      },
      "source": [
        "pca_test = skd.PCA(n_components=230).fit_transform(x_test_scaled)\n",
        "df_pca_test=pd.DataFrame(pca_test)\n",
        "y_train_pca, y_test_pca = y_train_scaled, y_test_scaled"
      ],
      "execution_count": null,
      "outputs": []
    },
    {
      "cell_type": "markdown",
      "metadata": {
        "id": "gGDwYU74VMqg",
        "colab_type": "text"
      },
      "source": [
        "# 2.1. Random Forest Classification"
      ]
    },
    {
      "cell_type": "code",
      "metadata": {
        "id": "p2bfYTXoVMqg",
        "colab_type": "code",
        "colab": {},
        "outputId": "944abb60-aafd-47a0-d84e-391441370534"
      },
      "source": [
        "import sklearn.ensemble as skens\n",
        "rf_model = skens.RandomForestClassifier(n_estimators=1000,oob_score=True, criterion='entropy')\n",
        "rf_model.fit(train_features_cl,train_labels_cl)"
      ],
      "execution_count": null,
      "outputs": [
        {
          "output_type": "execute_result",
          "data": {
            "text/plain": [
              "RandomForestClassifier(criterion='entropy', n_estimators=1000, oob_score=True)"
            ]
          },
          "metadata": {
            "tags": []
          },
          "execution_count": 415
        }
      ]
    },
    {
      "cell_type": "code",
      "metadata": {
        "id": "lo6F5EpuVMqh",
        "colab_type": "code",
        "colab": {}
      },
      "source": [
        "predicted_labels = rf_model.predict(test_features_cl)\n",
        "label_rf1 = pd.DataFrame(test_labels_cl).copy()\n",
        "label_rf1['predicted_rf_tree'] = predicted_labels"
      ],
      "execution_count": null,
      "outputs": []
    },
    {
      "cell_type": "code",
      "metadata": {
        "scrolled": true,
        "id": "IZXEU1rkVMqi",
        "colab_type": "code",
        "colab": {},
        "outputId": "97de2294-37ae-4b75-d0d1-6fb13795c4ff"
      },
      "source": [
        "label_rf1"
      ],
      "execution_count": null,
      "outputs": [
        {
          "output_type": "execute_result",
          "data": {
            "text/html": [
              "<div>\n",
              "<style scoped>\n",
              "    .dataframe tbody tr th:only-of-type {\n",
              "        vertical-align: middle;\n",
              "    }\n",
              "\n",
              "    .dataframe tbody tr th {\n",
              "        vertical-align: top;\n",
              "    }\n",
              "\n",
              "    .dataframe thead th {\n",
              "        text-align: right;\n",
              "    }\n",
              "</style>\n",
              "<table border=\"1\" class=\"dataframe\">\n",
              "  <thead>\n",
              "    <tr style=\"text-align: right;\">\n",
              "      <th></th>\n",
              "      <th>Cost_cat</th>\n",
              "      <th>predicted_rf_tree</th>\n",
              "    </tr>\n",
              "  </thead>\n",
              "  <tbody>\n",
              "    <tr>\n",
              "      <th>14868</th>\n",
              "      <td>Under 10k</td>\n",
              "      <td>Under 10k</td>\n",
              "    </tr>\n",
              "    <tr>\n",
              "      <th>14301</th>\n",
              "      <td>Under 10k</td>\n",
              "      <td>Under 10k</td>\n",
              "    </tr>\n",
              "    <tr>\n",
              "      <th>9691</th>\n",
              "      <td>Under 10k</td>\n",
              "      <td>Under 10k</td>\n",
              "    </tr>\n",
              "    <tr>\n",
              "      <th>6274</th>\n",
              "      <td>Under 10k</td>\n",
              "      <td>Under 10k</td>\n",
              "    </tr>\n",
              "    <tr>\n",
              "      <th>12593</th>\n",
              "      <td>Under 10k</td>\n",
              "      <td>Under 10k</td>\n",
              "    </tr>\n",
              "    <tr>\n",
              "      <th>...</th>\n",
              "      <td>...</td>\n",
              "      <td>...</td>\n",
              "    </tr>\n",
              "    <tr>\n",
              "      <th>7576</th>\n",
              "      <td>Under 10k</td>\n",
              "      <td>Under 10k</td>\n",
              "    </tr>\n",
              "    <tr>\n",
              "      <th>1098</th>\n",
              "      <td>10k</td>\n",
              "      <td>10k</td>\n",
              "    </tr>\n",
              "    <tr>\n",
              "      <th>9937</th>\n",
              "      <td>Under 10k</td>\n",
              "      <td>Under 10k</td>\n",
              "    </tr>\n",
              "    <tr>\n",
              "      <th>6918</th>\n",
              "      <td>Under 10k</td>\n",
              "      <td>Under 10k</td>\n",
              "    </tr>\n",
              "    <tr>\n",
              "      <th>1563</th>\n",
              "      <td>10k</td>\n",
              "      <td>10k</td>\n",
              "    </tr>\n",
              "  </tbody>\n",
              "</table>\n",
              "<p>3355 rows × 2 columns</p>\n",
              "</div>"
            ],
            "text/plain": [
              "        Cost_cat predicted_rf_tree\n",
              "14868  Under 10k         Under 10k\n",
              "14301  Under 10k         Under 10k\n",
              "9691   Under 10k         Under 10k\n",
              "6274   Under 10k         Under 10k\n",
              "12593  Under 10k         Under 10k\n",
              "...          ...               ...\n",
              "7576   Under 10k         Under 10k\n",
              "1098         10k               10k\n",
              "9937   Under 10k         Under 10k\n",
              "6918   Under 10k         Under 10k\n",
              "1563         10k               10k\n",
              "\n",
              "[3355 rows x 2 columns]"
            ]
          },
          "metadata": {
            "tags": []
          },
          "execution_count": 420
        }
      ]
    },
    {
      "cell_type": "code",
      "metadata": {
        "id": "9d15FEsYVMqk",
        "colab_type": "code",
        "colab": {}
      },
      "source": [
        "def accuracy(predicted_labels, test_labels):\n",
        "    i=0\n",
        "    for l in range(len(predicted_labels)):\n",
        "        if predicted_labels[l]==list(test_labels)[l]:\n",
        "            i+=1\n",
        "    return i/len(predicted_labels)*100"
      ],
      "execution_count": null,
      "outputs": []
    },
    {
      "cell_type": "code",
      "metadata": {
        "id": "mbXfF9UHVMqn",
        "colab_type": "code",
        "colab": {},
        "outputId": "9304de4d-8361-48e8-f355-3561f71c081b"
      },
      "source": [
        "print(\"Accuracy of the Random Forest Calssification model is : \", accuracy(predicted_labels,test_labels_rfc),\"%\")"
      ],
      "execution_count": null,
      "outputs": [
        {
          "output_type": "stream",
          "text": [
            "Accuracy of the Random Forest Calssification model is :  96.90014903129656 %\n"
          ],
          "name": "stdout"
        }
      ]
    },
    {
      "cell_type": "markdown",
      "metadata": {
        "id": "CR1kGFsiVMqo",
        "colab_type": "text"
      },
      "source": [
        "## Random Forest Classification with compressed data"
      ]
    },
    {
      "cell_type": "code",
      "metadata": {
        "scrolled": true,
        "id": "ecmzWs43VMqo",
        "colab_type": "code",
        "colab": {},
        "outputId": "62907fa0-d728-4d9c-8173-3e5fa5f16310"
      },
      "source": [
        "rf_model.fit(df_pca_train,y_train_pca)"
      ],
      "execution_count": null,
      "outputs": [
        {
          "output_type": "execute_result",
          "data": {
            "text/plain": [
              "RandomForestClassifier(criterion='entropy', n_estimators=1000, oob_score=True)"
            ]
          },
          "metadata": {
            "tags": []
          },
          "execution_count": 432
        }
      ]
    },
    {
      "cell_type": "code",
      "metadata": {
        "id": "awe22sbfVMqs",
        "colab_type": "code",
        "colab": {}
      },
      "source": [
        "predicted_labels_pca = rf_model.predict(df_pca_test)"
      ],
      "execution_count": null,
      "outputs": []
    },
    {
      "cell_type": "code",
      "metadata": {
        "id": "uZACOWlCVMqu",
        "colab_type": "code",
        "colab": {},
        "outputId": "68be887e-6a16-48f2-da13-05ac3c4b6bfd"
      },
      "source": [
        "print(\"Accuracy of the Random Forest Calssification model is : \", accuracy(predicted_labels_pca,y_test_pca),\"%\")"
      ],
      "execution_count": null,
      "outputs": [
        {
          "output_type": "stream",
          "text": [
            "Accuracy of the Random Forest Calssification model is :  90.52160953800298 %\n"
          ],
          "name": "stdout"
        }
      ]
    },
    {
      "cell_type": "markdown",
      "metadata": {
        "id": "S8Mlqx0iVMqv",
        "colab_type": "text"
      },
      "source": [
        "## Random Forest Classification with Scaled Data"
      ]
    },
    {
      "cell_type": "code",
      "metadata": {
        "id": "hoNpJW8RVMqv",
        "colab_type": "code",
        "colab": {},
        "outputId": "c29b2cd2-aa9d-419b-d2c9-8b3e9ffd8341"
      },
      "source": [
        "rf_model.fit(x_train_scaled,y_train_scaled)"
      ],
      "execution_count": null,
      "outputs": [
        {
          "output_type": "execute_result",
          "data": {
            "text/plain": [
              "RandomForestClassifier(criterion='entropy', n_estimators=1000, oob_score=True)"
            ]
          },
          "metadata": {
            "tags": []
          },
          "execution_count": 435
        }
      ]
    },
    {
      "cell_type": "code",
      "metadata": {
        "id": "pV7kjJuEVMqw",
        "colab_type": "code",
        "colab": {}
      },
      "source": [
        "predicted_labels_sc = rf_model.predict(x_test_scaled)"
      ],
      "execution_count": null,
      "outputs": []
    },
    {
      "cell_type": "code",
      "metadata": {
        "id": "HN10UBNyVMqw",
        "colab_type": "code",
        "colab": {},
        "outputId": "6023b2f3-ad9c-44f2-e926-a7747b2ea6f7"
      },
      "source": [
        "print(\"Accuracy of the Random Forest Calssification model is : \", accuracy(predicted_labels_sc,y_test_scaled),\"%\")"
      ],
      "execution_count": null,
      "outputs": [
        {
          "output_type": "stream",
          "text": [
            "Accuracy of the Random Forest Calssification model is :  96.8107302533532 %\n"
          ],
          "name": "stdout"
        }
      ]
    },
    {
      "cell_type": "markdown",
      "metadata": {
        "id": "SashwjbbVMqx",
        "colab_type": "text"
      },
      "source": [
        "# 2.2. KNN Classification"
      ]
    },
    {
      "cell_type": "code",
      "metadata": {
        "id": "zHdsC2xvVMqx",
        "colab_type": "code",
        "colab": {},
        "outputId": "6aa71c63-8c13-478a-d193-feccebc881c0"
      },
      "source": [
        "from sklearn.neighbors import KNeighborsClassifier\n",
        "classifier = KNeighborsClassifier(n_neighbors=5)\n",
        "classifier.fit(train_features_cl, train_labels_cl)"
      ],
      "execution_count": null,
      "outputs": [
        {
          "output_type": "execute_result",
          "data": {
            "text/plain": [
              "KNeighborsClassifier()"
            ]
          },
          "metadata": {
            "tags": []
          },
          "execution_count": 455
        }
      ]
    },
    {
      "cell_type": "code",
      "metadata": {
        "id": "YFYwKJWRVMqy",
        "colab_type": "code",
        "colab": {}
      },
      "source": [
        "predicted_labels_Knn = classifier.predict(test_features_cl)"
      ],
      "execution_count": null,
      "outputs": []
    },
    {
      "cell_type": "code",
      "metadata": {
        "id": "4-6Inc_FVMqz",
        "colab_type": "code",
        "colab": {},
        "outputId": "889753ac-3c38-4987-fd0b-d2f6d6e91a5a"
      },
      "source": [
        "print(\"Accuracy of the KNN Calssification model is : \", accuracy(predicted_labels_Knn,test_labels_cl),\"%\")"
      ],
      "execution_count": null,
      "outputs": [
        {
          "output_type": "stream",
          "text": [
            "Accuracy of the KNN Calssification model is :  95.70789865871832 %\n"
          ],
          "name": "stdout"
        }
      ]
    },
    {
      "cell_type": "markdown",
      "metadata": {
        "id": "XQ7LDwflVMq0",
        "colab_type": "text"
      },
      "source": [
        "### With Scaled Data"
      ]
    },
    {
      "cell_type": "code",
      "metadata": {
        "id": "fy65jt3DVMq0",
        "colab_type": "code",
        "colab": {},
        "outputId": "96e44d26-894d-47d5-aacb-618049f3de99"
      },
      "source": [
        "classifier.fit(x_train_scaled, y_train_scaled)"
      ],
      "execution_count": null,
      "outputs": [
        {
          "output_type": "execute_result",
          "data": {
            "text/plain": [
              "KNeighborsClassifier()"
            ]
          },
          "metadata": {
            "tags": []
          },
          "execution_count": 458
        }
      ]
    },
    {
      "cell_type": "code",
      "metadata": {
        "id": "vHfVQED-VMq1",
        "colab_type": "code",
        "colab": {}
      },
      "source": [
        "predicted_labels_Knn_sc = classifier.predict(x_test_scaled)"
      ],
      "execution_count": null,
      "outputs": []
    },
    {
      "cell_type": "code",
      "metadata": {
        "scrolled": true,
        "id": "FqrfUdnbVMq2",
        "colab_type": "code",
        "colab": {},
        "outputId": "fcc948a5-03ef-41ed-ce60-60170905ca8c"
      },
      "source": [
        "print(\"Accuracy of the KNN Calssification model is : \", accuracy(predicted_labels_Knn_sc,test_labels_cl),\"%\")"
      ],
      "execution_count": null,
      "outputs": [
        {
          "output_type": "stream",
          "text": [
            "Accuracy of the KNN Calssification model is :  96.15499254843517 %\n"
          ],
          "name": "stdout"
        }
      ]
    },
    {
      "cell_type": "markdown",
      "metadata": {
        "id": "-oKMNotLVMq4",
        "colab_type": "text"
      },
      "source": [
        "### With Dimension Reduced Data"
      ]
    },
    {
      "cell_type": "code",
      "metadata": {
        "id": "I6DQudJgVMq5",
        "colab_type": "code",
        "colab": {},
        "outputId": "148e7b29-3a48-41ac-ffc0-1c87fde37e06"
      },
      "source": [
        "classifier.fit(df_pca_train, y_train_pca)"
      ],
      "execution_count": null,
      "outputs": [
        {
          "output_type": "execute_result",
          "data": {
            "text/plain": [
              "KNeighborsClassifier()"
            ]
          },
          "metadata": {
            "tags": []
          },
          "execution_count": 473
        }
      ]
    },
    {
      "cell_type": "code",
      "metadata": {
        "id": "PeGw-t7mVMq6",
        "colab_type": "code",
        "colab": {}
      },
      "source": [
        "predicted_labels_Knn_pca = classifier.predict(df_pca_test)"
      ],
      "execution_count": null,
      "outputs": []
    },
    {
      "cell_type": "code",
      "metadata": {
        "id": "fPiS9rWxVMq6",
        "colab_type": "code",
        "colab": {},
        "outputId": "dfb61380-2003-4fce-9214-75395ec9841a"
      },
      "source": [
        "print(\"Accuracy of the KNN Calssification model is : \", accuracy(predicted_labels_Knn_pca,y_test_pca),\"%\")"
      ],
      "execution_count": null,
      "outputs": [
        {
          "output_type": "stream",
          "text": [
            "Accuracy of the KNN Calssification model is :  90.13412816691505 %\n"
          ],
          "name": "stdout"
        }
      ]
    }
  ]
}