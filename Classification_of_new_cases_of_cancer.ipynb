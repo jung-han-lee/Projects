{
  "nbformat": 4,
  "nbformat_minor": 0,
  "metadata": {
    "colab": {
      "name": "Classification_of_new_cases_of_cancer.ipynb",
      "provenance": [],
      "collapsed_sections": [],
      "include_colab_link": true
    },
    "kernelspec": {
      "display_name": "Python 3",
      "language": "python",
      "name": "python3"
    },
    "language_info": {
      "codemirror_mode": {
        "name": "ipython",
        "version": 3
      },
      "file_extension": ".py",
      "mimetype": "text/x-python",
      "name": "python",
      "nbconvert_exporter": "python",
      "pygments_lexer": "ipython3",
      "version": "3.7.1"
    }
  },
  "cells": [
    {
      "cell_type": "markdown",
      "metadata": {
        "id": "view-in-github",
        "colab_type": "text"
      },
      "source": [
        "<a href=\"https://colab.research.google.com/github/jung-han-lee/Projects/blob/master/Classification_of_new_cases_of_cancer.ipynb\" target=\"_parent\"><img src=\"https://colab.research.google.com/assets/colab-badge.svg\" alt=\"Open In Colab\"/></a>"
      ]
    },
    {
      "cell_type": "markdown",
      "metadata": {
        "colab_type": "text",
        "id": "HQZneKXCpOFe"
      },
      "source": [
        "# Download the data:\n",
        "For this assignment, we will be using a gene expression dataset by Golub et al. (1999).\n",
        "\n",
        "https://www.kaggle.com/crawford/gene-expression\n",
        "\n",
        ">This dataset comes from a proof-of-concept study published in 1999 by Golub et al. It showed how new cases of cancer could be classified by gene expression monitoring (via DNA microarray) and thereby provided a general approach for identifying new cancer classes and assigning tumors to known classes. These data were used to classify patients with acute myeloid leukemia (AML) and acute lymphoblastic leukemia (ALL).\n",
        "\n"
      ]
    },
    {
      "cell_type": "markdown",
      "metadata": {
        "colab_type": "text",
        "id": "ths94YXrDrLh"
      },
      "source": [
        "# Part 0: Loading the Data\n",
        "\n"
      ]
    },
    {
      "cell_type": "code",
      "metadata": {
        "colab_type": "code",
        "id": "2yeIL0gfpPQD",
        "colab": {}
      },
      "source": [
        "import pandas as pd\n",
        "import numpy as np\n",
        "import sklearn.manifold as skm\n",
        "import sklearn.decomposition as skd\n",
        "import sklearn.cluster as skc\n",
        "import matplotlib.pyplot as plt\n",
        "import seaborn as sns\n",
        "import sklearn.preprocessing as skp\n",
        "\n",
        "%matplotlib inline"
      ],
      "execution_count": null,
      "outputs": []
    },
    {
      "cell_type": "code",
      "metadata": {
        "colab_type": "code",
        "id": "7q1-uGp_8Bbw",
        "colab": {}
      },
      "source": [
        "df_train = pd.read_csv(\"gene-expression/data_set_ALL_AML_train.csv\")\n",
        "df_test = pd.read_csv(\"gene-expression/data_set_ALL_AML_independent.csv\")"
      ],
      "execution_count": null,
      "outputs": []
    },
    {
      "cell_type": "code",
      "metadata": {
        "colab_type": "code",
        "id": "hvWImK1Q8Bb0",
        "colab": {}
      },
      "source": [
        "df_train = df_train[[col for col in df_train.columns if \"call\" not in col]].T\n",
        "df_test = df_test[[col for col in df_test.columns if \"call\" not in col]].T"
      ],
      "execution_count": null,
      "outputs": []
    },
    {
      "cell_type": "code",
      "metadata": {
        "colab_type": "code",
        "id": "qjjqNZaQ8Bb3",
        "colab": {},
        "outputId": "5b00b27f-b944-4eb3-85ff-ed1adc4907fd"
      },
      "source": [
        "[df_train.shape, df_test.shape]"
      ],
      "execution_count": null,
      "outputs": [
        {
          "output_type": "execute_result",
          "data": {
            "text/plain": [
              "[(40, 7129), (36, 7129)]"
            ]
          },
          "metadata": {
            "tags": []
          },
          "execution_count": 5
        }
      ]
    },
    {
      "cell_type": "code",
      "metadata": {
        "colab_type": "code",
        "id": "10jcCjUp8Bb_",
        "colab": {
          "base_uri": "https://localhost:8080/",
          "height": 164
        },
        "outputId": "6f778153-a8ec-4093-8c3f-e5ea3cbfb928"
      },
      "source": [
        "df_train.index"
      ],
      "execution_count": null,
      "outputs": [
        {
          "output_type": "execute_result",
          "data": {
            "text/plain": [
              "Index(['Gene Description', 'Gene Accession Number', '1', '2', '3', '4', '5',\n",
              "       '6', '7', '8', '9', '10', '11', '12', '13', '14', '15', '16', '17',\n",
              "       '18', '19', '20', '21', '22', '23', '24', '25', '26', '27', '34', '35',\n",
              "       '36', '37', '38', '28', '29', '30', '31', '32', '33'],\n",
              "      dtype='object')"
            ]
          },
          "metadata": {
            "tags": []
          },
          "execution_count": 6
        }
      ]
    },
    {
      "cell_type": "code",
      "metadata": {
        "colab_type": "code",
        "id": "H03NnuQC8BcD",
        "colab": {},
        "outputId": "79eacbf6-0785-4fb2-e659-98406d0093e3"
      },
      "source": [
        "df_test.index"
      ],
      "execution_count": null,
      "outputs": [
        {
          "output_type": "execute_result",
          "data": {
            "text/plain": [
              "Index(['Gene Description', 'Gene Accession Number', '39', '40', '42', '47',\n",
              "       '48', '49', '41', '43', '44', '45', '46', '70', '71', '72', '68', '69',\n",
              "       '67', '55', '56', '59', '52', '53', '51', '50', '54', '57', '58', '60',\n",
              "       '61', '65', '66', '63', '64', '62'],\n",
              "      dtype='object')"
            ]
          },
          "metadata": {
            "tags": []
          },
          "execution_count": 7
        }
      ]
    },
    {
      "cell_type": "code",
      "metadata": {
        "colab_type": "code",
        "id": "2uYLqCpx8BcH",
        "colab": {
          "base_uri": "https://localhost:8080/",
          "height": 164
        },
        "outputId": "9fcbe247-65d4-4bdb-adc7-e688066412ac"
      },
      "source": [
        "df_train.head()"
      ],
      "execution_count": null,
      "outputs": [
        {
          "output_type": "execute_result",
          "data": {
            "text/html": [
              "<div>\n",
              "<style scoped>\n",
              "    .dataframe tbody tr th:only-of-type {\n",
              "        vertical-align: middle;\n",
              "    }\n",
              "\n",
              "    .dataframe tbody tr th {\n",
              "        vertical-align: top;\n",
              "    }\n",
              "\n",
              "    .dataframe thead th {\n",
              "        text-align: right;\n",
              "    }\n",
              "</style>\n",
              "<table border=\"1\" class=\"dataframe\">\n",
              "  <thead>\n",
              "    <tr style=\"text-align: right;\">\n",
              "      <th></th>\n",
              "      <th>0</th>\n",
              "      <th>1</th>\n",
              "      <th>2</th>\n",
              "      <th>3</th>\n",
              "      <th>4</th>\n",
              "      <th>5</th>\n",
              "      <th>6</th>\n",
              "      <th>7</th>\n",
              "      <th>8</th>\n",
              "      <th>9</th>\n",
              "      <th>...</th>\n",
              "      <th>7119</th>\n",
              "      <th>7120</th>\n",
              "      <th>7121</th>\n",
              "      <th>7122</th>\n",
              "      <th>7123</th>\n",
              "      <th>7124</th>\n",
              "      <th>7125</th>\n",
              "      <th>7126</th>\n",
              "      <th>7127</th>\n",
              "      <th>7128</th>\n",
              "    </tr>\n",
              "  </thead>\n",
              "  <tbody>\n",
              "    <tr>\n",
              "      <th>Gene Description</th>\n",
              "      <td>AFFX-BioB-5_at (endogenous control)</td>\n",
              "      <td>AFFX-BioB-M_at (endogenous control)</td>\n",
              "      <td>AFFX-BioB-3_at (endogenous control)</td>\n",
              "      <td>AFFX-BioC-5_at (endogenous control)</td>\n",
              "      <td>AFFX-BioC-3_at (endogenous control)</td>\n",
              "      <td>AFFX-BioDn-5_at (endogenous control)</td>\n",
              "      <td>AFFX-BioDn-3_at (endogenous control)</td>\n",
              "      <td>AFFX-CreX-5_at (endogenous control)</td>\n",
              "      <td>AFFX-CreX-3_at (endogenous control)</td>\n",
              "      <td>AFFX-BioB-5_st (endogenous control)</td>\n",
              "      <td>...</td>\n",
              "      <td>Transcription factor Stat5b (stat5b) mRNA</td>\n",
              "      <td>Breast epithelial antigen BA46 mRNA</td>\n",
              "      <td>GB DEF = Calcium/calmodulin-dependent protein ...</td>\n",
              "      <td>TUBULIN ALPHA-4 CHAIN</td>\n",
              "      <td>CYP4B1 Cytochrome P450; subfamily IVB; polypep...</td>\n",
              "      <td>PTGER3 Prostaglandin E receptor 3 (subtype EP3...</td>\n",
              "      <td>HMG2 High-mobility group (nonhistone chromosom...</td>\n",
              "      <td>RB1 Retinoblastoma 1 (including osteosarcoma)</td>\n",
              "      <td>GB DEF = Glycophorin Sta (type A) exons 3 and ...</td>\n",
              "      <td>GB DEF = mRNA (clone 1A7)</td>\n",
              "    </tr>\n",
              "    <tr>\n",
              "      <th>Gene Accession Number</th>\n",
              "      <td>AFFX-BioB-5_at</td>\n",
              "      <td>AFFX-BioB-M_at</td>\n",
              "      <td>AFFX-BioB-3_at</td>\n",
              "      <td>AFFX-BioC-5_at</td>\n",
              "      <td>AFFX-BioC-3_at</td>\n",
              "      <td>AFFX-BioDn-5_at</td>\n",
              "      <td>AFFX-BioDn-3_at</td>\n",
              "      <td>AFFX-CreX-5_at</td>\n",
              "      <td>AFFX-CreX-3_at</td>\n",
              "      <td>AFFX-BioB-5_st</td>\n",
              "      <td>...</td>\n",
              "      <td>U48730_at</td>\n",
              "      <td>U58516_at</td>\n",
              "      <td>U73738_at</td>\n",
              "      <td>X06956_at</td>\n",
              "      <td>X16699_at</td>\n",
              "      <td>X83863_at</td>\n",
              "      <td>Z17240_at</td>\n",
              "      <td>L49218_f_at</td>\n",
              "      <td>M71243_f_at</td>\n",
              "      <td>Z78285_f_at</td>\n",
              "    </tr>\n",
              "    <tr>\n",
              "      <th>1</th>\n",
              "      <td>-214</td>\n",
              "      <td>-153</td>\n",
              "      <td>-58</td>\n",
              "      <td>88</td>\n",
              "      <td>-295</td>\n",
              "      <td>-558</td>\n",
              "      <td>199</td>\n",
              "      <td>-176</td>\n",
              "      <td>252</td>\n",
              "      <td>206</td>\n",
              "      <td>...</td>\n",
              "      <td>185</td>\n",
              "      <td>511</td>\n",
              "      <td>-125</td>\n",
              "      <td>389</td>\n",
              "      <td>-37</td>\n",
              "      <td>793</td>\n",
              "      <td>329</td>\n",
              "      <td>36</td>\n",
              "      <td>191</td>\n",
              "      <td>-37</td>\n",
              "    </tr>\n",
              "    <tr>\n",
              "      <th>2</th>\n",
              "      <td>-139</td>\n",
              "      <td>-73</td>\n",
              "      <td>-1</td>\n",
              "      <td>283</td>\n",
              "      <td>-264</td>\n",
              "      <td>-400</td>\n",
              "      <td>-330</td>\n",
              "      <td>-168</td>\n",
              "      <td>101</td>\n",
              "      <td>74</td>\n",
              "      <td>...</td>\n",
              "      <td>169</td>\n",
              "      <td>837</td>\n",
              "      <td>-36</td>\n",
              "      <td>442</td>\n",
              "      <td>-17</td>\n",
              "      <td>782</td>\n",
              "      <td>295</td>\n",
              "      <td>11</td>\n",
              "      <td>76</td>\n",
              "      <td>-14</td>\n",
              "    </tr>\n",
              "    <tr>\n",
              "      <th>3</th>\n",
              "      <td>-76</td>\n",
              "      <td>-49</td>\n",
              "      <td>-307</td>\n",
              "      <td>309</td>\n",
              "      <td>-376</td>\n",
              "      <td>-650</td>\n",
              "      <td>33</td>\n",
              "      <td>-367</td>\n",
              "      <td>206</td>\n",
              "      <td>-215</td>\n",
              "      <td>...</td>\n",
              "      <td>315</td>\n",
              "      <td>1199</td>\n",
              "      <td>33</td>\n",
              "      <td>168</td>\n",
              "      <td>52</td>\n",
              "      <td>1138</td>\n",
              "      <td>777</td>\n",
              "      <td>41</td>\n",
              "      <td>228</td>\n",
              "      <td>-41</td>\n",
              "    </tr>\n",
              "  </tbody>\n",
              "</table>\n",
              "<p>5 rows × 7129 columns</p>\n",
              "</div>"
            ],
            "text/plain": [
              "                                                      0     \\\n",
              "Gene Description       AFFX-BioB-5_at (endogenous control)   \n",
              "Gene Accession Number                       AFFX-BioB-5_at   \n",
              "1                                                     -214   \n",
              "2                                                     -139   \n",
              "3                                                      -76   \n",
              "\n",
              "                                                      1     \\\n",
              "Gene Description       AFFX-BioB-M_at (endogenous control)   \n",
              "Gene Accession Number                       AFFX-BioB-M_at   \n",
              "1                                                     -153   \n",
              "2                                                      -73   \n",
              "3                                                      -49   \n",
              "\n",
              "                                                      2     \\\n",
              "Gene Description       AFFX-BioB-3_at (endogenous control)   \n",
              "Gene Accession Number                       AFFX-BioB-3_at   \n",
              "1                                                      -58   \n",
              "2                                                       -1   \n",
              "3                                                     -307   \n",
              "\n",
              "                                                      3     \\\n",
              "Gene Description       AFFX-BioC-5_at (endogenous control)   \n",
              "Gene Accession Number                       AFFX-BioC-5_at   \n",
              "1                                                       88   \n",
              "2                                                      283   \n",
              "3                                                      309   \n",
              "\n",
              "                                                      4     \\\n",
              "Gene Description       AFFX-BioC-3_at (endogenous control)   \n",
              "Gene Accession Number                       AFFX-BioC-3_at   \n",
              "1                                                     -295   \n",
              "2                                                     -264   \n",
              "3                                                     -376   \n",
              "\n",
              "                                                       5     \\\n",
              "Gene Description       AFFX-BioDn-5_at (endogenous control)   \n",
              "Gene Accession Number                       AFFX-BioDn-5_at   \n",
              "1                                                      -558   \n",
              "2                                                      -400   \n",
              "3                                                      -650   \n",
              "\n",
              "                                                       6     \\\n",
              "Gene Description       AFFX-BioDn-3_at (endogenous control)   \n",
              "Gene Accession Number                       AFFX-BioDn-3_at   \n",
              "1                                                       199   \n",
              "2                                                      -330   \n",
              "3                                                        33   \n",
              "\n",
              "                                                      7     \\\n",
              "Gene Description       AFFX-CreX-5_at (endogenous control)   \n",
              "Gene Accession Number                       AFFX-CreX-5_at   \n",
              "1                                                     -176   \n",
              "2                                                     -168   \n",
              "3                                                     -367   \n",
              "\n",
              "                                                      8     \\\n",
              "Gene Description       AFFX-CreX-3_at (endogenous control)   \n",
              "Gene Accession Number                       AFFX-CreX-3_at   \n",
              "1                                                      252   \n",
              "2                                                      101   \n",
              "3                                                      206   \n",
              "\n",
              "                                                      9     \\\n",
              "Gene Description       AFFX-BioB-5_st (endogenous control)   \n",
              "Gene Accession Number                       AFFX-BioB-5_st   \n",
              "1                                                      206   \n",
              "2                                                       74   \n",
              "3                                                     -215   \n",
              "\n",
              "                                 ...              \\\n",
              "Gene Description                 ...               \n",
              "Gene Accession Number            ...               \n",
              "1                                ...               \n",
              "2                                ...               \n",
              "3                                ...               \n",
              "\n",
              "                                                            7119  \\\n",
              "Gene Description       Transcription factor Stat5b (stat5b) mRNA   \n",
              "Gene Accession Number                                  U48730_at   \n",
              "1                                                            185   \n",
              "2                                                            169   \n",
              "3                                                            315   \n",
              "\n",
              "                                                      7120  \\\n",
              "Gene Description       Breast epithelial antigen BA46 mRNA   \n",
              "Gene Accession Number                            U58516_at   \n",
              "1                                                      511   \n",
              "2                                                      837   \n",
              "3                                                     1199   \n",
              "\n",
              "                                                                    7121  \\\n",
              "Gene Description       GB DEF = Calcium/calmodulin-dependent protein ...   \n",
              "Gene Accession Number                                          U73738_at   \n",
              "1                                                                   -125   \n",
              "2                                                                    -36   \n",
              "3                                                                     33   \n",
              "\n",
              "                                        7122  \\\n",
              "Gene Description       TUBULIN ALPHA-4 CHAIN   \n",
              "Gene Accession Number              X06956_at   \n",
              "1                                        389   \n",
              "2                                        442   \n",
              "3                                        168   \n",
              "\n",
              "                                                                    7123  \\\n",
              "Gene Description       CYP4B1 Cytochrome P450; subfamily IVB; polypep...   \n",
              "Gene Accession Number                                          X16699_at   \n",
              "1                                                                    -37   \n",
              "2                                                                    -17   \n",
              "3                                                                     52   \n",
              "\n",
              "                                                                    7124  \\\n",
              "Gene Description       PTGER3 Prostaglandin E receptor 3 (subtype EP3...   \n",
              "Gene Accession Number                                          X83863_at   \n",
              "1                                                                    793   \n",
              "2                                                                    782   \n",
              "3                                                                   1138   \n",
              "\n",
              "                                                                    7125  \\\n",
              "Gene Description       HMG2 High-mobility group (nonhistone chromosom...   \n",
              "Gene Accession Number                                          Z17240_at   \n",
              "1                                                                    329   \n",
              "2                                                                    295   \n",
              "3                                                                    777   \n",
              "\n",
              "                                                                7126  \\\n",
              "Gene Description       RB1 Retinoblastoma 1 (including osteosarcoma)   \n",
              "Gene Accession Number                                    L49218_f_at   \n",
              "1                                                                 36   \n",
              "2                                                                 11   \n",
              "3                                                                 41   \n",
              "\n",
              "                                                                    7127  \\\n",
              "Gene Description       GB DEF = Glycophorin Sta (type A) exons 3 and ...   \n",
              "Gene Accession Number                                        M71243_f_at   \n",
              "1                                                                    191   \n",
              "2                                                                     76   \n",
              "3                                                                    228   \n",
              "\n",
              "                                            7128  \n",
              "Gene Description       GB DEF = mRNA (clone 1A7)  \n",
              "Gene Accession Number                Z78285_f_at  \n",
              "1                                            -37  \n",
              "2                                            -14  \n",
              "3                                            -41  \n",
              "\n",
              "[5 rows x 7129 columns]"
            ]
          },
          "metadata": {
            "tags": []
          },
          "execution_count": 8
        }
      ]
    },
    {
      "cell_type": "code",
      "metadata": {
        "colab_type": "code",
        "id": "WJTUBUqZ8BcM",
        "colab": {
          "base_uri": "https://localhost:8080/",
          "height": 164
        },
        "outputId": "823a8345-f21e-414e-c308-567039a388b3"
      },
      "source": [
        "df_test.head()"
      ],
      "execution_count": null,
      "outputs": [
        {
          "output_type": "execute_result",
          "data": {
            "text/html": [
              "<div>\n",
              "<style scoped>\n",
              "    .dataframe tbody tr th:only-of-type {\n",
              "        vertical-align: middle;\n",
              "    }\n",
              "\n",
              "    .dataframe tbody tr th {\n",
              "        vertical-align: top;\n",
              "    }\n",
              "\n",
              "    .dataframe thead th {\n",
              "        text-align: right;\n",
              "    }\n",
              "</style>\n",
              "<table border=\"1\" class=\"dataframe\">\n",
              "  <thead>\n",
              "    <tr style=\"text-align: right;\">\n",
              "      <th></th>\n",
              "      <th>0</th>\n",
              "      <th>1</th>\n",
              "      <th>2</th>\n",
              "      <th>3</th>\n",
              "      <th>4</th>\n",
              "      <th>5</th>\n",
              "      <th>6</th>\n",
              "      <th>7</th>\n",
              "      <th>8</th>\n",
              "      <th>9</th>\n",
              "      <th>...</th>\n",
              "      <th>7119</th>\n",
              "      <th>7120</th>\n",
              "      <th>7121</th>\n",
              "      <th>7122</th>\n",
              "      <th>7123</th>\n",
              "      <th>7124</th>\n",
              "      <th>7125</th>\n",
              "      <th>7126</th>\n",
              "      <th>7127</th>\n",
              "      <th>7128</th>\n",
              "    </tr>\n",
              "  </thead>\n",
              "  <tbody>\n",
              "    <tr>\n",
              "      <th>Gene Description</th>\n",
              "      <td>AFFX-BioB-5_at (endogenous control)</td>\n",
              "      <td>AFFX-BioB-M_at (endogenous control)</td>\n",
              "      <td>AFFX-BioB-3_at (endogenous control)</td>\n",
              "      <td>AFFX-BioC-5_at (endogenous control)</td>\n",
              "      <td>AFFX-BioC-3_at (endogenous control)</td>\n",
              "      <td>AFFX-BioDn-5_at (endogenous control)</td>\n",
              "      <td>AFFX-BioDn-3_at (endogenous control)</td>\n",
              "      <td>AFFX-CreX-5_at (endogenous control)</td>\n",
              "      <td>AFFX-CreX-3_at (endogenous control)</td>\n",
              "      <td>AFFX-BioB-5_st (endogenous control)</td>\n",
              "      <td>...</td>\n",
              "      <td>Transcription factor Stat5b (stat5b) mRNA</td>\n",
              "      <td>Breast epithelial antigen BA46 mRNA</td>\n",
              "      <td>GB DEF = Calcium/calmodulin-dependent protein ...</td>\n",
              "      <td>TUBULIN ALPHA-4 CHAIN</td>\n",
              "      <td>CYP4B1 Cytochrome P450; subfamily IVB; polypep...</td>\n",
              "      <td>PTGER3 Prostaglandin E receptor 3 (subtype EP3...</td>\n",
              "      <td>HMG2 High-mobility group (nonhistone chromosom...</td>\n",
              "      <td>RB1 Retinoblastoma 1 (including osteosarcoma)</td>\n",
              "      <td>GB DEF = Glycophorin Sta (type A) exons 3 and ...</td>\n",
              "      <td>GB DEF = mRNA (clone 1A7)</td>\n",
              "    </tr>\n",
              "    <tr>\n",
              "      <th>Gene Accession Number</th>\n",
              "      <td>AFFX-BioB-5_at</td>\n",
              "      <td>AFFX-BioB-M_at</td>\n",
              "      <td>AFFX-BioB-3_at</td>\n",
              "      <td>AFFX-BioC-5_at</td>\n",
              "      <td>AFFX-BioC-3_at</td>\n",
              "      <td>AFFX-BioDn-5_at</td>\n",
              "      <td>AFFX-BioDn-3_at</td>\n",
              "      <td>AFFX-CreX-5_at</td>\n",
              "      <td>AFFX-CreX-3_at</td>\n",
              "      <td>AFFX-BioB-5_st</td>\n",
              "      <td>...</td>\n",
              "      <td>U48730_at</td>\n",
              "      <td>U58516_at</td>\n",
              "      <td>U73738_at</td>\n",
              "      <td>X06956_at</td>\n",
              "      <td>X16699_at</td>\n",
              "      <td>X83863_at</td>\n",
              "      <td>Z17240_at</td>\n",
              "      <td>L49218_f_at</td>\n",
              "      <td>M71243_f_at</td>\n",
              "      <td>Z78285_f_at</td>\n",
              "    </tr>\n",
              "    <tr>\n",
              "      <th>39</th>\n",
              "      <td>-342</td>\n",
              "      <td>-200</td>\n",
              "      <td>41</td>\n",
              "      <td>328</td>\n",
              "      <td>-224</td>\n",
              "      <td>-427</td>\n",
              "      <td>-656</td>\n",
              "      <td>-292</td>\n",
              "      <td>137</td>\n",
              "      <td>-144</td>\n",
              "      <td>...</td>\n",
              "      <td>277</td>\n",
              "      <td>1023</td>\n",
              "      <td>67</td>\n",
              "      <td>214</td>\n",
              "      <td>-135</td>\n",
              "      <td>1074</td>\n",
              "      <td>475</td>\n",
              "      <td>48</td>\n",
              "      <td>168</td>\n",
              "      <td>-70</td>\n",
              "    </tr>\n",
              "    <tr>\n",
              "      <th>40</th>\n",
              "      <td>-87</td>\n",
              "      <td>-248</td>\n",
              "      <td>262</td>\n",
              "      <td>295</td>\n",
              "      <td>-226</td>\n",
              "      <td>-493</td>\n",
              "      <td>367</td>\n",
              "      <td>-452</td>\n",
              "      <td>194</td>\n",
              "      <td>162</td>\n",
              "      <td>...</td>\n",
              "      <td>83</td>\n",
              "      <td>529</td>\n",
              "      <td>-295</td>\n",
              "      <td>352</td>\n",
              "      <td>-67</td>\n",
              "      <td>67</td>\n",
              "      <td>263</td>\n",
              "      <td>-33</td>\n",
              "      <td>-33</td>\n",
              "      <td>-21</td>\n",
              "    </tr>\n",
              "    <tr>\n",
              "      <th>42</th>\n",
              "      <td>22</td>\n",
              "      <td>-153</td>\n",
              "      <td>17</td>\n",
              "      <td>276</td>\n",
              "      <td>-211</td>\n",
              "      <td>-250</td>\n",
              "      <td>55</td>\n",
              "      <td>-141</td>\n",
              "      <td>0</td>\n",
              "      <td>500</td>\n",
              "      <td>...</td>\n",
              "      <td>413</td>\n",
              "      <td>399</td>\n",
              "      <td>16</td>\n",
              "      <td>558</td>\n",
              "      <td>24</td>\n",
              "      <td>893</td>\n",
              "      <td>297</td>\n",
              "      <td>6</td>\n",
              "      <td>1971</td>\n",
              "      <td>-42</td>\n",
              "    </tr>\n",
              "  </tbody>\n",
              "</table>\n",
              "<p>5 rows × 7129 columns</p>\n",
              "</div>"
            ],
            "text/plain": [
              "                                                      0     \\\n",
              "Gene Description       AFFX-BioB-5_at (endogenous control)   \n",
              "Gene Accession Number                       AFFX-BioB-5_at   \n",
              "39                                                    -342   \n",
              "40                                                     -87   \n",
              "42                                                      22   \n",
              "\n",
              "                                                      1     \\\n",
              "Gene Description       AFFX-BioB-M_at (endogenous control)   \n",
              "Gene Accession Number                       AFFX-BioB-M_at   \n",
              "39                                                    -200   \n",
              "40                                                    -248   \n",
              "42                                                    -153   \n",
              "\n",
              "                                                      2     \\\n",
              "Gene Description       AFFX-BioB-3_at (endogenous control)   \n",
              "Gene Accession Number                       AFFX-BioB-3_at   \n",
              "39                                                      41   \n",
              "40                                                     262   \n",
              "42                                                      17   \n",
              "\n",
              "                                                      3     \\\n",
              "Gene Description       AFFX-BioC-5_at (endogenous control)   \n",
              "Gene Accession Number                       AFFX-BioC-5_at   \n",
              "39                                                     328   \n",
              "40                                                     295   \n",
              "42                                                     276   \n",
              "\n",
              "                                                      4     \\\n",
              "Gene Description       AFFX-BioC-3_at (endogenous control)   \n",
              "Gene Accession Number                       AFFX-BioC-3_at   \n",
              "39                                                    -224   \n",
              "40                                                    -226   \n",
              "42                                                    -211   \n",
              "\n",
              "                                                       5     \\\n",
              "Gene Description       AFFX-BioDn-5_at (endogenous control)   \n",
              "Gene Accession Number                       AFFX-BioDn-5_at   \n",
              "39                                                     -427   \n",
              "40                                                     -493   \n",
              "42                                                     -250   \n",
              "\n",
              "                                                       6     \\\n",
              "Gene Description       AFFX-BioDn-3_at (endogenous control)   \n",
              "Gene Accession Number                       AFFX-BioDn-3_at   \n",
              "39                                                     -656   \n",
              "40                                                      367   \n",
              "42                                                       55   \n",
              "\n",
              "                                                      7     \\\n",
              "Gene Description       AFFX-CreX-5_at (endogenous control)   \n",
              "Gene Accession Number                       AFFX-CreX-5_at   \n",
              "39                                                    -292   \n",
              "40                                                    -452   \n",
              "42                                                    -141   \n",
              "\n",
              "                                                      8     \\\n",
              "Gene Description       AFFX-CreX-3_at (endogenous control)   \n",
              "Gene Accession Number                       AFFX-CreX-3_at   \n",
              "39                                                     137   \n",
              "40                                                     194   \n",
              "42                                                       0   \n",
              "\n",
              "                                                      9     \\\n",
              "Gene Description       AFFX-BioB-5_st (endogenous control)   \n",
              "Gene Accession Number                       AFFX-BioB-5_st   \n",
              "39                                                    -144   \n",
              "40                                                     162   \n",
              "42                                                     500   \n",
              "\n",
              "                                 ...              \\\n",
              "Gene Description                 ...               \n",
              "Gene Accession Number            ...               \n",
              "39                               ...               \n",
              "40                               ...               \n",
              "42                               ...               \n",
              "\n",
              "                                                            7119  \\\n",
              "Gene Description       Transcription factor Stat5b (stat5b) mRNA   \n",
              "Gene Accession Number                                  U48730_at   \n",
              "39                                                           277   \n",
              "40                                                            83   \n",
              "42                                                           413   \n",
              "\n",
              "                                                      7120  \\\n",
              "Gene Description       Breast epithelial antigen BA46 mRNA   \n",
              "Gene Accession Number                            U58516_at   \n",
              "39                                                    1023   \n",
              "40                                                     529   \n",
              "42                                                     399   \n",
              "\n",
              "                                                                    7121  \\\n",
              "Gene Description       GB DEF = Calcium/calmodulin-dependent protein ...   \n",
              "Gene Accession Number                                          U73738_at   \n",
              "39                                                                    67   \n",
              "40                                                                  -295   \n",
              "42                                                                    16   \n",
              "\n",
              "                                        7122  \\\n",
              "Gene Description       TUBULIN ALPHA-4 CHAIN   \n",
              "Gene Accession Number              X06956_at   \n",
              "39                                       214   \n",
              "40                                       352   \n",
              "42                                       558   \n",
              "\n",
              "                                                                    7123  \\\n",
              "Gene Description       CYP4B1 Cytochrome P450; subfamily IVB; polypep...   \n",
              "Gene Accession Number                                          X16699_at   \n",
              "39                                                                  -135   \n",
              "40                                                                   -67   \n",
              "42                                                                    24   \n",
              "\n",
              "                                                                    7124  \\\n",
              "Gene Description       PTGER3 Prostaglandin E receptor 3 (subtype EP3...   \n",
              "Gene Accession Number                                          X83863_at   \n",
              "39                                                                  1074   \n",
              "40                                                                    67   \n",
              "42                                                                   893   \n",
              "\n",
              "                                                                    7125  \\\n",
              "Gene Description       HMG2 High-mobility group (nonhistone chromosom...   \n",
              "Gene Accession Number                                          Z17240_at   \n",
              "39                                                                   475   \n",
              "40                                                                   263   \n",
              "42                                                                   297   \n",
              "\n",
              "                                                                7126  \\\n",
              "Gene Description       RB1 Retinoblastoma 1 (including osteosarcoma)   \n",
              "Gene Accession Number                                    L49218_f_at   \n",
              "39                                                                48   \n",
              "40                                                               -33   \n",
              "42                                                                 6   \n",
              "\n",
              "                                                                    7127  \\\n",
              "Gene Description       GB DEF = Glycophorin Sta (type A) exons 3 and ...   \n",
              "Gene Accession Number                                        M71243_f_at   \n",
              "39                                                                   168   \n",
              "40                                                                   -33   \n",
              "42                                                                  1971   \n",
              "\n",
              "                                            7128  \n",
              "Gene Description       GB DEF = mRNA (clone 1A7)  \n",
              "Gene Accession Number                Z78285_f_at  \n",
              "39                                           -70  \n",
              "40                                           -21  \n",
              "42                                           -42  \n",
              "\n",
              "[5 rows x 7129 columns]"
            ]
          },
          "metadata": {
            "tags": []
          },
          "execution_count": 9
        }
      ]
    },
    {
      "cell_type": "code",
      "metadata": {
        "id": "fuh5R-sbC8Gb",
        "colab_type": "code",
        "colab": {}
      },
      "source": [
        "df_test_clean = df_test.iloc[2:].copy()\n",
        "df_train_clean = df_train.iloc[2:].copy()\n",
        "df_test_clean.iloc[:] = skp.scale(df_test_clean.astype(np.float))\n",
        "df_train_clean.iloc[:] = skp.scale(df_train_clean.astype(np.float))"
      ],
      "execution_count": null,
      "outputs": []
    },
    {
      "cell_type": "code",
      "metadata": {
        "id": "pwdlmbyiC8Gd",
        "colab_type": "code",
        "colab": {},
        "outputId": "1d6c980e-fb11-4b09-b3a8-3d3add76ed65"
      },
      "source": [
        "plt.plot(df_train_clean.iloc[:,0])\n",
        "plt.plot(df_train_clean.iloc[:,1])\n",
        "plt.plot(df_train_clean.iloc[:,2])\n",
        "plt.legend(['AFFX-BioB-5_at ','AFFX-BioB-M_at ','AFFX-BioB-3_at '])"
      ],
      "execution_count": null,
      "outputs": [
        {
          "output_type": "execute_result",
          "data": {
            "text/plain": [
              "<matplotlib.legend.Legend at 0x1a1d0bd588>"
            ]
          },
          "metadata": {
            "tags": []
          },
          "execution_count": 209
        },
        {
          "output_type": "display_data",
          "data": {
            "image/png": "[encoded data removed]",
            "text/plain": [
              "<Figure size 432x288 with 1 Axes>"
            ]
          },
          "metadata": {
            "tags": [],
            "needs_background": "light"
          }
        }
      ]
    },
    {
      "cell_type": "markdown",
      "metadata": {
        "id": "tVSMp0BXC8Gg",
        "colab_type": "text"
      },
      "source": [
        "The above graph shows how gene features are distributed. It is based on the training data. We can find that 'AFFX-BioB-5_at ' has larger variation compare to 'AFFX-BioB-M_at'. "
      ]
    },
    {
      "cell_type": "markdown",
      "metadata": {
        "colab_type": "text",
        "id": "uYm4yzb5poJ3"
      },
      "source": [
        "# Part 1: MDS"
      ]
    },
    {
      "cell_type": "markdown",
      "metadata": {
        "colab_type": "text",
        "id": "k4tgGvcvqvul"
      },
      "source": [
        "## 1.1. Visualize the gene expression data in 2D or 3D using Multidimensional Scaling"
      ]
    },
    {
      "cell_type": "code",
      "metadata": {
        "id": "CBbSRG2gC8Gh",
        "colab_type": "code",
        "colab": {},
        "outputId": "11e8c6f5-ede9-4999-ef8e-e74bca5fac90"
      },
      "source": [
        "df_train_clean.head()"
      ],
      "execution_count": null,
      "outputs": [
        {
          "output_type": "execute_result",
          "data": {
            "text/html": [
              "<div>\n",
              "<style scoped>\n",
              "    .dataframe tbody tr th:only-of-type {\n",
              "        vertical-align: middle;\n",
              "    }\n",
              "\n",
              "    .dataframe tbody tr th {\n",
              "        vertical-align: top;\n",
              "    }\n",
              "\n",
              "    .dataframe thead th {\n",
              "        text-align: right;\n",
              "    }\n",
              "</style>\n",
              "<table border=\"1\" class=\"dataframe\">\n",
              "  <thead>\n",
              "    <tr style=\"text-align: right;\">\n",
              "      <th></th>\n",
              "      <th>0</th>\n",
              "      <th>1</th>\n",
              "      <th>2</th>\n",
              "      <th>3</th>\n",
              "      <th>4</th>\n",
              "      <th>5</th>\n",
              "      <th>6</th>\n",
              "      <th>7</th>\n",
              "      <th>8</th>\n",
              "      <th>9</th>\n",
              "      <th>...</th>\n",
              "      <th>7119</th>\n",
              "      <th>7120</th>\n",
              "      <th>7121</th>\n",
              "      <th>7122</th>\n",
              "      <th>7123</th>\n",
              "      <th>7124</th>\n",
              "      <th>7125</th>\n",
              "      <th>7126</th>\n",
              "      <th>7127</th>\n",
              "      <th>7128</th>\n",
              "    </tr>\n",
              "  </thead>\n",
              "  <tbody>\n",
              "    <tr>\n",
              "      <th>1</th>\n",
              "      <td>-0.861496</td>\n",
              "      <td>-0.033101</td>\n",
              "      <td>-0.351701</td>\n",
              "      <td>-0.805738</td>\n",
              "      <td>-0.168417</td>\n",
              "      <td>-0.888716</td>\n",
              "      <td>1.120068</td>\n",
              "      <td>0.280962</td>\n",
              "      <td>1.863470</td>\n",
              "      <td>0.449110</td>\n",
              "      <td>...</td>\n",
              "      <td>0.074511</td>\n",
              "      <td>-0.815620</td>\n",
              "      <td>-1.758717</td>\n",
              "      <td>-0.021865</td>\n",
              "      <td>-0.405584</td>\n",
              "      <td>-0.159782</td>\n",
              "      <td>-0.033046</td>\n",
              "      <td>0.546068</td>\n",
              "      <td>-0.435820</td>\n",
              "      <td>-0.255875</td>\n",
              "    </tr>\n",
              "    <tr>\n",
              "      <th>2</th>\n",
              "      <td>-0.167723</td>\n",
              "      <td>1.037400</td>\n",
              "      <td>0.139139</td>\n",
              "      <td>0.876572</td>\n",
              "      <td>0.114600</td>\n",
              "      <td>0.293351</td>\n",
              "      <td>-1.322502</td>\n",
              "      <td>0.370212</td>\n",
              "      <td>0.023726</td>\n",
              "      <td>-0.182439</td>\n",
              "      <td>...</td>\n",
              "      <td>-0.116640</td>\n",
              "      <td>0.292993</td>\n",
              "      <td>-0.589006</td>\n",
              "      <td>0.092516</td>\n",
              "      <td>0.073055</td>\n",
              "      <td>-0.182892</td>\n",
              "      <td>-0.197260</td>\n",
              "      <td>-0.267043</td>\n",
              "      <td>-0.595744</td>\n",
              "      <td>0.499648</td>\n",
              "    </tr>\n",
              "    <tr>\n",
              "      <th>3</th>\n",
              "      <td>0.415047</td>\n",
              "      <td>1.358550</td>\n",
              "      <td>-2.495899</td>\n",
              "      <td>1.100880</td>\n",
              "      <td>-0.907912</td>\n",
              "      <td>-1.577008</td>\n",
              "      <td>0.353591</td>\n",
              "      <td>-1.849884</td>\n",
              "      <td>1.303018</td>\n",
              "      <td>-1.565148</td>\n",
              "      <td>...</td>\n",
              "      <td>1.627617</td>\n",
              "      <td>1.524030</td>\n",
              "      <td>0.317849</td>\n",
              "      <td>-0.498816</td>\n",
              "      <td>1.724361</td>\n",
              "      <td>0.565043</td>\n",
              "      <td>2.130709</td>\n",
              "      <td>0.708690</td>\n",
              "      <td>-0.384366</td>\n",
              "      <td>-0.387270</td>\n",
              "    </tr>\n",
              "    <tr>\n",
              "      <th>4</th>\n",
              "      <td>-0.130721</td>\n",
              "      <td>0.488768</td>\n",
              "      <td>2.429729</td>\n",
              "      <td>-1.461407</td>\n",
              "      <td>-1.300484</td>\n",
              "      <td>-1.090715</td>\n",
              "      <td>0.930757</td>\n",
              "      <td>-0.578070</td>\n",
              "      <td>-0.609828</td>\n",
              "      <td>-0.388171</td>\n",
              "      <td>...</td>\n",
              "      <td>0.731595</td>\n",
              "      <td>0.286192</td>\n",
              "      <td>2.749271</td>\n",
              "      <td>-0.485868</td>\n",
              "      <td>-2.152617</td>\n",
              "      <td>-0.508538</td>\n",
              "      <td>-0.800986</td>\n",
              "      <td>-2.251033</td>\n",
              "      <td>-0.526212</td>\n",
              "      <td>-2.029712</td>\n",
              "    </tr>\n",
              "    <tr>\n",
              "      <th>5</th>\n",
              "      <td>0.137537</td>\n",
              "      <td>0.341574</td>\n",
              "      <td>-0.506703</td>\n",
              "      <td>-0.115559</td>\n",
              "      <td>0.425006</td>\n",
              "      <td>1.161198</td>\n",
              "      <td>0.219688</td>\n",
              "      <td>0.883400</td>\n",
              "      <td>-0.353970</td>\n",
              "      <td>0.669195</td>\n",
              "      <td>...</td>\n",
              "      <td>-0.271951</td>\n",
              "      <td>-0.346330</td>\n",
              "      <td>0.633277</td>\n",
              "      <td>0.226322</td>\n",
              "      <td>-0.142332</td>\n",
              "      <td>-1.300593</td>\n",
              "      <td>-0.105493</td>\n",
              "      <td>-0.169469</td>\n",
              "      <td>-0.623557</td>\n",
              "      <td>0.138311</td>\n",
              "    </tr>\n",
              "  </tbody>\n",
              "</table>\n",
              "<p>5 rows × 7129 columns</p>\n",
              "</div>"
            ],
            "text/plain": [
              "       0         1         2         3         4         5         6     \\\n",
              "1 -0.861496 -0.033101 -0.351701 -0.805738 -0.168417 -0.888716  1.120068   \n",
              "2 -0.167723  1.037400  0.139139  0.876572  0.114600  0.293351 -1.322502   \n",
              "3  0.415047  1.358550 -2.495899  1.100880 -0.907912 -1.577008  0.353591   \n",
              "4 -0.130721  0.488768  2.429729 -1.461407 -1.300484 -1.090715  0.930757   \n",
              "5  0.137537  0.341574 -0.506703 -0.115559  0.425006  1.161198  0.219688   \n",
              "\n",
              "       7         8         9       ...         7119      7120      7121  \\\n",
              "1  0.280962  1.863470  0.449110    ...     0.074511 -0.815620 -1.758717   \n",
              "2  0.370212  0.023726 -0.182439    ...    -0.116640  0.292993 -0.589006   \n",
              "3 -1.849884  1.303018 -1.565148    ...     1.627617  1.524030  0.317849   \n",
              "4 -0.578070 -0.609828 -0.388171    ...     0.731595  0.286192  2.749271   \n",
              "5  0.883400 -0.353970  0.669195    ...    -0.271951 -0.346330  0.633277   \n",
              "\n",
              "       7122      7123      7124      7125      7126      7127      7128  \n",
              "1 -0.021865 -0.405584 -0.159782 -0.033046  0.546068 -0.435820 -0.255875  \n",
              "2  0.092516  0.073055 -0.182892 -0.197260 -0.267043 -0.595744  0.499648  \n",
              "3 -0.498816  1.724361  0.565043  2.130709  0.708690 -0.384366 -0.387270  \n",
              "4 -0.485868 -2.152617 -0.508538 -0.800986 -2.251033 -0.526212 -2.029712  \n",
              "5  0.226322 -0.142332 -1.300593 -0.105493 -0.169469 -0.623557  0.138311  \n",
              "\n",
              "[5 rows x 7129 columns]"
            ]
          },
          "metadata": {
            "tags": []
          },
          "execution_count": 20
        }
      ]
    },
    {
      "cell_type": "code",
      "metadata": {
        "id": "QYRoFI_hC8Gj",
        "colab_type": "code",
        "colab": {},
        "outputId": "360d34b7-79ff-4de6-fbd5-5fb103118284"
      },
      "source": [
        "df_train_clean.describe()"
      ],
      "execution_count": null,
      "outputs": [
        {
          "output_type": "execute_result",
          "data": {
            "text/html": [
              "<div>\n",
              "<style scoped>\n",
              "    .dataframe tbody tr th:only-of-type {\n",
              "        vertical-align: middle;\n",
              "    }\n",
              "\n",
              "    .dataframe tbody tr th {\n",
              "        vertical-align: top;\n",
              "    }\n",
              "\n",
              "    .dataframe thead th {\n",
              "        text-align: right;\n",
              "    }\n",
              "</style>\n",
              "<table border=\"1\" class=\"dataframe\">\n",
              "  <thead>\n",
              "    <tr style=\"text-align: right;\">\n",
              "      <th></th>\n",
              "      <th>0</th>\n",
              "      <th>1</th>\n",
              "      <th>2</th>\n",
              "      <th>3</th>\n",
              "      <th>4</th>\n",
              "      <th>5</th>\n",
              "      <th>6</th>\n",
              "      <th>7</th>\n",
              "      <th>8</th>\n",
              "      <th>9</th>\n",
              "      <th>...</th>\n",
              "      <th>7119</th>\n",
              "      <th>7120</th>\n",
              "      <th>7121</th>\n",
              "      <th>7122</th>\n",
              "      <th>7123</th>\n",
              "      <th>7124</th>\n",
              "      <th>7125</th>\n",
              "      <th>7126</th>\n",
              "      <th>7127</th>\n",
              "      <th>7128</th>\n",
              "    </tr>\n",
              "  </thead>\n",
              "  <tbody>\n",
              "    <tr>\n",
              "      <th>count</th>\n",
              "      <td>3.800000e+01</td>\n",
              "      <td>3.800000e+01</td>\n",
              "      <td>3.800000e+01</td>\n",
              "      <td>3.800000e+01</td>\n",
              "      <td>3.800000e+01</td>\n",
              "      <td>3.800000e+01</td>\n",
              "      <td>3.800000e+01</td>\n",
              "      <td>3.800000e+01</td>\n",
              "      <td>3.800000e+01</td>\n",
              "      <td>3.800000e+01</td>\n",
              "      <td>...</td>\n",
              "      <td>3.800000e+01</td>\n",
              "      <td>3.800000e+01</td>\n",
              "      <td>3.800000e+01</td>\n",
              "      <td>3.800000e+01</td>\n",
              "      <td>3.800000e+01</td>\n",
              "      <td>3.800000e+01</td>\n",
              "      <td>3.800000e+01</td>\n",
              "      <td>3.800000e+01</td>\n",
              "      <td>3.800000e+01</td>\n",
              "      <td>3.800000e+01</td>\n",
              "    </tr>\n",
              "    <tr>\n",
              "      <th>mean</th>\n",
              "      <td>-4.966787e-17</td>\n",
              "      <td>-1.475428e-16</td>\n",
              "      <td>4.528541e-17</td>\n",
              "      <td>5.843279e-17</td>\n",
              "      <td>-2.512610e-16</td>\n",
              "      <td>5.551115e-17</td>\n",
              "      <td>4.382459e-18</td>\n",
              "      <td>-1.402387e-16</td>\n",
              "      <td>-4.090295e-17</td>\n",
              "      <td>-1.460820e-17</td>\n",
              "      <td>...</td>\n",
              "      <td>-8.034509e-17</td>\n",
              "      <td>-9.933574e-17</td>\n",
              "      <td>-2.045148e-17</td>\n",
              "      <td>-2.958160e-17</td>\n",
              "      <td>2.921640e-17</td>\n",
              "      <td>-3.505967e-17</td>\n",
              "      <td>-1.095615e-16</td>\n",
              "      <td>4.090295e-17</td>\n",
              "      <td>8.180591e-17</td>\n",
              "      <td>-2.045148e-17</td>\n",
              "    </tr>\n",
              "    <tr>\n",
              "      <th>std</th>\n",
              "      <td>1.013423e+00</td>\n",
              "      <td>1.013423e+00</td>\n",
              "      <td>1.013423e+00</td>\n",
              "      <td>1.013423e+00</td>\n",
              "      <td>1.013423e+00</td>\n",
              "      <td>1.013423e+00</td>\n",
              "      <td>1.013423e+00</td>\n",
              "      <td>1.013423e+00</td>\n",
              "      <td>1.013423e+00</td>\n",
              "      <td>1.013423e+00</td>\n",
              "      <td>...</td>\n",
              "      <td>1.013423e+00</td>\n",
              "      <td>1.013423e+00</td>\n",
              "      <td>1.013423e+00</td>\n",
              "      <td>1.013423e+00</td>\n",
              "      <td>1.013423e+00</td>\n",
              "      <td>1.013423e+00</td>\n",
              "      <td>1.013423e+00</td>\n",
              "      <td>1.013423e+00</td>\n",
              "      <td>1.013423e+00</td>\n",
              "      <td>1.013423e+00</td>\n",
              "    </tr>\n",
              "    <tr>\n",
              "      <th>min</th>\n",
              "      <td>-3.285076e+00</td>\n",
              "      <td>-2.361441e+00</td>\n",
              "      <td>-2.495899e+00</td>\n",
              "      <td>-1.875514e+00</td>\n",
              "      <td>-2.414292e+00</td>\n",
              "      <td>-2.624409e+00</td>\n",
              "      <td>-2.010484e+00</td>\n",
              "      <td>-2.920885e+00</td>\n",
              "      <td>-2.205897e+00</td>\n",
              "      <td>-1.565148e+00</td>\n",
              "      <td>...</td>\n",
              "      <td>-1.777269e+00</td>\n",
              "      <td>-1.791608e+00</td>\n",
              "      <td>-2.455287e+00</td>\n",
              "      <td>-7.836921e-01</td>\n",
              "      <td>-2.200481e+00</td>\n",
              "      <td>-1.416145e+00</td>\n",
              "      <td>-1.424031e+00</td>\n",
              "      <td>-2.251033e+00</td>\n",
              "      <td>-7.042144e-01</td>\n",
              "      <td>-2.128258e+00</td>\n",
              "    </tr>\n",
              "    <tr>\n",
              "      <th>25%</th>\n",
              "      <td>-1.654101e-01</td>\n",
              "      <td>-7.289267e-01</td>\n",
              "      <td>-5.691349e-01</td>\n",
              "      <td>-8.639716e-01</td>\n",
              "      <td>-8.919356e-01</td>\n",
              "      <td>-8.064200e-01</td>\n",
              "      <td>-5.791108e-01</td>\n",
              "      <td>-4.246719e-01</td>\n",
              "      <td>-7.682165e-01</td>\n",
              "      <td>-7.613588e-01</td>\n",
              "      <td>...</td>\n",
              "      <td>-7.020416e-01</td>\n",
              "      <td>-5.962778e-01</td>\n",
              "      <td>-6.777200e-01</td>\n",
              "      <td>-4.847885e-01</td>\n",
              "      <td>-6.688352e-01</td>\n",
              "      <td>-5.752431e-01</td>\n",
              "      <td>-4.979153e-01</td>\n",
              "      <td>-3.646159e-01</td>\n",
              "      <td>-5.123056e-01</td>\n",
              "      <td>-4.447558e-01</td>\n",
              "    </tr>\n",
              "    <tr>\n",
              "      <th>50%</th>\n",
              "      <td>1.329123e-01</td>\n",
              "      <td>1.207835e-01</td>\n",
              "      <td>-2.268381e-01</td>\n",
              "      <td>1.605119e-01</td>\n",
              "      <td>1.237298e-01</td>\n",
              "      <td>9.509299e-02</td>\n",
              "      <td>4.653786e-02</td>\n",
              "      <td>1.749771e-01</td>\n",
              "      <td>5.450618e-03</td>\n",
              "      <td>-1.991847e-01</td>\n",
              "      <td>...</td>\n",
              "      <td>-5.093181e-02</td>\n",
              "      <td>-1.728964e-01</td>\n",
              "      <td>2.213528e-02</td>\n",
              "      <td>-2.873178e-01</td>\n",
              "      <td>4.912349e-02</td>\n",
              "      <td>-2.616777e-01</td>\n",
              "      <td>-1.320572e-01</td>\n",
              "      <td>2.567718e-02</td>\n",
              "      <td>-3.628115e-01</td>\n",
              "      <td>1.054620e-01</td>\n",
              "    </tr>\n",
              "    <tr>\n",
              "      <th>75%</th>\n",
              "      <td>4.867365e-01</td>\n",
              "      <td>7.463576e-01</td>\n",
              "      <td>5.546317e-01</td>\n",
              "      <td>8.442198e-01</td>\n",
              "      <td>8.016008e-01</td>\n",
              "      <td>7.067004e-01</td>\n",
              "      <td>5.659879e-01</td>\n",
              "      <td>6.295948e-01</td>\n",
              "      <td>6.481426e-01</td>\n",
              "      <td>6.249387e-01</td>\n",
              "      <td>...</td>\n",
              "      <td>6.330321e-01</td>\n",
              "      <td>7.435798e-01</td>\n",
              "      <td>6.332765e-01</td>\n",
              "      <td>1.135584e-01</td>\n",
              "      <td>7.012693e-01</td>\n",
              "      <td>5.104181e-01</td>\n",
              "      <td>2.591574e-01</td>\n",
              "      <td>3.590525e-01</td>\n",
              "      <td>-2.384221e-02</td>\n",
              "      <td>5.817700e-01</td>\n",
              "    </tr>\n",
              "    <tr>\n",
              "      <th>max</th>\n",
              "      <td>1.275325e+00</td>\n",
              "      <td>1.746607e+00</td>\n",
              "      <td>2.429729e+00</td>\n",
              "      <td>1.816940e+00</td>\n",
              "      <td>2.059200e+00</td>\n",
              "      <td>2.126303e+00</td>\n",
              "      <td>2.135881e+00</td>\n",
              "      <td>1.976713e+00</td>\n",
              "      <td>2.241166e+00</td>\n",
              "      <td>2.147593e+00</td>\n",
              "      <td>...</td>\n",
              "      <td>2.117443e+00</td>\n",
              "      <td>3.067927e+00</td>\n",
              "      <td>2.749271e+00</td>\n",
              "      <td>4.592258e+00</td>\n",
              "      <td>1.724361e+00</td>\n",
              "      <td>3.037850e+00</td>\n",
              "      <td>3.734206e+00</td>\n",
              "      <td>3.115498e+00</td>\n",
              "      <td>3.738891e+00</td>\n",
              "      <td>2.142089e+00</td>\n",
              "    </tr>\n",
              "  </tbody>\n",
              "</table>\n",
              "<p>8 rows × 7129 columns</p>\n",
              "</div>"
            ],
            "text/plain": [
              "               0             1             2             3             4     \\\n",
              "count  3.800000e+01  3.800000e+01  3.800000e+01  3.800000e+01  3.800000e+01   \n",
              "mean  -4.966787e-17 -1.475428e-16  4.528541e-17  5.843279e-17 -2.512610e-16   \n",
              "std    1.013423e+00  1.013423e+00  1.013423e+00  1.013423e+00  1.013423e+00   \n",
              "min   -3.285076e+00 -2.361441e+00 -2.495899e+00 -1.875514e+00 -2.414292e+00   \n",
              "25%   -1.654101e-01 -7.289267e-01 -5.691349e-01 -8.639716e-01 -8.919356e-01   \n",
              "50%    1.329123e-01  1.207835e-01 -2.268381e-01  1.605119e-01  1.237298e-01   \n",
              "75%    4.867365e-01  7.463576e-01  5.546317e-01  8.442198e-01  8.016008e-01   \n",
              "max    1.275325e+00  1.746607e+00  2.429729e+00  1.816940e+00  2.059200e+00   \n",
              "\n",
              "               5             6             7             8             9     \\\n",
              "count  3.800000e+01  3.800000e+01  3.800000e+01  3.800000e+01  3.800000e+01   \n",
              "mean   5.551115e-17  4.382459e-18 -1.402387e-16 -4.090295e-17 -1.460820e-17   \n",
              "std    1.013423e+00  1.013423e+00  1.013423e+00  1.013423e+00  1.013423e+00   \n",
              "min   -2.624409e+00 -2.010484e+00 -2.920885e+00 -2.205897e+00 -1.565148e+00   \n",
              "25%   -8.064200e-01 -5.791108e-01 -4.246719e-01 -7.682165e-01 -7.613588e-01   \n",
              "50%    9.509299e-02  4.653786e-02  1.749771e-01  5.450618e-03 -1.991847e-01   \n",
              "75%    7.067004e-01  5.659879e-01  6.295948e-01  6.481426e-01  6.249387e-01   \n",
              "max    2.126303e+00  2.135881e+00  1.976713e+00  2.241166e+00  2.147593e+00   \n",
              "\n",
              "           ...               7119          7120          7121          7122  \\\n",
              "count      ...       3.800000e+01  3.800000e+01  3.800000e+01  3.800000e+01   \n",
              "mean       ...      -8.034509e-17 -9.933574e-17 -2.045148e-17 -2.958160e-17   \n",
              "std        ...       1.013423e+00  1.013423e+00  1.013423e+00  1.013423e+00   \n",
              "min        ...      -1.777269e+00 -1.791608e+00 -2.455287e+00 -7.836921e-01   \n",
              "25%        ...      -7.020416e-01 -5.962778e-01 -6.777200e-01 -4.847885e-01   \n",
              "50%        ...      -5.093181e-02 -1.728964e-01  2.213528e-02 -2.873178e-01   \n",
              "75%        ...       6.330321e-01  7.435798e-01  6.332765e-01  1.135584e-01   \n",
              "max        ...       2.117443e+00  3.067927e+00  2.749271e+00  4.592258e+00   \n",
              "\n",
              "               7123          7124          7125          7126          7127  \\\n",
              "count  3.800000e+01  3.800000e+01  3.800000e+01  3.800000e+01  3.800000e+01   \n",
              "mean   2.921640e-17 -3.505967e-17 -1.095615e-16  4.090295e-17  8.180591e-17   \n",
              "std    1.013423e+00  1.013423e+00  1.013423e+00  1.013423e+00  1.013423e+00   \n",
              "min   -2.200481e+00 -1.416145e+00 -1.424031e+00 -2.251033e+00 -7.042144e-01   \n",
              "25%   -6.688352e-01 -5.752431e-01 -4.979153e-01 -3.646159e-01 -5.123056e-01   \n",
              "50%    4.912349e-02 -2.616777e-01 -1.320572e-01  2.567718e-02 -3.628115e-01   \n",
              "75%    7.012693e-01  5.104181e-01  2.591574e-01  3.590525e-01 -2.384221e-02   \n",
              "max    1.724361e+00  3.037850e+00  3.734206e+00  3.115498e+00  3.738891e+00   \n",
              "\n",
              "               7128  \n",
              "count  3.800000e+01  \n",
              "mean  -2.045148e-17  \n",
              "std    1.013423e+00  \n",
              "min   -2.128258e+00  \n",
              "25%   -4.447558e-01  \n",
              "50%    1.054620e-01  \n",
              "75%    5.817700e-01  \n",
              "max    2.142089e+00  \n",
              "\n",
              "[8 rows x 7129 columns]"
            ]
          },
          "metadata": {
            "tags": []
          },
          "execution_count": 21
        }
      ]
    },
    {
      "cell_type": "code",
      "metadata": {
        "colab_type": "code",
        "id": "3g_aOIWm8BcS",
        "colab": {},
        "outputId": "14aaff90-9730-4782-98d2-1007d064f49a"
      },
      "source": [
        "X = skm.MDS(n_components=2).fit_transform(df_train_clean)\n",
        "plt.scatter(X[:,0],X[:,1],s=50)\n",
        "\n",
        "plt.xlabel('MDS1')\n",
        "plt.ylabel('MDS2')\n",
        "plt.title('MDS')\n",
        "\n",
        "for i, s in enumerate(df_train_clean.index):\n",
        "    plt.annotate(s, xy=X[i,:2]+0.05, fontsize=10)"
      ],
      "execution_count": null,
      "outputs": [
        {
          "output_type": "display_data",
          "data": {
            "image/png": "[encoded data removed]",
            "text/plain": [
              "<Figure size 432x288 with 1 Axes>"
            ]
          },
          "metadata": {
            "tags": [],
            "needs_background": "light"
          }
        }
      ]
    },
    {
      "cell_type": "code",
      "metadata": {
        "colab_type": "code",
        "id": "5bbmovQR8BcY",
        "colab": {},
        "outputId": "6307aca4-1db6-4863-d12e-72903db7a36d"
      },
      "source": [
        "X = skm.MDS(n_components=3).fit_transform(df_train_clean)\n",
        "\n",
        "from mpl_toolkits.mplot3d import Axes3D\n",
        "from mpl_toolkits.mplot3d import proj3d\n",
        "\n",
        "fig = plt.figure()\n",
        "ax = fig.add_subplot(111, projection='3d')\n",
        "ax.scatter(X[:,0], X[:,1], X[:,2], s=100)\n",
        "\n",
        "ax.set_xticks([-100,-50,0,50,100])\n",
        "ax.set_yticks([-100,-50,0,50,100])\n",
        "ax.set_zticks([-100,-50,0,50,100])\n",
        "\n",
        "for i, s in enumerate(df_train_clean.index):\n",
        "    x, y, _ = proj3d.proj_transform(X[i,0],X[i,1],X[i,2],\n",
        "                                    ax.get_proj())\n",
        "    plt.annotate(s, xy=(x-0.005,y+0.002), fontsize=10)"
      ],
      "execution_count": null,
      "outputs": [
        {
          "output_type": "display_data",
          "data": {
            "image/png": "[encoded data removed]",
            "text/plain": [
              "<Figure size 432x288 with 1 Axes>"
            ]
          },
          "metadata": {
            "tags": [],
            "needs_background": "light"
          }
        }
      ]
    },
    {
      "cell_type": "markdown",
      "metadata": {
        "colab_type": "text",
        "id": "qX2GSpYO8Bcb"
      },
      "source": [
        "\n",
        "Multidimensional scaling (MDS) is a means of visualizing the level of similarity of individual cases of a dataset. MDS is used to translate \"information about the pairwise 'distances' among a set of n objects or individuals\" into a configuration of n points mapped into an abstract Cartesian space.\n",
        "\n",
        "The closer the distance in graph, the more possibility there is that they have same kind of leukemia.\n",
        "\n",
        "From the first graph, we can find that distance between patient #21 and #8 is very far. So there is very low probobility that patient #21 and #8 have same leukemia. On the other hand, we can find that points of patient #5 and #15 are located very close to each other. So, it means that they should have same leukemia.\n",
        "\n",
        "Additionally, let's see the second graph(3 dimensions graph). It is little bit harder to interpret compare to the previous one. But we can find that patient #21 and #8 are still far apart and #5 and #15 are close. We can check similarity between each patient's kind of leukemia."
      ]
    },
    {
      "cell_type": "markdown",
      "metadata": {
        "colab_type": "text",
        "id": "H0DMNTTkptwy"
      },
      "source": [
        "# Part 2: PCA"
      ]
    },
    {
      "cell_type": "markdown",
      "metadata": {
        "colab_type": "text",
        "id": "SYtiuvWhFrYK"
      },
      "source": [
        "## 2.1. Perform a Principal Component Analysis of the genes in the dataset "
      ]
    },
    {
      "cell_type": "code",
      "metadata": {
        "id": "9Dgj0HUCC8Gs",
        "colab_type": "code",
        "colab": {}
      },
      "source": [
        "pca_model = skd.PCA().fit(df_train_clean) # matrix A in Z=XA' (X is our given data: df_train_clean)"
      ],
      "execution_count": null,
      "outputs": []
    },
    {
      "cell_type": "code",
      "metadata": {
        "id": "tOrwEh0lC8Gw",
        "colab_type": "code",
        "colab": {},
        "outputId": "6578b919-43cd-48ec-862b-cbbe2c5e0bd5"
      },
      "source": [
        "pca_model"
      ],
      "execution_count": null,
      "outputs": [
        {
          "output_type": "execute_result",
          "data": {
            "text/plain": [
              "PCA(copy=True, iterated_power='auto', n_components=None, random_state=None,\n",
              "  svd_solver='auto', tol=0.0, whiten=False)"
            ]
          },
          "metadata": {
            "tags": []
          },
          "execution_count": 25
        }
      ]
    },
    {
      "cell_type": "code",
      "metadata": {
        "id": "VGUOhXBRC8Gy",
        "colab_type": "code",
        "colab": {}
      },
      "source": [
        "Z = skd.PCA().fit_transform(df_train_clean) # matrix Z in Z=XA'"
      ],
      "execution_count": null,
      "outputs": []
    },
    {
      "cell_type": "markdown",
      "metadata": {
        "colab_type": "text",
        "id": "4d8la4jhGYli"
      },
      "source": [
        "## 2.2. How much of the variance does each component explain? "
      ]
    },
    {
      "cell_type": "code",
      "metadata": {
        "colab_type": "code",
        "id": "wKFPL6BXC8G0",
        "colab": {},
        "outputId": "35254abc-5dd2-4087-86dd-e0ae3998168f"
      },
      "source": [
        "pca_model.explained_variance_"
      ],
      "execution_count": null,
      "outputs": [
        {
          "output_type": "execute_result",
          "data": {
            "text/plain": [
              "array([1.09735759e+03, 8.76976485e+02, 4.83272186e+02, 3.57658145e+02,\n",
              "       3.39170426e+02, 2.72510227e+02, 2.55597771e+02, 2.40859971e+02,\n",
              "       2.18576598e+02, 1.93681882e+02, 1.83741623e+02, 1.72634428e+02,\n",
              "       1.61466953e+02, 1.52866654e+02, 1.42171050e+02, 1.38629132e+02,\n",
              "       1.35241393e+02, 1.25441555e+02, 1.24851480e+02, 1.20423734e+02,\n",
              "       1.12430908e+02, 1.11931494e+02, 1.06610477e+02, 1.04779826e+02,\n",
              "       1.03617441e+02, 1.00934278e+02, 9.86526997e+01, 9.56118071e+01,\n",
              "       9.54129156e+01, 9.14541425e+01, 8.49250449e+01, 8.17690665e+01,\n",
              "       7.56789591e+01, 7.30684864e+01, 6.76502725e+01, 6.28995436e+01,\n",
              "       6.11190279e+01, 2.16415626e-28])"
            ]
          },
          "metadata": {
            "tags": []
          },
          "execution_count": 33
        }
      ]
    },
    {
      "cell_type": "markdown",
      "metadata": {
        "colab_type": "text",
        "id": "krIMm9YAC8G2"
      },
      "source": [
        "\n",
        "\n",
        "We can find that almost of all variances are bigger than 1 except tha last one. So, I can say that I should select 37 as the number of components."
      ]
    },
    {
      "cell_type": "markdown",
      "metadata": {
        "colab_type": "text",
        "id": "cIF4SzGiGws3"
      },
      "source": [
        "## 2.3. What would be an appropriate number of components to keep? Why? "
      ]
    },
    {
      "cell_type": "code",
      "metadata": {
        "colab_type": "code",
        "id": "JFFKveczC8G3",
        "colab": {},
        "outputId": "a2dd27bb-bda1-4d97-aaa2-51dc7d549806"
      },
      "source": [
        "#Scree plot\n",
        "plt.plot(range(1,39),pca_model.explained_variance_,'b-o')"
      ],
      "execution_count": null,
      "outputs": [
        {
          "output_type": "execute_result",
          "data": {
            "text/plain": [
              "[<matplotlib.lines.Line2D at 0x1a1b68c7f0>]"
            ]
          },
          "metadata": {
            "tags": []
          },
          "execution_count": 34
        },
        {
          "output_type": "display_data",
          "data": {
            "image/png": "[encoded data removed]",
            "text/plain": [
              "<Figure size 432x288 with 1 Axes>"
            ]
          },
          "metadata": {
            "tags": [],
            "needs_background": "light"
          }
        }
      ]
    },
    {
      "cell_type": "markdown",
      "metadata": {
        "colab_type": "text",
        "id": "Vix69lgYC8G5"
      },
      "source": [
        "\n",
        "\n",
        "\n",
        "\n",
        "The improvements will decline, at some point rapidly, creating the elbow shape.\n",
        "\n",
        "That point is the optimal value for K. In the image above, K=6. So, the appropriate number of components is 6. It is pretty different from the number that I get from above, calculating the Eigenvalues. However, I prefer 6 as the appropriate number rather than 37 because the purpose of PCA is reduction of the number factors minimizing the loss of information."
      ]
    },
    {
      "cell_type": "markdown",
      "metadata": {
        "colab_type": "text",
        "id": "uB5U8KqtHIGw"
      },
      "source": [
        "## 2.4 Visualize the data in the reduced component space."
      ]
    },
    {
      "cell_type": "code",
      "metadata": {
        "colab_type": "code",
        "id": "yOYiXpw1C8G5",
        "colab": {},
        "outputId": "85bd45bf-135e-439d-c2ae-d3bf5eff775c"
      },
      "source": [
        "#When I picked up 2 components\n",
        "Z = skd.PCA().fit_transform(df_train_clean)   #Fit the model with 'df_train_clean' \n",
        "plt.figure(figsize=(8,6))                     #and apply the dimensionality reduction on 'df_train_clean'.\n",
        "plt.scatter(Z[:,0], Z[:,1])                   #Z is the array of result of PCA.\n",
        "plt.xlabel('PC1')                             \n",
        "plt.ylabel('PC2')\n",
        "plt.title('PCA biplot')\n",
        "\n",
        "\n",
        "# Add variable unit vector projections\n",
        "V = skd.PCA().fit_transform(np.identity(Z.shape[0]))\n",
        "for i, v in enumerate(V):\n",
        "    plt.annotate(df_train_clean.columns[i], \n",
        "                 xy=(0,0), xytext=v[:2]*300, \n",
        "                 fontsize=13, color='orange',\n",
        "                 arrowprops=dict(\n",
        "                    arrowstyle='<-', linewidth=2, color='orange'))"
      ],
      "execution_count": null,
      "outputs": [
        {
          "output_type": "display_data",
          "data": {
            "image/png": "[encoded data removed]",
            "text/plain": [
              "<Figure size 576x432 with 1 Axes>"
            ]
          },
          "metadata": {
            "tags": [],
            "needs_background": "light"
          }
        }
      ]
    },
    {
      "cell_type": "markdown",
      "metadata": {
        "colab_type": "text",
        "id": "M8K4gccLC8G7"
      },
      "source": [
        "Let X is the data 'df_train_clean' and A is matrix for projection. Then we can find that Z=XA' where 'Z' is the array of the result of PCA. To find principal components, we should maximize variation of Z. So, we need to use Lagrangian Optimization, and we can get the matrix A. While solving the Lagrangian Optimization, we can get the matrix of EigenValues and also we can make scree plot based on the Eigenvalues. So we can pick up the number of components using the Eigenvalues."
      ]
    },
    {
      "cell_type": "markdown",
      "metadata": {
        "colab_type": "text",
        "id": "BhU4B-oZ8Bc4"
      },
      "source": [
        "\n",
        "\n",
        "From the  above biplot(I plotted it with two components: PC1, PC2), we can see the distribution of samples in 'df_train_clean' on the 2-dimensional graph. Also, we can find that the original variable 18, 2 strongly influence PC1 while 11, 14 have more say in PC2(Because they are almost parallel to PC1 or PC2). We can also find them using correlation between Principal Components and original variables."
      ]
    },
    {
      "cell_type": "markdown",
      "metadata": {
        "colab_type": "text",
        "id": "EO5dFpbYpuVF"
      },
      "source": [
        "# Part 3: Exploratory Factor Analysis"
      ]
    },
    {
      "cell_type": "markdown",
      "metadata": {
        "colab_type": "text",
        "id": "kblwcTHdIJb6"
      },
      "source": [
        "## 3.1. Create a preliminary factor model and compare it to your PCA results. "
      ]
    },
    {
      "cell_type": "code",
      "metadata": {
        "colab_type": "code",
        "id": "ujEH9bXHC8G9",
        "colab": {}
      },
      "source": [
        "#df_clean = pd.concat([df_train_clean, df_test_clean], ignore_index=True)\n",
        "fa_model = skd.FactorAnalysis(n_components=6).fit(df_test_clean)\n",
        "\n",
        "# Show the loadings\n",
        "df_fa=pd.DataFrame(fa_model.components_[:6,:].T, \n",
        "             index=df_test_clean.columns,\n",
        "             columns=['Factor1', 'Factor2','Factors3','Factors4','Factors5','Factors6'])"
      ],
      "execution_count": null,
      "outputs": []
    },
    {
      "cell_type": "code",
      "metadata": {
        "id": "D7Abjz_LC8HB",
        "colab_type": "code",
        "colab": {},
        "outputId": "0c3e5b6c-7f9e-4f87-835a-d56b5b649b4e"
      },
      "source": [
        "df_fa.head()"
      ],
      "execution_count": null,
      "outputs": [
        {
          "output_type": "execute_result",
          "data": {
            "text/html": [
              "<div>\n",
              "<style scoped>\n",
              "    .dataframe tbody tr th:only-of-type {\n",
              "        vertical-align: middle;\n",
              "    }\n",
              "\n",
              "    .dataframe tbody tr th {\n",
              "        vertical-align: top;\n",
              "    }\n",
              "\n",
              "    .dataframe thead th {\n",
              "        text-align: right;\n",
              "    }\n",
              "</style>\n",
              "<table border=\"1\" class=\"dataframe\">\n",
              "  <thead>\n",
              "    <tr style=\"text-align: right;\">\n",
              "      <th></th>\n",
              "      <th>Factor1</th>\n",
              "      <th>Factor2</th>\n",
              "      <th>Factors3</th>\n",
              "      <th>Factors4</th>\n",
              "      <th>Factors5</th>\n",
              "      <th>Factors6</th>\n",
              "    </tr>\n",
              "  </thead>\n",
              "  <tbody>\n",
              "    <tr>\n",
              "      <th>0</th>\n",
              "      <td>-0.276548</td>\n",
              "      <td>0.018052</td>\n",
              "      <td>-0.301284</td>\n",
              "      <td>-0.037346</td>\n",
              "      <td>-0.186000</td>\n",
              "      <td>-0.140488</td>\n",
              "    </tr>\n",
              "    <tr>\n",
              "      <th>1</th>\n",
              "      <td>-0.750227</td>\n",
              "      <td>0.103321</td>\n",
              "      <td>0.053039</td>\n",
              "      <td>0.122090</td>\n",
              "      <td>0.077513</td>\n",
              "      <td>0.082169</td>\n",
              "    </tr>\n",
              "    <tr>\n",
              "      <th>2</th>\n",
              "      <td>-0.335206</td>\n",
              "      <td>0.025957</td>\n",
              "      <td>-0.231016</td>\n",
              "      <td>0.050679</td>\n",
              "      <td>-0.162919</td>\n",
              "      <td>0.366954</td>\n",
              "    </tr>\n",
              "    <tr>\n",
              "      <th>3</th>\n",
              "      <td>0.417815</td>\n",
              "      <td>0.003230</td>\n",
              "      <td>0.083670</td>\n",
              "      <td>-0.160436</td>\n",
              "      <td>-0.370681</td>\n",
              "      <td>-0.240230</td>\n",
              "    </tr>\n",
              "    <tr>\n",
              "      <th>4</th>\n",
              "      <td>-0.759801</td>\n",
              "      <td>0.100892</td>\n",
              "      <td>-0.157664</td>\n",
              "      <td>-0.147253</td>\n",
              "      <td>0.046734</td>\n",
              "      <td>0.246599</td>\n",
              "    </tr>\n",
              "  </tbody>\n",
              "</table>\n",
              "</div>"
            ],
            "text/plain": [
              "    Factor1   Factor2  Factors3  Factors4  Factors5  Factors6\n",
              "0 -0.276548  0.018052 -0.301284 -0.037346 -0.186000 -0.140488\n",
              "1 -0.750227  0.103321  0.053039  0.122090  0.077513  0.082169\n",
              "2 -0.335206  0.025957 -0.231016  0.050679 -0.162919  0.366954\n",
              "3  0.417815  0.003230  0.083670 -0.160436 -0.370681 -0.240230\n",
              "4 -0.759801  0.100892 -0.157664 -0.147253  0.046734  0.246599"
            ]
          },
          "metadata": {
            "tags": []
          },
          "execution_count": 87
        }
      ]
    },
    {
      "cell_type": "code",
      "metadata": {
        "id": "RzzPci-aC8HD",
        "colab_type": "code",
        "colab": {},
        "outputId": "81e1ea2b-3335-439d-b5ad-79254ba33fb5"
      },
      "source": [
        "# Add new factors\n",
        "df_test_clean_fa=df_test_clean.copy()\n",
        "df_test_clean_fa['Factor1']=skd.FactorAnalysis(6).fit_transform(df_test_clean)[:,0]\n",
        "df_test_clean_fa['Factor2']=skd.FactorAnalysis(6).fit_transform(df_test_clean)[:,1]\n",
        "df_test_clean_fa['Factor3']=skd.FactorAnalysis(6).fit_transform(df_test_clean)[:,2]\n",
        "df_test_clean_fa['Factor4']=skd.FactorAnalysis(6).fit_transform(df_test_clean)[:,3]\n",
        "df_test_clean_fa['Factor5']=skd.FactorAnalysis(6).fit_transform(df_test_clean)[:,4]\n",
        "df_test_clean_fa['Factor6']=skd.FactorAnalysis(6).fit_transform(df_test_clean)[:,5]\n",
        "\n",
        "df_test_clean_fa.head()"
      ],
      "execution_count": null,
      "outputs": [
        {
          "output_type": "execute_result",
          "data": {
            "text/html": [
              "<div>\n",
              "<style scoped>\n",
              "    .dataframe tbody tr th:only-of-type {\n",
              "        vertical-align: middle;\n",
              "    }\n",
              "\n",
              "    .dataframe tbody tr th {\n",
              "        vertical-align: top;\n",
              "    }\n",
              "\n",
              "    .dataframe thead th {\n",
              "        text-align: right;\n",
              "    }\n",
              "</style>\n",
              "<table border=\"1\" class=\"dataframe\">\n",
              "  <thead>\n",
              "    <tr style=\"text-align: right;\">\n",
              "      <th></th>\n",
              "      <th>0</th>\n",
              "      <th>1</th>\n",
              "      <th>2</th>\n",
              "      <th>3</th>\n",
              "      <th>4</th>\n",
              "      <th>5</th>\n",
              "      <th>6</th>\n",
              "      <th>7</th>\n",
              "      <th>8</th>\n",
              "      <th>9</th>\n",
              "      <th>...</th>\n",
              "      <th>7125</th>\n",
              "      <th>7126</th>\n",
              "      <th>7127</th>\n",
              "      <th>7128</th>\n",
              "      <th>Factor1</th>\n",
              "      <th>Factor2</th>\n",
              "      <th>Factor3</th>\n",
              "      <th>Factor4</th>\n",
              "      <th>Factor5</th>\n",
              "      <th>Factor6</th>\n",
              "    </tr>\n",
              "  </thead>\n",
              "  <tbody>\n",
              "    <tr>\n",
              "      <th>39</th>\n",
              "      <td>-2.844380</td>\n",
              "      <td>-0.257223</td>\n",
              "      <td>0.306000</td>\n",
              "      <td>1.238686</td>\n",
              "      <td>0.025884</td>\n",
              "      <td>-0.523312</td>\n",
              "      <td>-1.667952</td>\n",
              "      <td>-1.049687</td>\n",
              "      <td>0.856798</td>\n",
              "      <td>-0.936277</td>\n",
              "      <td>...</td>\n",
              "      <td>1.050378</td>\n",
              "      <td>0.909252</td>\n",
              "      <td>-0.394315</td>\n",
              "      <td>-0.784861</td>\n",
              "      <td>0.440122</td>\n",
              "      <td>-0.843354</td>\n",
              "      <td>1.392694</td>\n",
              "      <td>-0.898228</td>\n",
              "      <td>-0.704558</td>\n",
              "      <td>-0.337253</td>\n",
              "    </tr>\n",
              "    <tr>\n",
              "      <th>40</th>\n",
              "      <td>0.249432</td>\n",
              "      <td>-0.680824</td>\n",
              "      <td>2.043929</td>\n",
              "      <td>0.923680</td>\n",
              "      <td>0.010308</td>\n",
              "      <td>-0.960346</td>\n",
              "      <td>1.338615</td>\n",
              "      <td>-2.535584</td>\n",
              "      <td>1.481976</td>\n",
              "      <td>0.327970</td>\n",
              "      <td>...</td>\n",
              "      <td>-0.026902</td>\n",
              "      <td>-0.587509</td>\n",
              "      <td>-0.819890</td>\n",
              "      <td>0.229552</td>\n",
              "      <td>0.621246</td>\n",
              "      <td>-0.556869</td>\n",
              "      <td>-1.224288</td>\n",
              "      <td>-1.262646</td>\n",
              "      <td>-0.382880</td>\n",
              "      <td>1.311194</td>\n",
              "    </tr>\n",
              "    <tr>\n",
              "      <th>41</th>\n",
              "      <td>0.552747</td>\n",
              "      <td>1.304804</td>\n",
              "      <td>-0.071469</td>\n",
              "      <td>-0.536801</td>\n",
              "      <td>-0.044209</td>\n",
              "      <td>0.423596</td>\n",
              "      <td>-0.230796</td>\n",
              "      <td>0.761249</td>\n",
              "      <td>-0.777441</td>\n",
              "      <td>-0.630544</td>\n",
              "      <td>...</td>\n",
              "      <td>-0.529972</td>\n",
              "      <td>1.574480</td>\n",
              "      <td>-0.538290</td>\n",
              "      <td>0.291659</td>\n",
              "      <td>-1.005093</td>\n",
              "      <td>0.606122</td>\n",
              "      <td>-0.441995</td>\n",
              "      <td>-0.594864</td>\n",
              "      <td>0.164368</td>\n",
              "      <td>-0.146443</td>\n",
              "    </tr>\n",
              "    <tr>\n",
              "      <th>42</th>\n",
              "      <td>1.571885</td>\n",
              "      <td>0.157552</td>\n",
              "      <td>0.117265</td>\n",
              "      <td>0.742313</td>\n",
              "      <td>0.127130</td>\n",
              "      <td>0.648735</td>\n",
              "      <td>0.421656</td>\n",
              "      <td>0.352627</td>\n",
              "      <td>-0.645824</td>\n",
              "      <td>1.724427</td>\n",
              "      <td>...</td>\n",
              "      <td>0.145869</td>\n",
              "      <td>0.133154</td>\n",
              "      <td>3.423164</td>\n",
              "      <td>-0.205196</td>\n",
              "      <td>-0.229670</td>\n",
              "      <td>0.446905</td>\n",
              "      <td>0.852976</td>\n",
              "      <td>-0.113208</td>\n",
              "      <td>-0.922213</td>\n",
              "      <td>0.046935</td>\n",
              "    </tr>\n",
              "    <tr>\n",
              "      <th>43</th>\n",
              "      <td>2.348371</td>\n",
              "      <td>1.190079</td>\n",
              "      <td>-1.125237</td>\n",
              "      <td>0.513218</td>\n",
              "      <td>0.205011</td>\n",
              "      <td>-0.238577</td>\n",
              "      <td>-0.974355</td>\n",
              "      <td>-0.167436</td>\n",
              "      <td>-1.303907</td>\n",
              "      <td>-2.274892</td>\n",
              "      <td>...</td>\n",
              "      <td>-1.317606</td>\n",
              "      <td>0.151633</td>\n",
              "      <td>2.521197</td>\n",
              "      <td>-1.012586</td>\n",
              "      <td>-0.750540</td>\n",
              "      <td>-0.158382</td>\n",
              "      <td>-0.061330</td>\n",
              "      <td>-0.780987</td>\n",
              "      <td>-0.526076</td>\n",
              "      <td>-0.353418</td>\n",
              "    </tr>\n",
              "  </tbody>\n",
              "</table>\n",
              "<p>5 rows × 7135 columns</p>\n",
              "</div>"
            ],
            "text/plain": [
              "           0         1         2         3         4         5         6  \\\n",
              "39 -2.844380 -0.257223  0.306000  1.238686  0.025884 -0.523312 -1.667952   \n",
              "40  0.249432 -0.680824  2.043929  0.923680  0.010308 -0.960346  1.338615   \n",
              "41  0.552747  1.304804 -0.071469 -0.536801 -0.044209  0.423596 -0.230796   \n",
              "42  1.571885  0.157552  0.117265  0.742313  0.127130  0.648735  0.421656   \n",
              "43  2.348371  1.190079 -1.125237  0.513218  0.205011 -0.238577 -0.974355   \n",
              "\n",
              "           7         8         9    ...         7125      7126      7127  \\\n",
              "39 -1.049687  0.856798 -0.936277    ...     1.050378  0.909252 -0.394315   \n",
              "40 -2.535584  1.481976  0.327970    ...    -0.026902 -0.587509 -0.819890   \n",
              "41  0.761249 -0.777441 -0.630544    ...    -0.529972  1.574480 -0.538290   \n",
              "42  0.352627 -0.645824  1.724427    ...     0.145869  0.133154  3.423164   \n",
              "43 -0.167436 -1.303907 -2.274892    ...    -1.317606  0.151633  2.521197   \n",
              "\n",
              "        7128   Factor1   Factor2   Factor3   Factor4   Factor5   Factor6  \n",
              "39 -0.784861  0.440122 -0.843354  1.392694 -0.898228 -0.704558 -0.337253  \n",
              "40  0.229552  0.621246 -0.556869 -1.224288 -1.262646 -0.382880  1.311194  \n",
              "41  0.291659 -1.005093  0.606122 -0.441995 -0.594864  0.164368 -0.146443  \n",
              "42 -0.205196 -0.229670  0.446905  0.852976 -0.113208 -0.922213  0.046935  \n",
              "43 -1.012586 -0.750540 -0.158382 -0.061330 -0.780987 -0.526076 -0.353418  \n",
              "\n",
              "[5 rows x 7135 columns]"
            ]
          },
          "metadata": {
            "tags": []
          },
          "execution_count": 169
        }
      ]
    },
    {
      "cell_type": "code",
      "metadata": {
        "id": "CahWKmmZC8HE",
        "colab_type": "code",
        "colab": {}
      },
      "source": [
        "fa_cor = df_test_clean_fa.corr()[['Factor1','Factor2','Factor3','Factor4','Factor5','Factor6']]"
      ],
      "execution_count": null,
      "outputs": []
    },
    {
      "cell_type": "code",
      "metadata": {
        "id": "3YtSNzhrC8HG",
        "colab_type": "code",
        "colab": {},
        "outputId": "bee3fe59-e0ed-4c0d-a715-6ed1e55239ee"
      },
      "source": [
        "#Extract the original variables which have the value of correlation higher than 0.85 with each factor(In factor analysis model)\n",
        "for c in fa_cor.columns:\n",
        "    a=[]\n",
        "    for i in fa_cor.index:\n",
        "        if abs(fa_cor.loc[i,c])>0.85:\n",
        "            a.append(i)\n",
        "    print(c,a)"
      ],
      "execution_count": null,
      "outputs": [
        {
          "output_type": "stream",
          "text": [
            "Factor1 [5, 93, 190, 267, 278, 346, 377, 387, 525, 575, 585, 647, 782, 798, 801, 807, 834, 861, 869, 918, 935, 980, 990, 997, 999, 1033, 1083, 1295, 1354, 1358, 1658, 1672, 1809, 1870, 1971, 1978, 2007, 2248, 2329, 2419, 2505, 2548, 2552, 2572, 2742, 2807, 2844, 2897, 2977, 3038, 3071, 3141, 3186, 3225, 3364, 3439, 3565, 3586, 3657, 3666, 3881, 3909, 4120, 4487, 4636, 4691, 4720, 4833, 4866, 4869, 4876, 4991, 5026, 5200, 5336, 5353, 5856, 5871, 5920, 5995, 6056, 6136, 6297, 6381, 6408, 6528, 6635, 6688, 6834, 6836, 6853, 6965, 7012, 7047, 7062, 'Factor1']\n",
            "Factor2 [169, 1648, 1933, 1997, 3354, 3706, 3711, 3974, 4242, 4802, 4974, 5331, 'Factor2']\n",
            "Factor3 ['Factor3']\n",
            "Factor4 ['Factor4']\n",
            "Factor5 ['Factor5']\n",
            "Factor6 ['Factor6']\n"
          ],
          "name": "stdout"
        }
      ]
    },
    {
      "cell_type": "markdown",
      "metadata": {
        "id": "RGLezNkWC8HI",
        "colab_type": "text"
      },
      "source": [
        "From the above result, we can find that 'Factor 1' is highly related with orginal variable 5, 93, 190, 267, 278, ect. while 'Factor 2' just highly related with 12 original variables 169, 1648, 1933, 1997,, etc. and the other factors don't have highly related variables."
      ]
    },
    {
      "cell_type": "code",
      "metadata": {
        "id": "hByBllmoC8HI",
        "colab_type": "code",
        "colab": {}
      },
      "source": [
        "# build a PCA model to compare with the factor model above\n",
        "pca_model = skd.PCA(n_components=2).fit(df_test_clean)\n",
        "\n",
        "# Show the principcal components\n",
        "df_pca=pd.DataFrame(pca_model.components_[:2,:].T, \n",
        "             index=df_test_clean.columns,\n",
        "             columns=['Component1', 'Component2'])"
      ],
      "execution_count": null,
      "outputs": []
    },
    {
      "cell_type": "code",
      "metadata": {
        "id": "nOtK9bESC8HM",
        "colab_type": "code",
        "colab": {},
        "outputId": "d36598ae-994e-4aff-a13f-65b13f57f5f6"
      },
      "source": [
        "df_pca.head()"
      ],
      "execution_count": null,
      "outputs": [
        {
          "output_type": "execute_result",
          "data": {
            "text/html": [
              "<div>\n",
              "<style scoped>\n",
              "    .dataframe tbody tr th:only-of-type {\n",
              "        vertical-align: middle;\n",
              "    }\n",
              "\n",
              "    .dataframe tbody tr th {\n",
              "        vertical-align: top;\n",
              "    }\n",
              "\n",
              "    .dataframe thead th {\n",
              "        text-align: right;\n",
              "    }\n",
              "</style>\n",
              "<table border=\"1\" class=\"dataframe\">\n",
              "  <thead>\n",
              "    <tr style=\"text-align: right;\">\n",
              "      <th></th>\n",
              "      <th>Component1</th>\n",
              "      <th>Component2</th>\n",
              "    </tr>\n",
              "  </thead>\n",
              "  <tbody>\n",
              "    <tr>\n",
              "      <th>0</th>\n",
              "      <td>-0.007861</td>\n",
              "      <td>0.000606</td>\n",
              "    </tr>\n",
              "    <tr>\n",
              "      <th>1</th>\n",
              "      <td>-0.021144</td>\n",
              "      <td>0.004103</td>\n",
              "    </tr>\n",
              "    <tr>\n",
              "      <th>2</th>\n",
              "      <td>-0.009524</td>\n",
              "      <td>-0.000221</td>\n",
              "    </tr>\n",
              "    <tr>\n",
              "      <th>3</th>\n",
              "      <td>0.011807</td>\n",
              "      <td>0.000371</td>\n",
              "    </tr>\n",
              "    <tr>\n",
              "      <th>4</th>\n",
              "      <td>-0.021719</td>\n",
              "      <td>0.002590</td>\n",
              "    </tr>\n",
              "  </tbody>\n",
              "</table>\n",
              "</div>"
            ],
            "text/plain": [
              "   Component1  Component2\n",
              "0   -0.007861    0.000606\n",
              "1   -0.021144    0.004103\n",
              "2   -0.009524   -0.000221\n",
              "3    0.011807    0.000371\n",
              "4   -0.021719    0.002590"
            ]
          },
          "metadata": {
            "tags": []
          },
          "execution_count": 107
        }
      ]
    },
    {
      "cell_type": "code",
      "metadata": {
        "id": "378XHc9rC8HO",
        "colab_type": "code",
        "colab": {}
      },
      "source": [
        "df_test_clean_pc=df_test_clean.copy()\n",
        "df_test_clean_pc['Component1']=skd.PCA(2).fit_transform(df_test_clean)[:,0]\n",
        "df_test_clean_pc['Component2']=skd.PCA(2).fit_transform(df_test_clean)[:,1]"
      ],
      "execution_count": null,
      "outputs": []
    },
    {
      "cell_type": "code",
      "metadata": {
        "id": "0-3Dc8-oC8HQ",
        "colab_type": "code",
        "colab": {}
      },
      "source": [
        "pca_cor = df_test_clean_pc.corr()[['Component1','Component2']]"
      ],
      "execution_count": null,
      "outputs": []
    },
    {
      "cell_type": "code",
      "metadata": {
        "id": "0QcydUwhC8HS",
        "colab_type": "code",
        "colab": {},
        "outputId": "7b1b4563-f8f6-43c7-92e4-c6e28c44d605"
      },
      "source": [
        "#Extract the original variables which have the value of correlation higher than 0.85 with each factor(In PCA model)\n",
        "for c in pca_cor.columns:\n",
        "    a=[]\n",
        "    for i in pca_cor.index:\n",
        "        if abs(pca_cor.loc[i,c])>0.85:\n",
        "            a.append(i)\n",
        "    print(c,a)"
      ],
      "execution_count": null,
      "outputs": [
        {
          "output_type": "stream",
          "text": [
            "Component1 [5, 93, 190, 267, 278, 346, 377, 387, 525, 575, 585, 647, 782, 798, 801, 807, 834, 861, 869, 892, 918, 935, 980, 990, 997, 999, 1007, 1062, 1083, 1295, 1354, 1358, 1658, 1672, 1809, 1870, 1971, 1978, 2007, 2248, 2329, 2419, 2505, 2552, 2572, 2742, 2807, 2844, 2897, 2977, 3038, 3071, 3141, 3186, 3225, 3364, 3439, 3565, 3586, 3657, 3666, 3840, 3881, 3909, 4120, 4487, 4636, 4691, 4720, 4833, 4866, 4869, 4876, 4991, 5026, 5200, 5336, 5353, 5706, 5856, 5871, 5920, 5995, 6056, 6136, 6150, 6297, 6381, 6408, 6528, 6635, 6688, 6834, 6836, 6853, 6965, 7005, 7012, 7047, 7062, 'Component1']\n",
            "Component2 [169, 1648, 1997, 2255, 3706, 3711, 4242, 4290, 5331, 'Component2']\n"
          ],
          "name": "stdout"
        }
      ]
    },
    {
      "cell_type": "markdown",
      "metadata": {
        "id": "BRYW7ia5C8HT",
        "colab_type": "text"
      },
      "source": [
        "'Component1' is highly related with lots of original variable. It has much more related variables compare to 'Component 2', which means that 'Component 1' is the PC1 and 'Component 2' is the PC2. So PC1 is more important than PC2 ."
      ]
    },
    {
      "cell_type": "markdown",
      "metadata": {
        "colab_type": "text",
        "id": "vIign-JoC8HU"
      },
      "source": [
        "\n",
        "Similarities : \n",
        "1) Both of them reduce the dimension.\n",
        "2) New variables(components) are created by the both models to explain the data.\n",
        "\n",
        "Differences :\n",
        "1)In PCA, the components are actual orthogonal linear combinations that maximize the total variance. In FA, the factors are linear combinations that maximize the shared portion of the variance. They look like similar, but the purposes are different.\n",
        "2)The number of new variables in the Factor Analysis is determined by Eigens values or Scree plot. However, in PCA, we can pick up the number of new components by ourselves and normally 2 principal components are preferred.\n",
        "3) In PCA, there are relative importance between new variables(components). PC1 > PC2 > PC3 ,,,. However, in FA, every new variables are equal in their relationship.\n"
      ]
    },
    {
      "cell_type": "markdown",
      "metadata": {
        "colab_type": "text",
        "id": "-I_ZkGnSI0ll"
      },
      "source": [
        "## 3.2. Create another factor model and compare it to the first. "
      ]
    },
    {
      "cell_type": "code",
      "metadata": {
        "colab_type": "code",
        "id": "nWioJRzBC8HU",
        "colab": {}
      },
      "source": [
        "fa_model2 = skd.FactorAnalysis(n_components=5).fit(df_test_clean)\n",
        "\n",
        "# Show the loadings\n",
        "df_fa2=pd.DataFrame(fa_model2.components_[:5,:].T, \n",
        "             index=df_test_clean.columns,\n",
        "             columns=['Factor1', 'Factor2','Factor3','Factor4','Factor5'])"
      ],
      "execution_count": null,
      "outputs": []
    },
    {
      "cell_type": "code",
      "metadata": {
        "id": "4aCiEH6kC8HW",
        "colab_type": "code",
        "colab": {},
        "outputId": "e43e2d1f-2810-4e2a-8d0a-fd4eff3fc329"
      },
      "source": [
        "df_fa2.head(), df_fa.head()"
      ],
      "execution_count": null,
      "outputs": [
        {
          "output_type": "execute_result",
          "data": {
            "text/plain": [
              "(    Factor1   Factor2   Factor3   Factor4   Factor5\n",
              " 0 -0.276890  0.018503 -0.290455  0.080383 -0.193202\n",
              " 1 -0.750090  0.105998  0.046696 -0.114814  0.081712\n",
              " 2 -0.332130  0.026703 -0.223439 -0.044783 -0.158889\n",
              " 3  0.416950  0.001675  0.103178  0.175800 -0.342107\n",
              " 4 -0.756524  0.105090 -0.158521  0.135669  0.049405,\n",
              "     Factor1   Factor2  Factors3  Factors4  Factors5  Factors6\n",
              " 0 -0.276548  0.018052 -0.301284 -0.037346 -0.186000 -0.140488\n",
              " 1 -0.750227  0.103321  0.053039  0.122090  0.077513  0.082169\n",
              " 2 -0.335206  0.025957 -0.231016  0.050679 -0.162919  0.366954\n",
              " 3  0.417815  0.003230  0.083670 -0.160436 -0.370681 -0.240230\n",
              " 4 -0.759801  0.100892 -0.157664 -0.147253  0.046734  0.246599)"
            ]
          },
          "metadata": {
            "tags": []
          },
          "execution_count": 133
        }
      ]
    },
    {
      "cell_type": "markdown",
      "metadata": {
        "id": "t8yOD5dLC8HY",
        "colab_type": "text"
      },
      "source": [
        "Let's say df_fa2 as A5, df_fa as A6. We multiply A5 and A6 to original variables in the given matrix 'df_test_clean'(cause it is linear combination of original variables. A5, A6 is made up by coefficients of linear combination). As we can see from the above results, values of Factor1 ~ Factor5 in both charts are almost same. Absolute value in A5 is little bit bigger because they should explain given 7129 original variables using 5 new factors not 6 factors. Therefore, each factor is latent variable of original variables."
      ]
    },
    {
      "cell_type": "code",
      "metadata": {
        "id": "yYr7EW9fC8HY",
        "colab_type": "code",
        "colab": {},
        "outputId": "cff82485-f61b-4225-813d-15016984868a"
      },
      "source": [
        "df_test_clean_fa=df_test_clean.copy()\n",
        "df_test_clean_fa['Factor1']=skd.FactorAnalysis(6).fit_transform(df_test_clean)[:,0]\n",
        "df_test_clean_fa['Factor2']=skd.FactorAnalysis(6).fit_transform(df_test_clean)[:,1]\n",
        "df_test_clean_fa['Factor3']=skd.FactorAnalysis(6).fit_transform(df_test_clean)[:,2]\n",
        "df_test_clean_fa['Factor4']=skd.FactorAnalysis(6).fit_transform(df_test_clean)[:,3]\n",
        "df_test_clean_fa['Factor5']=skd.FactorAnalysis(6).fit_transform(df_test_clean)[:,4]\n",
        "\n",
        "df_test_clean_fa.head()"
      ],
      "execution_count": null,
      "outputs": [
        {
          "output_type": "execute_result",
          "data": {
            "text/html": [
              "<div>\n",
              "<style scoped>\n",
              "    .dataframe tbody tr th:only-of-type {\n",
              "        vertical-align: middle;\n",
              "    }\n",
              "\n",
              "    .dataframe tbody tr th {\n",
              "        vertical-align: top;\n",
              "    }\n",
              "\n",
              "    .dataframe thead th {\n",
              "        text-align: right;\n",
              "    }\n",
              "</style>\n",
              "<table border=\"1\" class=\"dataframe\">\n",
              "  <thead>\n",
              "    <tr style=\"text-align: right;\">\n",
              "      <th></th>\n",
              "      <th>0</th>\n",
              "      <th>1</th>\n",
              "      <th>2</th>\n",
              "      <th>3</th>\n",
              "      <th>4</th>\n",
              "      <th>5</th>\n",
              "      <th>6</th>\n",
              "      <th>7</th>\n",
              "      <th>8</th>\n",
              "      <th>9</th>\n",
              "      <th>...</th>\n",
              "      <th>7124</th>\n",
              "      <th>7125</th>\n",
              "      <th>7126</th>\n",
              "      <th>7127</th>\n",
              "      <th>7128</th>\n",
              "      <th>Factor1</th>\n",
              "      <th>Factor2</th>\n",
              "      <th>Factor3</th>\n",
              "      <th>Factor4</th>\n",
              "      <th>Factor5</th>\n",
              "    </tr>\n",
              "  </thead>\n",
              "  <tbody>\n",
              "    <tr>\n",
              "      <th>39</th>\n",
              "      <td>-2.844380</td>\n",
              "      <td>-0.257223</td>\n",
              "      <td>0.306000</td>\n",
              "      <td>1.238686</td>\n",
              "      <td>0.025884</td>\n",
              "      <td>-0.523312</td>\n",
              "      <td>-1.667952</td>\n",
              "      <td>-1.049687</td>\n",
              "      <td>0.856798</td>\n",
              "      <td>-0.936277</td>\n",
              "      <td>...</td>\n",
              "      <td>1.001512</td>\n",
              "      <td>1.050378</td>\n",
              "      <td>0.909252</td>\n",
              "      <td>-0.394315</td>\n",
              "      <td>-0.784861</td>\n",
              "      <td>0.440122</td>\n",
              "      <td>-0.843354</td>\n",
              "      <td>1.392694</td>\n",
              "      <td>-0.898228</td>\n",
              "      <td>-0.704558</td>\n",
              "    </tr>\n",
              "    <tr>\n",
              "      <th>40</th>\n",
              "      <td>0.249432</td>\n",
              "      <td>-0.680824</td>\n",
              "      <td>2.043929</td>\n",
              "      <td>0.923680</td>\n",
              "      <td>0.010308</td>\n",
              "      <td>-0.960346</td>\n",
              "      <td>1.338615</td>\n",
              "      <td>-2.535584</td>\n",
              "      <td>1.481976</td>\n",
              "      <td>0.327970</td>\n",
              "      <td>...</td>\n",
              "      <td>-1.568936</td>\n",
              "      <td>-0.026902</td>\n",
              "      <td>-0.587509</td>\n",
              "      <td>-0.819890</td>\n",
              "      <td>0.229552</td>\n",
              "      <td>0.621246</td>\n",
              "      <td>-0.556869</td>\n",
              "      <td>-1.224288</td>\n",
              "      <td>-1.262646</td>\n",
              "      <td>-0.382880</td>\n",
              "    </tr>\n",
              "    <tr>\n",
              "      <th>41</th>\n",
              "      <td>0.552747</td>\n",
              "      <td>1.304804</td>\n",
              "      <td>-0.071469</td>\n",
              "      <td>-0.536801</td>\n",
              "      <td>-0.044209</td>\n",
              "      <td>0.423596</td>\n",
              "      <td>-0.230796</td>\n",
              "      <td>0.761249</td>\n",
              "      <td>-0.777441</td>\n",
              "      <td>-0.630544</td>\n",
              "      <td>...</td>\n",
              "      <td>-1.114577</td>\n",
              "      <td>-0.529972</td>\n",
              "      <td>1.574480</td>\n",
              "      <td>-0.538290</td>\n",
              "      <td>0.291659</td>\n",
              "      <td>-1.005093</td>\n",
              "      <td>0.606122</td>\n",
              "      <td>-0.441995</td>\n",
              "      <td>-0.594864</td>\n",
              "      <td>0.164368</td>\n",
              "    </tr>\n",
              "    <tr>\n",
              "      <th>42</th>\n",
              "      <td>1.571885</td>\n",
              "      <td>0.157552</td>\n",
              "      <td>0.117265</td>\n",
              "      <td>0.742313</td>\n",
              "      <td>0.127130</td>\n",
              "      <td>0.648735</td>\n",
              "      <td>0.421656</td>\n",
              "      <td>0.352627</td>\n",
              "      <td>-0.645824</td>\n",
              "      <td>1.724427</td>\n",
              "      <td>...</td>\n",
              "      <td>0.539495</td>\n",
              "      <td>0.145869</td>\n",
              "      <td>0.133154</td>\n",
              "      <td>3.423164</td>\n",
              "      <td>-0.205196</td>\n",
              "      <td>-0.229670</td>\n",
              "      <td>0.446905</td>\n",
              "      <td>0.852976</td>\n",
              "      <td>-0.113208</td>\n",
              "      <td>-0.922213</td>\n",
              "    </tr>\n",
              "    <tr>\n",
              "      <th>43</th>\n",
              "      <td>2.348371</td>\n",
              "      <td>1.190079</td>\n",
              "      <td>-1.125237</td>\n",
              "      <td>0.513218</td>\n",
              "      <td>0.205011</td>\n",
              "      <td>-0.238577</td>\n",
              "      <td>-0.974355</td>\n",
              "      <td>-0.167436</td>\n",
              "      <td>-1.303907</td>\n",
              "      <td>-2.274892</td>\n",
              "      <td>...</td>\n",
              "      <td>1.412478</td>\n",
              "      <td>-1.317606</td>\n",
              "      <td>0.151633</td>\n",
              "      <td>2.521197</td>\n",
              "      <td>-1.012586</td>\n",
              "      <td>-0.750540</td>\n",
              "      <td>-0.158382</td>\n",
              "      <td>-0.061330</td>\n",
              "      <td>-0.780987</td>\n",
              "      <td>-0.526076</td>\n",
              "    </tr>\n",
              "  </tbody>\n",
              "</table>\n",
              "<p>5 rows × 7134 columns</p>\n",
              "</div>"
            ],
            "text/plain": [
              "           0         1         2         3         4         5         6  \\\n",
              "39 -2.844380 -0.257223  0.306000  1.238686  0.025884 -0.523312 -1.667952   \n",
              "40  0.249432 -0.680824  2.043929  0.923680  0.010308 -0.960346  1.338615   \n",
              "41  0.552747  1.304804 -0.071469 -0.536801 -0.044209  0.423596 -0.230796   \n",
              "42  1.571885  0.157552  0.117265  0.742313  0.127130  0.648735  0.421656   \n",
              "43  2.348371  1.190079 -1.125237  0.513218  0.205011 -0.238577 -0.974355   \n",
              "\n",
              "           7         8         9    ...         7124      7125      7126  \\\n",
              "39 -1.049687  0.856798 -0.936277    ...     1.001512  1.050378  0.909252   \n",
              "40 -2.535584  1.481976  0.327970    ...    -1.568936 -0.026902 -0.587509   \n",
              "41  0.761249 -0.777441 -0.630544    ...    -1.114577 -0.529972  1.574480   \n",
              "42  0.352627 -0.645824  1.724427    ...     0.539495  0.145869  0.133154   \n",
              "43 -0.167436 -1.303907 -2.274892    ...     1.412478 -1.317606  0.151633   \n",
              "\n",
              "        7127      7128   Factor1   Factor2   Factor3   Factor4   Factor5  \n",
              "39 -0.394315 -0.784861  0.440122 -0.843354  1.392694 -0.898228 -0.704558  \n",
              "40 -0.819890  0.229552  0.621246 -0.556869 -1.224288 -1.262646 -0.382880  \n",
              "41 -0.538290  0.291659 -1.005093  0.606122 -0.441995 -0.594864  0.164368  \n",
              "42  3.423164 -0.205196 -0.229670  0.446905  0.852976 -0.113208 -0.922213  \n",
              "43  2.521197 -1.012586 -0.750540 -0.158382 -0.061330 -0.780987 -0.526076  \n",
              "\n",
              "[5 rows x 7134 columns]"
            ]
          },
          "metadata": {
            "tags": []
          },
          "execution_count": 168
        }
      ]
    },
    {
      "cell_type": "code",
      "metadata": {
        "id": "AHTeQ3Z6C8Ha",
        "colab_type": "code",
        "colab": {}
      },
      "source": [
        "fa_cor = df_test_clean_fa.corr()[['Factor1','Factor2','Factor3','Factor4','Factor5']]"
      ],
      "execution_count": null,
      "outputs": []
    },
    {
      "cell_type": "code",
      "metadata": {
        "id": "lAnW__ZvC8Hc",
        "colab_type": "code",
        "colab": {},
        "outputId": "cc6b0d49-4efc-4669-85fc-29e8f66c76e3"
      },
      "source": [
        "for c in fa_cor.columns:\n",
        "    a=[]\n",
        "    for i in fa_cor.index:\n",
        "        if abs(fa_cor.loc[i,c])>0.85:\n",
        "            a.append(i)\n",
        "    print(c,a)"
      ],
      "execution_count": null,
      "outputs": [
        {
          "output_type": "stream",
          "text": [
            "Factor1 [5, 93, 190, 267, 278, 346, 377, 387, 525, 575, 585, 647, 782, 798, 801, 807, 834, 861, 869, 918, 935, 980, 990, 997, 999, 1033, 1083, 1295, 1354, 1358, 1658, 1672, 1809, 1870, 1971, 1978, 2007, 2248, 2329, 2419, 2505, 2548, 2552, 2572, 2742, 2807, 2844, 2897, 2977, 3038, 3071, 3141, 3186, 3225, 3364, 3439, 3565, 3586, 3657, 3666, 3881, 3909, 4120, 4487, 4636, 4691, 4720, 4833, 4866, 4869, 4876, 4991, 5026, 5200, 5336, 5353, 5856, 5871, 5920, 5995, 6056, 6136, 6297, 6381, 6408, 6528, 6635, 6688, 6834, 6836, 6853, 6965, 7012, 7047, 7062, 'Factor1']\n",
            "Factor2 [169, 1648, 1933, 1997, 3354, 3706, 3711, 3974, 4242, 4802, 4974, 5331, 'Factor2']\n",
            "Factor3 ['Factor3']\n",
            "Factor4 ['Factor4']\n",
            "Factor5 ['Factor5']\n"
          ],
          "name": "stdout"
        }
      ]
    },
    {
      "cell_type": "markdown",
      "metadata": {
        "colab_type": "text",
        "id": "ixClmTSy8BdL"
      },
      "source": [
        "\n",
        "\n",
        "\n",
        "Still only 'Factor 1' and 'Factor 2' has strong relationships with some original variables."
      ]
    },
    {
      "cell_type": "markdown",
      "metadata": {
        "colab_type": "text",
        "id": "SPxOzCA3Jec5"
      },
      "source": [
        "# Part 4: Clustering"
      ]
    },
    {
      "cell_type": "markdown",
      "metadata": {
        "colab_type": "text",
        "id": "OhRFF7clJ4IL"
      },
      "source": [
        "## 4.1. Perform a cluster analysis on the data. Visualize the results in 2D or 3D using PCA."
      ]
    },
    {
      "cell_type": "code",
      "metadata": {
        "id": "i7K8MU_2C8Hh",
        "colab_type": "code",
        "colab": {},
        "outputId": "5c5d0d48-e0fb-49ef-8bdb-93aad3484f92"
      },
      "source": [
        "#Getting matrix A, Z and dataframe of Z\n",
        "pca_model = skd.PCA(n_components=2).fit_transform(df_test_clean)\n",
        "df_pca_model=pd.DataFrame(pca_model)\n",
        "df_pca_model=df_pca_model.rename(columns={0:'PC1',1:'PC2'})  #Dataframe of Z\n",
        "df_pca_model.head()"
      ],
      "execution_count": null,
      "outputs": [
        {
          "output_type": "execute_result",
          "data": {
            "text/html": [
              "<div>\n",
              "<style scoped>\n",
              "    .dataframe tbody tr th:only-of-type {\n",
              "        vertical-align: middle;\n",
              "    }\n",
              "\n",
              "    .dataframe tbody tr th {\n",
              "        vertical-align: top;\n",
              "    }\n",
              "\n",
              "    .dataframe thead th {\n",
              "        text-align: right;\n",
              "    }\n",
              "</style>\n",
              "<table border=\"1\" class=\"dataframe\">\n",
              "  <thead>\n",
              "    <tr style=\"text-align: right;\">\n",
              "      <th></th>\n",
              "      <th>PC1</th>\n",
              "      <th>PC2</th>\n",
              "    </tr>\n",
              "  </thead>\n",
              "  <tbody>\n",
              "    <tr>\n",
              "      <th>0</th>\n",
              "      <td>15.954476</td>\n",
              "      <td>-19.998095</td>\n",
              "    </tr>\n",
              "    <tr>\n",
              "      <th>1</th>\n",
              "      <td>22.690965</td>\n",
              "      <td>-17.487530</td>\n",
              "    </tr>\n",
              "    <tr>\n",
              "      <th>2</th>\n",
              "      <td>-8.391154</td>\n",
              "      <td>15.127873</td>\n",
              "    </tr>\n",
              "    <tr>\n",
              "      <th>3</th>\n",
              "      <td>-22.755723</td>\n",
              "      <td>6.735899</td>\n",
              "    </tr>\n",
              "    <tr>\n",
              "      <th>4</th>\n",
              "      <td>8.936895</td>\n",
              "      <td>70.863460</td>\n",
              "    </tr>\n",
              "  </tbody>\n",
              "</table>\n",
              "</div>"
            ],
            "text/plain": [
              "         PC1        PC2\n",
              "0  15.954476 -19.998095\n",
              "1  22.690965 -17.487530\n",
              "2  -8.391154  15.127873\n",
              "3 -22.755723   6.735899\n",
              "4   8.936895  70.863460"
            ]
          },
          "metadata": {
            "tags": []
          },
          "execution_count": 134
        }
      ]
    },
    {
      "cell_type": "code",
      "metadata": {
        "colab_type": "code",
        "id": "4d9PknRYC8Hj",
        "colab": {}
      },
      "source": [
        "from matplotlib import pyplot as plt\n",
        "from scipy.cluster.hierarchy import dendrogram\n",
        "from sklearn.datasets import load_iris\n",
        "from sklearn.cluster import AgglomerativeClustering\n",
        "import scipy.cluster.hierarchy as shc\n",
        "from sklearn.metrics import silhouette_score\n",
        "from sklearn.cluster import KMeans\n",
        "from sklearn import metrics\n",
        "import pandas as pd\n",
        "import seaborn as sns\n",
        "import numpy as np\n",
        "\n",
        "def plot_dendrogram(model, **kwargs):          # **kwargs : allow us to use keyworded variables(label = music) ////  *args : is used to send non-keyworded variables (a,b,c)\n",
        "\n",
        "    # Children of hierarchical clustering\n",
        "    children = model.children_\n",
        "\n",
        "    # Distances between each pair of children\n",
        "    # Since we don't have this information, we can use a uniform one for plotting\n",
        "    distance = np.arange(children.shape[0])\n",
        "\n",
        "    # The number of observations contained in each cluster level\n",
        "    no_of_observations = np.arange(2, children.shape[0]+2)\n",
        "\n",
        "    # Create linkage matrix and then plot the dendrogram\n",
        "    linkage_matrix = np.column_stack([children, distance, no_of_observations]).astype(float)\n",
        "\n",
        "    # Plot the corresponding dendrogram\n",
        "    dendrogram(linkage_matrix, **kwargs)\n"
      ],
      "execution_count": null,
      "outputs": []
    },
    {
      "cell_type": "code",
      "metadata": {
        "id": "50_lHOpvC8Hn",
        "colab_type": "code",
        "colab": {}
      },
      "source": [
        "model = AgglomerativeClustering(n_clusters=2)\n",
        "model = model.fit(pca_model)\n",
        "df_hierarch_model = df_pca_model.copy()\n",
        "df_hierarch_model['cluster'] = model.labels_"
      ],
      "execution_count": null,
      "outputs": []
    },
    {
      "cell_type": "code",
      "metadata": {
        "id": "_cy-p1QnC8Hq",
        "colab_type": "code",
        "colab": {},
        "outputId": "208a3088-27bf-4568-d008-b66a8e4b384e"
      },
      "source": [
        "df_hierarch_model.head()"
      ],
      "execution_count": null,
      "outputs": [
        {
          "output_type": "execute_result",
          "data": {
            "text/html": [
              "<div>\n",
              "<style scoped>\n",
              "    .dataframe tbody tr th:only-of-type {\n",
              "        vertical-align: middle;\n",
              "    }\n",
              "\n",
              "    .dataframe tbody tr th {\n",
              "        vertical-align: top;\n",
              "    }\n",
              "\n",
              "    .dataframe thead th {\n",
              "        text-align: right;\n",
              "    }\n",
              "</style>\n",
              "<table border=\"1\" class=\"dataframe\">\n",
              "  <thead>\n",
              "    <tr style=\"text-align: right;\">\n",
              "      <th></th>\n",
              "      <th>PC1</th>\n",
              "      <th>PC2</th>\n",
              "      <th>cluster</th>\n",
              "    </tr>\n",
              "  </thead>\n",
              "  <tbody>\n",
              "    <tr>\n",
              "      <th>0</th>\n",
              "      <td>15.959349</td>\n",
              "      <td>-19.992770</td>\n",
              "      <td>1</td>\n",
              "    </tr>\n",
              "    <tr>\n",
              "      <th>1</th>\n",
              "      <td>22.695480</td>\n",
              "      <td>-17.483030</td>\n",
              "      <td>1</td>\n",
              "    </tr>\n",
              "    <tr>\n",
              "      <th>2</th>\n",
              "      <td>-36.254809</td>\n",
              "      <td>13.987043</td>\n",
              "      <td>0</td>\n",
              "    </tr>\n",
              "    <tr>\n",
              "      <th>3</th>\n",
              "      <td>-8.398533</td>\n",
              "      <td>15.132993</td>\n",
              "      <td>0</td>\n",
              "    </tr>\n",
              "    <tr>\n",
              "      <th>4</th>\n",
              "      <td>-26.523397</td>\n",
              "      <td>-4.334377</td>\n",
              "      <td>0</td>\n",
              "    </tr>\n",
              "  </tbody>\n",
              "</table>\n",
              "</div>"
            ],
            "text/plain": [
              "         PC1        PC2  cluster\n",
              "0  15.959349 -19.992770        1\n",
              "1  22.695480 -17.483030        1\n",
              "2 -36.254809  13.987043        0\n",
              "3  -8.398533  15.132993        0\n",
              "4 -26.523397  -4.334377        0"
            ]
          },
          "metadata": {
            "tags": []
          },
          "execution_count": 86
        }
      ]
    },
    {
      "cell_type": "code",
      "metadata": {
        "id": "EfQuQy3zC8Hs",
        "colab_type": "code",
        "colab": {},
        "outputId": "3b782bfa-3970-441b-a5d3-13f49d1179d5"
      },
      "source": [
        "plt.title('Hierarchical Clustering Dendrogram')\n",
        "plot_dendrogram(model,labels=df_pca_model.index.values)\n",
        "plt.xticks(rotation=90)\n",
        "plt.show()"
      ],
      "execution_count": null,
      "outputs": [
        {
          "output_type": "display_data",
          "data": {
            "image/png": "[encoded data removed]",
            "text/plain": [
              "<Figure size 432x288 with 1 Axes>"
            ]
          },
          "metadata": {
            "tags": [],
            "needs_background": "light"
          }
        }
      ]
    },
    {
      "cell_type": "code",
      "metadata": {
        "id": "ZkxIfstPC8Hv",
        "colab_type": "code",
        "colab": {},
        "outputId": "6778b57e-96f4-4a01-d7a0-7a694bf7663f"
      },
      "source": [
        "df_hierarch_model_1 = df_hierarch_model[df_hierarch_model.cluster == 1]\n",
        "df_hierarch_model_0 = df_hierarch_model[df_hierarch_model.cluster == 0]\n",
        "\n",
        "plt.scatter(df_hierarch_model_1.iloc[:, 0], df_hierarch_model_1.iloc[:, 1],marker = '.')\n",
        "plt.scatter(df_hierarch_model_0.iloc[:, 0], df_hierarch_model_0.iloc[:, 1],marker = '.')\n",
        "plt.legend(['Cluster 1', 'Cluster 0'])"
      ],
      "execution_count": null,
      "outputs": [
        {
          "output_type": "execute_result",
          "data": {
            "text/plain": [
              "<matplotlib.legend.Legend at 0x1a1d4d0710>"
            ]
          },
          "metadata": {
            "tags": []
          },
          "execution_count": 91
        },
        {
          "output_type": "display_data",
          "data": {
            "image/png": "[encoded data removed]",
            "text/plain": [
              "<Figure size 432x288 with 1 Axes>"
            ]
          },
          "metadata": {
            "tags": [],
            "needs_background": "light"
          }
        }
      ]
    },
    {
      "cell_type": "markdown",
      "metadata": {
        "id": "FW-UVDIuC8Hx",
        "colab_type": "text"
      },
      "source": [
        "34 samples in df_test_clean are divided by 2 clusters by hierarchical clustering method."
      ]
    },
    {
      "cell_type": "code",
      "metadata": {
        "id": "SUoXTiK_C8Hy",
        "colab_type": "code",
        "colab": {},
        "outputId": "4be843b4-78c9-48a8-916b-0e1bb747bcf4"
      },
      "source": [
        "#Silhouette method\n",
        "plt.figure(figsize=(16, 8))\n",
        "scores, n_clusters, preds = [], [], []\n",
        "for i in range(2, 10):\n",
        "    kmean = KMeans(n_clusters = i).fit(df_test_clean)\n",
        "    scores.append(kmean.score(df_test_clean))\n",
        "    n_clusters.append(i)\n",
        "    pred = kmean.predict(df_test_clean)\n",
        "    preds.append(pred)\n",
        "    plt.subplot(2, 4, i - 1)\n",
        "    plt.title(f\"{i} clusters Silhouette={np.round(silhouette_score(df_test_clean, pred), decimals=5)}\")\n",
        "    plt.scatter(pca_model[:, 0], pca_model[:, 1], c=pred, marker = '.')\n",
        "    \n",
        "    centroids = kmean.cluster_centers_\n",
        "    centroids2d = skd.PCA(n_components=2).fit_transform(centroids)\n",
        "    plt.plot(centroids2d[:, 0], centroids2d[:, 1], 'b+', markersize=15)"
      ],
      "execution_count": null,
      "outputs": [
        {
          "output_type": "display_data",
          "data": {
            "image/png": "[encoded data removed]",
            "text/plain": [
              "<Figure size 1152x576 with 8 Axes>"
            ]
          },
          "metadata": {
            "tags": [],
            "needs_background": "light"
          }
        }
      ]
    },
    {
      "cell_type": "markdown",
      "metadata": {
        "id": "8rcBpv0LC8H3",
        "colab_type": "text"
      },
      "source": [
        "Using Silhouette method, I chose 2 as the optimal number of clusters."
      ]
    },
    {
      "cell_type": "code",
      "metadata": {
        "id": "hV2BjHrGC8H3",
        "colab_type": "code",
        "colab": {},
        "outputId": "ff0f4bf7-5d83-4804-86b5-fb35b0675aea"
      },
      "source": [
        "#Elbow method\n",
        "cost = []\n",
        "for k in range(2,16):\n",
        "    k_means = KMeans(init='k-means++', n_clusters=k, n_init=10)\n",
        "    k_means.fit(df_test_clean)\n",
        "    cost.append(k_means.inertia_)\n",
        "\n",
        "fig, ax = plt.subplots()\n",
        "plt.plot(range(2,16), cost, 'b*-')\n",
        "plt.xlim(1, plt.xlim()[1])\n"
      ],
      "execution_count": null,
      "outputs": [
        {
          "output_type": "execute_result",
          "data": {
            "text/plain": [
              "(1, 15.65)"
            ]
          },
          "metadata": {
            "tags": []
          },
          "execution_count": 20
        },
        {
          "output_type": "display_data",
          "data": {
            "image/png": "[encoded data removed]",
            "text/plain": [
              "<Figure size 432x288 with 1 Axes>"
            ]
          },
          "metadata": {
            "tags": [],
            "needs_background": "light"
          }
        }
      ]
    },
    {
      "cell_type": "markdown",
      "metadata": {
        "id": "xmUAgLZUC8H5",
        "colab_type": "text"
      },
      "source": [
        "Cannot pick up the optimal number of clusters because I cannot find big difference in slope."
      ]
    },
    {
      "cell_type": "code",
      "metadata": {
        "id": "4RjdEJUNC8H5",
        "colab_type": "code",
        "colab": {},
        "outputId": "cd067e48-4112-4560-af8f-f1e1c3a4138d"
      },
      "source": [
        "#rule of thumb\n",
        "np.sqrt(len(df_test_clean)/2)"
      ],
      "execution_count": null,
      "outputs": [
        {
          "output_type": "execute_result",
          "data": {
            "text/plain": [
              "4.123105625617661"
            ]
          },
          "metadata": {
            "tags": []
          },
          "execution_count": 21
        }
      ]
    },
    {
      "cell_type": "markdown",
      "metadata": {
        "id": "TQwgGrMsC8H8",
        "colab_type": "text"
      },
      "source": [
        "Using the rule of Thumb, the optimal number of clusters is 4. But I'll select 2 as the number of cluster."
      ]
    },
    {
      "cell_type": "code",
      "metadata": {
        "id": "9Rcqfu4JC8H-",
        "colab_type": "code",
        "colab": {}
      },
      "source": [
        "kmeans = KMeans(n_clusters=2) \n",
        "kmeans.fit(df_test_clean)\n",
        "df_kmeans_model = df_pca_model.copy()\n",
        "df_kmeans_model['Pred'] = kmeans.labels_"
      ],
      "execution_count": null,
      "outputs": []
    },
    {
      "cell_type": "code",
      "metadata": {
        "id": "WsB2zZ_BC8IB",
        "colab_type": "code",
        "colab": {},
        "outputId": "c0882b9b-2f6d-4d1d-d12f-1d67c67803cc"
      },
      "source": [
        "df_kmeans_model_1 = df_kmeans_model[df_kmeans_model.Pred == 1]\n",
        "df_kmeans_model_0 = df_kmeans_model[df_kmeans_model.Pred == 0]\n",
        "\n",
        "plt.scatter(df_kmeans_model_1.iloc[:, 0], df_kmeans_model_1.iloc[:, 1],marker = '.')\n",
        "plt.scatter(df_kmeans_model_0.iloc[:, 0], df_kmeans_model_0.iloc[:, 1],marker = '.')\n",
        "plt.legend(['Pred 1', 'Pred 0'])"
      ],
      "execution_count": null,
      "outputs": [
        {
          "output_type": "execute_result",
          "data": {
            "text/plain": [
              "<matplotlib.legend.Legend at 0x1a3660af28>"
            ]
          },
          "metadata": {
            "tags": []
          },
          "execution_count": 140
        },
        {
          "output_type": "display_data",
          "data": {
            "image/png": "[encoded data removed]",
            "text/plain": [
              "<Figure size 432x288 with 1 Axes>"
            ]
          },
          "metadata": {
            "tags": [],
            "needs_background": "light"
          }
        }
      ]
    },
    {
      "cell_type": "markdown",
      "metadata": {
        "colab_type": "text",
        "id": "Mm4P28RWC8IG"
      },
      "source": [
        "\n",
        "I made 2 clusters using K-means clustering method."
      ]
    },
    {
      "cell_type": "markdown",
      "metadata": {
        "colab_type": "text",
        "id": "R-16W7dkLY6w"
      },
      "source": [
        "## 4.2. Which clusters can we identify? "
      ]
    },
    {
      "cell_type": "code",
      "metadata": {
        "id": "e7FnqGFCC8IH",
        "colab_type": "code",
        "colab": {}
      },
      "source": [
        "df_test_clean.index = pd.to_numeric(df_test_clean.index)\n",
        "df_test_clean.sort_index(inplace=True)"
      ],
      "execution_count": null,
      "outputs": []
    },
    {
      "cell_type": "code",
      "metadata": {
        "id": "My91WajFC8IJ",
        "colab_type": "code",
        "colab": {}
      },
      "source": [
        "kmeans = KMeans(n_clusters=2) \n",
        "kmeans.fit(df_test_clean)\n",
        "\n",
        "df_pca_model['Pred']=kmeans.labels_"
      ],
      "execution_count": null,
      "outputs": []
    },
    {
      "cell_type": "code",
      "metadata": {
        "id": "2Uo8LxoRC8IN",
        "colab_type": "code",
        "colab": {},
        "outputId": "5a335e07-c7b1-40ca-ee53-1abc73de4201"
      },
      "source": [
        "#Pred : prediction of K-means, cat : actual data 'cancer'\n",
        "df_pca_model['cat'] = list(pd.read_csv('gene-expression/actual.csv')[38:]['cancer'])\n",
        "dic = {'ALL':0,'AML':1}\n",
        "df_pca_model.replace(dic,inplace=True)\n",
        "df_pca_model[['Pred','cat']]"
      ],
      "execution_count": null,
      "outputs": [
        {
          "output_type": "execute_result",
          "data": {
            "text/html": [
              "<div>\n",
              "<style scoped>\n",
              "    .dataframe tbody tr th:only-of-type {\n",
              "        vertical-align: middle;\n",
              "    }\n",
              "\n",
              "    .dataframe tbody tr th {\n",
              "        vertical-align: top;\n",
              "    }\n",
              "\n",
              "    .dataframe thead th {\n",
              "        text-align: right;\n",
              "    }\n",
              "</style>\n",
              "<table border=\"1\" class=\"dataframe\">\n",
              "  <thead>\n",
              "    <tr style=\"text-align: right;\">\n",
              "      <th></th>\n",
              "      <th>Pred</th>\n",
              "      <th>cat</th>\n",
              "    </tr>\n",
              "  </thead>\n",
              "  <tbody>\n",
              "    <tr>\n",
              "      <th>0</th>\n",
              "      <td>0</td>\n",
              "      <td>0</td>\n",
              "    </tr>\n",
              "    <tr>\n",
              "      <th>1</th>\n",
              "      <td>1</td>\n",
              "      <td>0</td>\n",
              "    </tr>\n",
              "    <tr>\n",
              "      <th>2</th>\n",
              "      <td>0</td>\n",
              "      <td>0</td>\n",
              "    </tr>\n",
              "    <tr>\n",
              "      <th>3</th>\n",
              "      <td>0</td>\n",
              "      <td>0</td>\n",
              "    </tr>\n",
              "    <tr>\n",
              "      <th>4</th>\n",
              "      <td>0</td>\n",
              "      <td>0</td>\n",
              "    </tr>\n",
              "    <tr>\n",
              "      <th>5</th>\n",
              "      <td>0</td>\n",
              "      <td>0</td>\n",
              "    </tr>\n",
              "    <tr>\n",
              "      <th>6</th>\n",
              "      <td>0</td>\n",
              "      <td>0</td>\n",
              "    </tr>\n",
              "    <tr>\n",
              "      <th>7</th>\n",
              "      <td>0</td>\n",
              "      <td>0</td>\n",
              "    </tr>\n",
              "    <tr>\n",
              "      <th>8</th>\n",
              "      <td>0</td>\n",
              "      <td>0</td>\n",
              "    </tr>\n",
              "    <tr>\n",
              "      <th>9</th>\n",
              "      <td>0</td>\n",
              "      <td>0</td>\n",
              "    </tr>\n",
              "    <tr>\n",
              "      <th>10</th>\n",
              "      <td>1</td>\n",
              "      <td>0</td>\n",
              "    </tr>\n",
              "    <tr>\n",
              "      <th>11</th>\n",
              "      <td>1</td>\n",
              "      <td>1</td>\n",
              "    </tr>\n",
              "    <tr>\n",
              "      <th>12</th>\n",
              "      <td>1</td>\n",
              "      <td>1</td>\n",
              "    </tr>\n",
              "    <tr>\n",
              "      <th>13</th>\n",
              "      <td>0</td>\n",
              "      <td>1</td>\n",
              "    </tr>\n",
              "    <tr>\n",
              "      <th>14</th>\n",
              "      <td>1</td>\n",
              "      <td>1</td>\n",
              "    </tr>\n",
              "    <tr>\n",
              "      <th>15</th>\n",
              "      <td>0</td>\n",
              "      <td>1</td>\n",
              "    </tr>\n",
              "    <tr>\n",
              "      <th>16</th>\n",
              "      <td>0</td>\n",
              "      <td>0</td>\n",
              "    </tr>\n",
              "    <tr>\n",
              "      <th>17</th>\n",
              "      <td>0</td>\n",
              "      <td>0</td>\n",
              "    </tr>\n",
              "    <tr>\n",
              "      <th>18</th>\n",
              "      <td>0</td>\n",
              "      <td>1</td>\n",
              "    </tr>\n",
              "    <tr>\n",
              "      <th>19</th>\n",
              "      <td>1</td>\n",
              "      <td>1</td>\n",
              "    </tr>\n",
              "    <tr>\n",
              "      <th>20</th>\n",
              "      <td>0</td>\n",
              "      <td>0</td>\n",
              "    </tr>\n",
              "    <tr>\n",
              "      <th>21</th>\n",
              "      <td>0</td>\n",
              "      <td>1</td>\n",
              "    </tr>\n",
              "    <tr>\n",
              "      <th>22</th>\n",
              "      <td>1</td>\n",
              "      <td>1</td>\n",
              "    </tr>\n",
              "    <tr>\n",
              "      <th>23</th>\n",
              "      <td>1</td>\n",
              "      <td>1</td>\n",
              "    </tr>\n",
              "    <tr>\n",
              "      <th>24</th>\n",
              "      <td>1</td>\n",
              "      <td>1</td>\n",
              "    </tr>\n",
              "    <tr>\n",
              "      <th>25</th>\n",
              "      <td>1</td>\n",
              "      <td>1</td>\n",
              "    </tr>\n",
              "    <tr>\n",
              "      <th>26</th>\n",
              "      <td>0</td>\n",
              "      <td>1</td>\n",
              "    </tr>\n",
              "    <tr>\n",
              "      <th>27</th>\n",
              "      <td>0</td>\n",
              "      <td>1</td>\n",
              "    </tr>\n",
              "    <tr>\n",
              "      <th>28</th>\n",
              "      <td>0</td>\n",
              "      <td>0</td>\n",
              "    </tr>\n",
              "    <tr>\n",
              "      <th>29</th>\n",
              "      <td>0</td>\n",
              "      <td>0</td>\n",
              "    </tr>\n",
              "    <tr>\n",
              "      <th>30</th>\n",
              "      <td>0</td>\n",
              "      <td>0</td>\n",
              "    </tr>\n",
              "    <tr>\n",
              "      <th>31</th>\n",
              "      <td>0</td>\n",
              "      <td>0</td>\n",
              "    </tr>\n",
              "    <tr>\n",
              "      <th>32</th>\n",
              "      <td>0</td>\n",
              "      <td>0</td>\n",
              "    </tr>\n",
              "    <tr>\n",
              "      <th>33</th>\n",
              "      <td>0</td>\n",
              "      <td>0</td>\n",
              "    </tr>\n",
              "  </tbody>\n",
              "</table>\n",
              "</div>"
            ],
            "text/plain": [
              "    Pred  cat\n",
              "0      0    0\n",
              "1      1    0\n",
              "2      0    0\n",
              "3      0    0\n",
              "4      0    0\n",
              "5      0    0\n",
              "6      0    0\n",
              "7      0    0\n",
              "8      0    0\n",
              "9      0    0\n",
              "10     1    0\n",
              "11     1    1\n",
              "12     1    1\n",
              "13     0    1\n",
              "14     1    1\n",
              "15     0    1\n",
              "16     0    0\n",
              "17     0    0\n",
              "18     0    1\n",
              "19     1    1\n",
              "20     0    0\n",
              "21     0    1\n",
              "22     1    1\n",
              "23     1    1\n",
              "24     1    1\n",
              "25     1    1\n",
              "26     0    1\n",
              "27     0    1\n",
              "28     0    0\n",
              "29     0    0\n",
              "30     0    0\n",
              "31     0    0\n",
              "32     0    0\n",
              "33     0    0"
            ]
          },
          "metadata": {
            "tags": []
          },
          "execution_count": 164
        }
      ]
    },
    {
      "cell_type": "markdown",
      "metadata": {
        "id": "PdJnQq2_C8IP",
        "colab_type": "text"
      },
      "source": [
        "Cluster 0 means 'ALL' and cluster 1 means 'AML'."
      ]
    },
    {
      "cell_type": "code",
      "metadata": {
        "id": "g8Jj-cKiC8IP",
        "colab_type": "code",
        "colab": {},
        "outputId": "67855851-7ed1-4852-a141-a1b67ccec3ab"
      },
      "source": [
        "#accuracy of clustering method\n",
        "p=0\n",
        "for i in range(len(df_test_clean)):\n",
        "    if df_pca_model.iloc[i]['Pred'] == df_pca_model.iloc[i]['cat']:\n",
        "        p=p+1\n",
        "print(p/len(df_test_clean))"
      ],
      "execution_count": null,
      "outputs": [
        {
          "output_type": "stream",
          "text": [
            "0.7647058823529411\n"
          ],
          "name": "stdout"
        }
      ]
    },
    {
      "cell_type": "markdown",
      "metadata": {
        "id": "VybzqJrBC8IQ",
        "colab_type": "text"
      },
      "source": [
        "I used K-means clustering method, and it's accuracy is 0.7647058823529411."
      ]
    },
    {
      "cell_type": "code",
      "metadata": {
        "id": "roYSYhtdC8IQ",
        "colab_type": "code",
        "colab": {},
        "outputId": "4387e1d4-5419-4f80-ddf6-1ece2400b9c7"
      },
      "source": [
        "df_pred_1 = df_pca_model[df_pca_model.Pred == 1]\n",
        "df_cat_1 = df_pca_model[df_pca_model.cat == 1]\n",
        "\n",
        "plt.scatter(df_pred_1.iloc[:, 0], df_pred_1.iloc[:, 1],marker = 'o')\n",
        "plt.scatter(df_cat_1.iloc[:, 0], df_cat_1.iloc[:, 1],marker = '^')\n",
        "plt.legend(['Prediction', 'Actual'])"
      ],
      "execution_count": null,
      "outputs": [
        {
          "output_type": "execute_result",
          "data": {
            "text/plain": [
              "<matplotlib.legend.Legend at 0x1a36615e10>"
            ]
          },
          "metadata": {
            "tags": []
          },
          "execution_count": 166
        },
        {
          "output_type": "display_data",
          "data": {
            "image/png": "[encoded data removed]",
            "text/plain": [
              "<Figure size 432x288 with 1 Axes>"
            ]
          },
          "metadata": {
            "tags": [],
            "needs_background": "light"
          }
        }
      ]
    },
    {
      "cell_type": "markdown",
      "metadata": {
        "colab_type": "text",
        "id": "CFs4gbEU8Bda"
      },
      "source": [
        "\n",
        "We can check how accurate the clustering method is from the above graph."
      ]
    }
  ]
}