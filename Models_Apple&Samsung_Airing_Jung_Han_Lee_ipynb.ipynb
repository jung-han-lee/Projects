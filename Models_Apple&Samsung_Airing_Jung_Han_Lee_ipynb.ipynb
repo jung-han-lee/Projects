{
 "cells": [
  {
   "cell_type": "markdown",
   "metadata": {
    "colab_type": "text",
    "id": "xU6fql4bVMlc"
   },
   "source": [
    "# Part 0: Data Preparation"
   ]
  },
  {
   "cell_type": "code",
   "execution_count": 3,
   "metadata": {},
   "outputs": [
    {
     "name": "stdout",
     "output_type": "stream",
     "text": [
      "Collecting xgboost\n",
      "  Using cached xgboost-1.1.1-py3-none-macosx_10_13_x86_64.macosx_10_14_x86_64.macosx_10_15_x86_64.whl (1.1 MB)\n",
      "Requirement already satisfied: scipy in /opt/anaconda3/lib/python3.7/site-packages (from xgboost) (1.4.1)\n",
      "Requirement already satisfied: numpy in /opt/anaconda3/lib/python3.7/site-packages (from xgboost) (1.18.1)\n",
      "Installing collected packages: xgboost\n",
      "Successfully installed xgboost-1.1.1\n"
     ]
    }
   ],
   "source": [
    "! pip install xgboost"
   ]
  },
  {
   "cell_type": "code",
   "execution_count": 171,
   "metadata": {
    "colab": {
     "base_uri": "https://localhost:8080/",
     "height": 71
    },
    "colab_type": "code",
    "id": "63kWZYStVMld",
    "outputId": "5744c6cd-4688-4e11-891e-94c3cacdddca"
   },
   "outputs": [],
   "source": [
    "import pandas as pd\n",
    "import numpy as np\n",
    "import matplotlib.pyplot as plt\n",
    "import seaborn as sns\n",
    "from scipy import stats\n",
    "import scipy.stats as stats\n",
    "from scipy.stats import chi2_contingency\n",
    "from sklearn import preprocessing\n",
    "from sklearn.model_selection import train_test_split,KFold\n",
    "from sklearn.linear_model import LinearRegression\n",
    "from sklearn.linear_model import ElasticNet\n",
    "from sklearn.linear_model import Lasso\n",
    "from sklearn.linear_model import Ridge\n",
    "from sklearn.linear_model import LogisticRegression\n",
    "from sklearn.ensemble import RandomForestRegressor,GradientBoostingRegressor\n",
    "from sklearn import metrics\n",
    "import statistics\n",
    "import math\n",
    "import xgboost as xgb\n",
    "from sklearn.base import BaseEstimator, TransformerMixin, RegressorMixin, clone\n",
    "%matplotlib inline\n",
    "\n",
    "import warnings\n",
    "warnings.filterwarnings('ignore')"
   ]
  },
  {
   "cell_type": "code",
   "execution_count": 6,
   "metadata": {
    "colab": {},
    "colab_type": "code",
    "id": "MRQco2NqVMlg"
   },
   "outputs": [],
   "source": [
    "df_apple = pd.read_excel('Airings-Report-Apple.xlsx'\n",
    "                         , header=1, sheet_name='Brand Campaign Details')\n",
    "df_samsung = pd.read_excel('Airings-Report-Samsung.xlsx'\n",
    "                        , header=1, sheet_name='Brand Campaign Details')\n",
    "df = pd.concat([df_apple, df_samsung])\n",
    "df = df.reset_index(drop=True)"
   ]
  },
  {
   "cell_type": "code",
   "execution_count": 7,
   "metadata": {
    "colab": {
     "base_uri": "https://localhost:8080/",
     "height": 34
    },
    "colab_type": "code",
    "id": "aQ5tdQnIVMls",
    "outputId": "0cf1fe94-ca78-461a-cef5-136b43584c5b"
   },
   "outputs": [
    {
     "data": {
      "text/plain": [
       "(16811, 23)"
      ]
     },
     "execution_count": 7,
     "metadata": {},
     "output_type": "execute_result"
    }
   ],
   "source": [
    "df.shape"
   ]
  },
  {
   "cell_type": "code",
   "execution_count": 8,
   "metadata": {
    "colab": {
     "base_uri": "https://localhost:8080/",
     "height": 462
    },
    "colab_type": "code",
    "id": "COZ_Tf9NVMlw",
    "outputId": "84e91bdb-12e0-40fc-bdfe-db972ea19fc3"
   },
   "outputs": [
    {
     "data": {
      "text/html": [
       "<div>\n",
       "<style scoped>\n",
       "    .dataframe tbody tr th:only-of-type {\n",
       "        vertical-align: middle;\n",
       "    }\n",
       "\n",
       "    .dataframe tbody tr th {\n",
       "        vertical-align: top;\n",
       "    }\n",
       "\n",
       "    .dataframe thead th {\n",
       "        text-align: right;\n",
       "    }\n",
       "</style>\n",
       "<table border=\"1\" class=\"dataframe\">\n",
       "  <thead>\n",
       "    <tr style=\"text-align: right;\">\n",
       "      <th></th>\n",
       "      <th>Id</th>\n",
       "      <th>Title</th>\n",
       "      <th>Brand</th>\n",
       "      <th>Product</th>\n",
       "      <th>Category</th>\n",
       "      <th>Network</th>\n",
       "      <th>Network Type</th>\n",
       "      <th>Show</th>\n",
       "      <th>Date</th>\n",
       "      <th>Time</th>\n",
       "      <th>...</th>\n",
       "      <th>Co-Op Product</th>\n",
       "      <th>Duration</th>\n",
       "      <th>EQ Units</th>\n",
       "      <th>Spend ($)</th>\n",
       "      <th>Broadcast Year</th>\n",
       "      <th>Broadcast Month</th>\n",
       "      <th>Broadcast Week</th>\n",
       "      <th>Day Of Week</th>\n",
       "      <th>Hour Of Day</th>\n",
       "      <th>TimeZone</th>\n",
       "    </tr>\n",
       "  </thead>\n",
       "  <tbody>\n",
       "    <tr>\n",
       "      <th>16806</th>\n",
       "      <td>4063180</td>\n",
       "      <td>Samsung Galaxy</td>\n",
       "      <td>Samsung</td>\n",
       "      <td>Samsung Galaxy</td>\n",
       "      <td>Electronics &amp; Communication</td>\n",
       "      <td>FOX News Channel</td>\n",
       "      <td>cable</td>\n",
       "      <td>FOX and Friends</td>\n",
       "      <td>12/03/2019</td>\n",
       "      <td>7:16:42 AM</td>\n",
       "      <td>...</td>\n",
       "      <td>NaN</td>\n",
       "      <td>30</td>\n",
       "      <td>1.0</td>\n",
       "      <td>3491</td>\n",
       "      <td>2019</td>\n",
       "      <td>DEC</td>\n",
       "      <td>49</td>\n",
       "      <td>2</td>\n",
       "      <td>7</td>\n",
       "      <td>US/Eastern</td>\n",
       "    </tr>\n",
       "    <tr>\n",
       "      <th>16807</th>\n",
       "      <td>4063180</td>\n",
       "      <td>Samsung Galaxy</td>\n",
       "      <td>Samsung</td>\n",
       "      <td>Samsung Galaxy</td>\n",
       "      <td>Electronics &amp; Communication</td>\n",
       "      <td>NBC</td>\n",
       "      <td>broadcast</td>\n",
       "      <td>Late Night With Seth Meyers</td>\n",
       "      <td>12/06/2019</td>\n",
       "      <td>1:27:27 AM</td>\n",
       "      <td>...</td>\n",
       "      <td>NaN</td>\n",
       "      <td>30</td>\n",
       "      <td>1.0</td>\n",
       "      <td>5257</td>\n",
       "      <td>2019</td>\n",
       "      <td>DEC</td>\n",
       "      <td>49</td>\n",
       "      <td>5</td>\n",
       "      <td>1</td>\n",
       "      <td>US/Eastern</td>\n",
       "    </tr>\n",
       "    <tr>\n",
       "      <th>16808</th>\n",
       "      <td>3861210</td>\n",
       "      <td>Samsung Galaxy Note 10</td>\n",
       "      <td>Samsung</td>\n",
       "      <td>Samsung Galaxy Note 10</td>\n",
       "      <td>Cell Phones</td>\n",
       "      <td>E!</td>\n",
       "      <td>cable</td>\n",
       "      <td>It's a Wonderful Life</td>\n",
       "      <td>12/25/2019</td>\n",
       "      <td>7:09:21 AM</td>\n",
       "      <td>...</td>\n",
       "      <td>NaN</td>\n",
       "      <td>30</td>\n",
       "      <td>1.0</td>\n",
       "      <td>2122</td>\n",
       "      <td>2019</td>\n",
       "      <td>DEC</td>\n",
       "      <td>52</td>\n",
       "      <td>3</td>\n",
       "      <td>7</td>\n",
       "      <td>US/Eastern</td>\n",
       "    </tr>\n",
       "    <tr>\n",
       "      <th>16809</th>\n",
       "      <td>3618599</td>\n",
       "      <td>Samsung Galaxy S10</td>\n",
       "      <td>Samsung</td>\n",
       "      <td>Samsung Galaxy S10</td>\n",
       "      <td>Cell Phones</td>\n",
       "      <td>FOX Sports 2</td>\n",
       "      <td>cable</td>\n",
       "      <td>FS1 College Football Playoff Preview</td>\n",
       "      <td>12/23/2019</td>\n",
       "      <td>11:41:32 PM</td>\n",
       "      <td>...</td>\n",
       "      <td>NaN</td>\n",
       "      <td>30</td>\n",
       "      <td>1.0</td>\n",
       "      <td>32</td>\n",
       "      <td>2019</td>\n",
       "      <td>DEC</td>\n",
       "      <td>52</td>\n",
       "      <td>1</td>\n",
       "      <td>23</td>\n",
       "      <td>US/Eastern</td>\n",
       "    </tr>\n",
       "    <tr>\n",
       "      <th>16810</th>\n",
       "      <td>3861210</td>\n",
       "      <td>Samsung Galaxy Note 10</td>\n",
       "      <td>Samsung</td>\n",
       "      <td>Samsung Galaxy Note 10</td>\n",
       "      <td>Cell Phones</td>\n",
       "      <td>CBS</td>\n",
       "      <td>broadcast</td>\n",
       "      <td>Carol's Second Act</td>\n",
       "      <td>12/25/2019</td>\n",
       "      <td>9:53:06 PM</td>\n",
       "      <td>...</td>\n",
       "      <td>NaN</td>\n",
       "      <td>30</td>\n",
       "      <td>1.0</td>\n",
       "      <td>109063</td>\n",
       "      <td>2019</td>\n",
       "      <td>DEC</td>\n",
       "      <td>52</td>\n",
       "      <td>3</td>\n",
       "      <td>21</td>\n",
       "      <td>US/Eastern</td>\n",
       "    </tr>\n",
       "  </tbody>\n",
       "</table>\n",
       "<p>5 rows × 23 columns</p>\n",
       "</div>"
      ],
      "text/plain": [
       "            Id                   Title    Brand                 Product  \\\n",
       "16806  4063180          Samsung Galaxy  Samsung          Samsung Galaxy   \n",
       "16807  4063180          Samsung Galaxy  Samsung          Samsung Galaxy   \n",
       "16808  3861210  Samsung Galaxy Note 10  Samsung  Samsung Galaxy Note 10   \n",
       "16809  3618599      Samsung Galaxy S10  Samsung      Samsung Galaxy S10   \n",
       "16810  3861210  Samsung Galaxy Note 10  Samsung  Samsung Galaxy Note 10   \n",
       "\n",
       "                          Category           Network Network Type  \\\n",
       "16806  Electronics & Communication  FOX News Channel        cable   \n",
       "16807  Electronics & Communication               NBC    broadcast   \n",
       "16808                  Cell Phones                E!        cable   \n",
       "16809                  Cell Phones      FOX Sports 2        cable   \n",
       "16810                  Cell Phones               CBS    broadcast   \n",
       "\n",
       "                                       Show        Date         Time  ...  \\\n",
       "16806                       FOX and Friends  12/03/2019   7:16:42 AM  ...   \n",
       "16807           Late Night With Seth Meyers  12/06/2019   1:27:27 AM  ...   \n",
       "16808                 It's a Wonderful Life  12/25/2019   7:09:21 AM  ...   \n",
       "16809  FS1 College Football Playoff Preview  12/23/2019  11:41:32 PM  ...   \n",
       "16810                    Carol's Second Act  12/25/2019   9:53:06 PM  ...   \n",
       "\n",
       "       Co-Op Product Duration  EQ Units  Spend ($)  Broadcast Year  \\\n",
       "16806            NaN       30       1.0       3491            2019   \n",
       "16807            NaN       30       1.0       5257            2019   \n",
       "16808            NaN       30       1.0       2122            2019   \n",
       "16809            NaN       30       1.0         32            2019   \n",
       "16810            NaN       30       1.0     109063            2019   \n",
       "\n",
       "       Broadcast Month  Broadcast Week  Day Of Week Hour Of Day    TimeZone  \n",
       "16806              DEC              49            2           7  US/Eastern  \n",
       "16807              DEC              49            5           1  US/Eastern  \n",
       "16808              DEC              52            3           7  US/Eastern  \n",
       "16809              DEC              52            1          23  US/Eastern  \n",
       "16810              DEC              52            3          21  US/Eastern  \n",
       "\n",
       "[5 rows x 23 columns]"
      ]
     },
     "execution_count": 8,
     "metadata": {},
     "output_type": "execute_result"
    }
   ],
   "source": [
    "df.tail()"
   ]
  },
  {
   "cell_type": "code",
   "execution_count": 9,
   "metadata": {
    "colab": {
     "base_uri": "https://localhost:8080/",
     "height": 361
    },
    "colab_type": "code",
    "id": "a6MPOFokVMl1",
    "outputId": "a5bcf392-38a8-45d1-9032-5e1ca4b71792"
   },
   "outputs": [
    {
     "data": {
      "text/plain": [
       "<matplotlib.axes._subplots.AxesSubplot at 0x1a1efdb4d0>"
      ]
     },
     "execution_count": 9,
     "metadata": {},
     "output_type": "execute_result"
    },
    {
     "data": {
      "image/png": "[encoded data removed]",
      "text/plain": [
       "<Figure size 432x288 with 2 Axes>"
      ]
     },
     "metadata": {
      "needs_background": "light"
     },
     "output_type": "display_data"
    }
   ],
   "source": [
    "sns.heatmap(df.isnull(),yticklabels=False, cmap='plasma')"
   ]
  },
  {
   "cell_type": "code",
   "execution_count": 10,
   "metadata": {
    "colab": {},
    "colab_type": "code",
    "id": "9LdXgTZlVMl5"
   },
   "outputs": [],
   "source": [
    "# Dropped those columns since all of there values are NaN\n",
    "df.drop(columns=['Co-Op Brand','Co-Op Product'], inplace=True)"
   ]
  },
  {
   "cell_type": "code",
   "execution_count": 11,
   "metadata": {
    "colab": {},
    "colab_type": "code",
    "id": "x55H7BYPVMl9"
   },
   "outputs": [],
   "source": [
    "spend = df.pop('Spend ($)')\n",
    "df['Cost']=spend "
   ]
  },
  {
   "cell_type": "code",
   "execution_count": 12,
   "metadata": {
    "colab": {
     "base_uri": "https://localhost:8080/",
     "height": 102
    },
    "colab_type": "code",
    "id": "FNT1SgqwVMl_",
    "outputId": "7ce48ff2-1ec3-4813-aae9-b00cacb7186b",
    "scrolled": true
   },
   "outputs": [
    {
     "data": {
      "text/plain": [
       "Index(['Id', 'Title', 'Brand', 'Product', 'Category', 'Network',\n",
       "       'Network Type', 'Show', 'Date', 'Time', 'Pod Position', 'Dayparts',\n",
       "       'Duration', 'EQ Units', 'Broadcast Year', 'Broadcast Month',\n",
       "       'Broadcast Week', 'Day Of Week', 'Hour Of Day', 'TimeZone', 'Cost'],\n",
       "      dtype='object')"
      ]
     },
     "execution_count": 12,
     "metadata": {},
     "output_type": "execute_result"
    }
   ],
   "source": [
    "df.columns"
   ]
  },
  {
   "cell_type": "code",
   "execution_count": 13,
   "metadata": {
    "colab": {},
    "colab_type": "code",
    "id": "NJhs7kM7VMmD"
   },
   "outputs": [],
   "source": [
    "df.drop(columns=['Date','Time'], inplace=True)\n",
    "df[['Broadcast Year', 'Broadcast Week', 'Day Of Week', 'Hour Of Day']] = df[['Broadcast Year', 'Broadcast Week', 'Day Of Week', 'Hour Of Day']].astype(str)\n",
    "df[['Pod Position']] = df[['Pod Position']].astype(str)\n",
    "df[['Id']] = df[['Id']].astype(str)\n"
   ]
  },
  {
   "cell_type": "code",
   "execution_count": 14,
   "metadata": {
    "colab": {
     "base_uri": "https://localhost:8080/",
     "height": 307
    },
    "colab_type": "code",
    "id": "4061H7A5VMmF",
    "outputId": "0d7510da-c2c6-4784-d3b0-9722d4c459ac",
    "scrolled": true
   },
   "outputs": [
    {
     "data": {
      "text/plain": [
       "<matplotlib.axes._subplots.AxesSubplot at 0x1a20225f50>"
      ]
     },
     "execution_count": 14,
     "metadata": {},
     "output_type": "execute_result"
    },
    {
     "data": {
      "image/png": "[encoded data removed]",
      "text/plain": [
       "<Figure size 432x288 with 1 Axes>"
      ]
     },
     "metadata": {
      "needs_background": "light"
     },
     "output_type": "display_data"
    }
   ],
   "source": [
    "sns.distplot(df['Cost'])"
   ]
  },
  {
   "cell_type": "code",
   "execution_count": 15,
   "metadata": {
    "colab": {
     "base_uri": "https://localhost:8080/",
     "height": 170
    },
    "colab_type": "code",
    "id": "kegG7gDCVMmJ",
    "outputId": "18ec5489-049b-4a70-c42b-303446878055"
   },
   "outputs": [
    {
     "data": {
      "text/plain": [
       "count    1.681100e+04\n",
       "mean     7.592298e+03\n",
       "std      4.009662e+04\n",
       "min      0.000000e+00\n",
       "25%      1.340000e+02\n",
       "50%      5.690000e+02\n",
       "75%      1.868000e+03\n",
       "max      1.130473e+06\n",
       "Name: Cost, dtype: float64"
      ]
     },
     "execution_count": 15,
     "metadata": {},
     "output_type": "execute_result"
    }
   ],
   "source": [
    "df['Cost'].describe()"
   ]
  },
  {
   "cell_type": "code",
   "execution_count": 16,
   "metadata": {
    "colab": {
     "base_uri": "https://localhost:8080/",
     "height": 51
    },
    "colab_type": "code",
    "id": "2O605gQlVMmL",
    "outputId": "20e65b07-f852-4eab-89d0-727440350672",
    "scrolled": true
   },
   "outputs": [
    {
     "name": "stdout",
     "output_type": "stream",
     "text": [
      "Skewness: 11.859168\n",
      "Kurtosis: 187.934735\n"
     ]
    }
   ],
   "source": [
    "#skewness and kurtosis\n",
    "print(\"Skewness: %f\" % df['Cost'].skew())\n",
    "print(\"Kurtosis: %f\" % df['Cost'].kurt())"
   ]
  },
  {
   "cell_type": "code",
   "execution_count": 17,
   "metadata": {
    "colab": {
     "base_uri": "https://localhost:8080/",
     "height": 286
    },
    "colab_type": "code",
    "id": "7-0YyeFsVMmO",
    "outputId": "1d05656b-30ef-4487-adda-bd0cb3ccc93f",
    "scrolled": true
   },
   "outputs": [
    {
     "data": {
      "text/plain": [
       "<matplotlib.axes._subplots.AxesSubplot at 0x1a1fc13690>"
      ]
     },
     "execution_count": 17,
     "metadata": {},
     "output_type": "execute_result"
    },
    {
     "data": {
      "image/png": "[encoded data removed]",
      "text/plain": [
       "<Figure size 432x288 with 2 Axes>"
      ]
     },
     "metadata": {
      "needs_background": "light"
     },
     "output_type": "display_data"
    }
   ],
   "source": [
    "corr = df.corr()\n",
    "sns.heatmap(corr, vmin=-1, vmax=1,annot=True,annot_kws={'size': 10})"
   ]
  },
  {
   "cell_type": "code",
   "execution_count": 18,
   "metadata": {
    "colab": {},
    "colab_type": "code",
    "id": "qET5EcVuVMmP"
   },
   "outputs": [],
   "source": [
    "#drop 'EQ Units'\n",
    "df.drop(columns=['EQ Units'], inplace=True)"
   ]
  },
  {
   "cell_type": "code",
   "execution_count": 19,
   "metadata": {
    "colab": {
     "base_uri": "https://localhost:8080/",
     "height": 286
    },
    "colab_type": "code",
    "id": "PbalATqTVMmS",
    "outputId": "1628821a-80b3-4249-fc07-15621a29609f",
    "scrolled": true
   },
   "outputs": [
    {
     "data": {
      "text/plain": [
       "<matplotlib.axes._subplots.AxesSubplot at 0x1a1ffae790>"
      ]
     },
     "execution_count": 19,
     "metadata": {},
     "output_type": "execute_result"
    },
    {
     "data": {
      "image/png": "[encoded data removed]",
      "text/plain": [
       "<Figure size 432x288 with 2 Axes>"
      ]
     },
     "metadata": {
      "needs_background": "light"
     },
     "output_type": "display_data"
    }
   ],
   "source": [
    "corr = df.corr()\n",
    "sns.heatmap(corr, vmin=-1, vmax=1,annot=True,annot_kws={'size': 10})"
   ]
  },
  {
   "cell_type": "markdown",
   "metadata": {
    "colab_type": "text",
    "id": "8o70HOsQVMmU"
   },
   "source": [
    "## Check correlation among categorical variables"
   ]
  },
  {
   "cell_type": "code",
   "execution_count": 20,
   "metadata": {
    "colab": {},
    "colab_type": "code",
    "id": "Jt4hL31oVMmV"
   },
   "outputs": [],
   "source": [
    "def cramers_V(var1,var2) :\n",
    "    crosstab =np.array(pd.crosstab(var1,var2, rownames=None, colnames=None)) # Cross table building\n",
    "    stat = chi2_contingency(crosstab)[0] # Keeping of the test statistic of the Chi2 test\n",
    "    obs = np.sum(crosstab) # Number of observations\n",
    "    mini = min(crosstab.shape)-1 # Take the minimum value between the columns and the rows of the cross table\n",
    "    return (stat/(obs*mini))"
   ]
  },
  {
   "cell_type": "code",
   "execution_count": 21,
   "metadata": {
    "colab": {},
    "colab_type": "code",
    "id": "gSPnGikfVMmX"
   },
   "outputs": [],
   "source": [
    "def cat_corr(df):\n",
    "    label = preprocessing.LabelEncoder()\n",
    "    data_encoded = pd.DataFrame() \n",
    "    cats = ['Cost','Id','Title','Brand', 'Product','Pod Position', 'Category','Network','Network Type','Show','Dayparts'\n",
    "       ,'Broadcast Year','Broadcast Month','Broadcast Week','Day Of Week','Hour Of Day','TimeZone']\n",
    "\n",
    "    for i in cats :\n",
    "        data_encoded[i]=label.fit_transform(df[i])\n",
    "    \n",
    "    rows= []\n",
    "\n",
    "    for var1 in data_encoded:\n",
    "        col = []\n",
    "        for var2 in data_encoded :\n",
    "            cramers =cramers_V(data_encoded[var1], data_encoded[var2]) # Cramer's V test\n",
    "            col.append(round(cramers,2)) # Keeping of the rounded value of the Cramer's V  \n",
    "        rows.append(col)\n",
    "\n",
    "    \n",
    "    cramers_results = np.array(rows)\n",
    "    df = pd.DataFrame(cramers_results, columns = data_encoded.columns, index =data_encoded.columns)\n",
    "    return df"
   ]
  },
  {
   "cell_type": "code",
   "execution_count": 22,
   "metadata": {
    "colab": {
     "base_uri": "https://localhost:8080/",
     "height": 578
    },
    "colab_type": "code",
    "id": "h2t3rqS-VMmZ",
    "outputId": "01852f2d-df47-4f96-d26d-85c697d40d54",
    "scrolled": false
   },
   "outputs": [
    {
     "data": {
      "text/plain": [
       "<matplotlib.axes._subplots.AxesSubplot at 0x1a1fed4310>"
      ]
     },
     "execution_count": 22,
     "metadata": {},
     "output_type": "execute_result"
    },
    {
     "data": {
      "image/png": "[encoded data removed]",
      "text/plain": [
       "<Figure size 576x576 with 2 Axes>"
      ]
     },
     "metadata": {
      "needs_background": "light"
     },
     "output_type": "display_data"
    }
   ],
   "source": [
    "fig, ax = plt.subplots(figsize=(8,8))\n",
    "sns.heatmap(cat_corr(df), annot=True,annot_kws={'size': 10})"
   ]
  },
  {
   "cell_type": "code",
   "execution_count": 23,
   "metadata": {
    "colab": {},
    "colab_type": "code",
    "id": "7zeUga_nVMmc"
   },
   "outputs": [],
   "source": [
    "#Drop 'Id', 'Brand', 'Product', 'Category', 'Network Type', 'Broadcast Month' and 'TimeZone'\n",
    "df.drop(columns=['Id','Brand', 'Product', 'Category', 'Network Type', 'TimeZone', 'Broadcast Year','Broadcast Month'], inplace=True)"
   ]
  },
  {
   "cell_type": "code",
   "execution_count": 24,
   "metadata": {
    "colab": {
     "base_uri": "https://localhost:8080/",
     "height": 306
    },
    "colab_type": "code",
    "id": "F28ZxsAcAC_F",
    "outputId": "ae9a3933-8b22-45c1-cd19-6f1a760a581e"
   },
   "outputs": [
    {
     "data": {
      "text/html": [
       "<div>\n",
       "<style scoped>\n",
       "    .dataframe tbody tr th:only-of-type {\n",
       "        vertical-align: middle;\n",
       "    }\n",
       "\n",
       "    .dataframe tbody tr th {\n",
       "        vertical-align: top;\n",
       "    }\n",
       "\n",
       "    .dataframe thead th {\n",
       "        text-align: right;\n",
       "    }\n",
       "</style>\n",
       "<table border=\"1\" class=\"dataframe\">\n",
       "  <thead>\n",
       "    <tr style=\"text-align: right;\">\n",
       "      <th></th>\n",
       "      <th>Title</th>\n",
       "      <th>Network</th>\n",
       "      <th>Show</th>\n",
       "      <th>Pod Position</th>\n",
       "      <th>Dayparts</th>\n",
       "      <th>Duration</th>\n",
       "      <th>Broadcast Week</th>\n",
       "      <th>Day Of Week</th>\n",
       "      <th>Hour Of Day</th>\n",
       "      <th>Cost</th>\n",
       "    </tr>\n",
       "  </thead>\n",
       "  <tbody>\n",
       "    <tr>\n",
       "      <th>0</th>\n",
       "      <td>Apple Music Bazzi</td>\n",
       "      <td>MTVU</td>\n",
       "      <td>mtvU Music Block</td>\n",
       "      <td>2</td>\n",
       "      <td>PRIME TIME</td>\n",
       "      <td>30</td>\n",
       "      <td>42</td>\n",
       "      <td>4</td>\n",
       "      <td>21</td>\n",
       "      <td>1</td>\n",
       "    </tr>\n",
       "    <tr>\n",
       "      <th>1</th>\n",
       "      <td>Apple iPhone 11 Pro</td>\n",
       "      <td>MLB Network</td>\n",
       "      <td>MLB Tonight</td>\n",
       "      <td>2</td>\n",
       "      <td>PRIME ACCESS</td>\n",
       "      <td>30</td>\n",
       "      <td>41</td>\n",
       "      <td>5</td>\n",
       "      <td>19</td>\n",
       "      <td>810</td>\n",
       "    </tr>\n",
       "    <tr>\n",
       "      <th>2</th>\n",
       "      <td>Verizon With Apple Music</td>\n",
       "      <td>ESPN Deportes</td>\n",
       "      <td>Fútbol picante</td>\n",
       "      <td>6</td>\n",
       "      <td>OVERNIGHT</td>\n",
       "      <td>30</td>\n",
       "      <td>41</td>\n",
       "      <td>1</td>\n",
       "      <td>3</td>\n",
       "      <td>6</td>\n",
       "    </tr>\n",
       "    <tr>\n",
       "      <th>3</th>\n",
       "      <td>Apple iPhone 11 Pro</td>\n",
       "      <td>MLB Network</td>\n",
       "      <td>MLB Tonight</td>\n",
       "      <td>2</td>\n",
       "      <td>PRIME TIME</td>\n",
       "      <td>30</td>\n",
       "      <td>41</td>\n",
       "      <td>1</td>\n",
       "      <td>20</td>\n",
       "      <td>1014</td>\n",
       "    </tr>\n",
       "    <tr>\n",
       "      <th>4</th>\n",
       "      <td>Verizon With Apple Music</td>\n",
       "      <td>Univision</td>\n",
       "      <td>¡Despierta América!</td>\n",
       "      <td>11</td>\n",
       "      <td>EARLY MORNING</td>\n",
       "      <td>30</td>\n",
       "      <td>40</td>\n",
       "      <td>4</td>\n",
       "      <td>8</td>\n",
       "      <td>2507</td>\n",
       "    </tr>\n",
       "  </tbody>\n",
       "</table>\n",
       "</div>"
      ],
      "text/plain": [
       "                      Title        Network                 Show Pod Position  \\\n",
       "0         Apple Music Bazzi           MTVU     mtvU Music Block            2   \n",
       "1       Apple iPhone 11 Pro    MLB Network          MLB Tonight            2   \n",
       "2  Verizon With Apple Music  ESPN Deportes       Fútbol picante            6   \n",
       "3       Apple iPhone 11 Pro    MLB Network          MLB Tonight            2   \n",
       "4  Verizon With Apple Music      Univision  ¡Despierta América!           11   \n",
       "\n",
       "        Dayparts  Duration Broadcast Week Day Of Week Hour Of Day  Cost  \n",
       "0     PRIME TIME        30             42           4          21     1  \n",
       "1   PRIME ACCESS        30             41           5          19   810  \n",
       "2      OVERNIGHT        30             41           1           3     6  \n",
       "3     PRIME TIME        30             41           1          20  1014  \n",
       "4  EARLY MORNING        30             40           4           8  2507  "
      ]
     },
     "execution_count": 24,
     "metadata": {},
     "output_type": "execute_result"
    }
   ],
   "source": [
    "df.head()"
   ]
  },
  {
   "cell_type": "code",
   "execution_count": 25,
   "metadata": {
    "colab": {},
    "colab_type": "code",
    "id": "itY3WjkuVMmf"
   },
   "outputs": [],
   "source": [
    "df['Cost_log']=np.log(df['Cost'])"
   ]
  },
  {
   "cell_type": "markdown",
   "metadata": {
    "colab_type": "text",
    "id": "gW3p3rItVMmi"
   },
   "source": [
    "## Outliers detection"
   ]
  },
  {
   "cell_type": "code",
   "execution_count": 26,
   "metadata": {
    "colab": {
     "base_uri": "https://localhost:8080/",
     "height": 359
    },
    "colab_type": "code",
    "id": "RTIeSv11VMmj",
    "outputId": "6a991f16-3210-4b64-9ab1-408421f83d73",
    "scrolled": true
   },
   "outputs": [
    {
     "data": {
      "text/plain": [
       "(-0.5, 6.5, 0, 20)"
      ]
     },
     "execution_count": 26,
     "metadata": {},
     "output_type": "execute_result"
    },
    {
     "data": {
      "image/png": "[encoded data removed]",
      "text/plain": [
       "<Figure size 1440x432 with 1 Axes>"
      ]
     },
     "metadata": {
      "needs_background": "light"
     },
     "output_type": "display_data"
    }
   ],
   "source": [
    "#box plot Day of Week/cost\n",
    "var = 'Day Of Week'\n",
    "data = pd.concat([df['Cost_log'], df[var]], axis=1)\n",
    "f, ax = plt.subplots(figsize=(20, 6))\n",
    "fig = sns.boxplot(x=var, y=\"Cost_log\", data=data)\n",
    "fig.axis(ymin=0, ymax=20)"
   ]
  },
  {
   "cell_type": "markdown",
   "metadata": {
    "colab_type": "text",
    "id": "58fw4YDaVMml"
   },
   "source": [
    "From the above chart, I can say that no need to remove any data."
   ]
  },
  {
   "cell_type": "markdown",
   "metadata": {
    "colab_type": "text",
    "id": "qVoTKIjHVMml"
   },
   "source": [
    "## Categorize the 'Cost' Variable : For Classification Modeling"
   ]
  },
  {
   "cell_type": "code",
   "execution_count": 27,
   "metadata": {
    "colab": {},
    "colab_type": "code",
    "id": "bOwOTMg9VMmm"
   },
   "outputs": [],
   "source": [
    "Cost_cat = []\n",
    "for cost in df.Cost:\n",
    "    if cost < 10000:\n",
    "        Cost_cat.append('Under 10k')\n",
    "    elif cost<100000:\n",
    "        Cost_cat.append('10k')\n",
    "    elif cost<100000:\n",
    "        Cost_cat.append('100k')\n",
    "    else:\n",
    "        Cost_cat.append('Over 100k')\n",
    "df['Cost_cat'] = Cost_cat"
   ]
  },
  {
   "cell_type": "code",
   "execution_count": 28,
   "metadata": {
    "colab": {
     "base_uri": "https://localhost:8080/",
     "height": 227
    },
    "colab_type": "code",
    "id": "sC0VsYkBVMmo",
    "outputId": "ab5aebda-5713-4520-ce5e-dfbbb3a0a6e1"
   },
   "outputs": [
    {
     "data": {
      "text/html": [
       "<div>\n",
       "<style scoped>\n",
       "    .dataframe tbody tr th:only-of-type {\n",
       "        vertical-align: middle;\n",
       "    }\n",
       "\n",
       "    .dataframe tbody tr th {\n",
       "        vertical-align: top;\n",
       "    }\n",
       "\n",
       "    .dataframe thead th {\n",
       "        text-align: right;\n",
       "    }\n",
       "</style>\n",
       "<table border=\"1\" class=\"dataframe\">\n",
       "  <thead>\n",
       "    <tr style=\"text-align: right;\">\n",
       "      <th></th>\n",
       "      <th>Title</th>\n",
       "      <th>Network</th>\n",
       "      <th>Show</th>\n",
       "      <th>Pod Position</th>\n",
       "      <th>Dayparts</th>\n",
       "      <th>Duration</th>\n",
       "      <th>Broadcast Week</th>\n",
       "      <th>Day Of Week</th>\n",
       "      <th>Hour Of Day</th>\n",
       "      <th>Cost</th>\n",
       "      <th>Cost_log</th>\n",
       "      <th>Cost_cat</th>\n",
       "    </tr>\n",
       "  </thead>\n",
       "  <tbody>\n",
       "    <tr>\n",
       "      <th>0</th>\n",
       "      <td>Apple Music Bazzi</td>\n",
       "      <td>MTVU</td>\n",
       "      <td>mtvU Music Block</td>\n",
       "      <td>2</td>\n",
       "      <td>PRIME TIME</td>\n",
       "      <td>30</td>\n",
       "      <td>42</td>\n",
       "      <td>4</td>\n",
       "      <td>21</td>\n",
       "      <td>1</td>\n",
       "      <td>0.000000</td>\n",
       "      <td>Under 10k</td>\n",
       "    </tr>\n",
       "    <tr>\n",
       "      <th>1</th>\n",
       "      <td>Apple iPhone 11 Pro</td>\n",
       "      <td>MLB Network</td>\n",
       "      <td>MLB Tonight</td>\n",
       "      <td>2</td>\n",
       "      <td>PRIME ACCESS</td>\n",
       "      <td>30</td>\n",
       "      <td>41</td>\n",
       "      <td>5</td>\n",
       "      <td>19</td>\n",
       "      <td>810</td>\n",
       "      <td>6.697034</td>\n",
       "      <td>Under 10k</td>\n",
       "    </tr>\n",
       "    <tr>\n",
       "      <th>2</th>\n",
       "      <td>Verizon With Apple Music</td>\n",
       "      <td>ESPN Deportes</td>\n",
       "      <td>Fútbol picante</td>\n",
       "      <td>6</td>\n",
       "      <td>OVERNIGHT</td>\n",
       "      <td>30</td>\n",
       "      <td>41</td>\n",
       "      <td>1</td>\n",
       "      <td>3</td>\n",
       "      <td>6</td>\n",
       "      <td>1.791759</td>\n",
       "      <td>Under 10k</td>\n",
       "    </tr>\n",
       "  </tbody>\n",
       "</table>\n",
       "</div>"
      ],
      "text/plain": [
       "                      Title        Network              Show Pod Position  \\\n",
       "0         Apple Music Bazzi           MTVU  mtvU Music Block            2   \n",
       "1       Apple iPhone 11 Pro    MLB Network       MLB Tonight            2   \n",
       "2  Verizon With Apple Music  ESPN Deportes    Fútbol picante            6   \n",
       "\n",
       "       Dayparts  Duration Broadcast Week Day Of Week Hour Of Day  Cost  \\\n",
       "0    PRIME TIME        30             42           4          21     1   \n",
       "1  PRIME ACCESS        30             41           5          19   810   \n",
       "2     OVERNIGHT        30             41           1           3     6   \n",
       "\n",
       "   Cost_log   Cost_cat  \n",
       "0  0.000000  Under 10k  \n",
       "1  6.697034  Under 10k  \n",
       "2  1.791759  Under 10k  "
      ]
     },
     "execution_count": 28,
     "metadata": {},
     "output_type": "execute_result"
    }
   ],
   "source": [
    "df.head(3)"
   ]
  },
  {
   "cell_type": "markdown",
   "metadata": {
    "colab_type": "text",
    "id": "qO0mnqO_VMms"
   },
   "source": [
    "## Dummy Coding"
   ]
  },
  {
   "cell_type": "code",
   "execution_count": 29,
   "metadata": {
    "colab": {},
    "colab_type": "code",
    "id": "qRQMJ3iZVMms"
   },
   "outputs": [],
   "source": [
    "df_dummy = pd.get_dummies(df, columns=['Title', 'Network', 'Show', 'Pod Position','Dayparts',\n",
    "                                       'Broadcast Week','Day Of Week','Hour Of Day'], drop_first=True)"
   ]
  },
  {
   "cell_type": "code",
   "execution_count": 30,
   "metadata": {
    "colab": {
     "base_uri": "https://localhost:8080/",
     "height": 34
    },
    "colab_type": "code",
    "id": "CGonxKIMVMmu",
    "outputId": "678b197f-6499-4c5a-f3a7-d3a357a010b4"
   },
   "outputs": [
    {
     "data": {
      "text/plain": [
       "(16811, 1964)"
      ]
     },
     "execution_count": 30,
     "metadata": {},
     "output_type": "execute_result"
    }
   ],
   "source": [
    "df_dummy.shape"
   ]
  },
  {
   "cell_type": "code",
   "execution_count": 31,
   "metadata": {
    "colab": {
     "base_uri": "https://localhost:8080/",
     "height": 221
    },
    "colab_type": "code",
    "id": "Z1khTDq8VMmx",
    "outputId": "8a535a97-ef1e-4451-e54e-1dc65278a90b",
    "scrolled": false
   },
   "outputs": [
    {
     "data": {
      "text/plain": [
       "0         0.000000\n",
       "1         6.697034\n",
       "2         1.791759\n",
       "3         6.921658\n",
       "4         7.826842\n",
       "           ...    \n",
       "16806     8.157944\n",
       "16807     8.567316\n",
       "16808     7.660114\n",
       "16809     3.465736\n",
       "16810    11.599681\n",
       "Name: Cost_log, Length: 16811, dtype: float64"
      ]
     },
     "execution_count": 31,
     "metadata": {},
     "output_type": "execute_result"
    }
   ],
   "source": [
    "df_dummy['Cost_log']"
   ]
  },
  {
   "cell_type": "code",
   "execution_count": 32,
   "metadata": {
    "colab": {},
    "colab_type": "code",
    "id": "lM2zC-1RVMm0"
   },
   "outputs": [],
   "source": [
    "delete_row = df_dummy[df_dummy[\"Cost_log\"]==float('-inf')].index\n",
    "df_dummy = df_dummy.drop(delete_row)\n",
    "df_dummy = df_dummy.reset_index(drop=True)"
   ]
  },
  {
   "cell_type": "code",
   "execution_count": 33,
   "metadata": {
    "colab": {
     "base_uri": "https://localhost:8080/",
     "height": 297
    },
    "colab_type": "code",
    "id": "dHr4oUdsVMm1",
    "outputId": "3ee99b4b-14fb-4c69-af10-d44159b9a087",
    "scrolled": false
   },
   "outputs": [
    {
     "data": {
      "text/plain": [
       "<matplotlib.axes._subplots.AxesSubplot at 0x1a1ff07110>"
      ]
     },
     "execution_count": 33,
     "metadata": {},
     "output_type": "execute_result"
    },
    {
     "data": {
      "image/png": "[encoded data removed]",
      "text/plain": [
       "<Figure size 432x288 with 1 Axes>"
      ]
     },
     "metadata": {
      "needs_background": "light"
     },
     "output_type": "display_data"
    }
   ],
   "source": [
    "sns.distplot(df_dummy['Cost_log'])"
   ]
  },
  {
   "cell_type": "markdown",
   "metadata": {
    "colab_type": "text",
    "id": "9VQ4z-RDVMm4"
   },
   "source": [
    "## Scale"
   ]
  },
  {
   "cell_type": "code",
   "execution_count": 34,
   "metadata": {
    "colab": {},
    "colab_type": "code",
    "id": "VTYZGn0kVMm5"
   },
   "outputs": [],
   "source": [
    "from sklearn.preprocessing import StandardScaler\n",
    "scaler = StandardScaler()"
   ]
  },
  {
   "cell_type": "code",
   "execution_count": 35,
   "metadata": {
    "colab": {},
    "colab_type": "code",
    "id": "RVGN8TX1VMm8"
   },
   "outputs": [],
   "source": [
    "y = df_dummy.Cost_log\n",
    "x = df_dummy.drop(columns=[\"Cost\", \"Cost_log\", \"Cost_cat\"], axis = 1)"
   ]
  },
  {
   "cell_type": "code",
   "execution_count": 36,
   "metadata": {
    "colab": {
     "base_uri": "https://localhost:8080/",
     "height": 372
    },
    "colab_type": "code",
    "id": "vcpKz5y3VMm-",
    "outputId": "ebc79500-4560-48c3-fd62-62a4cfd3db73",
    "scrolled": true
   },
   "outputs": [
    {
     "data": {
      "text/html": [
       "<div>\n",
       "<style scoped>\n",
       "    .dataframe tbody tr th:only-of-type {\n",
       "        vertical-align: middle;\n",
       "    }\n",
       "\n",
       "    .dataframe tbody tr th {\n",
       "        vertical-align: top;\n",
       "    }\n",
       "\n",
       "    .dataframe thead th {\n",
       "        text-align: right;\n",
       "    }\n",
       "</style>\n",
       "<table border=\"1\" class=\"dataframe\">\n",
       "  <thead>\n",
       "    <tr style=\"text-align: right;\">\n",
       "      <th></th>\n",
       "      <th>Duration</th>\n",
       "      <th>Title_Apple</th>\n",
       "      <th>Title_Apple \"Share Your Gifts\"</th>\n",
       "      <th>Title_Apple App Store</th>\n",
       "      <th>Title_Apple Behind The Mac</th>\n",
       "      <th>Title_Apple Card</th>\n",
       "      <th>Title_Apple HomePod</th>\n",
       "      <th>Title_Apple IPhone 11 Pro</th>\n",
       "      <th>Title_Apple IPhone 11Pro</th>\n",
       "      <th>Title_Apple Mac mini</th>\n",
       "      <th>...</th>\n",
       "      <th>Hour Of Day_21</th>\n",
       "      <th>Hour Of Day_22</th>\n",
       "      <th>Hour Of Day_23</th>\n",
       "      <th>Hour Of Day_3</th>\n",
       "      <th>Hour Of Day_4</th>\n",
       "      <th>Hour Of Day_5</th>\n",
       "      <th>Hour Of Day_6</th>\n",
       "      <th>Hour Of Day_7</th>\n",
       "      <th>Hour Of Day_8</th>\n",
       "      <th>Hour Of Day_9</th>\n",
       "    </tr>\n",
       "  </thead>\n",
       "  <tbody>\n",
       "    <tr>\n",
       "      <th>0</th>\n",
       "      <td>30</td>\n",
       "      <td>0</td>\n",
       "      <td>0</td>\n",
       "      <td>0</td>\n",
       "      <td>0</td>\n",
       "      <td>0</td>\n",
       "      <td>0</td>\n",
       "      <td>0</td>\n",
       "      <td>0</td>\n",
       "      <td>0</td>\n",
       "      <td>...</td>\n",
       "      <td>1</td>\n",
       "      <td>0</td>\n",
       "      <td>0</td>\n",
       "      <td>0</td>\n",
       "      <td>0</td>\n",
       "      <td>0</td>\n",
       "      <td>0</td>\n",
       "      <td>0</td>\n",
       "      <td>0</td>\n",
       "      <td>0</td>\n",
       "    </tr>\n",
       "    <tr>\n",
       "      <th>1</th>\n",
       "      <td>30</td>\n",
       "      <td>0</td>\n",
       "      <td>0</td>\n",
       "      <td>0</td>\n",
       "      <td>0</td>\n",
       "      <td>0</td>\n",
       "      <td>0</td>\n",
       "      <td>0</td>\n",
       "      <td>0</td>\n",
       "      <td>0</td>\n",
       "      <td>...</td>\n",
       "      <td>0</td>\n",
       "      <td>0</td>\n",
       "      <td>0</td>\n",
       "      <td>0</td>\n",
       "      <td>0</td>\n",
       "      <td>0</td>\n",
       "      <td>0</td>\n",
       "      <td>0</td>\n",
       "      <td>0</td>\n",
       "      <td>0</td>\n",
       "    </tr>\n",
       "    <tr>\n",
       "      <th>2</th>\n",
       "      <td>30</td>\n",
       "      <td>0</td>\n",
       "      <td>0</td>\n",
       "      <td>0</td>\n",
       "      <td>0</td>\n",
       "      <td>0</td>\n",
       "      <td>0</td>\n",
       "      <td>0</td>\n",
       "      <td>0</td>\n",
       "      <td>0</td>\n",
       "      <td>...</td>\n",
       "      <td>0</td>\n",
       "      <td>0</td>\n",
       "      <td>0</td>\n",
       "      <td>1</td>\n",
       "      <td>0</td>\n",
       "      <td>0</td>\n",
       "      <td>0</td>\n",
       "      <td>0</td>\n",
       "      <td>0</td>\n",
       "      <td>0</td>\n",
       "    </tr>\n",
       "    <tr>\n",
       "      <th>3</th>\n",
       "      <td>30</td>\n",
       "      <td>0</td>\n",
       "      <td>0</td>\n",
       "      <td>0</td>\n",
       "      <td>0</td>\n",
       "      <td>0</td>\n",
       "      <td>0</td>\n",
       "      <td>0</td>\n",
       "      <td>0</td>\n",
       "      <td>0</td>\n",
       "      <td>...</td>\n",
       "      <td>0</td>\n",
       "      <td>0</td>\n",
       "      <td>0</td>\n",
       "      <td>0</td>\n",
       "      <td>0</td>\n",
       "      <td>0</td>\n",
       "      <td>0</td>\n",
       "      <td>0</td>\n",
       "      <td>0</td>\n",
       "      <td>0</td>\n",
       "    </tr>\n",
       "    <tr>\n",
       "      <th>4</th>\n",
       "      <td>30</td>\n",
       "      <td>0</td>\n",
       "      <td>0</td>\n",
       "      <td>0</td>\n",
       "      <td>0</td>\n",
       "      <td>0</td>\n",
       "      <td>0</td>\n",
       "      <td>0</td>\n",
       "      <td>0</td>\n",
       "      <td>0</td>\n",
       "      <td>...</td>\n",
       "      <td>0</td>\n",
       "      <td>0</td>\n",
       "      <td>0</td>\n",
       "      <td>0</td>\n",
       "      <td>0</td>\n",
       "      <td>0</td>\n",
       "      <td>0</td>\n",
       "      <td>0</td>\n",
       "      <td>1</td>\n",
       "      <td>0</td>\n",
       "    </tr>\n",
       "  </tbody>\n",
       "</table>\n",
       "<p>5 rows × 1961 columns</p>\n",
       "</div>"
      ],
      "text/plain": [
       "   Duration  Title_Apple  Title_Apple \"Share Your Gifts\"  \\\n",
       "0        30            0                               0   \n",
       "1        30            0                               0   \n",
       "2        30            0                               0   \n",
       "3        30            0                               0   \n",
       "4        30            0                               0   \n",
       "\n",
       "   Title_Apple App Store  Title_Apple Behind The Mac  Title_Apple Card  \\\n",
       "0                      0                           0                 0   \n",
       "1                      0                           0                 0   \n",
       "2                      0                           0                 0   \n",
       "3                      0                           0                 0   \n",
       "4                      0                           0                 0   \n",
       "\n",
       "   Title_Apple HomePod  Title_Apple IPhone 11 Pro  Title_Apple IPhone 11Pro  \\\n",
       "0                    0                          0                         0   \n",
       "1                    0                          0                         0   \n",
       "2                    0                          0                         0   \n",
       "3                    0                          0                         0   \n",
       "4                    0                          0                         0   \n",
       "\n",
       "   Title_Apple Mac mini  ...  Hour Of Day_21  Hour Of Day_22  Hour Of Day_23  \\\n",
       "0                     0  ...               1               0               0   \n",
       "1                     0  ...               0               0               0   \n",
       "2                     0  ...               0               0               0   \n",
       "3                     0  ...               0               0               0   \n",
       "4                     0  ...               0               0               0   \n",
       "\n",
       "   Hour Of Day_3  Hour Of Day_4  Hour Of Day_5  Hour Of Day_6  Hour Of Day_7  \\\n",
       "0              0              0              0              0              0   \n",
       "1              0              0              0              0              0   \n",
       "2              1              0              0              0              0   \n",
       "3              0              0              0              0              0   \n",
       "4              0              0              0              0              0   \n",
       "\n",
       "   Hour Of Day_8  Hour Of Day_9  \n",
       "0              0              0  \n",
       "1              0              0  \n",
       "2              0              0  \n",
       "3              0              0  \n",
       "4              1              0  \n",
       "\n",
       "[5 rows x 1961 columns]"
      ]
     },
     "execution_count": 36,
     "metadata": {},
     "output_type": "execute_result"
    }
   ],
   "source": [
    "x.head()"
   ]
  },
  {
   "cell_type": "code",
   "execution_count": 37,
   "metadata": {
    "colab": {},
    "colab_type": "code",
    "id": "es37H5bTVMnB"
   },
   "outputs": [],
   "source": [
    "scaler.fit(x)\n",
    "scaled_x = x.copy()\n",
    "scaled_x.iloc[:] = scaler.transform(x)"
   ]
  },
  {
   "cell_type": "code",
   "execution_count": 38,
   "metadata": {
    "colab": {
     "base_uri": "https://localhost:8080/",
     "height": 372
    },
    "colab_type": "code",
    "id": "Q1kQmK3cVMnD",
    "outputId": "929aa453-277a-4dd2-c5ba-077a689ceccf"
   },
   "outputs": [
    {
     "data": {
      "text/html": [
       "<div>\n",
       "<style scoped>\n",
       "    .dataframe tbody tr th:only-of-type {\n",
       "        vertical-align: middle;\n",
       "    }\n",
       "\n",
       "    .dataframe tbody tr th {\n",
       "        vertical-align: top;\n",
       "    }\n",
       "\n",
       "    .dataframe thead th {\n",
       "        text-align: right;\n",
       "    }\n",
       "</style>\n",
       "<table border=\"1\" class=\"dataframe\">\n",
       "  <thead>\n",
       "    <tr style=\"text-align: right;\">\n",
       "      <th></th>\n",
       "      <th>Duration</th>\n",
       "      <th>Title_Apple</th>\n",
       "      <th>Title_Apple \"Share Your Gifts\"</th>\n",
       "      <th>Title_Apple App Store</th>\n",
       "      <th>Title_Apple Behind The Mac</th>\n",
       "      <th>Title_Apple Card</th>\n",
       "      <th>Title_Apple HomePod</th>\n",
       "      <th>Title_Apple IPhone 11 Pro</th>\n",
       "      <th>Title_Apple IPhone 11Pro</th>\n",
       "      <th>Title_Apple Mac mini</th>\n",
       "      <th>...</th>\n",
       "      <th>Hour Of Day_21</th>\n",
       "      <th>Hour Of Day_22</th>\n",
       "      <th>Hour Of Day_23</th>\n",
       "      <th>Hour Of Day_3</th>\n",
       "      <th>Hour Of Day_4</th>\n",
       "      <th>Hour Of Day_5</th>\n",
       "      <th>Hour Of Day_6</th>\n",
       "      <th>Hour Of Day_7</th>\n",
       "      <th>Hour Of Day_8</th>\n",
       "      <th>Hour Of Day_9</th>\n",
       "    </tr>\n",
       "  </thead>\n",
       "  <tbody>\n",
       "    <tr>\n",
       "      <th>0</th>\n",
       "      <td>0.654269</td>\n",
       "      <td>-0.077831</td>\n",
       "      <td>-0.024424</td>\n",
       "      <td>-0.02785</td>\n",
       "      <td>-0.071366</td>\n",
       "      <td>-0.125476</td>\n",
       "      <td>-0.025617</td>\n",
       "      <td>-0.039401</td>\n",
       "      <td>-0.041616</td>\n",
       "      <td>-0.048275</td>\n",
       "      <td>...</td>\n",
       "      <td>3.607404</td>\n",
       "      <td>-0.258544</td>\n",
       "      <td>-0.23332</td>\n",
       "      <td>-0.184466</td>\n",
       "      <td>-0.136767</td>\n",
       "      <td>-0.152452</td>\n",
       "      <td>-0.163935</td>\n",
       "      <td>-0.174558</td>\n",
       "      <td>-0.170343</td>\n",
       "      <td>-0.181333</td>\n",
       "    </tr>\n",
       "    <tr>\n",
       "      <th>1</th>\n",
       "      <td>0.654269</td>\n",
       "      <td>-0.077831</td>\n",
       "      <td>-0.024424</td>\n",
       "      <td>-0.02785</td>\n",
       "      <td>-0.071366</td>\n",
       "      <td>-0.125476</td>\n",
       "      <td>-0.025617</td>\n",
       "      <td>-0.039401</td>\n",
       "      <td>-0.041616</td>\n",
       "      <td>-0.048275</td>\n",
       "      <td>...</td>\n",
       "      <td>-0.277208</td>\n",
       "      <td>-0.258544</td>\n",
       "      <td>-0.23332</td>\n",
       "      <td>-0.184466</td>\n",
       "      <td>-0.136767</td>\n",
       "      <td>-0.152452</td>\n",
       "      <td>-0.163935</td>\n",
       "      <td>-0.174558</td>\n",
       "      <td>-0.170343</td>\n",
       "      <td>-0.181333</td>\n",
       "    </tr>\n",
       "    <tr>\n",
       "      <th>2</th>\n",
       "      <td>0.654269</td>\n",
       "      <td>-0.077831</td>\n",
       "      <td>-0.024424</td>\n",
       "      <td>-0.02785</td>\n",
       "      <td>-0.071366</td>\n",
       "      <td>-0.125476</td>\n",
       "      <td>-0.025617</td>\n",
       "      <td>-0.039401</td>\n",
       "      <td>-0.041616</td>\n",
       "      <td>-0.048275</td>\n",
       "      <td>...</td>\n",
       "      <td>-0.277208</td>\n",
       "      <td>-0.258544</td>\n",
       "      <td>-0.23332</td>\n",
       "      <td>5.421041</td>\n",
       "      <td>-0.136767</td>\n",
       "      <td>-0.152452</td>\n",
       "      <td>-0.163935</td>\n",
       "      <td>-0.174558</td>\n",
       "      <td>-0.170343</td>\n",
       "      <td>-0.181333</td>\n",
       "    </tr>\n",
       "    <tr>\n",
       "      <th>3</th>\n",
       "      <td>0.654269</td>\n",
       "      <td>-0.077831</td>\n",
       "      <td>-0.024424</td>\n",
       "      <td>-0.02785</td>\n",
       "      <td>-0.071366</td>\n",
       "      <td>-0.125476</td>\n",
       "      <td>-0.025617</td>\n",
       "      <td>-0.039401</td>\n",
       "      <td>-0.041616</td>\n",
       "      <td>-0.048275</td>\n",
       "      <td>...</td>\n",
       "      <td>-0.277208</td>\n",
       "      <td>-0.258544</td>\n",
       "      <td>-0.23332</td>\n",
       "      <td>-0.184466</td>\n",
       "      <td>-0.136767</td>\n",
       "      <td>-0.152452</td>\n",
       "      <td>-0.163935</td>\n",
       "      <td>-0.174558</td>\n",
       "      <td>-0.170343</td>\n",
       "      <td>-0.181333</td>\n",
       "    </tr>\n",
       "    <tr>\n",
       "      <th>4</th>\n",
       "      <td>0.654269</td>\n",
       "      <td>-0.077831</td>\n",
       "      <td>-0.024424</td>\n",
       "      <td>-0.02785</td>\n",
       "      <td>-0.071366</td>\n",
       "      <td>-0.125476</td>\n",
       "      <td>-0.025617</td>\n",
       "      <td>-0.039401</td>\n",
       "      <td>-0.041616</td>\n",
       "      <td>-0.048275</td>\n",
       "      <td>...</td>\n",
       "      <td>-0.277208</td>\n",
       "      <td>-0.258544</td>\n",
       "      <td>-0.23332</td>\n",
       "      <td>-0.184466</td>\n",
       "      <td>-0.136767</td>\n",
       "      <td>-0.152452</td>\n",
       "      <td>-0.163935</td>\n",
       "      <td>-0.174558</td>\n",
       "      <td>5.870520</td>\n",
       "      <td>-0.181333</td>\n",
       "    </tr>\n",
       "  </tbody>\n",
       "</table>\n",
       "<p>5 rows × 1961 columns</p>\n",
       "</div>"
      ],
      "text/plain": [
       "   Duration  Title_Apple  Title_Apple \"Share Your Gifts\"  \\\n",
       "0  0.654269    -0.077831                       -0.024424   \n",
       "1  0.654269    -0.077831                       -0.024424   \n",
       "2  0.654269    -0.077831                       -0.024424   \n",
       "3  0.654269    -0.077831                       -0.024424   \n",
       "4  0.654269    -0.077831                       -0.024424   \n",
       "\n",
       "   Title_Apple App Store  Title_Apple Behind The Mac  Title_Apple Card  \\\n",
       "0               -0.02785                   -0.071366         -0.125476   \n",
       "1               -0.02785                   -0.071366         -0.125476   \n",
       "2               -0.02785                   -0.071366         -0.125476   \n",
       "3               -0.02785                   -0.071366         -0.125476   \n",
       "4               -0.02785                   -0.071366         -0.125476   \n",
       "\n",
       "   Title_Apple HomePod  Title_Apple IPhone 11 Pro  Title_Apple IPhone 11Pro  \\\n",
       "0            -0.025617                  -0.039401                 -0.041616   \n",
       "1            -0.025617                  -0.039401                 -0.041616   \n",
       "2            -0.025617                  -0.039401                 -0.041616   \n",
       "3            -0.025617                  -0.039401                 -0.041616   \n",
       "4            -0.025617                  -0.039401                 -0.041616   \n",
       "\n",
       "   Title_Apple Mac mini  ...  Hour Of Day_21  Hour Of Day_22  Hour Of Day_23  \\\n",
       "0             -0.048275  ...        3.607404       -0.258544        -0.23332   \n",
       "1             -0.048275  ...       -0.277208       -0.258544        -0.23332   \n",
       "2             -0.048275  ...       -0.277208       -0.258544        -0.23332   \n",
       "3             -0.048275  ...       -0.277208       -0.258544        -0.23332   \n",
       "4             -0.048275  ...       -0.277208       -0.258544        -0.23332   \n",
       "\n",
       "   Hour Of Day_3  Hour Of Day_4  Hour Of Day_5  Hour Of Day_6  Hour Of Day_7  \\\n",
       "0      -0.184466      -0.136767      -0.152452      -0.163935      -0.174558   \n",
       "1      -0.184466      -0.136767      -0.152452      -0.163935      -0.174558   \n",
       "2       5.421041      -0.136767      -0.152452      -0.163935      -0.174558   \n",
       "3      -0.184466      -0.136767      -0.152452      -0.163935      -0.174558   \n",
       "4      -0.184466      -0.136767      -0.152452      -0.163935      -0.174558   \n",
       "\n",
       "   Hour Of Day_8  Hour Of Day_9  \n",
       "0      -0.170343      -0.181333  \n",
       "1      -0.170343      -0.181333  \n",
       "2      -0.170343      -0.181333  \n",
       "3      -0.170343      -0.181333  \n",
       "4       5.870520      -0.181333  \n",
       "\n",
       "[5 rows x 1961 columns]"
      ]
     },
     "execution_count": 38,
     "metadata": {},
     "output_type": "execute_result"
    }
   ],
   "source": [
    "scaled_x.head()"
   ]
  },
  {
   "cell_type": "code",
   "execution_count": 39,
   "metadata": {
    "colab": {
     "base_uri": "https://localhost:8080/",
     "height": 282
    },
    "colab_type": "code",
    "id": "qfdB9afFVMnE",
    "outputId": "3c1c7f52-f821-4371-fd4b-dd67cef867e7"
   },
   "outputs": [
    {
     "data": {
      "text/plain": [
       "<matplotlib.legend.Legend at 0x1a9d7d2a10>"
      ]
     },
     "execution_count": 39,
     "metadata": {},
     "output_type": "execute_result"
    },
    {
     "data": {
      "image/png": "[encoded data removed]",
      "text/plain": [
       "<Figure size 432x288 with 1 Axes>"
      ]
     },
     "metadata": {
      "needs_background": "light"
     },
     "output_type": "display_data"
    }
   ],
   "source": [
    "plt.plot(scaled_x.iloc[:100,0])\n",
    "plt.plot(scaled_x.iloc[:100,1])\n",
    "plt.plot(scaled_x.iloc[:100,-1])\n",
    "plt.legend(['Duration ','Title_Apple ','Hour Of Day_9'])"
   ]
  },
  {
   "cell_type": "code",
   "execution_count": 40,
   "metadata": {
    "colab": {},
    "colab_type": "code",
    "id": "lTRNpWDiVMnG"
   },
   "outputs": [],
   "source": [
    "x_train_scaled, x_test_scaled, y_train_scaled, y_test_scaled = train_test_split(scaled_x, y, test_size=0.2, random_state=0)"
   ]
  },
  {
   "cell_type": "markdown",
   "metadata": {
    "colab_type": "text",
    "id": "xkgUl93eVMnJ"
   },
   "source": [
    "## Dimension Reduction : Principal Component Analysis"
   ]
  },
  {
   "cell_type": "code",
   "execution_count": 41,
   "metadata": {
    "colab": {},
    "colab_type": "code",
    "id": "LakkKMijVMnJ"
   },
   "outputs": [],
   "source": [
    "import sklearn.decomposition as skd\n",
    "pca = skd.PCA()\n",
    "pca_model=pca.fit(x_train_scaled)"
   ]
  },
  {
   "cell_type": "markdown",
   "metadata": {
    "colab_type": "text",
    "id": "aYRI56YyVMnL"
   },
   "source": [
    "### How much of the variance does each component explain?"
   ]
  },
  {
   "cell_type": "code",
   "execution_count": 42,
   "metadata": {
    "colab": {
     "base_uri": "https://localhost:8080/",
     "height": 51
    },
    "colab_type": "code",
    "id": "K9sWhlBBVMnN",
    "outputId": "1374c7b7-6bc2-4ef4-bb58-b2b722c1ab27"
   },
   "outputs": [
    {
     "data": {
      "text/plain": [
       "array([3.65466038e+00, 3.55385631e+00, 3.53518377e+00, ...,\n",
       "       1.50791711e-32, 5.54206666e-33, 5.47741381e-34])"
      ]
     },
     "execution_count": 42,
     "metadata": {},
     "output_type": "execute_result"
    }
   ],
   "source": [
    "pca_model.explained_variance_"
   ]
  },
  {
   "cell_type": "markdown",
   "metadata": {
    "colab_type": "text",
    "id": "Isq6nhaZVMnR"
   },
   "source": [
    "### What would be an appropriate number of components to keep?"
   ]
  },
  {
   "cell_type": "code",
   "execution_count": 43,
   "metadata": {
    "colab": {
     "base_uri": "https://localhost:8080/",
     "height": 282
    },
    "colab_type": "code",
    "id": "gw2zjrV3VMnR",
    "outputId": "422f5f92-75f2-45bf-8db5-df80019beaa7"
   },
   "outputs": [
    {
     "data": {
      "text/plain": [
       "[<matplotlib.lines.Line2D at 0x1a2205bdd0>]"
      ]
     },
     "execution_count": 43,
     "metadata": {},
     "output_type": "execute_result"
    },
    {
     "data": {
      "image/png": "[encoded data removed]",
      "text/plain": [
       "<Figure size 432x288 with 1 Axes>"
      ]
     },
     "metadata": {
      "needs_background": "light"
     },
     "output_type": "display_data"
    }
   ],
   "source": [
    "plt.plot(range(1,1000),pca_model.explained_variance_[:999],'b-o')"
   ]
  },
  {
   "cell_type": "code",
   "execution_count": 44,
   "metadata": {
    "colab": {
     "base_uri": "https://localhost:8080/",
     "height": 282
    },
    "colab_type": "code",
    "id": "e-Bjb9G-VMnb",
    "outputId": "f762a974-2376-4352-fe77-62e286568b20",
    "scrolled": true
   },
   "outputs": [
    {
     "data": {
      "text/plain": [
       "[<matplotlib.lines.Line2D at 0x1a8a6fc5d0>]"
      ]
     },
     "execution_count": 44,
     "metadata": {},
     "output_type": "execute_result"
    },
    {
     "data": {
      "image/png": "[encoded data removed]",
      "text/plain": [
       "<Figure size 432x288 with 1 Axes>"
      ]
     },
     "metadata": {
      "needs_background": "light"
     },
     "output_type": "display_data"
    }
   ],
   "source": [
    "plt.plot(range(221,270),pca_model.explained_variance_[220:269],'b-o')"
   ]
  },
  {
   "cell_type": "markdown",
   "metadata": {
    "colab_type": "text",
    "id": "zM9idvsHVMnd"
   },
   "source": [
    "The improvements will decline, at some point rapidly, creating the elbow shape.\n",
    "\n",
    "That point is the optimal value for K. In the image above, K=230. So, the appropriate number of components is 230."
   ]
  },
  {
   "cell_type": "markdown",
   "metadata": {
    "colab_type": "text",
    "id": "QJHj-DfjVMne"
   },
   "source": [
    "### Exploratory Factor Analysis"
   ]
  },
  {
   "cell_type": "code",
   "execution_count": 45,
   "metadata": {
    "colab": {},
    "colab_type": "code",
    "id": "MT5kqmnJVMne",
    "scrolled": false
   },
   "outputs": [],
   "source": [
    "fa_model = skd.FactorAnalysis(n_components=230).fit(x_train_scaled)"
   ]
  },
  {
   "cell_type": "code",
   "execution_count": 46,
   "metadata": {
    "colab": {},
    "colab_type": "code",
    "id": "mHWt08hwVMnj"
   },
   "outputs": [],
   "source": [
    "df_fa=pd.DataFrame(fa_model.components_[:230,:].T, \n",
    "             index=x_train_scaled.columns)"
   ]
  },
  {
   "cell_type": "code",
   "execution_count": 47,
   "metadata": {
    "colab": {
     "base_uri": "https://localhost:8080/",
     "height": 372
    },
    "colab_type": "code",
    "id": "exNPragUVMnl",
    "outputId": "2b17785d-1ec8-4d74-ea3e-a765d152de5b",
    "scrolled": false
   },
   "outputs": [
    {
     "data": {
      "text/html": [
       "<div>\n",
       "<style scoped>\n",
       "    .dataframe tbody tr th:only-of-type {\n",
       "        vertical-align: middle;\n",
       "    }\n",
       "\n",
       "    .dataframe tbody tr th {\n",
       "        vertical-align: top;\n",
       "    }\n",
       "\n",
       "    .dataframe thead th {\n",
       "        text-align: right;\n",
       "    }\n",
       "</style>\n",
       "<table border=\"1\" class=\"dataframe\">\n",
       "  <thead>\n",
       "    <tr style=\"text-align: right;\">\n",
       "      <th></th>\n",
       "      <th>0</th>\n",
       "      <th>1</th>\n",
       "      <th>2</th>\n",
       "      <th>3</th>\n",
       "      <th>4</th>\n",
       "      <th>5</th>\n",
       "      <th>6</th>\n",
       "      <th>7</th>\n",
       "      <th>8</th>\n",
       "      <th>9</th>\n",
       "      <th>...</th>\n",
       "      <th>220</th>\n",
       "      <th>221</th>\n",
       "      <th>222</th>\n",
       "      <th>223</th>\n",
       "      <th>224</th>\n",
       "      <th>225</th>\n",
       "      <th>226</th>\n",
       "      <th>227</th>\n",
       "      <th>228</th>\n",
       "      <th>229</th>\n",
       "    </tr>\n",
       "  </thead>\n",
       "  <tbody>\n",
       "    <tr>\n",
       "      <th>Duration</th>\n",
       "      <td>-0.010844</td>\n",
       "      <td>3.751527e-02</td>\n",
       "      <td>-0.019079</td>\n",
       "      <td>-0.036202</td>\n",
       "      <td>9.673290e-03</td>\n",
       "      <td>2.598478e-07</td>\n",
       "      <td>-2.165501e-02</td>\n",
       "      <td>2.865276e-04</td>\n",
       "      <td>0.074064</td>\n",
       "      <td>-0.015800</td>\n",
       "      <td>...</td>\n",
       "      <td>-0.001238</td>\n",
       "      <td>0.000121</td>\n",
       "      <td>0.000105</td>\n",
       "      <td>-0.000511</td>\n",
       "      <td>-0.000394</td>\n",
       "      <td>0.000801</td>\n",
       "      <td>0.000477</td>\n",
       "      <td>0.000440</td>\n",
       "      <td>-0.001157</td>\n",
       "      <td>-0.000790</td>\n",
       "    </tr>\n",
       "    <tr>\n",
       "      <th>Title_Apple</th>\n",
       "      <td>-0.000232</td>\n",
       "      <td>-1.502256e-07</td>\n",
       "      <td>0.000153</td>\n",
       "      <td>-0.000100</td>\n",
       "      <td>-5.946728e-08</td>\n",
       "      <td>-9.651266e-10</td>\n",
       "      <td>-6.058388e-11</td>\n",
       "      <td>-8.417004e-11</td>\n",
       "      <td>-0.003020</td>\n",
       "      <td>-0.001017</td>\n",
       "      <td>...</td>\n",
       "      <td>0.003436</td>\n",
       "      <td>0.023004</td>\n",
       "      <td>-0.013178</td>\n",
       "      <td>0.000560</td>\n",
       "      <td>0.009498</td>\n",
       "      <td>0.035673</td>\n",
       "      <td>0.010574</td>\n",
       "      <td>-0.026743</td>\n",
       "      <td>-0.005019</td>\n",
       "      <td>0.006244</td>\n",
       "    </tr>\n",
       "    <tr>\n",
       "      <th>Title_Apple \"Share Your Gifts\"</th>\n",
       "      <td>-0.000065</td>\n",
       "      <td>3.274941e-08</td>\n",
       "      <td>0.000043</td>\n",
       "      <td>-0.000028</td>\n",
       "      <td>-8.198701e-09</td>\n",
       "      <td>-3.118301e-09</td>\n",
       "      <td>6.784925e-12</td>\n",
       "      <td>-5.446081e-12</td>\n",
       "      <td>-0.000848</td>\n",
       "      <td>-0.000286</td>\n",
       "      <td>...</td>\n",
       "      <td>0.000137</td>\n",
       "      <td>-0.000499</td>\n",
       "      <td>0.000846</td>\n",
       "      <td>0.000240</td>\n",
       "      <td>0.000035</td>\n",
       "      <td>0.000064</td>\n",
       "      <td>-0.000436</td>\n",
       "      <td>-0.000205</td>\n",
       "      <td>0.000027</td>\n",
       "      <td>0.000189</td>\n",
       "    </tr>\n",
       "    <tr>\n",
       "      <th>Title_Apple App Store</th>\n",
       "      <td>-0.000098</td>\n",
       "      <td>-2.166066e-07</td>\n",
       "      <td>0.000065</td>\n",
       "      <td>-0.000042</td>\n",
       "      <td>-1.993337e-08</td>\n",
       "      <td>2.756157e-09</td>\n",
       "      <td>1.185589e-11</td>\n",
       "      <td>-5.270092e-12</td>\n",
       "      <td>-0.001275</td>\n",
       "      <td>-0.000429</td>\n",
       "      <td>...</td>\n",
       "      <td>-0.000154</td>\n",
       "      <td>0.000029</td>\n",
       "      <td>-0.000091</td>\n",
       "      <td>-0.000092</td>\n",
       "      <td>-0.000035</td>\n",
       "      <td>-0.000138</td>\n",
       "      <td>0.000094</td>\n",
       "      <td>-0.000087</td>\n",
       "      <td>0.000050</td>\n",
       "      <td>-0.000019</td>\n",
       "    </tr>\n",
       "    <tr>\n",
       "      <th>Title_Apple Behind The Mac</th>\n",
       "      <td>0.016218</td>\n",
       "      <td>-7.545551e-05</td>\n",
       "      <td>0.037790</td>\n",
       "      <td>-0.075357</td>\n",
       "      <td>-8.881169e-02</td>\n",
       "      <td>-6.132565e-06</td>\n",
       "      <td>-9.925834e-02</td>\n",
       "      <td>1.313435e-03</td>\n",
       "      <td>0.075194</td>\n",
       "      <td>-0.007997</td>\n",
       "      <td>...</td>\n",
       "      <td>-0.000061</td>\n",
       "      <td>-0.000125</td>\n",
       "      <td>-0.000013</td>\n",
       "      <td>-0.000105</td>\n",
       "      <td>-0.000040</td>\n",
       "      <td>-0.000021</td>\n",
       "      <td>0.000064</td>\n",
       "      <td>0.000106</td>\n",
       "      <td>0.000126</td>\n",
       "      <td>-0.000054</td>\n",
       "    </tr>\n",
       "  </tbody>\n",
       "</table>\n",
       "<p>5 rows × 230 columns</p>\n",
       "</div>"
      ],
      "text/plain": [
       "                                     0             1         2         3    \\\n",
       "Duration                       -0.010844  3.751527e-02 -0.019079 -0.036202   \n",
       "Title_Apple                    -0.000232 -1.502256e-07  0.000153 -0.000100   \n",
       "Title_Apple \"Share Your Gifts\" -0.000065  3.274941e-08  0.000043 -0.000028   \n",
       "Title_Apple App Store          -0.000098 -2.166066e-07  0.000065 -0.000042   \n",
       "Title_Apple Behind The Mac      0.016218 -7.545551e-05  0.037790 -0.075357   \n",
       "\n",
       "                                         4             5             6    \\\n",
       "Duration                        9.673290e-03  2.598478e-07 -2.165501e-02   \n",
       "Title_Apple                    -5.946728e-08 -9.651266e-10 -6.058388e-11   \n",
       "Title_Apple \"Share Your Gifts\" -8.198701e-09 -3.118301e-09  6.784925e-12   \n",
       "Title_Apple App Store          -1.993337e-08  2.756157e-09  1.185589e-11   \n",
       "Title_Apple Behind The Mac     -8.881169e-02 -6.132565e-06 -9.925834e-02   \n",
       "\n",
       "                                         7         8         9    ...  \\\n",
       "Duration                        2.865276e-04  0.074064 -0.015800  ...   \n",
       "Title_Apple                    -8.417004e-11 -0.003020 -0.001017  ...   \n",
       "Title_Apple \"Share Your Gifts\" -5.446081e-12 -0.000848 -0.000286  ...   \n",
       "Title_Apple App Store          -5.270092e-12 -0.001275 -0.000429  ...   \n",
       "Title_Apple Behind The Mac      1.313435e-03  0.075194 -0.007997  ...   \n",
       "\n",
       "                                     220       221       222       223  \\\n",
       "Duration                       -0.001238  0.000121  0.000105 -0.000511   \n",
       "Title_Apple                     0.003436  0.023004 -0.013178  0.000560   \n",
       "Title_Apple \"Share Your Gifts\"  0.000137 -0.000499  0.000846  0.000240   \n",
       "Title_Apple App Store          -0.000154  0.000029 -0.000091 -0.000092   \n",
       "Title_Apple Behind The Mac     -0.000061 -0.000125 -0.000013 -0.000105   \n",
       "\n",
       "                                     224       225       226       227  \\\n",
       "Duration                       -0.000394  0.000801  0.000477  0.000440   \n",
       "Title_Apple                     0.009498  0.035673  0.010574 -0.026743   \n",
       "Title_Apple \"Share Your Gifts\"  0.000035  0.000064 -0.000436 -0.000205   \n",
       "Title_Apple App Store          -0.000035 -0.000138  0.000094 -0.000087   \n",
       "Title_Apple Behind The Mac     -0.000040 -0.000021  0.000064  0.000106   \n",
       "\n",
       "                                     228       229  \n",
       "Duration                       -0.001157 -0.000790  \n",
       "Title_Apple                    -0.005019  0.006244  \n",
       "Title_Apple \"Share Your Gifts\"  0.000027  0.000189  \n",
       "Title_Apple App Store           0.000050 -0.000019  \n",
       "Title_Apple Behind The Mac      0.000126 -0.000054  \n",
       "\n",
       "[5 rows x 230 columns]"
      ]
     },
     "execution_count": 47,
     "metadata": {},
     "output_type": "execute_result"
    }
   ],
   "source": [
    "df_fa.head()"
   ]
  },
  {
   "cell_type": "code",
   "execution_count": 48,
   "metadata": {
    "colab": {},
    "colab_type": "code",
    "id": "Al6p2u09VMnr"
   },
   "outputs": [],
   "source": [
    "factors = skd.FactorAnalysis(230).fit_transform(x_train_scaled)"
   ]
  },
  {
   "cell_type": "code",
   "execution_count": 49,
   "metadata": {
    "colab": {},
    "colab_type": "code",
    "id": "dl7vadQnVMnt"
   },
   "outputs": [],
   "source": [
    "df_fa_ = pd.concat([x_train_scaled, pd.DataFrame(factors)], axis=1)"
   ]
  },
  {
   "cell_type": "code",
   "execution_count": 50,
   "metadata": {
    "colab": {
     "base_uri": "https://localhost:8080/",
     "height": 372
    },
    "colab_type": "code",
    "id": "xEz71bQNVMnw",
    "outputId": "58311357-86d1-4283-f1e9-f68f17c13a5b",
    "scrolled": true
   },
   "outputs": [
    {
     "data": {
      "text/html": [
       "<div>\n",
       "<style scoped>\n",
       "    .dataframe tbody tr th:only-of-type {\n",
       "        vertical-align: middle;\n",
       "    }\n",
       "\n",
       "    .dataframe tbody tr th {\n",
       "        vertical-align: top;\n",
       "    }\n",
       "\n",
       "    .dataframe thead th {\n",
       "        text-align: right;\n",
       "    }\n",
       "</style>\n",
       "<table border=\"1\" class=\"dataframe\">\n",
       "  <thead>\n",
       "    <tr style=\"text-align: right;\">\n",
       "      <th></th>\n",
       "      <th>Duration</th>\n",
       "      <th>Title_Apple</th>\n",
       "      <th>Title_Apple \"Share Your Gifts\"</th>\n",
       "      <th>Title_Apple App Store</th>\n",
       "      <th>Title_Apple Behind The Mac</th>\n",
       "      <th>Title_Apple Card</th>\n",
       "      <th>Title_Apple HomePod</th>\n",
       "      <th>Title_Apple IPhone 11 Pro</th>\n",
       "      <th>Title_Apple IPhone 11Pro</th>\n",
       "      <th>Title_Apple Mac mini</th>\n",
       "      <th>...</th>\n",
       "      <th>220</th>\n",
       "      <th>221</th>\n",
       "      <th>222</th>\n",
       "      <th>223</th>\n",
       "      <th>224</th>\n",
       "      <th>225</th>\n",
       "      <th>226</th>\n",
       "      <th>227</th>\n",
       "      <th>228</th>\n",
       "      <th>229</th>\n",
       "    </tr>\n",
       "  </thead>\n",
       "  <tbody>\n",
       "    <tr>\n",
       "      <th>0</th>\n",
       "      <td>0.654269</td>\n",
       "      <td>-0.077831</td>\n",
       "      <td>-0.024424</td>\n",
       "      <td>-0.02785</td>\n",
       "      <td>-0.071366</td>\n",
       "      <td>-0.125476</td>\n",
       "      <td>-0.025617</td>\n",
       "      <td>-0.039401</td>\n",
       "      <td>-0.041616</td>\n",
       "      <td>-0.048275</td>\n",
       "      <td>...</td>\n",
       "      <td>-0.868340</td>\n",
       "      <td>-0.139427</td>\n",
       "      <td>0.459296</td>\n",
       "      <td>0.338968</td>\n",
       "      <td>-0.497609</td>\n",
       "      <td>-1.202685</td>\n",
       "      <td>0.867363</td>\n",
       "      <td>-1.008155</td>\n",
       "      <td>0.411617</td>\n",
       "      <td>1.048788</td>\n",
       "    </tr>\n",
       "    <tr>\n",
       "      <th>1</th>\n",
       "      <td>0.654269</td>\n",
       "      <td>-0.077831</td>\n",
       "      <td>-0.024424</td>\n",
       "      <td>-0.02785</td>\n",
       "      <td>-0.071366</td>\n",
       "      <td>-0.125476</td>\n",
       "      <td>-0.025617</td>\n",
       "      <td>-0.039401</td>\n",
       "      <td>-0.041616</td>\n",
       "      <td>-0.048275</td>\n",
       "      <td>...</td>\n",
       "      <td>0.343390</td>\n",
       "      <td>-0.269761</td>\n",
       "      <td>-0.429774</td>\n",
       "      <td>0.483234</td>\n",
       "      <td>-0.134657</td>\n",
       "      <td>0.788124</td>\n",
       "      <td>-0.009145</td>\n",
       "      <td>0.198880</td>\n",
       "      <td>0.167110</td>\n",
       "      <td>-0.324500</td>\n",
       "    </tr>\n",
       "    <tr>\n",
       "      <th>2</th>\n",
       "      <td>0.654269</td>\n",
       "      <td>-0.077831</td>\n",
       "      <td>-0.024424</td>\n",
       "      <td>-0.02785</td>\n",
       "      <td>-0.071366</td>\n",
       "      <td>-0.125476</td>\n",
       "      <td>-0.025617</td>\n",
       "      <td>-0.039401</td>\n",
       "      <td>-0.041616</td>\n",
       "      <td>-0.048275</td>\n",
       "      <td>...</td>\n",
       "      <td>0.889056</td>\n",
       "      <td>0.124352</td>\n",
       "      <td>0.613178</td>\n",
       "      <td>-0.392908</td>\n",
       "      <td>-0.185396</td>\n",
       "      <td>0.251979</td>\n",
       "      <td>0.327103</td>\n",
       "      <td>0.632294</td>\n",
       "      <td>0.718734</td>\n",
       "      <td>-0.385706</td>\n",
       "    </tr>\n",
       "    <tr>\n",
       "      <th>3</th>\n",
       "      <td>0.654269</td>\n",
       "      <td>-0.077831</td>\n",
       "      <td>-0.024424</td>\n",
       "      <td>-0.02785</td>\n",
       "      <td>-0.071366</td>\n",
       "      <td>-0.125476</td>\n",
       "      <td>-0.025617</td>\n",
       "      <td>-0.039401</td>\n",
       "      <td>-0.041616</td>\n",
       "      <td>-0.048275</td>\n",
       "      <td>...</td>\n",
       "      <td>0.102509</td>\n",
       "      <td>0.017443</td>\n",
       "      <td>-0.124466</td>\n",
       "      <td>-0.166534</td>\n",
       "      <td>0.126383</td>\n",
       "      <td>0.367572</td>\n",
       "      <td>0.298008</td>\n",
       "      <td>0.417727</td>\n",
       "      <td>-0.242951</td>\n",
       "      <td>0.292120</td>\n",
       "    </tr>\n",
       "    <tr>\n",
       "      <th>4</th>\n",
       "      <td>0.654269</td>\n",
       "      <td>-0.077831</td>\n",
       "      <td>-0.024424</td>\n",
       "      <td>-0.02785</td>\n",
       "      <td>-0.071366</td>\n",
       "      <td>-0.125476</td>\n",
       "      <td>-0.025617</td>\n",
       "      <td>-0.039401</td>\n",
       "      <td>-0.041616</td>\n",
       "      <td>-0.048275</td>\n",
       "      <td>...</td>\n",
       "      <td>0.091343</td>\n",
       "      <td>0.642451</td>\n",
       "      <td>-0.140524</td>\n",
       "      <td>-0.839803</td>\n",
       "      <td>-0.069102</td>\n",
       "      <td>0.343383</td>\n",
       "      <td>-0.139995</td>\n",
       "      <td>0.269213</td>\n",
       "      <td>0.040376</td>\n",
       "      <td>-0.003324</td>\n",
       "    </tr>\n",
       "  </tbody>\n",
       "</table>\n",
       "<p>5 rows × 2191 columns</p>\n",
       "</div>"
      ],
      "text/plain": [
       "   Duration  Title_Apple  Title_Apple \"Share Your Gifts\"  \\\n",
       "0  0.654269    -0.077831                       -0.024424   \n",
       "1  0.654269    -0.077831                       -0.024424   \n",
       "2  0.654269    -0.077831                       -0.024424   \n",
       "3  0.654269    -0.077831                       -0.024424   \n",
       "4  0.654269    -0.077831                       -0.024424   \n",
       "\n",
       "   Title_Apple App Store  Title_Apple Behind The Mac  Title_Apple Card  \\\n",
       "0               -0.02785                   -0.071366         -0.125476   \n",
       "1               -0.02785                   -0.071366         -0.125476   \n",
       "2               -0.02785                   -0.071366         -0.125476   \n",
       "3               -0.02785                   -0.071366         -0.125476   \n",
       "4               -0.02785                   -0.071366         -0.125476   \n",
       "\n",
       "   Title_Apple HomePod  Title_Apple IPhone 11 Pro  Title_Apple IPhone 11Pro  \\\n",
       "0            -0.025617                  -0.039401                 -0.041616   \n",
       "1            -0.025617                  -0.039401                 -0.041616   \n",
       "2            -0.025617                  -0.039401                 -0.041616   \n",
       "3            -0.025617                  -0.039401                 -0.041616   \n",
       "4            -0.025617                  -0.039401                 -0.041616   \n",
       "\n",
       "   Title_Apple Mac mini  ...       220       221       222       223  \\\n",
       "0             -0.048275  ... -0.868340 -0.139427  0.459296  0.338968   \n",
       "1             -0.048275  ...  0.343390 -0.269761 -0.429774  0.483234   \n",
       "2             -0.048275  ...  0.889056  0.124352  0.613178 -0.392908   \n",
       "3             -0.048275  ...  0.102509  0.017443 -0.124466 -0.166534   \n",
       "4             -0.048275  ...  0.091343  0.642451 -0.140524 -0.839803   \n",
       "\n",
       "        224       225       226       227       228       229  \n",
       "0 -0.497609 -1.202685  0.867363 -1.008155  0.411617  1.048788  \n",
       "1 -0.134657  0.788124 -0.009145  0.198880  0.167110 -0.324500  \n",
       "2 -0.185396  0.251979  0.327103  0.632294  0.718734 -0.385706  \n",
       "3  0.126383  0.367572  0.298008  0.417727 -0.242951  0.292120  \n",
       "4 -0.069102  0.343383 -0.139995  0.269213  0.040376 -0.003324  \n",
       "\n",
       "[5 rows x 2191 columns]"
      ]
     },
     "execution_count": 50,
     "metadata": {},
     "output_type": "execute_result"
    }
   ],
   "source": [
    "df_fa_.head()"
   ]
  },
  {
   "cell_type": "code",
   "execution_count": 51,
   "metadata": {
    "colab": {},
    "colab_type": "code",
    "id": "gFne3lzLVMny"
   },
   "outputs": [],
   "source": [
    "fa_cor = df_fa_.corr()[df_fa_.columns[-230:]]"
   ]
  },
  {
   "cell_type": "code",
   "execution_count": 52,
   "metadata": {
    "colab": {
     "base_uri": "https://localhost:8080/",
     "height": 1000
    },
    "colab_type": "code",
    "id": "v07gq197VMn0",
    "outputId": "026a0e31-98ba-40b3-c438-e96d1f98b116",
    "scrolled": true
   },
   "outputs": [
    {
     "name": "stdout",
     "output_type": "stream",
     "text": [
      "0 [0]\n",
      "1 [1]\n",
      "2 [2]\n",
      "3 [3]\n",
      "4 [4]\n",
      "5 [5]\n",
      "6 [6]\n",
      "7 [7]\n",
      "8 [8]\n",
      "9 [9]\n",
      "10 [10]\n",
      "11 ['Show_A Very Vintage Christmas', 11]\n",
      "12 [12]\n",
      "13 [13]\n",
      "14 [14]\n",
      "15 [15]\n",
      "16 [16]\n",
      "17 [17]\n",
      "18 ['Show_A Very Vintage Christmas', 18]\n",
      "19 [19]\n",
      "20 [20]\n",
      "21 [21]\n",
      "22 [22]\n",
      "23 [23]\n",
      "24 [24]\n",
      "25 [25]\n",
      "26 [26]\n",
      "27 [27]\n",
      "28 [28]\n",
      "29 [29]\n",
      "30 [30]\n",
      "31 [31]\n",
      "32 [32]\n",
      "33 [33]\n",
      "34 [34]\n",
      "35 [35]\n",
      "36 [36]\n",
      "37 [37]\n",
      "38 [38]\n",
      "39 [39]\n",
      "40 [40]\n",
      "41 [41]\n",
      "42 [42]\n",
      "43 ['Show_Afternoon Bonus Coverage', 43]\n",
      "44 [44]\n",
      "45 [45]\n",
      "46 [46]\n",
      "47 [47]\n",
      "48 [48]\n",
      "49 [49]\n",
      "50 [50]\n",
      "51 [51]\n",
      "52 [52]\n",
      "53 [53]\n",
      "54 [54]\n",
      "55 [55]\n",
      "56 [56]\n",
      "57 [57]\n",
      "58 [58]\n",
      "59 [59]\n",
      "60 [60]\n",
      "61 [61]\n",
      "62 [62]\n",
      "63 [63]\n",
      "64 [64]\n",
      "65 [65]\n",
      "66 [66]\n",
      "67 [67]\n",
      "68 [68]\n",
      "69 [69]\n",
      "70 [70]\n",
      "71 [71]\n",
      "72 [72]\n",
      "73 [73]\n",
      "74 [74]\n",
      "75 [75]\n",
      "76 [76]\n",
      "77 [77]\n",
      "78 [78]\n",
      "79 [79]\n",
      "80 [80]\n",
      "81 [81]\n",
      "82 [82]\n",
      "83 [83]\n",
      "84 [84]\n",
      "85 [85]\n",
      "86 [86]\n",
      "87 [87]\n",
      "88 [88]\n",
      "89 [89]\n",
      "90 [90]\n",
      "91 [91]\n",
      "92 [92]\n",
      "93 [93]\n",
      "94 [94]\n",
      "95 [95]\n",
      "96 [96]\n",
      "97 [97]\n",
      "98 [98]\n",
      "99 [99]\n",
      "100 [100]\n",
      "101 [101]\n",
      "102 [102]\n",
      "103 [103]\n",
      "104 [104]\n",
      "105 [105]\n",
      "106 [106]\n",
      "107 [107]\n",
      "108 [108]\n",
      "109 [109]\n",
      "110 [110]\n",
      "111 [111]\n",
      "112 [112]\n",
      "113 [113]\n",
      "114 [114]\n",
      "115 [115]\n",
      "116 [116]\n",
      "117 [117]\n",
      "118 [118]\n",
      "119 [119]\n",
      "120 [120]\n",
      "121 [121]\n",
      "122 [122]\n",
      "123 [123]\n",
      "124 [124]\n",
      "125 [125]\n",
      "126 [126]\n",
      "127 [127]\n",
      "128 [128]\n",
      "129 [129]\n",
      "130 [130]\n",
      "131 [131]\n",
      "132 [132]\n",
      "133 [133]\n",
      "134 [134]\n",
      "135 [135]\n",
      "136 [136]\n",
      "137 [137]\n",
      "138 [138]\n",
      "139 [139]\n",
      "140 [140]\n",
      "141 [141]\n",
      "142 [142]\n",
      "143 [143]\n",
      "144 [144]\n",
      "145 [145]\n",
      "146 [146]\n",
      "147 [147]\n",
      "148 [148]\n",
      "149 [149]\n",
      "150 [150]\n",
      "151 [151]\n",
      "152 [152]\n",
      "153 [153]\n",
      "154 [154]\n",
      "155 [155]\n",
      "156 [156]\n",
      "157 [157]\n",
      "158 [158]\n",
      "159 [159]\n",
      "160 [160]\n",
      "161 [161]\n",
      "162 [162]\n",
      "163 [163]\n",
      "164 [164]\n",
      "165 [165]\n",
      "166 [166]\n",
      "167 [167]\n",
      "168 [168]\n",
      "169 [169]\n",
      "170 [170]\n",
      "171 [171]\n",
      "172 [172]\n",
      "173 [173]\n",
      "174 [174]\n",
      "175 [175]\n",
      "176 [176]\n",
      "177 [177]\n",
      "178 [178]\n",
      "179 [179]\n",
      "180 ['Show_Shrek the Halls', 180]\n",
      "181 [181]\n",
      "182 [182]\n",
      "183 [183]\n",
      "184 [184]\n",
      "185 [185]\n",
      "186 [186]\n",
      "187 [187]\n",
      "188 [188]\n",
      "189 [189]\n",
      "190 [190]\n",
      "191 [191]\n",
      "192 [192]\n",
      "193 [193]\n",
      "194 [194]\n",
      "195 [195]\n",
      "196 [196]\n",
      "197 [197]\n",
      "198 [198]\n",
      "199 [199]\n",
      "200 [200]\n",
      "201 [201]\n",
      "202 [202]\n",
      "203 [203]\n",
      "204 [204]\n",
      "205 [205]\n",
      "206 [206]\n",
      "207 [207]\n",
      "208 [208]\n",
      "209 [209]\n",
      "210 [210]\n",
      "211 [211]\n",
      "212 [212]\n",
      "213 [213]\n",
      "214 [214]\n",
      "215 [215]\n",
      "216 [216]\n",
      "217 [217]\n",
      "218 [218]\n",
      "219 [219]\n",
      "220 [220]\n",
      "221 [221]\n",
      "222 [222]\n",
      "223 [223]\n",
      "224 [224]\n",
      "225 [225]\n",
      "226 [226]\n",
      "227 [227]\n",
      "228 [228]\n",
      "229 [229]\n"
     ]
    }
   ],
   "source": [
    "#Extract the original variables which have the value of correlation \n",
    "#higher than 0.5 with each factor(In factor analysis model)\n",
    "for c in fa_cor.columns:\n",
    "    a=[]\n",
    "    for i in fa_cor.index:\n",
    "        if abs(fa_cor.loc[i,c])>0.5:\n",
    "            a.append(i)\n",
    "    print(c,a)"
   ]
  },
  {
   "cell_type": "markdown",
   "metadata": {
    "colab_type": "text",
    "id": "TSWAaPZQVMn4"
   },
   "source": [
    "As we can find from above, it is hard to find relationships between original features and features from EFA.\n",
    "\n",
    "Therefore, I will use 230 as the optimal number of components for dimension reduction."
   ]
  },
  {
   "cell_type": "code",
   "execution_count": 53,
   "metadata": {
    "colab": {},
    "colab_type": "code",
    "id": "UMilzoYmVMn5"
   },
   "outputs": [],
   "source": [
    "pca_model = skd.PCA(n_components=230).fit(x_train_scaled)\n",
    "df_pca=pd.DataFrame(pca_model.components_[:230,:].T, \n",
    "             index=x_train_scaled.columns)"
   ]
  },
  {
   "cell_type": "code",
   "execution_count": 54,
   "metadata": {
    "colab": {
     "base_uri": "https://localhost:8080/",
     "height": 372
    },
    "colab_type": "code",
    "id": "fga0ToAXVMn6",
    "outputId": "6684f1d6-57c6-42ed-afc8-ad8de42c285c",
    "scrolled": false
   },
   "outputs": [
    {
     "data": {
      "text/html": [
       "<div>\n",
       "<style scoped>\n",
       "    .dataframe tbody tr th:only-of-type {\n",
       "        vertical-align: middle;\n",
       "    }\n",
       "\n",
       "    .dataframe tbody tr th {\n",
       "        vertical-align: top;\n",
       "    }\n",
       "\n",
       "    .dataframe thead th {\n",
       "        text-align: right;\n",
       "    }\n",
       "</style>\n",
       "<table border=\"1\" class=\"dataframe\">\n",
       "  <thead>\n",
       "    <tr style=\"text-align: right;\">\n",
       "      <th></th>\n",
       "      <th>0</th>\n",
       "      <th>1</th>\n",
       "      <th>2</th>\n",
       "      <th>3</th>\n",
       "      <th>4</th>\n",
       "      <th>5</th>\n",
       "      <th>6</th>\n",
       "      <th>7</th>\n",
       "      <th>8</th>\n",
       "      <th>9</th>\n",
       "      <th>...</th>\n",
       "      <th>220</th>\n",
       "      <th>221</th>\n",
       "      <th>222</th>\n",
       "      <th>223</th>\n",
       "      <th>224</th>\n",
       "      <th>225</th>\n",
       "      <th>226</th>\n",
       "      <th>227</th>\n",
       "      <th>228</th>\n",
       "      <th>229</th>\n",
       "    </tr>\n",
       "  </thead>\n",
       "  <tbody>\n",
       "    <tr>\n",
       "      <th>Duration</th>\n",
       "      <td>0.247897</td>\n",
       "      <td>0.144095</td>\n",
       "      <td>-0.150780</td>\n",
       "      <td>-0.092450</td>\n",
       "      <td>0.010382</td>\n",
       "      <td>0.069497</td>\n",
       "      <td>0.120053</td>\n",
       "      <td>0.004212</td>\n",
       "      <td>0.031326</td>\n",
       "      <td>0.025376</td>\n",
       "      <td>...</td>\n",
       "      <td>0.000918</td>\n",
       "      <td>-0.000172</td>\n",
       "      <td>-0.005313</td>\n",
       "      <td>-0.013105</td>\n",
       "      <td>0.007728</td>\n",
       "      <td>-0.000006</td>\n",
       "      <td>-0.004799</td>\n",
       "      <td>-0.002604</td>\n",
       "      <td>0.001810</td>\n",
       "      <td>0.003096</td>\n",
       "    </tr>\n",
       "    <tr>\n",
       "      <th>Title_Apple</th>\n",
       "      <td>-0.008268</td>\n",
       "      <td>-0.006096</td>\n",
       "      <td>0.005450</td>\n",
       "      <td>-0.011232</td>\n",
       "      <td>0.001783</td>\n",
       "      <td>-0.003778</td>\n",
       "      <td>0.012622</td>\n",
       "      <td>0.003819</td>\n",
       "      <td>-0.002543</td>\n",
       "      <td>-0.019739</td>\n",
       "      <td>...</td>\n",
       "      <td>-0.009810</td>\n",
       "      <td>0.015143</td>\n",
       "      <td>-0.017110</td>\n",
       "      <td>-0.005010</td>\n",
       "      <td>0.018015</td>\n",
       "      <td>-0.000623</td>\n",
       "      <td>0.008157</td>\n",
       "      <td>0.013422</td>\n",
       "      <td>0.015413</td>\n",
       "      <td>0.003922</td>\n",
       "    </tr>\n",
       "    <tr>\n",
       "      <th>Title_Apple \"Share Your Gifts\"</th>\n",
       "      <td>0.010799</td>\n",
       "      <td>0.001449</td>\n",
       "      <td>-0.004438</td>\n",
       "      <td>-0.003844</td>\n",
       "      <td>-0.000546</td>\n",
       "      <td>0.006119</td>\n",
       "      <td>0.011262</td>\n",
       "      <td>0.003702</td>\n",
       "      <td>0.019523</td>\n",
       "      <td>-0.003155</td>\n",
       "      <td>...</td>\n",
       "      <td>0.000667</td>\n",
       "      <td>0.006481</td>\n",
       "      <td>-0.005183</td>\n",
       "      <td>0.008152</td>\n",
       "      <td>-0.005343</td>\n",
       "      <td>-0.000871</td>\n",
       "      <td>0.008065</td>\n",
       "      <td>-0.007797</td>\n",
       "      <td>0.000790</td>\n",
       "      <td>0.009790</td>\n",
       "    </tr>\n",
       "    <tr>\n",
       "      <th>Title_Apple App Store</th>\n",
       "      <td>-0.003239</td>\n",
       "      <td>-0.016627</td>\n",
       "      <td>0.006576</td>\n",
       "      <td>-0.003113</td>\n",
       "      <td>0.000965</td>\n",
       "      <td>-0.009546</td>\n",
       "      <td>-0.002504</td>\n",
       "      <td>-0.006109</td>\n",
       "      <td>0.003040</td>\n",
       "      <td>0.018554</td>\n",
       "      <td>...</td>\n",
       "      <td>0.000392</td>\n",
       "      <td>-0.000934</td>\n",
       "      <td>0.000542</td>\n",
       "      <td>0.001412</td>\n",
       "      <td>-0.001747</td>\n",
       "      <td>-0.000995</td>\n",
       "      <td>0.002605</td>\n",
       "      <td>-0.001297</td>\n",
       "      <td>0.003523</td>\n",
       "      <td>-0.000984</td>\n",
       "    </tr>\n",
       "    <tr>\n",
       "      <th>Title_Apple Behind The Mac</th>\n",
       "      <td>0.078091</td>\n",
       "      <td>0.013566</td>\n",
       "      <td>0.010427</td>\n",
       "      <td>-0.002189</td>\n",
       "      <td>-0.000666</td>\n",
       "      <td>0.063970</td>\n",
       "      <td>0.197256</td>\n",
       "      <td>-0.008488</td>\n",
       "      <td>0.445162</td>\n",
       "      <td>-0.029260</td>\n",
       "      <td>...</td>\n",
       "      <td>-0.003313</td>\n",
       "      <td>0.002874</td>\n",
       "      <td>0.000142</td>\n",
       "      <td>0.004111</td>\n",
       "      <td>0.005045</td>\n",
       "      <td>-0.004794</td>\n",
       "      <td>-0.001003</td>\n",
       "      <td>0.001897</td>\n",
       "      <td>0.001160</td>\n",
       "      <td>-0.005553</td>\n",
       "    </tr>\n",
       "  </tbody>\n",
       "</table>\n",
       "<p>5 rows × 230 columns</p>\n",
       "</div>"
      ],
      "text/plain": [
       "                                     0         1         2         3    \\\n",
       "Duration                        0.247897  0.144095 -0.150780 -0.092450   \n",
       "Title_Apple                    -0.008268 -0.006096  0.005450 -0.011232   \n",
       "Title_Apple \"Share Your Gifts\"  0.010799  0.001449 -0.004438 -0.003844   \n",
       "Title_Apple App Store          -0.003239 -0.016627  0.006576 -0.003113   \n",
       "Title_Apple Behind The Mac      0.078091  0.013566  0.010427 -0.002189   \n",
       "\n",
       "                                     4         5         6         7    \\\n",
       "Duration                        0.010382  0.069497  0.120053  0.004212   \n",
       "Title_Apple                     0.001783 -0.003778  0.012622  0.003819   \n",
       "Title_Apple \"Share Your Gifts\" -0.000546  0.006119  0.011262  0.003702   \n",
       "Title_Apple App Store           0.000965 -0.009546 -0.002504 -0.006109   \n",
       "Title_Apple Behind The Mac     -0.000666  0.063970  0.197256 -0.008488   \n",
       "\n",
       "                                     8         9    ...       220       221  \\\n",
       "Duration                        0.031326  0.025376  ...  0.000918 -0.000172   \n",
       "Title_Apple                    -0.002543 -0.019739  ... -0.009810  0.015143   \n",
       "Title_Apple \"Share Your Gifts\"  0.019523 -0.003155  ...  0.000667  0.006481   \n",
       "Title_Apple App Store           0.003040  0.018554  ...  0.000392 -0.000934   \n",
       "Title_Apple Behind The Mac      0.445162 -0.029260  ... -0.003313  0.002874   \n",
       "\n",
       "                                     222       223       224       225  \\\n",
       "Duration                       -0.005313 -0.013105  0.007728 -0.000006   \n",
       "Title_Apple                    -0.017110 -0.005010  0.018015 -0.000623   \n",
       "Title_Apple \"Share Your Gifts\" -0.005183  0.008152 -0.005343 -0.000871   \n",
       "Title_Apple App Store           0.000542  0.001412 -0.001747 -0.000995   \n",
       "Title_Apple Behind The Mac      0.000142  0.004111  0.005045 -0.004794   \n",
       "\n",
       "                                     226       227       228       229  \n",
       "Duration                       -0.004799 -0.002604  0.001810  0.003096  \n",
       "Title_Apple                     0.008157  0.013422  0.015413  0.003922  \n",
       "Title_Apple \"Share Your Gifts\"  0.008065 -0.007797  0.000790  0.009790  \n",
       "Title_Apple App Store           0.002605 -0.001297  0.003523 -0.000984  \n",
       "Title_Apple Behind The Mac     -0.001003  0.001897  0.001160 -0.005553  \n",
       "\n",
       "[5 rows x 230 columns]"
      ]
     },
     "execution_count": 54,
     "metadata": {},
     "output_type": "execute_result"
    }
   ],
   "source": [
    "df_pca.head()"
   ]
  },
  {
   "cell_type": "markdown",
   "metadata": {
    "colab_type": "text",
    "id": "L27_O84EVMn_"
   },
   "source": [
    "### Compressed dataset for Regression models"
   ]
  },
  {
   "cell_type": "code",
   "execution_count": 55,
   "metadata": {
    "colab": {},
    "colab_type": "code",
    "id": "0qOmsUtoVMoB"
   },
   "outputs": [],
   "source": [
    "pca_train = skd.PCA(n_components=230).fit_transform(x_train_scaled)\n",
    "\n",
    "df_pca_train=pd.DataFrame(pca_train)\n",
    "\n",
    "pca_test = skd.PCA(n_components=230).fit_transform(x_test_scaled)\n",
    "\n",
    "df_pca_test=pd.DataFrame(pca_test)\n",
    "\n",
    "y_train_pca, y_test_pca = y_train_scaled, y_test_scaled"
   ]
  },
  {
   "cell_type": "markdown",
   "metadata": {
    "colab_type": "text",
    "id": "ZRoa9GFVVMoD"
   },
   "source": [
    "# Part 1: Regression Modeling"
   ]
  },
  {
   "cell_type": "code",
   "execution_count": 56,
   "metadata": {
    "colab": {},
    "colab_type": "code",
    "id": "3fSRPnhOVMoD"
   },
   "outputs": [],
   "source": [
    "x_train_reg, x_test_reg, y_train_reg, y_test_reg = train_test_split(x, y, test_size=0.2, random_state=0)"
   ]
  },
  {
   "cell_type": "markdown",
   "metadata": {
    "colab_type": "text",
    "id": "h4FqgW0GVMoE"
   },
   "source": [
    "# 1.1. Linear Regression"
   ]
  },
  {
   "cell_type": "code",
   "execution_count": 57,
   "metadata": {
    "colab": {
     "base_uri": "https://localhost:8080/",
     "height": 34
    },
    "colab_type": "code",
    "id": "H8sk088uVMoE",
    "outputId": "aa7ddc74-167f-4522-c34f-a7264722696b"
   },
   "outputs": [
    {
     "data": {
      "text/plain": [
       "LinearRegression(copy_X=True, fit_intercept=True, n_jobs=None, normalize=False)"
      ]
     },
     "execution_count": 57,
     "metadata": {},
     "output_type": "execute_result"
    }
   ],
   "source": [
    "regressor = LinearRegression() \n",
    "regressor.fit(x_train_reg, y_train_reg)"
   ]
  },
  {
   "cell_type": "markdown",
   "metadata": {
    "colab_type": "text",
    "id": "P6qgP5upVMoI"
   },
   "source": [
    "### Compare the actual 'Cost' and the predicted value of 'Cost'"
   ]
  },
  {
   "cell_type": "code",
   "execution_count": 58,
   "metadata": {
    "colab": {
     "base_uri": "https://localhost:8080/",
     "height": 359
    },
    "colab_type": "code",
    "id": "KYJUgHOIVMoI",
    "outputId": "13f770a3-4bd6-4cea-d29f-0c63ed083bd4"
   },
   "outputs": [
    {
     "data": {
      "text/html": [
       "<div>\n",
       "<style scoped>\n",
       "    .dataframe tbody tr th:only-of-type {\n",
       "        vertical-align: middle;\n",
       "    }\n",
       "\n",
       "    .dataframe tbody tr th {\n",
       "        vertical-align: top;\n",
       "    }\n",
       "\n",
       "    .dataframe thead th {\n",
       "        text-align: right;\n",
       "    }\n",
       "</style>\n",
       "<table border=\"1\" class=\"dataframe\">\n",
       "  <thead>\n",
       "    <tr style=\"text-align: right;\">\n",
       "      <th></th>\n",
       "      <th>Actual</th>\n",
       "      <th>Predicted</th>\n",
       "    </tr>\n",
       "  </thead>\n",
       "  <tbody>\n",
       "    <tr>\n",
       "      <th>14868</th>\n",
       "      <td>8.356555</td>\n",
       "      <td>8.537401</td>\n",
       "    </tr>\n",
       "    <tr>\n",
       "      <th>14301</th>\n",
       "      <td>5.863631</td>\n",
       "      <td>6.058178</td>\n",
       "    </tr>\n",
       "    <tr>\n",
       "      <th>9691</th>\n",
       "      <td>1.609438</td>\n",
       "      <td>2.322987</td>\n",
       "    </tr>\n",
       "    <tr>\n",
       "      <th>6274</th>\n",
       "      <td>4.418841</td>\n",
       "      <td>4.665562</td>\n",
       "    </tr>\n",
       "    <tr>\n",
       "      <th>12593</th>\n",
       "      <td>5.398163</td>\n",
       "      <td>4.647678</td>\n",
       "    </tr>\n",
       "    <tr>\n",
       "      <th>51</th>\n",
       "      <td>6.122493</td>\n",
       "      <td>6.311308</td>\n",
       "    </tr>\n",
       "    <tr>\n",
       "      <th>1963</th>\n",
       "      <td>6.167516</td>\n",
       "      <td>5.596994</td>\n",
       "    </tr>\n",
       "    <tr>\n",
       "      <th>11503</th>\n",
       "      <td>5.924256</td>\n",
       "      <td>6.098768</td>\n",
       "    </tr>\n",
       "    <tr>\n",
       "      <th>5334</th>\n",
       "      <td>4.709530</td>\n",
       "      <td>4.846249</td>\n",
       "    </tr>\n",
       "    <tr>\n",
       "      <th>13206</th>\n",
       "      <td>6.608001</td>\n",
       "      <td>5.984674</td>\n",
       "    </tr>\n",
       "  </tbody>\n",
       "</table>\n",
       "</div>"
      ],
      "text/plain": [
       "         Actual  Predicted\n",
       "14868  8.356555   8.537401\n",
       "14301  5.863631   6.058178\n",
       "9691   1.609438   2.322987\n",
       "6274   4.418841   4.665562\n",
       "12593  5.398163   4.647678\n",
       "51     6.122493   6.311308\n",
       "1963   6.167516   5.596994\n",
       "11503  5.924256   6.098768\n",
       "5334   4.709530   4.846249\n",
       "13206  6.608001   5.984674"
      ]
     },
     "execution_count": 58,
     "metadata": {},
     "output_type": "execute_result"
    }
   ],
   "source": [
    "y_pred_reg = regressor.predict(x_test_reg)\n",
    "df_reg = pd.DataFrame({'Actual': y_test_reg, 'Predicted': y_pred_reg})\n",
    "df_reg.head(10)"
   ]
  },
  {
   "cell_type": "code",
   "execution_count": 59,
   "metadata": {
    "colab": {
     "base_uri": "https://localhost:8080/",
     "height": 505
    },
    "colab_type": "code",
    "id": "yi6rL0S2VMoK",
    "outputId": "1c194c93-6a32-40d4-efe2-6545d5fcf608"
   },
   "outputs": [
    {
     "data": {
      "image/png": "[encoded data removed]",
      "text/plain": [
       "<Figure size 720x576 with 1 Axes>"
      ]
     },
     "metadata": {
      "needs_background": "light"
     },
     "output_type": "display_data"
    }
   ],
   "source": [
    "df1=df_reg.head(20)\n",
    "df1.plot(kind='bar',figsize=(10,8))\n",
    "plt.grid(which='major', linestyle='-', linewidth='0.5', color='green')\n",
    "plt.grid(which='minor', linestyle=':', linewidth='0.5', color='black')\n",
    "plt.show()"
   ]
  },
  {
   "cell_type": "markdown",
   "metadata": {
    "colab_type": "text",
    "id": "de2utKEkVMoL"
   },
   "source": [
    "### Calculate the error for log-Cost"
   ]
  },
  {
   "cell_type": "code",
   "execution_count": 60,
   "metadata": {
    "colab": {
     "base_uri": "https://localhost:8080/",
     "height": 68
    },
    "colab_type": "code",
    "id": "NEfijLwbVMoM",
    "outputId": "994a6629-87e8-483c-83c5-8a045afa5139",
    "scrolled": true
   },
   "outputs": [
    {
     "name": "stdout",
     "output_type": "stream",
     "text": [
      "Mean Absolute Error: 67728373.44925758\n",
      "Mean Squared Error: 4.456364949526517e+17\n",
      "Root Mean Squared Error: 667560105.872611\n"
     ]
    }
   ],
   "source": [
    "print('Mean Absolute Error:', metrics.mean_absolute_error(y_test_reg, y_pred_reg))  \n",
    "print('Mean Squared Error:', metrics.mean_squared_error(y_test_reg, y_pred_reg))  \n",
    "print('Root Mean Squared Error:', np.sqrt(metrics.mean_squared_error(y_test_reg, y_pred_reg)))"
   ]
  },
  {
   "cell_type": "code",
   "execution_count": 61,
   "metadata": {
    "colab": {
     "base_uri": "https://localhost:8080/",
     "height": 1000
    },
    "colab_type": "code",
    "id": "XjoP-TPxVMoO",
    "outputId": "0b9f9863-491a-4470-def0-fd65b44e11e6",
    "scrolled": true
   },
   "outputs": [
    {
     "name": "stdout",
     "output_type": "stream",
     "text": [
      "-595541437.144928\n",
      "3889978864.096199\n",
      "394041589.25798416\n",
      "2661878081.0866146\n",
      "-7652740922.829351\n",
      "270561900.03616714\n",
      "6107468763.064398\n",
      "6724305473.965986\n",
      "6871147885.875534\n",
      "-614442293.453289\n",
      "3107574470.4017906\n",
      "-4554405279.004637\n",
      "-112574956.09597778\n",
      "-107140632.55822182\n",
      "-12638591956.23356\n",
      "3284041052.7260303\n",
      "-1849428299.7344456\n",
      "2244844969.899708\n",
      "1248000464.6930676\n",
      "4009628669.453659\n",
      "3960898833.9031467\n",
      "-317038508.0424423\n",
      "2209915310.3403206\n",
      "2421902209.6250935\n",
      "3960898833.634943\n",
      "1248000464.2642689\n",
      "7644048294.051365\n",
      "-3624685022.388506\n",
      "12968494483.594015\n",
      "-7067251250.274775\n",
      "2313850524.08712\n",
      "-261552601.51571655\n",
      "5767796920.986792\n",
      "196302704.79195976\n",
      "247144801.70263672\n",
      "-261552602.14968872\n",
      "1757989895.1304493\n",
      "-939518983.125946\n",
      "3284041052.575529\n",
      "-112574958.47789001\n",
      "-1184529310.5172367\n",
      "-1184529308.1962852\n",
      "9267177102.237375\n",
      "1248000464.9617844\n",
      "-459572.0938014984\n",
      "-441542147.0744171\n",
      "53718936.84970474\n",
      "1797198035.4199486\n",
      "-1184529310.4029198\n",
      "1729903025.3965683\n",
      "-4554405280.549227\n",
      "1248000465.7512894\n",
      "3130818859.4741707\n",
      "-10148797235.538591\n",
      "-4313531607.99777\n",
      "1015927128.0647945\n",
      "-12694285807.2979\n",
      "281809970.98384285\n",
      "2313850525.376753\n",
      "548850361.7876816\n",
      "-10148797236.548647\n",
      "1114530216.0933876\n",
      "-6222428761.451452\n",
      "-1260495646.176466\n",
      "-459572.222612381\n",
      "3284041054.591423\n",
      "2107397063.5660324\n",
      "1248000464.5511227\n",
      "9118814543.148512\n",
      "365864290.5095062\n",
      "863298964.7438774\n",
      "1216373327.6020527\n",
      "1248000464.290701\n",
      "-1184529310.2587452\n"
     ]
    }
   ],
   "source": [
    "for i in y_pred_reg:\n",
    "    if abs(i)>1000:\n",
    "        print(i)"
   ]
  },
  {
   "cell_type": "code",
   "execution_count": 62,
   "metadata": {
    "colab": {},
    "colab_type": "code",
    "id": "qj__JCqJVMoP"
   },
   "outputs": [],
   "source": [
    "prediction_reg = regressor.predict(x_train_reg)"
   ]
  },
  {
   "cell_type": "code",
   "execution_count": 63,
   "metadata": {
    "colab": {
     "base_uri": "https://localhost:8080/",
     "height": 475
    },
    "colab_type": "code",
    "id": "EVJh-lGnVMoR",
    "outputId": "87847a79-5486-4a59-e0c1-e390fa8787d0",
    "scrolled": false
   },
   "outputs": [
    {
     "data": {
      "text/plain": [
       "Text(0.5, 1.0, 'Normal Q-Q Plot')"
      ]
     },
     "execution_count": 63,
     "metadata": {},
     "output_type": "execute_result"
    },
    {
     "data": {
      "image/png": "[encoded data removed]",
      "text/plain": [
       "<Figure size 504x504 with 1 Axes>"
      ]
     },
     "metadata": {
      "needs_background": "light"
     },
     "output_type": "display_data"
    }
   ],
   "source": [
    "residuals_reg = y_train_reg - prediction_reg.reshape(-1)\n",
    "\n",
    "plt.figure(figsize=(7,7))\n",
    "stats.probplot(residuals_reg, dist=\"norm\", plot=plt)\n",
    "plt.title(\"Normal Q-Q Plot\")"
   ]
  },
  {
   "cell_type": "code",
   "execution_count": 64,
   "metadata": {
    "colab": {},
    "colab_type": "code",
    "id": "NNriay4sVMoV"
   },
   "outputs": [],
   "source": [
    "idx_reg=list(y_test_reg.index)"
   ]
  },
  {
   "cell_type": "markdown",
   "metadata": {
    "colab_type": "text",
    "id": "d2b2wrfTVMoW"
   },
   "source": [
    "### Retransform the log transformed 'Cost' : Smear Factor"
   ]
  },
  {
   "cell_type": "code",
   "execution_count": 65,
   "metadata": {
    "colab": {},
    "colab_type": "code",
    "id": "ooFMWVgoVMoW"
   },
   "outputs": [],
   "source": [
    "std_reg = statistics.stdev(y_pred_reg)\n",
    "y_pred_reg_real = list(map(lambda x: math.exp(x - 0.5*std_reg**2), y_pred_reg ))\n",
    "y_test_reg_real = df_dummy.Cost.iloc[idx_reg]"
   ]
  },
  {
   "cell_type": "markdown",
   "metadata": {
    "colab_type": "text",
    "id": "IJXagP3JVMoY"
   },
   "source": [
    "Since the residuals are not normally distributed, I retrandsformed using empirical method."
   ]
  },
  {
   "cell_type": "markdown",
   "metadata": {
    "colab_type": "text",
    "id": "mSmf-1YWVMoZ"
   },
   "source": [
    "### Calculate the error for retransformed Cost"
   ]
  },
  {
   "cell_type": "code",
   "execution_count": 66,
   "metadata": {
    "colab": {
     "base_uri": "https://localhost:8080/",
     "height": 68
    },
    "colab_type": "code",
    "id": "ecuh6BMWVMoZ",
    "outputId": "b80c4def-fdf9-4422-f0b3-cedc3b92eb39",
    "scrolled": true
   },
   "outputs": [
    {
     "name": "stdout",
     "output_type": "stream",
     "text": [
      "Mean Absolute Error: 7381.844411326379\n",
      "Mean Squared Error: 1298638483.642325\n",
      "Root Mean Squared Error: 36036.62697371002\n"
     ]
    }
   ],
   "source": [
    "print('Mean Absolute Error:', metrics.mean_absolute_error(y_test_reg_real, y_pred_reg_real))  \n",
    "print('Mean Squared Error:', metrics.mean_squared_error(y_test_reg_real, y_pred_reg_real))  \n",
    "print('Root Mean Squared Error:', np.sqrt(metrics.mean_squared_error(y_test_reg_real, y_pred_reg_real)))"
   ]
  },
  {
   "cell_type": "markdown",
   "metadata": {
    "colab_type": "text",
    "id": "H4cFTnlDVMob"
   },
   "source": [
    "The errorwas much bigger than I expected. \n",
    "\n",
    "Therefore, I plan to try some feature selection via Lasso, Ridge, and Elastic Net regression mothods"
   ]
  },
  {
   "cell_type": "markdown",
   "metadata": {
    "colab_type": "text",
    "id": "j0nL7LRuVMob"
   },
   "source": [
    "# 1.2. Lasso"
   ]
  },
  {
   "cell_type": "code",
   "execution_count": 67,
   "metadata": {
    "colab": {},
    "colab_type": "code",
    "id": "cq-b82oqVMob"
   },
   "outputs": [],
   "source": [
    "regressor_lasso = Lasso(alpha=1.0,max_iter=1000, tol=0.0001)"
   ]
  },
  {
   "cell_type": "code",
   "execution_count": 68,
   "metadata": {
    "colab": {
     "base_uri": "https://localhost:8080/",
     "height": 68
    },
    "colab_type": "code",
    "id": "6DzvxsVSVMoc",
    "outputId": "f3986c82-3c33-40c0-f665-f3f647034c21"
   },
   "outputs": [
    {
     "data": {
      "text/plain": [
       "Lasso(alpha=1.0, copy_X=True, fit_intercept=True, max_iter=1000,\n",
       "      normalize=False, positive=False, precompute=False, random_state=None,\n",
       "      selection='cyclic', tol=0.0001, warm_start=False)"
      ]
     },
     "execution_count": 68,
     "metadata": {},
     "output_type": "execute_result"
    }
   ],
   "source": [
    "regressor_lasso.fit(x_train_reg, y_train_reg)"
   ]
  },
  {
   "cell_type": "markdown",
   "metadata": {
    "colab_type": "text",
    "id": "gIKkCqJgVMof"
   },
   "source": [
    "### Find coefficients for the model"
   ]
  },
  {
   "cell_type": "code",
   "execution_count": 69,
   "metadata": {
    "colab": {
     "base_uri": "https://localhost:8080/",
     "height": 419
    },
    "colab_type": "code",
    "id": "BqATNPrAVMog",
    "outputId": "3e80f585-39e1-40a4-89f6-bce68eb70f02",
    "scrolled": false
   },
   "outputs": [
    {
     "data": {
      "text/html": [
       "<div>\n",
       "<style scoped>\n",
       "    .dataframe tbody tr th:only-of-type {\n",
       "        vertical-align: middle;\n",
       "    }\n",
       "\n",
       "    .dataframe tbody tr th {\n",
       "        vertical-align: top;\n",
       "    }\n",
       "\n",
       "    .dataframe thead th {\n",
       "        text-align: right;\n",
       "    }\n",
       "</style>\n",
       "<table border=\"1\" class=\"dataframe\">\n",
       "  <thead>\n",
       "    <tr style=\"text-align: right;\">\n",
       "      <th></th>\n",
       "      <th>Coefficient</th>\n",
       "    </tr>\n",
       "  </thead>\n",
       "  <tbody>\n",
       "    <tr>\n",
       "      <th>Duration</th>\n",
       "      <td>0.001311</td>\n",
       "    </tr>\n",
       "    <tr>\n",
       "      <th>Title_Apple</th>\n",
       "      <td>0.000000</td>\n",
       "    </tr>\n",
       "    <tr>\n",
       "      <th>Title_Apple \"Share Your Gifts\"</th>\n",
       "      <td>-0.000000</td>\n",
       "    </tr>\n",
       "    <tr>\n",
       "      <th>Title_Apple App Store</th>\n",
       "      <td>-0.000000</td>\n",
       "    </tr>\n",
       "    <tr>\n",
       "      <th>Title_Apple Behind The Mac</th>\n",
       "      <td>-0.000000</td>\n",
       "    </tr>\n",
       "    <tr>\n",
       "      <th>...</th>\n",
       "      <td>...</td>\n",
       "    </tr>\n",
       "    <tr>\n",
       "      <th>Hour Of Day_5</th>\n",
       "      <td>-0.000000</td>\n",
       "    </tr>\n",
       "    <tr>\n",
       "      <th>Hour Of Day_6</th>\n",
       "      <td>-0.000000</td>\n",
       "    </tr>\n",
       "    <tr>\n",
       "      <th>Hour Of Day_7</th>\n",
       "      <td>-0.000000</td>\n",
       "    </tr>\n",
       "    <tr>\n",
       "      <th>Hour Of Day_8</th>\n",
       "      <td>-0.000000</td>\n",
       "    </tr>\n",
       "    <tr>\n",
       "      <th>Hour Of Day_9</th>\n",
       "      <td>-0.000000</td>\n",
       "    </tr>\n",
       "  </tbody>\n",
       "</table>\n",
       "<p>1961 rows × 1 columns</p>\n",
       "</div>"
      ],
      "text/plain": [
       "                                Coefficient\n",
       "Duration                           0.001311\n",
       "Title_Apple                        0.000000\n",
       "Title_Apple \"Share Your Gifts\"    -0.000000\n",
       "Title_Apple App Store             -0.000000\n",
       "Title_Apple Behind The Mac        -0.000000\n",
       "...                                     ...\n",
       "Hour Of Day_5                     -0.000000\n",
       "Hour Of Day_6                     -0.000000\n",
       "Hour Of Day_7                     -0.000000\n",
       "Hour Of Day_8                     -0.000000\n",
       "Hour Of Day_9                     -0.000000\n",
       "\n",
       "[1961 rows x 1 columns]"
      ]
     },
     "execution_count": 69,
     "metadata": {},
     "output_type": "execute_result"
    }
   ],
   "source": [
    "coeff_df = pd.DataFrame(regressor_lasso.coef_, x.columns, columns=['Coefficient'])  \n",
    "coeff_df"
   ]
  },
  {
   "cell_type": "markdown",
   "metadata": {
    "colab_type": "text",
    "id": "y_U2SyK9VMoi"
   },
   "source": [
    "### Compare the actual 'Cost' and the predicted value of 'Cost'"
   ]
  },
  {
   "cell_type": "code",
   "execution_count": 70,
   "metadata": {
    "colab": {
     "base_uri": "https://localhost:8080/",
     "height": 359
    },
    "colab_type": "code",
    "id": "YwAcwAPvVMoi",
    "outputId": "7770de68-0cc9-4d23-b495-fa3c4d950b0f",
    "scrolled": true
   },
   "outputs": [
    {
     "data": {
      "text/html": [
       "<div>\n",
       "<style scoped>\n",
       "    .dataframe tbody tr th:only-of-type {\n",
       "        vertical-align: middle;\n",
       "    }\n",
       "\n",
       "    .dataframe tbody tr th {\n",
       "        vertical-align: top;\n",
       "    }\n",
       "\n",
       "    .dataframe thead th {\n",
       "        text-align: right;\n",
       "    }\n",
       "</style>\n",
       "<table border=\"1\" class=\"dataframe\">\n",
       "  <thead>\n",
       "    <tr style=\"text-align: right;\">\n",
       "      <th></th>\n",
       "      <th>Actual</th>\n",
       "      <th>Predicted</th>\n",
       "    </tr>\n",
       "  </thead>\n",
       "  <tbody>\n",
       "    <tr>\n",
       "      <th>14868</th>\n",
       "      <td>8.356555</td>\n",
       "      <td>6.203853</td>\n",
       "    </tr>\n",
       "    <tr>\n",
       "      <th>14301</th>\n",
       "      <td>5.863631</td>\n",
       "      <td>6.203853</td>\n",
       "    </tr>\n",
       "    <tr>\n",
       "      <th>9691</th>\n",
       "      <td>1.609438</td>\n",
       "      <td>6.223522</td>\n",
       "    </tr>\n",
       "    <tr>\n",
       "      <th>6274</th>\n",
       "      <td>4.418841</td>\n",
       "      <td>6.203853</td>\n",
       "    </tr>\n",
       "    <tr>\n",
       "      <th>12593</th>\n",
       "      <td>5.398163</td>\n",
       "      <td>6.203853</td>\n",
       "    </tr>\n",
       "    <tr>\n",
       "      <th>51</th>\n",
       "      <td>6.122493</td>\n",
       "      <td>6.203853</td>\n",
       "    </tr>\n",
       "    <tr>\n",
       "      <th>1963</th>\n",
       "      <td>6.167516</td>\n",
       "      <td>6.223522</td>\n",
       "    </tr>\n",
       "    <tr>\n",
       "      <th>11503</th>\n",
       "      <td>5.924256</td>\n",
       "      <td>6.203853</td>\n",
       "    </tr>\n",
       "    <tr>\n",
       "      <th>5334</th>\n",
       "      <td>4.709530</td>\n",
       "      <td>6.223522</td>\n",
       "    </tr>\n",
       "    <tr>\n",
       "      <th>13206</th>\n",
       "      <td>6.608001</td>\n",
       "      <td>6.203853</td>\n",
       "    </tr>\n",
       "  </tbody>\n",
       "</table>\n",
       "</div>"
      ],
      "text/plain": [
       "         Actual  Predicted\n",
       "14868  8.356555   6.203853\n",
       "14301  5.863631   6.203853\n",
       "9691   1.609438   6.223522\n",
       "6274   4.418841   6.203853\n",
       "12593  5.398163   6.203853\n",
       "51     6.122493   6.203853\n",
       "1963   6.167516   6.223522\n",
       "11503  5.924256   6.203853\n",
       "5334   4.709530   6.223522\n",
       "13206  6.608001   6.203853"
      ]
     },
     "execution_count": 70,
     "metadata": {},
     "output_type": "execute_result"
    }
   ],
   "source": [
    "y_pred_lasso = regressor_lasso.predict(x_test_reg)\n",
    "df_lasso = pd.DataFrame({'Actual': y_test_reg, 'Predicted': y_pred_lasso})\n",
    "df_lasso.head(10)"
   ]
  },
  {
   "cell_type": "code",
   "execution_count": 71,
   "metadata": {
    "colab": {
     "base_uri": "https://localhost:8080/",
     "height": 505
    },
    "colab_type": "code",
    "id": "Ieenw0crVMon",
    "outputId": "b75fdd27-7d9d-4fd6-aa49-3046b2a9cc0d",
    "scrolled": false
   },
   "outputs": [
    {
     "data": {
      "image/png": "[encoded data removed]",
      "text/plain": [
       "<Figure size 720x576 with 1 Axes>"
      ]
     },
     "metadata": {
      "needs_background": "light"
     },
     "output_type": "display_data"
    }
   ],
   "source": [
    "df1=df_lasso.head(20)\n",
    "df1.plot(kind='bar',figsize=(10,8))\n",
    "plt.grid(which='major', linestyle='-', linewidth='0.5', color='green')\n",
    "plt.grid(which='minor', linestyle=':', linewidth='0.5', color='black')\n",
    "plt.show()"
   ]
  },
  {
   "cell_type": "markdown",
   "metadata": {
    "colab_type": "text",
    "id": "MX2mG08bVMop"
   },
   "source": [
    "### Calculate the error for log-Cost"
   ]
  },
  {
   "cell_type": "code",
   "execution_count": 72,
   "metadata": {
    "colab": {
     "base_uri": "https://localhost:8080/",
     "height": 68
    },
    "colab_type": "code",
    "id": "GJbj8fSzVMop",
    "outputId": "e2579419-ed81-4e0c-c9a3-eea0940fed14"
   },
   "outputs": [
    {
     "name": "stdout",
     "output_type": "stream",
     "text": [
      "Mean Absolute Error: 1.7720376713572512\n",
      "Mean Squared Error: 5.482713869632893\n",
      "Root Mean Squared Error: 2.3415195642216813\n"
     ]
    }
   ],
   "source": [
    "print('Mean Absolute Error:', metrics.mean_absolute_error(y_test_reg, y_pred_lasso))  \n",
    "print('Mean Squared Error:', metrics.mean_squared_error(y_test_reg, y_pred_lasso))  \n",
    "print('Root Mean Squared Error:', np.sqrt(metrics.mean_squared_error(y_test_reg, y_pred_lasso)))"
   ]
  },
  {
   "cell_type": "markdown",
   "metadata": {
    "colab_type": "text",
    "id": "1kQpVR35VMoq"
   },
   "source": [
    "Compare to the Linear Regression model, Lasso model has much smaller error."
   ]
  },
  {
   "cell_type": "code",
   "execution_count": 73,
   "metadata": {
    "colab": {},
    "colab_type": "code",
    "id": "8YVUtu2NVMoq"
   },
   "outputs": [],
   "source": [
    "prediction_lasso = regressor_lasso.predict(x_train_reg)"
   ]
  },
  {
   "cell_type": "code",
   "execution_count": 74,
   "metadata": {
    "colab": {
     "base_uri": "https://localhost:8080/",
     "height": 475
    },
    "colab_type": "code",
    "id": "owp1uOu_VMos",
    "outputId": "7e6a423f-951f-4c9d-9520-50a5933dda94",
    "scrolled": false
   },
   "outputs": [
    {
     "data": {
      "text/plain": [
       "Text(0.5, 1.0, 'Normal Q-Q Plot')"
      ]
     },
     "execution_count": 74,
     "metadata": {},
     "output_type": "execute_result"
    },
    {
     "data": {
      "image/png": "[encoded data removed]",
      "text/plain": [
       "<Figure size 504x504 with 1 Axes>"
      ]
     },
     "metadata": {
      "needs_background": "light"
     },
     "output_type": "display_data"
    }
   ],
   "source": [
    "import scipy.stats as stats\n",
    "residuals_lasso = y_train_reg - prediction_lasso.reshape(-1)\n",
    "\n",
    "plt.figure(figsize=(7,7))\n",
    "stats.probplot(residuals_lasso, dist=\"norm\", plot=plt)\n",
    "plt.title(\"Normal Q-Q Plot\")"
   ]
  },
  {
   "cell_type": "markdown",
   "metadata": {
    "colab_type": "text",
    "id": "Gv6qkvfdVMou"
   },
   "source": [
    "Residuals are nearly normally distributed."
   ]
  },
  {
   "cell_type": "markdown",
   "metadata": {
    "colab_type": "text",
    "id": "Jj93veQiVMow"
   },
   "source": [
    "### Retransform the log transformed 'Cost' : Smear Factor"
   ]
  },
  {
   "cell_type": "code",
   "execution_count": 75,
   "metadata": {
    "colab": {},
    "colab_type": "code",
    "id": "NmTN_AGXVMow"
   },
   "outputs": [],
   "source": [
    "std_lasso = statistics.stdev(y_pred_lasso)"
   ]
  },
  {
   "cell_type": "code",
   "execution_count": 76,
   "metadata": {
    "colab": {},
    "colab_type": "code",
    "id": "Hmtdn0brVMoy"
   },
   "outputs": [],
   "source": [
    "y_pred_lasso_real = list(map(lambda x: math.exp(x + 0.5*std_lasso**2), y_pred_lasso ))"
   ]
  },
  {
   "cell_type": "code",
   "execution_count": 77,
   "metadata": {
    "colab": {},
    "colab_type": "code",
    "id": "QWIOX-_GVMoz",
    "scrolled": false
   },
   "outputs": [],
   "source": [
    "y_test_lasso_real = df_dummy.Cost.iloc[idx_reg]"
   ]
  },
  {
   "cell_type": "markdown",
   "metadata": {
    "colab_type": "text",
    "id": "f03MrXpeVMo0"
   },
   "source": [
    "### Calculate the error for retransformed Cost"
   ]
  },
  {
   "cell_type": "code",
   "execution_count": 78,
   "metadata": {
    "colab": {
     "base_uri": "https://localhost:8080/",
     "height": 68
    },
    "colab_type": "code",
    "id": "GM_1do_hVMo1",
    "outputId": "5a58ffed-719a-443c-90c9-277e6e38273b",
    "scrolled": false
   },
   "outputs": [
    {
     "name": "stdout",
     "output_type": "stream",
     "text": [
      "Mean Absolute Error: 7200.879808003785\n",
      "Mean Squared Error: 1291450227.3165631\n",
      "Root Mean Squared Error: 35936.75315490484\n"
     ]
    }
   ],
   "source": [
    "print('Mean Absolute Error:', metrics.mean_absolute_error(y_test_lasso_real, y_pred_lasso_real))  \n",
    "print('Mean Squared Error:', metrics.mean_squared_error(y_test_lasso_real, y_pred_lasso_real))  \n",
    "print('Root Mean Squared Error:', np.sqrt(metrics.mean_squared_error(y_test_lasso_real, y_pred_lasso_real)))"
   ]
  },
  {
   "cell_type": "markdown",
   "metadata": {
    "colab_type": "text",
    "id": "loo53EGVVMo4"
   },
   "source": [
    "# 1.3. Ridge"
   ]
  },
  {
   "cell_type": "code",
   "execution_count": 79,
   "metadata": {
    "colab": {},
    "colab_type": "code",
    "id": "pmNJCqBRVMo4"
   },
   "outputs": [],
   "source": [
    "regressor_ridge = Ridge(alpha=1.0,tol=0.001, solver='auto')"
   ]
  },
  {
   "cell_type": "code",
   "execution_count": 80,
   "metadata": {
    "colab": {
     "base_uri": "https://localhost:8080/",
     "height": 51
    },
    "colab_type": "code",
    "id": "rij-1pVHVMo5",
    "outputId": "bd0cae05-5801-4915-9865-588c031fd178"
   },
   "outputs": [
    {
     "data": {
      "text/plain": [
       "Ridge(alpha=1.0, copy_X=True, fit_intercept=True, max_iter=None,\n",
       "      normalize=False, random_state=None, solver='auto', tol=0.001)"
      ]
     },
     "execution_count": 80,
     "metadata": {},
     "output_type": "execute_result"
    }
   ],
   "source": [
    "regressor_ridge.fit(x_train_reg, y_train_reg)"
   ]
  },
  {
   "cell_type": "markdown",
   "metadata": {
    "colab_type": "text",
    "id": "xuRFv-b3VMo6"
   },
   "source": [
    "### Compare the actual 'Cost' and the predicted value of 'Cost'"
   ]
  },
  {
   "cell_type": "code",
   "execution_count": 81,
   "metadata": {
    "colab": {
     "base_uri": "https://localhost:8080/",
     "height": 359
    },
    "colab_type": "code",
    "id": "GqtCYwlNVMo8",
    "outputId": "d9af31c7-f43e-4731-904f-bd759f72cefb",
    "scrolled": false
   },
   "outputs": [
    {
     "data": {
      "text/html": [
       "<div>\n",
       "<style scoped>\n",
       "    .dataframe tbody tr th:only-of-type {\n",
       "        vertical-align: middle;\n",
       "    }\n",
       "\n",
       "    .dataframe tbody tr th {\n",
       "        vertical-align: top;\n",
       "    }\n",
       "\n",
       "    .dataframe thead th {\n",
       "        text-align: right;\n",
       "    }\n",
       "</style>\n",
       "<table border=\"1\" class=\"dataframe\">\n",
       "  <thead>\n",
       "    <tr style=\"text-align: right;\">\n",
       "      <th></th>\n",
       "      <th>Actual</th>\n",
       "      <th>Predicted</th>\n",
       "    </tr>\n",
       "  </thead>\n",
       "  <tbody>\n",
       "    <tr>\n",
       "      <th>14868</th>\n",
       "      <td>8.356555</td>\n",
       "      <td>8.559134</td>\n",
       "    </tr>\n",
       "    <tr>\n",
       "      <th>14301</th>\n",
       "      <td>5.863631</td>\n",
       "      <td>6.043842</td>\n",
       "    </tr>\n",
       "    <tr>\n",
       "      <th>9691</th>\n",
       "      <td>1.609438</td>\n",
       "      <td>2.375957</td>\n",
       "    </tr>\n",
       "    <tr>\n",
       "      <th>6274</th>\n",
       "      <td>4.418841</td>\n",
       "      <td>4.841652</td>\n",
       "    </tr>\n",
       "    <tr>\n",
       "      <th>12593</th>\n",
       "      <td>5.398163</td>\n",
       "      <td>4.709737</td>\n",
       "    </tr>\n",
       "    <tr>\n",
       "      <th>51</th>\n",
       "      <td>6.122493</td>\n",
       "      <td>6.321812</td>\n",
       "    </tr>\n",
       "    <tr>\n",
       "      <th>1963</th>\n",
       "      <td>6.167516</td>\n",
       "      <td>5.571763</td>\n",
       "    </tr>\n",
       "    <tr>\n",
       "      <th>11503</th>\n",
       "      <td>5.924256</td>\n",
       "      <td>6.064882</td>\n",
       "    </tr>\n",
       "    <tr>\n",
       "      <th>5334</th>\n",
       "      <td>4.709530</td>\n",
       "      <td>4.855102</td>\n",
       "    </tr>\n",
       "    <tr>\n",
       "      <th>13206</th>\n",
       "      <td>6.608001</td>\n",
       "      <td>6.162173</td>\n",
       "    </tr>\n",
       "  </tbody>\n",
       "</table>\n",
       "</div>"
      ],
      "text/plain": [
       "         Actual  Predicted\n",
       "14868  8.356555   8.559134\n",
       "14301  5.863631   6.043842\n",
       "9691   1.609438   2.375957\n",
       "6274   4.418841   4.841652\n",
       "12593  5.398163   4.709737\n",
       "51     6.122493   6.321812\n",
       "1963   6.167516   5.571763\n",
       "11503  5.924256   6.064882\n",
       "5334   4.709530   4.855102\n",
       "13206  6.608001   6.162173"
      ]
     },
     "execution_count": 81,
     "metadata": {},
     "output_type": "execute_result"
    }
   ],
   "source": [
    "y_pred_ridge = regressor_ridge.predict(x_test_reg)\n",
    "df_ridge = pd.DataFrame({'Actual': y_test_reg, 'Predicted': y_pred_ridge})\n",
    "df_ridge.head(10)"
   ]
  },
  {
   "cell_type": "code",
   "execution_count": 82,
   "metadata": {
    "colab": {
     "base_uri": "https://localhost:8080/",
     "height": 505
    },
    "colab_type": "code",
    "id": "BLKkl0oYVMo9",
    "outputId": "1f50920c-df8b-45c8-be3b-dc1ab6ff6503"
   },
   "outputs": [
    {
     "data": {
      "image/png": "[encoded data removed]",
      "text/plain": [
       "<Figure size 720x576 with 1 Axes>"
      ]
     },
     "metadata": {
      "needs_background": "light"
     },
     "output_type": "display_data"
    }
   ],
   "source": [
    "df1=df_ridge.head(20)\n",
    "df1.plot(kind='bar',figsize=(10,8))\n",
    "plt.grid(which='major', linestyle='-', linewidth='0.5', color='green')\n",
    "plt.grid(which='minor', linestyle=':', linewidth='0.5', color='black')\n",
    "plt.show()"
   ]
  },
  {
   "cell_type": "markdown",
   "metadata": {
    "colab_type": "text",
    "id": "g7nxPrr0VMo_"
   },
   "source": [
    "### Calculate the error for log-Cost\n"
   ]
  },
  {
   "cell_type": "code",
   "execution_count": 83,
   "metadata": {
    "colab": {
     "base_uri": "https://localhost:8080/",
     "height": 68
    },
    "colab_type": "code",
    "id": "6pBdauJKVMo_",
    "outputId": "9ff72e11-ab82-4fa9-d953-7564508d028c",
    "scrolled": false
   },
   "outputs": [
    {
     "name": "stdout",
     "output_type": "stream",
     "text": [
      "Mean Absolute Error: 0.439436433507422\n",
      "Mean Squared Error: 0.3577669678711483\n",
      "Root Mean Squared Error: 0.5981362452411225\n"
     ]
    }
   ],
   "source": [
    "print('Mean Absolute Error:', metrics.mean_absolute_error(y_test_reg, y_pred_ridge))  \n",
    "print('Mean Squared Error:', metrics.mean_squared_error(y_test_reg, y_pred_ridge))  \n",
    "print('Root Mean Squared Error:', np.sqrt(metrics.mean_squared_error(y_test_reg, y_pred_ridge)))"
   ]
  },
  {
   "cell_type": "markdown",
   "metadata": {
    "colab_type": "text",
    "id": "iA0_MRVIVMpB"
   },
   "source": [
    "Ridge model has a better result compare to Lasso model!"
   ]
  },
  {
   "cell_type": "code",
   "execution_count": 84,
   "metadata": {
    "colab": {},
    "colab_type": "code",
    "id": "UBqeQT6NVMpB"
   },
   "outputs": [],
   "source": [
    "prediction_ridge = regressor_ridge.predict(x_train_reg)"
   ]
  },
  {
   "cell_type": "code",
   "execution_count": 85,
   "metadata": {
    "colab": {
     "base_uri": "https://localhost:8080/",
     "height": 475
    },
    "colab_type": "code",
    "id": "yOULmhyPVMpD",
    "outputId": "f9ecd987-241d-46cc-c99d-57378d1eb2eb",
    "scrolled": false
   },
   "outputs": [
    {
     "data": {
      "text/plain": [
       "Text(0.5, 1.0, 'Normal Q-Q Plot')"
      ]
     },
     "execution_count": 85,
     "metadata": {},
     "output_type": "execute_result"
    },
    {
     "data": {
      "image/png": "[encoded data removed]",
      "text/plain": [
       "<Figure size 504x504 with 1 Axes>"
      ]
     },
     "metadata": {
      "needs_background": "light"
     },
     "output_type": "display_data"
    }
   ],
   "source": [
    "residuals_ridge = y_train_reg - prediction_ridge.reshape(-1)\n",
    "\n",
    "plt.figure(figsize=(7,7))\n",
    "stats.probplot(residuals_ridge, dist=\"norm\", plot=plt)\n",
    "plt.title(\"Normal Q-Q Plot\")"
   ]
  },
  {
   "cell_type": "markdown",
   "metadata": {
    "colab_type": "text",
    "id": "9MhdSuGcVMpF"
   },
   "source": [
    "The residuals from Ridge model are not normally distributed. It seems more like fat tail distribution!\n",
    "\n",
    "Therefore, I tried emprical way to find the best result."
   ]
  },
  {
   "cell_type": "markdown",
   "metadata": {
    "colab_type": "text",
    "id": "vfbtNN2SVMpF"
   },
   "source": [
    "### Retransform the log transformed 'Cost' : Smear Factor"
   ]
  },
  {
   "cell_type": "code",
   "execution_count": 86,
   "metadata": {
    "colab": {},
    "colab_type": "code",
    "id": "F6cPXeF_VMpF"
   },
   "outputs": [],
   "source": [
    "std_ridge = statistics.stdev(y_pred_ridge)\n",
    "y_pred_ridge_real = list(map(lambda x: math.exp(x - 0.1*std_ridge**2), y_pred_ridge ))\n",
    "y_test_ridge_real = df_dummy.Cost.iloc[idx_reg]"
   ]
  },
  {
   "cell_type": "markdown",
   "metadata": {
    "colab_type": "text",
    "id": "KZMVu59JVMpI"
   },
   "source": [
    "### Calculate the error for retransformed Cost"
   ]
  },
  {
   "cell_type": "code",
   "execution_count": 87,
   "metadata": {
    "colab": {
     "base_uri": "https://localhost:8080/",
     "height": 68
    },
    "colab_type": "code",
    "id": "_LRhSAMNVMpI",
    "outputId": "5269cd0a-c312-44db-827c-cf35616ffe81"
   },
   "outputs": [
    {
     "name": "stdout",
     "output_type": "stream",
     "text": [
      "Mean Absolute Error: 4252.447990556186\n",
      "Mean Squared Error: 476662794.6777531\n",
      "Root Mean Squared Error: 21832.608517484874\n"
     ]
    }
   ],
   "source": [
    "print('Mean Absolute Error:', metrics.mean_absolute_error(y_test_ridge_real, y_pred_ridge_real))  \n",
    "print('Mean Squared Error:', metrics.mean_squared_error(y_test_ridge_real, y_pred_ridge_real))  \n",
    "print('Root Mean Squared Error:', np.sqrt(metrics.mean_squared_error(y_test_ridge_real, y_pred_ridge_real)))"
   ]
  },
  {
   "cell_type": "markdown",
   "metadata": {
    "colab_type": "text",
    "id": "-029D0r9VMpJ"
   },
   "source": [
    "# 1.4. Elastic Net"
   ]
  },
  {
   "cell_type": "code",
   "execution_count": 88,
   "metadata": {
    "colab": {},
    "colab_type": "code",
    "id": "B4n2qzVcVMpK"
   },
   "outputs": [],
   "source": [
    "regressor_net = ElasticNet(alpha=1.0,l1_ratio=0.5, tol=0.0001)"
   ]
  },
  {
   "cell_type": "code",
   "execution_count": 89,
   "metadata": {
    "colab": {
     "base_uri": "https://localhost:8080/",
     "height": 68
    },
    "colab_type": "code",
    "id": "ienCeQnaVMpL",
    "outputId": "09709f63-8e73-4402-f3e4-1aa7c4ee9470"
   },
   "outputs": [
    {
     "data": {
      "text/plain": [
       "ElasticNet(alpha=1.0, copy_X=True, fit_intercept=True, l1_ratio=0.5,\n",
       "           max_iter=1000, normalize=False, positive=False, precompute=False,\n",
       "           random_state=None, selection='cyclic', tol=0.0001, warm_start=False)"
      ]
     },
     "execution_count": 89,
     "metadata": {},
     "output_type": "execute_result"
    }
   ],
   "source": [
    "regressor_net.fit(x_train_reg, y_train_reg)"
   ]
  },
  {
   "cell_type": "markdown",
   "metadata": {
    "colab_type": "text",
    "id": "x4fEl4TUVMpM"
   },
   "source": [
    "### Compare the actual 'Cost' and the predicted value of 'Cost'"
   ]
  },
  {
   "cell_type": "code",
   "execution_count": 90,
   "metadata": {
    "colab": {
     "base_uri": "https://localhost:8080/",
     "height": 359
    },
    "colab_type": "code",
    "id": "gNPADdw2VMpN",
    "outputId": "d28eacf6-93f0-43e0-fdfc-57c9db5fb697"
   },
   "outputs": [
    {
     "data": {
      "text/html": [
       "<div>\n",
       "<style scoped>\n",
       "    .dataframe tbody tr th:only-of-type {\n",
       "        vertical-align: middle;\n",
       "    }\n",
       "\n",
       "    .dataframe tbody tr th {\n",
       "        vertical-align: top;\n",
       "    }\n",
       "\n",
       "    .dataframe thead th {\n",
       "        text-align: right;\n",
       "    }\n",
       "</style>\n",
       "<table border=\"1\" class=\"dataframe\">\n",
       "  <thead>\n",
       "    <tr style=\"text-align: right;\">\n",
       "      <th></th>\n",
       "      <th>Actual</th>\n",
       "      <th>Predicted</th>\n",
       "    </tr>\n",
       "  </thead>\n",
       "  <tbody>\n",
       "    <tr>\n",
       "      <th>14868</th>\n",
       "      <td>8.356555</td>\n",
       "      <td>8.559134</td>\n",
       "    </tr>\n",
       "    <tr>\n",
       "      <th>14301</th>\n",
       "      <td>5.863631</td>\n",
       "      <td>6.043842</td>\n",
       "    </tr>\n",
       "    <tr>\n",
       "      <th>9691</th>\n",
       "      <td>1.609438</td>\n",
       "      <td>2.375957</td>\n",
       "    </tr>\n",
       "    <tr>\n",
       "      <th>6274</th>\n",
       "      <td>4.418841</td>\n",
       "      <td>4.841652</td>\n",
       "    </tr>\n",
       "    <tr>\n",
       "      <th>12593</th>\n",
       "      <td>5.398163</td>\n",
       "      <td>4.709737</td>\n",
       "    </tr>\n",
       "    <tr>\n",
       "      <th>51</th>\n",
       "      <td>6.122493</td>\n",
       "      <td>6.321812</td>\n",
       "    </tr>\n",
       "    <tr>\n",
       "      <th>1963</th>\n",
       "      <td>6.167516</td>\n",
       "      <td>5.571763</td>\n",
       "    </tr>\n",
       "    <tr>\n",
       "      <th>11503</th>\n",
       "      <td>5.924256</td>\n",
       "      <td>6.064882</td>\n",
       "    </tr>\n",
       "    <tr>\n",
       "      <th>5334</th>\n",
       "      <td>4.709530</td>\n",
       "      <td>4.855102</td>\n",
       "    </tr>\n",
       "    <tr>\n",
       "      <th>13206</th>\n",
       "      <td>6.608001</td>\n",
       "      <td>6.162173</td>\n",
       "    </tr>\n",
       "  </tbody>\n",
       "</table>\n",
       "</div>"
      ],
      "text/plain": [
       "         Actual  Predicted\n",
       "14868  8.356555   8.559134\n",
       "14301  5.863631   6.043842\n",
       "9691   1.609438   2.375957\n",
       "6274   4.418841   4.841652\n",
       "12593  5.398163   4.709737\n",
       "51     6.122493   6.321812\n",
       "1963   6.167516   5.571763\n",
       "11503  5.924256   6.064882\n",
       "5334   4.709530   4.855102\n",
       "13206  6.608001   6.162173"
      ]
     },
     "execution_count": 90,
     "metadata": {},
     "output_type": "execute_result"
    }
   ],
   "source": [
    "y_pred_net = regressor_net.predict(x_test_reg)\n",
    "df_net = pd.DataFrame({'Actual': y_test_reg, 'Predicted': y_pred_ridge})\n",
    "df_net.head(10)"
   ]
  },
  {
   "cell_type": "code",
   "execution_count": 91,
   "metadata": {
    "colab": {
     "base_uri": "https://localhost:8080/",
     "height": 505
    },
    "colab_type": "code",
    "id": "OIYYgkGOVMpP",
    "outputId": "fa43f666-8b8b-439e-d5f5-e769cb584336"
   },
   "outputs": [
    {
     "data": {
      "image/png": "[encoded data removed]",
      "text/plain": [
       "<Figure size 720x576 with 1 Axes>"
      ]
     },
     "metadata": {
      "needs_background": "light"
     },
     "output_type": "display_data"
    }
   ],
   "source": [
    "df1=df_net.head(20)\n",
    "df1.plot(kind='bar',figsize=(10,8))\n",
    "plt.grid(which='major', linestyle='-', linewidth='0.5', color='green')\n",
    "plt.grid(which='minor', linestyle=':', linewidth='0.5', color='black')\n",
    "plt.show()"
   ]
  },
  {
   "cell_type": "markdown",
   "metadata": {
    "colab_type": "text",
    "id": "qMjY1jYkVMpQ"
   },
   "source": [
    "### Calculate the error for log-Cost\n"
   ]
  },
  {
   "cell_type": "code",
   "execution_count": 92,
   "metadata": {
    "colab": {
     "base_uri": "https://localhost:8080/",
     "height": 68
    },
    "colab_type": "code",
    "id": "sXpNbJ4XVMpR",
    "outputId": "a77c16b3-bf76-4aaf-a240-cda76cd5178f"
   },
   "outputs": [
    {
     "name": "stdout",
     "output_type": "stream",
     "text": [
      "Mean Absolute Error: 1.7683273886320823\n",
      "Mean Squared Error: 5.473750308697627\n",
      "Root Mean Squared Error: 2.3396047334320444\n"
     ]
    }
   ],
   "source": [
    "print('Mean Absolute Error:', metrics.mean_absolute_error(y_test_reg, y_pred_net))  \n",
    "print('Mean Squared Error:', metrics.mean_squared_error(y_test_reg, y_pred_net))  \n",
    "print('Root Mean Squared Error:', np.sqrt(metrics.mean_squared_error(y_test_reg, y_pred_net)))"
   ]
  },
  {
   "cell_type": "code",
   "execution_count": 93,
   "metadata": {
    "colab": {},
    "colab_type": "code",
    "id": "TwwTAYSgVMpS"
   },
   "outputs": [],
   "source": [
    "prediction_net = regressor_net.predict(x_train_reg)"
   ]
  },
  {
   "cell_type": "code",
   "execution_count": 94,
   "metadata": {
    "colab": {
     "base_uri": "https://localhost:8080/",
     "height": 475
    },
    "colab_type": "code",
    "id": "Kv3Wy1dQVMpU",
    "outputId": "16711059-6c51-40a4-c4b3-f850fb524ab4",
    "scrolled": false
   },
   "outputs": [
    {
     "data": {
      "text/plain": [
       "Text(0.5, 1.0, 'Normal Q-Q Plot')"
      ]
     },
     "execution_count": 94,
     "metadata": {},
     "output_type": "execute_result"
    },
    {
     "data": {
      "image/png": "[encoded data removed]",
      "text/plain": [
       "<Figure size 504x504 with 1 Axes>"
      ]
     },
     "metadata": {
      "needs_background": "light"
     },
     "output_type": "display_data"
    }
   ],
   "source": [
    "import scipy.stats as stats\n",
    "residuals_net = y_train_reg - prediction_net.reshape(-1)\n",
    "\n",
    "plt.figure(figsize=(7,7))\n",
    "stats.probplot(residuals_net, dist=\"norm\", plot=plt)\n",
    "plt.title(\"Normal Q-Q Plot\")"
   ]
  },
  {
   "cell_type": "markdown",
   "metadata": {
    "colab_type": "text",
    "id": "4a3W-uwGVMpW"
   },
   "source": [
    "### Retransform the log transformed 'Cost' : Smear Factor\n"
   ]
  },
  {
   "cell_type": "code",
   "execution_count": 95,
   "metadata": {
    "colab": {},
    "colab_type": "code",
    "id": "Z_LT1rsCVMpW"
   },
   "outputs": [],
   "source": [
    "std_net = statistics.stdev(y_pred_net)\n",
    "y_pred_net_real = list(map(lambda x: math.exp(x + 0.5*std_net**2), y_pred_net ))\n",
    "y_test_net_real = df_dummy.Cost.iloc[idx_reg]"
   ]
  },
  {
   "cell_type": "markdown",
   "metadata": {
    "colab_type": "text",
    "id": "kOR2liBoVMpc"
   },
   "source": [
    "### Calculate the error for retransformed Cost"
   ]
  },
  {
   "cell_type": "code",
   "execution_count": 96,
   "metadata": {
    "colab": {
     "base_uri": "https://localhost:8080/",
     "height": 68
    },
    "colab_type": "code",
    "id": "B52h6l1CVMpc",
    "outputId": "cbd73944-e0e9-4a5d-8996-f79fdfc121cb"
   },
   "outputs": [
    {
     "name": "stdout",
     "output_type": "stream",
     "text": [
      "Mean Absolute Error: 7198.958675145903\n",
      "Mean Squared Error: 1291209896.0248713\n",
      "Root Mean Squared Error: 35933.40919012377\n"
     ]
    }
   ],
   "source": [
    "print('Mean Absolute Error:', metrics.mean_absolute_error(y_test_net_real, y_pred_net_real))  \n",
    "print('Mean Squared Error:', metrics.mean_squared_error(y_test_net_real, y_pred_net_real))  \n",
    "print('Root Mean Squared Error:', np.sqrt(metrics.mean_squared_error(y_test_net_real, y_pred_net_real)))"
   ]
  },
  {
   "cell_type": "markdown",
   "metadata": {
    "colab_type": "text",
    "id": "f8Nyo4W5VMpe"
   },
   "source": [
    "# 1.5. RandomForest Regression"
   ]
  },
  {
   "cell_type": "code",
   "execution_count": 97,
   "metadata": {
    "colab": {},
    "colab_type": "code",
    "id": "v2E6d88DVMpe"
   },
   "outputs": [],
   "source": [
    "train_features_reg, test_features_reg, train_labels_reg, test_labels_reg = train_test_split(x, y,\n",
    "                                                                                            test_size=0.2, \n",
    "                                                                                            random_state=42)"
   ]
  },
  {
   "cell_type": "markdown",
   "metadata": {
    "colab_type": "text",
    "id": "JdtYrC8HVMpf"
   },
   "source": [
    "### Train Model"
   ]
  },
  {
   "cell_type": "code",
   "execution_count": 164,
   "metadata": {
    "colab": {},
    "colab_type": "code",
    "id": "jFTGPEFTVMpf"
   },
   "outputs": [
    {
     "data": {
      "text/plain": [
       "RandomForestRegressor(bootstrap=True, ccp_alpha=0.0, criterion='mse',\n",
       "                      max_depth=None, max_features='auto', max_leaf_nodes=None,\n",
       "                      max_samples=None, min_impurity_decrease=0.0,\n",
       "                      min_impurity_split=None, min_samples_leaf=1,\n",
       "                      min_samples_split=2, min_weight_fraction_leaf=0.0,\n",
       "                      n_estimators=1000, n_jobs=None, oob_score=False,\n",
       "                      random_state=42, verbose=0, warm_start=False)"
      ]
     },
     "execution_count": 164,
     "metadata": {},
     "output_type": "execute_result"
    }
   ],
   "source": [
    "# Instantiate model with 1000 decision trees\n",
    "rf = RandomForestRegressor(n_estimators = 1000, random_state = 42)\n",
    "# Train the model on training data\n",
    "rf.fit(train_features_reg, train_labels_reg)"
   ]
  },
  {
   "cell_type": "markdown",
   "metadata": {
    "colab_type": "text",
    "id": "YovHa_CXVMph"
   },
   "source": [
    "### Make predictions on the test sets"
   ]
  },
  {
   "cell_type": "code",
   "execution_count": 165,
   "metadata": {
    "colab": {},
    "colab_type": "code",
    "id": "CVdj_eTNKdKW"
   },
   "outputs": [
    {
     "name": "stdout",
     "output_type": "stream",
     "text": [
      "Mean Absolute Error: 0.36 degrees.\n"
     ]
    }
   ],
   "source": [
    "# Use the forest's predict method on the test data\n",
    "predictions_rfr = rf.predict(test_features_reg)\n",
    "# Calculate the absolute errors\n",
    "errors = abs(predictions_rfr - test_labels_reg)\n",
    "# Print out the mean absolute error (mae)\n",
    "print('Mean Absolute Error:', round(np.mean(errors), 2), 'degrees.')"
   ]
  },
  {
   "cell_type": "markdown",
   "metadata": {
    "colab_type": "text",
    "id": "T-ox5UtZVMpi"
   },
   "source": [
    "### Compare the actual 'Cost' and the predicted value of 'Cost'\n"
   ]
  },
  {
   "cell_type": "code",
   "execution_count": 166,
   "metadata": {
    "colab": {},
    "colab_type": "code",
    "id": "qg1JS7K4VMpj"
   },
   "outputs": [
    {
     "data": {
      "text/html": [
       "<div>\n",
       "<style scoped>\n",
       "    .dataframe tbody tr th:only-of-type {\n",
       "        vertical-align: middle;\n",
       "    }\n",
       "\n",
       "    .dataframe tbody tr th {\n",
       "        vertical-align: top;\n",
       "    }\n",
       "\n",
       "    .dataframe thead th {\n",
       "        text-align: right;\n",
       "    }\n",
       "</style>\n",
       "<table border=\"1\" class=\"dataframe\">\n",
       "  <thead>\n",
       "    <tr style=\"text-align: right;\">\n",
       "      <th></th>\n",
       "      <th>Actual</th>\n",
       "      <th>Predicted</th>\n",
       "    </tr>\n",
       "  </thead>\n",
       "  <tbody>\n",
       "    <tr>\n",
       "      <th>8929</th>\n",
       "      <td>0.693147</td>\n",
       "      <td>0.646111</td>\n",
       "    </tr>\n",
       "    <tr>\n",
       "      <th>12271</th>\n",
       "      <td>11.043322</td>\n",
       "      <td>8.502724</td>\n",
       "    </tr>\n",
       "    <tr>\n",
       "      <th>361</th>\n",
       "      <td>7.811163</td>\n",
       "      <td>8.171463</td>\n",
       "    </tr>\n",
       "    <tr>\n",
       "      <th>4296</th>\n",
       "      <td>4.007333</td>\n",
       "      <td>4.135353</td>\n",
       "    </tr>\n",
       "    <tr>\n",
       "      <th>8600</th>\n",
       "      <td>1.609438</td>\n",
       "      <td>1.952029</td>\n",
       "    </tr>\n",
       "    <tr>\n",
       "      <th>15505</th>\n",
       "      <td>5.953243</td>\n",
       "      <td>6.018184</td>\n",
       "    </tr>\n",
       "    <tr>\n",
       "      <th>9586</th>\n",
       "      <td>5.713733</td>\n",
       "      <td>6.473998</td>\n",
       "    </tr>\n",
       "    <tr>\n",
       "      <th>8977</th>\n",
       "      <td>13.531476</td>\n",
       "      <td>13.416037</td>\n",
       "    </tr>\n",
       "    <tr>\n",
       "      <th>16332</th>\n",
       "      <td>2.397895</td>\n",
       "      <td>2.628045</td>\n",
       "    </tr>\n",
       "    <tr>\n",
       "      <th>4407</th>\n",
       "      <td>4.219508</td>\n",
       "      <td>4.627275</td>\n",
       "    </tr>\n",
       "  </tbody>\n",
       "</table>\n",
       "</div>"
      ],
      "text/plain": [
       "          Actual  Predicted\n",
       "8929    0.693147   0.646111\n",
       "12271  11.043322   8.502724\n",
       "361     7.811163   8.171463\n",
       "4296    4.007333   4.135353\n",
       "8600    1.609438   1.952029\n",
       "15505   5.953243   6.018184\n",
       "9586    5.713733   6.473998\n",
       "8977   13.531476  13.416037\n",
       "16332   2.397895   2.628045\n",
       "4407    4.219508   4.627275"
      ]
     },
     "execution_count": 166,
     "metadata": {},
     "output_type": "execute_result"
    }
   ],
   "source": [
    "df_rfr = pd.DataFrame({'Actual': test_labels_reg, 'Predicted': predictions_rfr})\n",
    "df_rfr.head(10)"
   ]
  },
  {
   "cell_type": "code",
   "execution_count": 167,
   "metadata": {
    "colab": {},
    "colab_type": "code",
    "id": "P0suRFaEVMpl",
    "scrolled": false
   },
   "outputs": [
    {
     "data": {
      "image/png": "[encoded data removed]",
      "text/plain": [
       "<Figure size 720x576 with 1 Axes>"
      ]
     },
     "metadata": {
      "needs_background": "light"
     },
     "output_type": "display_data"
    }
   ],
   "source": [
    "df1=df_rfr.head(20)\n",
    "df1.plot(kind='bar',figsize=(10,8))\n",
    "plt.grid(which='major', linestyle='-', linewidth='0.5', color='green')\n",
    "plt.grid(which='minor', linestyle=':', linewidth='0.5', color='black')\n",
    "plt.show()"
   ]
  },
  {
   "cell_type": "markdown",
   "metadata": {
    "colab_type": "text",
    "id": "spPWxAmkVMpn"
   },
   "source": [
    "### Calculate the error for log-Cost\n"
   ]
  },
  {
   "cell_type": "code",
   "execution_count": 168,
   "metadata": {
    "colab": {},
    "colab_type": "code",
    "id": "ephEIa-RVMpn",
    "scrolled": false
   },
   "outputs": [
    {
     "name": "stdout",
     "output_type": "stream",
     "text": [
      "Mean Absolute Error: 0.3591824075986763\n",
      "Mean Squared Error: 0.3019103420534611\n",
      "Root Mean Squared Error: 0.5494636858368905\n"
     ]
    }
   ],
   "source": [
    "print('Mean Absolute Error:', metrics.mean_absolute_error(test_labels_reg, predictions_rfr))  \n",
    "print('Mean Squared Error:', metrics.mean_squared_error(test_labels_reg, predictions_rfr))  \n",
    "print('Root Mean Squared Error:', np.sqrt(metrics.mean_squared_error(test_labels_reg, predictions_rfr)))"
   ]
  },
  {
   "cell_type": "markdown",
   "metadata": {
    "colab_type": "text",
    "id": "Hh151oZdVMpo"
   },
   "source": [
    "The Random Forest Regression model has the most accurate result!"
   ]
  },
  {
   "cell_type": "code",
   "execution_count": 169,
   "metadata": {
    "colab": {},
    "colab_type": "code",
    "id": "xGJm7tCqVMpo"
   },
   "outputs": [
    {
     "data": {
      "text/plain": [
       "Text(0.5, 1.0, 'Normal Q-Q Plot')"
      ]
     },
     "execution_count": 169,
     "metadata": {},
     "output_type": "execute_result"
    },
    {
     "data": {
      "image/png": "[encoded data removed]",
      "text/plain": [
       "<Figure size 504x504 with 1 Axes>"
      ]
     },
     "metadata": {
      "needs_background": "light"
     },
     "output_type": "display_data"
    }
   ],
   "source": [
    "prediction_rfr = rf.predict(train_features_reg)\n",
    "residuals_rfr = train_labels_reg - prediction_rfr.reshape(-1)\n",
    "\n",
    "plt.figure(figsize=(7,7))\n",
    "stats.probplot(residuals_ridge, dist=\"norm\", plot=plt)\n",
    "plt.title(\"Normal Q-Q Plot\")"
   ]
  },
  {
   "cell_type": "code",
   "execution_count": 105,
   "metadata": {
    "colab": {},
    "colab_type": "code",
    "id": "nTYtZKjuVMpq"
   },
   "outputs": [],
   "source": [
    "idx_rfr=list(test_labels_reg.index)"
   ]
  },
  {
   "cell_type": "markdown",
   "metadata": {
    "colab_type": "text",
    "id": "Fu_WXRqFVMpr"
   },
   "source": [
    "### Retransform the log transformed 'Cost' : Smear Factor\n"
   ]
  },
  {
   "cell_type": "code",
   "execution_count": 106,
   "metadata": {
    "colab": {},
    "colab_type": "code",
    "id": "xbdPcYynVMpr"
   },
   "outputs": [],
   "source": [
    "std_net = statistics.stdev(predictions_rfr)\n",
    "predictions_rfr_real = list(map(lambda x: math.exp(x), predictions_rfr ))\n",
    "test_rfr_real = df_dummy.Cost.iloc[idx_rfr]"
   ]
  },
  {
   "cell_type": "markdown",
   "metadata": {
    "colab_type": "text",
    "id": "rV-Aw14hVMpv"
   },
   "source": [
    "### Calculate the error for retransformed Cost"
   ]
  },
  {
   "cell_type": "code",
   "execution_count": 107,
   "metadata": {
    "colab": {},
    "colab_type": "code",
    "id": "yIpplVhDVMpv",
    "scrolled": true
   },
   "outputs": [
    {
     "name": "stdout",
     "output_type": "stream",
     "text": [
      "Mean Absolute Error: 3303.777195838462\n",
      "Mean Squared Error: 572279681.5843037\n",
      "Root Mean Squared Error: 23922.367808900184\n"
     ]
    }
   ],
   "source": [
    "print('Mean Absolute Error:', metrics.mean_absolute_error(test_rfr_real, predictions_rfr_real))  \n",
    "print('Mean Squared Error:', metrics.mean_squared_error(test_rfr_real, predictions_rfr_real))  \n",
    "print('Root Mean Squared Error:', np.sqrt(metrics.mean_squared_error(test_rfr_real, predictions_rfr_real)))"
   ]
  },
  {
   "cell_type": "markdown",
   "metadata": {
    "colab_type": "text",
    "id": "IhAGWm_TVMpw"
   },
   "source": [
    "### Check the importance of each variable"
   ]
  },
  {
   "cell_type": "code",
   "execution_count": 108,
   "metadata": {
    "colab": {},
    "colab_type": "code",
    "id": "DnRmLBAqVMpw"
   },
   "outputs": [
    {
     "name": "stdout",
     "output_type": "stream",
     "text": [
      "Variable: Title_Apple Music    Importance: 0.18\n",
      "Variable: Dayparts_PRIME TIME  Importance: 0.13\n",
      "Variable: Network_NBC          Importance: 0.05\n",
      "Variable: Network_ABC          Importance: 0.04\n",
      "Variable: Network_ESPN         Importance: 0.04\n",
      "Variable: Network_FOX          Importance: 0.03\n",
      "Variable: Network_MLB Network  Importance: 0.03\n",
      "Variable: Network_MTVU         Importance: 0.03\n",
      "Variable: Network_Universal Kids Importance: 0.03\n",
      "Variable: Network_Universo     Importance: 0.03\n"
     ]
    }
   ],
   "source": [
    "# Get numerical feature importances\n",
    "importances = list(rf.feature_importances_)\n",
    "\n",
    "# List of tuples with variable and importance\n",
    "feature_importances = [(feature, round(importance, 2)) for feature, importance in zip(list(x.columns), importances)]\n",
    "\n",
    "# Sort the feature importances by most important first\n",
    "feature_importances = sorted(feature_importances, key = lambda x: x[1], reverse = True)[:10]\n",
    "\n",
    "# Print out the feature and importances \n",
    "[print('Variable: {:20} Importance: {}'.format(*pair)) for pair in feature_importances];"
   ]
  },
  {
   "cell_type": "markdown",
   "metadata": {
    "colab_type": "text",
    "id": "soUv3I7JVMp0"
   },
   "source": [
    "# 1.5.1. Random Forest Regression with scaled data"
   ]
  },
  {
   "cell_type": "markdown",
   "metadata": {
    "colab_type": "text",
    "id": "5omfl1YhVMp0"
   },
   "source": [
    "Since the Random Forest Regression model has the best result, I just wanted to try sclaed data to predict the cost...!!"
   ]
  },
  {
   "cell_type": "code",
   "execution_count": 110,
   "metadata": {
    "colab": {},
    "colab_type": "code",
    "id": "aX0QGYPdVMp0"
   },
   "outputs": [
    {
     "data": {
      "text/plain": [
       "RandomForestRegressor(bootstrap=True, ccp_alpha=0.0, criterion='mse',\n",
       "                      max_depth=None, max_features='auto', max_leaf_nodes=None,\n",
       "                      max_samples=None, min_impurity_decrease=0.0,\n",
       "                      min_impurity_split=None, min_samples_leaf=1,\n",
       "                      min_samples_split=2, min_weight_fraction_leaf=0.0,\n",
       "                      n_estimators=1000, n_jobs=None, oob_score=False,\n",
       "                      random_state=42, verbose=0, warm_start=False)"
      ]
     },
     "execution_count": 110,
     "metadata": {},
     "output_type": "execute_result"
    }
   ],
   "source": [
    "rf = RandomForestRegressor(n_estimators = 1000, random_state = 42)\n",
    "rf.fit(x_train_scaled, y_train_scaled)"
   ]
  },
  {
   "cell_type": "code",
   "execution_count": 111,
   "metadata": {
    "colab": {},
    "colab_type": "code",
    "id": "6qh7faODVMp2"
   },
   "outputs": [
    {
     "name": "stdout",
     "output_type": "stream",
     "text": [
      "Mean Absolute Error: 0.37 degrees.\n"
     ]
    }
   ],
   "source": [
    "# Use the forest's predict method on the test data\n",
    "predictions_rfr_sc = rf.predict(x_test_scaled)\n",
    "# Calculate the absolute errors\n",
    "errors = abs(predictions_rfr_sc - y_test_scaled)\n",
    "# Print out the mean absolute error (mae)\n",
    "print('Mean Absolute Error:', round(np.mean(errors), 2), 'degrees.')"
   ]
  },
  {
   "cell_type": "code",
   "execution_count": 112,
   "metadata": {
    "colab": {},
    "colab_type": "code",
    "id": "S8PnDYjsVMp3"
   },
   "outputs": [
    {
     "data": {
      "text/html": [
       "<div>\n",
       "<style scoped>\n",
       "    .dataframe tbody tr th:only-of-type {\n",
       "        vertical-align: middle;\n",
       "    }\n",
       "\n",
       "    .dataframe tbody tr th {\n",
       "        vertical-align: top;\n",
       "    }\n",
       "\n",
       "    .dataframe thead th {\n",
       "        text-align: right;\n",
       "    }\n",
       "</style>\n",
       "<table border=\"1\" class=\"dataframe\">\n",
       "  <thead>\n",
       "    <tr style=\"text-align: right;\">\n",
       "      <th></th>\n",
       "      <th>Actual</th>\n",
       "      <th>Predicted</th>\n",
       "    </tr>\n",
       "  </thead>\n",
       "  <tbody>\n",
       "    <tr>\n",
       "      <th>14868</th>\n",
       "      <td>8.356555</td>\n",
       "      <td>8.371467</td>\n",
       "    </tr>\n",
       "    <tr>\n",
       "      <th>14301</th>\n",
       "      <td>5.863631</td>\n",
       "      <td>5.865024</td>\n",
       "    </tr>\n",
       "    <tr>\n",
       "      <th>9691</th>\n",
       "      <td>1.609438</td>\n",
       "      <td>2.367059</td>\n",
       "    </tr>\n",
       "    <tr>\n",
       "      <th>6274</th>\n",
       "      <td>4.418841</td>\n",
       "      <td>4.305681</td>\n",
       "    </tr>\n",
       "    <tr>\n",
       "      <th>12593</th>\n",
       "      <td>5.398163</td>\n",
       "      <td>5.413880</td>\n",
       "    </tr>\n",
       "    <tr>\n",
       "      <th>51</th>\n",
       "      <td>6.122493</td>\n",
       "      <td>5.869117</td>\n",
       "    </tr>\n",
       "    <tr>\n",
       "      <th>1963</th>\n",
       "      <td>6.167516</td>\n",
       "      <td>5.912457</td>\n",
       "    </tr>\n",
       "    <tr>\n",
       "      <th>11503</th>\n",
       "      <td>5.924256</td>\n",
       "      <td>6.209717</td>\n",
       "    </tr>\n",
       "    <tr>\n",
       "      <th>5334</th>\n",
       "      <td>4.709530</td>\n",
       "      <td>4.675784</td>\n",
       "    </tr>\n",
       "    <tr>\n",
       "      <th>13206</th>\n",
       "      <td>6.608001</td>\n",
       "      <td>6.723058</td>\n",
       "    </tr>\n",
       "  </tbody>\n",
       "</table>\n",
       "</div>"
      ],
      "text/plain": [
       "         Actual  Predicted\n",
       "14868  8.356555   8.371467\n",
       "14301  5.863631   5.865024\n",
       "9691   1.609438   2.367059\n",
       "6274   4.418841   4.305681\n",
       "12593  5.398163   5.413880\n",
       "51     6.122493   5.869117\n",
       "1963   6.167516   5.912457\n",
       "11503  5.924256   6.209717\n",
       "5334   4.709530   4.675784\n",
       "13206  6.608001   6.723058"
      ]
     },
     "execution_count": 112,
     "metadata": {},
     "output_type": "execute_result"
    }
   ],
   "source": [
    "df_rfr_sc = pd.DataFrame({'Actual': y_test_scaled, 'Predicted': predictions_rfr_sc})\n",
    "df_rfr_sc.head(10)"
   ]
  },
  {
   "cell_type": "code",
   "execution_count": 113,
   "metadata": {
    "colab": {},
    "colab_type": "code",
    "id": "U0ttyeSdVMp4"
   },
   "outputs": [
    {
     "data": {
      "image/png": "[encoded data removed]",
      "text/plain": [
       "<Figure size 720x576 with 1 Axes>"
      ]
     },
     "metadata": {
      "needs_background": "light"
     },
     "output_type": "display_data"
    }
   ],
   "source": [
    "df1=df_rfr_sc.head(20)\n",
    "df1.plot(kind='bar',figsize=(10,8))\n",
    "plt.grid(which='major', linestyle='-', linewidth='0.5', color='green')\n",
    "plt.grid(which='minor', linestyle=':', linewidth='0.5', color='black')\n",
    "plt.show()"
   ]
  },
  {
   "cell_type": "code",
   "execution_count": 114,
   "metadata": {
    "colab": {},
    "colab_type": "code",
    "id": "Ov51Jrw2VMp5",
    "scrolled": true
   },
   "outputs": [
    {
     "name": "stdout",
     "output_type": "stream",
     "text": [
      "Mean Absolute Error: 0.36734690909473317\n",
      "Mean Squared Error: 0.31330882794411674\n",
      "Root Mean Squared Error: 0.5597399645765136\n"
     ]
    }
   ],
   "source": [
    "print('Mean Absolute Error:', metrics.mean_absolute_error(y_test_scaled, predictions_rfr_sc))  \n",
    "print('Mean Squared Error:', metrics.mean_squared_error(y_test_scaled, predictions_rfr_sc))  \n",
    "print('Root Mean Squared Error:', np.sqrt(metrics.mean_squared_error(y_test_scaled, predictions_rfr_sc)))"
   ]
  },
  {
   "cell_type": "markdown",
   "metadata": {
    "colab_type": "text",
    "id": "Xkn-6UawVMp7"
   },
   "source": [
    "Unfortunately, it has worse accuracy than the Random Forest Regression model with the original dataset."
   ]
  },
  {
   "cell_type": "markdown",
   "metadata": {
    "colab_type": "text",
    "id": "MmVG-OuVVMp7"
   },
   "source": [
    "# 1.5.2. Random Forest Regression with compressed data"
   ]
  },
  {
   "cell_type": "code",
   "execution_count": 115,
   "metadata": {
    "colab": {},
    "colab_type": "code",
    "id": "52NaR5xpVMp7"
   },
   "outputs": [
    {
     "data": {
      "text/plain": [
       "RandomForestRegressor(bootstrap=True, ccp_alpha=0.0, criterion='mse',\n",
       "                      max_depth=None, max_features='auto', max_leaf_nodes=None,\n",
       "                      max_samples=None, min_impurity_decrease=0.0,\n",
       "                      min_impurity_split=None, min_samples_leaf=1,\n",
       "                      min_samples_split=2, min_weight_fraction_leaf=0.0,\n",
       "                      n_estimators=1000, n_jobs=None, oob_score=False,\n",
       "                      random_state=42, verbose=0, warm_start=False)"
      ]
     },
     "execution_count": 115,
     "metadata": {},
     "output_type": "execute_result"
    }
   ],
   "source": [
    "rf.fit(df_pca_train, y_train_pca)"
   ]
  },
  {
   "cell_type": "code",
   "execution_count": 116,
   "metadata": {
    "colab": {},
    "colab_type": "code",
    "id": "63sSVyDKVMp8"
   },
   "outputs": [
    {
     "name": "stdout",
     "output_type": "stream",
     "text": [
      "Mean Absolute Error: 1.78 degrees.\n"
     ]
    }
   ],
   "source": [
    "# Use the forest's predict method on the test data\n",
    "predictions_rfr_pca = rf.predict(df_pca_test)\n",
    "# Calculate the absolute errors\n",
    "errors = abs(predictions_rfr_pca - y_test_pca)\n",
    "# Print out the mean absolute error (mae)\n",
    "print('Mean Absolute Error:', round(np.mean(errors), 2), 'degrees.')"
   ]
  },
  {
   "cell_type": "code",
   "execution_count": 117,
   "metadata": {
    "colab": {},
    "colab_type": "code",
    "id": "M-jhhju9VMp9"
   },
   "outputs": [
    {
     "data": {
      "text/html": [
       "<div>\n",
       "<style scoped>\n",
       "    .dataframe tbody tr th:only-of-type {\n",
       "        vertical-align: middle;\n",
       "    }\n",
       "\n",
       "    .dataframe tbody tr th {\n",
       "        vertical-align: top;\n",
       "    }\n",
       "\n",
       "    .dataframe thead th {\n",
       "        text-align: right;\n",
       "    }\n",
       "</style>\n",
       "<table border=\"1\" class=\"dataframe\">\n",
       "  <thead>\n",
       "    <tr style=\"text-align: right;\">\n",
       "      <th></th>\n",
       "      <th>Actual</th>\n",
       "      <th>Predicted</th>\n",
       "    </tr>\n",
       "  </thead>\n",
       "  <tbody>\n",
       "    <tr>\n",
       "      <th>14868</th>\n",
       "      <td>8.356555</td>\n",
       "      <td>6.227566</td>\n",
       "    </tr>\n",
       "    <tr>\n",
       "      <th>14301</th>\n",
       "      <td>5.863631</td>\n",
       "      <td>6.677961</td>\n",
       "    </tr>\n",
       "    <tr>\n",
       "      <th>9691</th>\n",
       "      <td>1.609438</td>\n",
       "      <td>6.610075</td>\n",
       "    </tr>\n",
       "    <tr>\n",
       "      <th>6274</th>\n",
       "      <td>4.418841</td>\n",
       "      <td>6.408613</td>\n",
       "    </tr>\n",
       "    <tr>\n",
       "      <th>12593</th>\n",
       "      <td>5.398163</td>\n",
       "      <td>6.452462</td>\n",
       "    </tr>\n",
       "    <tr>\n",
       "      <th>51</th>\n",
       "      <td>6.122493</td>\n",
       "      <td>6.181679</td>\n",
       "    </tr>\n",
       "    <tr>\n",
       "      <th>1963</th>\n",
       "      <td>6.167516</td>\n",
       "      <td>6.444169</td>\n",
       "    </tr>\n",
       "    <tr>\n",
       "      <th>11503</th>\n",
       "      <td>5.924256</td>\n",
       "      <td>6.473840</td>\n",
       "    </tr>\n",
       "    <tr>\n",
       "      <th>5334</th>\n",
       "      <td>4.709530</td>\n",
       "      <td>6.468446</td>\n",
       "    </tr>\n",
       "    <tr>\n",
       "      <th>13206</th>\n",
       "      <td>6.608001</td>\n",
       "      <td>6.301751</td>\n",
       "    </tr>\n",
       "  </tbody>\n",
       "</table>\n",
       "</div>"
      ],
      "text/plain": [
       "         Actual  Predicted\n",
       "14868  8.356555   6.227566\n",
       "14301  5.863631   6.677961\n",
       "9691   1.609438   6.610075\n",
       "6274   4.418841   6.408613\n",
       "12593  5.398163   6.452462\n",
       "51     6.122493   6.181679\n",
       "1963   6.167516   6.444169\n",
       "11503  5.924256   6.473840\n",
       "5334   4.709530   6.468446\n",
       "13206  6.608001   6.301751"
      ]
     },
     "execution_count": 117,
     "metadata": {},
     "output_type": "execute_result"
    }
   ],
   "source": [
    "df_rfr_pca = pd.DataFrame({'Actual': y_test_pca, 'Predicted': predictions_rfr_pca})\n",
    "df_rfr_pca.head(10)"
   ]
  },
  {
   "cell_type": "code",
   "execution_count": 118,
   "metadata": {
    "colab": {},
    "colab_type": "code",
    "id": "o95emm1DVMp-"
   },
   "outputs": [
    {
     "data": {
      "image/png": "[encoded data removed]",
      "text/plain": [
       "<Figure size 720x576 with 1 Axes>"
      ]
     },
     "metadata": {
      "needs_background": "light"
     },
     "output_type": "display_data"
    }
   ],
   "source": [
    "df1=df_rfr_pca.head(20)\n",
    "df1.plot(kind='bar',figsize=(10,8))\n",
    "plt.grid(which='major', linestyle='-', linewidth='0.5', color='green')\n",
    "plt.grid(which='minor', linestyle=':', linewidth='0.5', color='black')\n",
    "plt.show()"
   ]
  },
  {
   "cell_type": "code",
   "execution_count": 119,
   "metadata": {
    "colab": {},
    "colab_type": "code",
    "id": "H5Meg9o5VMp_"
   },
   "outputs": [
    {
     "name": "stdout",
     "output_type": "stream",
     "text": [
      "Mean Absolute Error: 1.7772124291785951\n",
      "Mean Squared Error: 5.515049959305365\n",
      "Root Mean Squared Error: 2.3484143500041395\n"
     ]
    }
   ],
   "source": [
    "print('Mean Absolute Error:', metrics.mean_absolute_error(y_test_pca, predictions_rfr_pca))  \n",
    "print('Mean Squared Error:', metrics.mean_squared_error(y_test_pca, predictions_rfr_pca))  \n",
    "print('Root Mean Squared Error:', np.sqrt(metrics.mean_squared_error(y_test_pca, predictions_rfr_pca)))"
   ]
  },
  {
   "cell_type": "markdown",
   "metadata": {
    "colab_type": "text",
    "id": "A9VQrc4AVMqA"
   },
   "source": [
    "Unfortunately, it was worse accuracy than the Random Forest Regression model with the original dataset."
   ]
  },
  {
   "cell_type": "markdown",
   "metadata": {
    "colab_type": "text",
    "id": "G6Zd0kDaVMqA"
   },
   "source": [
    "# 1.6. Gradient Boosting Regression"
   ]
  },
  {
   "cell_type": "code",
   "execution_count": 120,
   "metadata": {
    "colab": {},
    "colab_type": "code",
    "id": "rw8obXboVMqA"
   },
   "outputs": [],
   "source": [
    "GBoost = GradientBoostingRegressor(n_estimators=3000, learning_rate=0.05,\n",
    "                                   max_depth=4, max_features='sqrt',\n",
    "                                   min_samples_leaf=15, min_samples_split=10, \n",
    "                                   loss='huber', random_state =5)"
   ]
  },
  {
   "cell_type": "code",
   "execution_count": 121,
   "metadata": {
    "colab": {},
    "colab_type": "code",
    "id": "b34oUJlXVMqB"
   },
   "outputs": [
    {
     "data": {
      "text/plain": [
       "GradientBoostingRegressor(alpha=0.9, ccp_alpha=0.0, criterion='friedman_mse',\n",
       "                          init=None, learning_rate=0.05, loss='huber',\n",
       "                          max_depth=4, max_features='sqrt', max_leaf_nodes=None,\n",
       "                          min_impurity_decrease=0.0, min_impurity_split=None,\n",
       "                          min_samples_leaf=15, min_samples_split=10,\n",
       "                          min_weight_fraction_leaf=0.0, n_estimators=3000,\n",
       "                          n_iter_no_change=None, presort='deprecated',\n",
       "                          random_state=5, subsample=1.0, tol=0.0001,\n",
       "                          validation_fraction=0.1, verbose=0, warm_start=False)"
      ]
     },
     "execution_count": 121,
     "metadata": {},
     "output_type": "execute_result"
    }
   ],
   "source": [
    "GBoost.fit(train_features_reg, train_labels_reg)"
   ]
  },
  {
   "cell_type": "code",
   "execution_count": 122,
   "metadata": {
    "colab": {},
    "colab_type": "code",
    "id": "8kYiddmsVMqD"
   },
   "outputs": [],
   "source": [
    "predictions_GBoost =GBoost.predict(test_features_reg)"
   ]
  },
  {
   "cell_type": "code",
   "execution_count": 123,
   "metadata": {
    "colab": {},
    "colab_type": "code",
    "id": "OjuBUgJqVMqE"
   },
   "outputs": [
    {
     "name": "stdout",
     "output_type": "stream",
     "text": [
      "Mean Absolute Error: 0.4656381274503605\n",
      "Mean Squared Error: 0.4541962383166755\n",
      "Root Mean Squared Error: 0.6739408270142679\n"
     ]
    }
   ],
   "source": [
    "print('Mean Absolute Error:', metrics.mean_absolute_error(test_labels_reg, predictions_GBoost))  \n",
    "print('Mean Squared Error:', metrics.mean_squared_error(test_labels_reg, predictions_GBoost))  \n",
    "print('Root Mean Squared Error:', np.sqrt(metrics.mean_squared_error(test_labels_reg, predictions_GBoost)))"
   ]
  },
  {
   "cell_type": "markdown",
   "metadata": {
    "colab_type": "text",
    "id": "Moe6LBv1VMqF"
   },
   "source": [
    "Worse than Random Forest Regression"
   ]
  },
  {
   "cell_type": "markdown",
   "metadata": {
    "colab_type": "text",
    "id": "1zmMlauMVMqG"
   },
   "source": [
    "# 1.7. XG Boosting Regression\n"
   ]
  },
  {
   "cell_type": "code",
   "execution_count": 124,
   "metadata": {
    "colab": {},
    "colab_type": "code",
    "id": "3FFb65HpVMqG"
   },
   "outputs": [],
   "source": [
    "model_xgb = xgb.XGBRegressor(colsample_bytree=0.4603, gamma=0.0468, \n",
    "                             learning_rate=0.05, max_depth=3, \n",
    "                             min_child_weight=1.7817, n_estimators=2200,\n",
    "                             reg_alpha=0.4640, reg_lambda=0.8571,\n",
    "                             subsample=0.5213, silent=1,\n",
    "                             random_state =7, nthread = -1)"
   ]
  },
  {
   "cell_type": "code",
   "execution_count": 125,
   "metadata": {
    "colab": {},
    "colab_type": "code",
    "id": "AucxtgYBVMqI",
    "scrolled": true
   },
   "outputs": [
    {
     "name": "stdout",
     "output_type": "stream",
     "text": [
      "[15:42:29] WARNING: /Users/travis/build/dmlc/xgboost/src/learner.cc:480: \n",
      "Parameters: { silent } might not be used.\n",
      "\n",
      "  This may not be accurate due to some parameters are only used in language bindings but\n",
      "  passed down to XGBoost core.  Or some parameters are not used but slip through this\n",
      "  verification. Please open an issue if you find above cases.\n",
      "\n",
      "\n"
     ]
    },
    {
     "data": {
      "text/plain": [
       "XGBRegressor(base_score=0.5, booster='gbtree', colsample_bylevel=1,\n",
       "             colsample_bynode=1, colsample_bytree=0.4603, gamma=0.0468,\n",
       "             gpu_id=-1, importance_type='gain', interaction_constraints='',\n",
       "             learning_rate=0.05, max_delta_step=0, max_depth=3,\n",
       "             min_child_weight=1.7817, missing=nan, monotone_constraints='()',\n",
       "             n_estimators=2200, n_jobs=-1, nthread=-1, num_parallel_tree=1,\n",
       "             objective='reg:squarederror', random_state=7, reg_alpha=0.464,\n",
       "             reg_lambda=0.8571, scale_pos_weight=1, silent=1, subsample=0.5213,\n",
       "             tree_method='exact', validate_parameters=1, verbosity=None)"
      ]
     },
     "execution_count": 125,
     "metadata": {},
     "output_type": "execute_result"
    }
   ],
   "source": [
    "model_xgb.fit(train_features_reg, train_labels_reg)"
   ]
  },
  {
   "cell_type": "code",
   "execution_count": 126,
   "metadata": {
    "colab": {},
    "colab_type": "code",
    "id": "eoimzHSFVMqJ"
   },
   "outputs": [],
   "source": [
    "predictions_xgb =model_xgb.predict(test_features_reg)"
   ]
  },
  {
   "cell_type": "code",
   "execution_count": 127,
   "metadata": {
    "colab": {},
    "colab_type": "code",
    "id": "CNlaBF2kVMqK"
   },
   "outputs": [
    {
     "name": "stdout",
     "output_type": "stream",
     "text": [
      "Mean Absolute Error: 0.4189600847125683\n",
      "Mean Squared Error: 0.330944057823719\n",
      "Root Mean Squared Error: 0.5752773746843508\n"
     ]
    }
   ],
   "source": [
    "print('Mean Absolute Error:', metrics.mean_absolute_error(test_labels_reg, predictions_xgb))  \n",
    "print('Mean Squared Error:', metrics.mean_squared_error(test_labels_reg, predictions_xgb))  \n",
    "print('Root Mean Squared Error:', np.sqrt(metrics.mean_squared_error(test_labels_reg, predictions_xgb)))"
   ]
  },
  {
   "cell_type": "markdown",
   "metadata": {
    "colab_type": "text",
    "id": "Uuq2v8ygVMqN"
   },
   "source": [
    "XG Boosting model is better than Gradient Boosting Regression, so I tried the model with scaled data."
   ]
  },
  {
   "cell_type": "markdown",
   "metadata": {
    "colab_type": "text",
    "id": "Htupf0zzVMqN"
   },
   "source": [
    "# 1.7.1. XG Boosting Regression with Scaled Data\n"
   ]
  },
  {
   "cell_type": "code",
   "execution_count": 128,
   "metadata": {
    "colab": {},
    "colab_type": "code",
    "id": "aUb5NCKxVMqO"
   },
   "outputs": [
    {
     "name": "stdout",
     "output_type": "stream",
     "text": [
      "[15:57:14] WARNING: /Users/travis/build/dmlc/xgboost/src/learner.cc:480: \n",
      "Parameters: { silent } might not be used.\n",
      "\n",
      "  This may not be accurate due to some parameters are only used in language bindings but\n",
      "  passed down to XGBoost core.  Or some parameters are not used but slip through this\n",
      "  verification. Please open an issue if you find above cases.\n",
      "\n",
      "\n"
     ]
    },
    {
     "data": {
      "text/plain": [
       "XGBRegressor(base_score=0.5, booster='gbtree', colsample_bylevel=1,\n",
       "             colsample_bynode=1, colsample_bytree=0.4603, gamma=0.0468,\n",
       "             gpu_id=-1, importance_type='gain', interaction_constraints='',\n",
       "             learning_rate=0.05, max_delta_step=0, max_depth=3,\n",
       "             min_child_weight=1.7817, missing=nan, monotone_constraints='()',\n",
       "             n_estimators=2200, n_jobs=-1, nthread=-1, num_parallel_tree=1,\n",
       "             objective='reg:squarederror', random_state=7, reg_alpha=0.464,\n",
       "             reg_lambda=0.8571, scale_pos_weight=1, silent=1, subsample=0.5213,\n",
       "             tree_method='exact', validate_parameters=1, verbosity=None)"
      ]
     },
     "execution_count": 128,
     "metadata": {},
     "output_type": "execute_result"
    }
   ],
   "source": [
    "model_xgb.fit(x_train_scaled, y_train_scaled)"
   ]
  },
  {
   "cell_type": "code",
   "execution_count": 129,
   "metadata": {
    "colab": {},
    "colab_type": "code",
    "id": "AH9-wfokVMqQ"
   },
   "outputs": [],
   "source": [
    "predictions_xgb_sc =model_xgb.predict(x_test_scaled)"
   ]
  },
  {
   "cell_type": "code",
   "execution_count": 130,
   "metadata": {
    "colab": {},
    "colab_type": "code",
    "id": "HyYJmA2EVMqQ",
    "scrolled": true
   },
   "outputs": [
    {
     "name": "stdout",
     "output_type": "stream",
     "text": [
      "Mean Absolute Error: 2.547462280568252\n",
      "Mean Squared Error: 10.669597030406312\n",
      "Root Mean Squared Error: 3.2664349113990183\n"
     ]
    }
   ],
   "source": [
    "print('Mean Absolute Error:', metrics.mean_absolute_error(test_labels_reg, predictions_xgb_sc))  \n",
    "print('Mean Squared Error:', metrics.mean_squared_error(test_labels_reg, predictions_xgb_sc))  \n",
    "print('Root Mean Squared Error:', np.sqrt(metrics.mean_squared_error(test_labels_reg, predictions_xgb_sc)))"
   ]
  },
  {
   "cell_type": "markdown",
   "metadata": {
    "colab_type": "text",
    "id": "m2mDpijVVMqR"
   },
   "source": [
    "Much less accurate than XG Boosting model trained by original dataset."
   ]
  },
  {
   "cell_type": "markdown",
   "metadata": {
    "colab_type": "text",
    "id": "UWyVaFlhVMqS"
   },
   "source": [
    "# 1.8. Stacking Model"
   ]
  },
  {
   "cell_type": "markdown",
   "metadata": {
    "colab_type": "text",
    "id": "2HK5QnH8VMqS"
   },
   "source": [
    "The simplest stacking approach : Averaging base models"
   ]
  },
  {
   "cell_type": "code",
   "execution_count": 131,
   "metadata": {
    "colab": {},
    "colab_type": "code",
    "id": "gYi6RfTJVMqS"
   },
   "outputs": [],
   "source": [
    "class AveragingModels(BaseEstimator, RegressorMixin, TransformerMixin):\n",
    "    def __init__(self, models):\n",
    "        self.models = models\n",
    "        \n",
    "    # we define clones of the original models to fit the data in\n",
    "    def fit(self, X, y):\n",
    "        self.models_ = [clone(x) for x in self.models]\n",
    "        \n",
    "        # Train cloned base models\n",
    "        for model in self.models_:\n",
    "            model.fit(X, y)\n",
    "\n",
    "        return self\n",
    "    \n",
    "    #Now we do the predictions for cloned models and average them\n",
    "    def predict(self, X):\n",
    "        predictions = np.column_stack([\n",
    "            model.predict(X) for model in self.models_\n",
    "        ])\n",
    "        return np.mean(predictions, axis=1) "
   ]
  },
  {
   "cell_type": "code",
   "execution_count": 132,
   "metadata": {
    "colab": {},
    "colab_type": "code",
    "id": "vqtf-e5dVMqT"
   },
   "outputs": [],
   "source": [
    "averaged_models = AveragingModels(models = (rf, GBoost, regressor_ridge, model_xgb))"
   ]
  },
  {
   "cell_type": "code",
   "execution_count": 133,
   "metadata": {
    "colab": {},
    "colab_type": "code",
    "id": "dt1xaEycVMqV"
   },
   "outputs": [
    {
     "name": "stdout",
     "output_type": "stream",
     "text": [
      "[16:54:00] WARNING: /Users/travis/build/dmlc/xgboost/src/learner.cc:480: \n",
      "Parameters: { silent } might not be used.\n",
      "\n",
      "  This may not be accurate due to some parameters are only used in language bindings but\n",
      "  passed down to XGBoost core.  Or some parameters are not used but slip through this\n",
      "  verification. Please open an issue if you find above cases.\n",
      "\n",
      "\n"
     ]
    },
    {
     "data": {
      "text/plain": [
       "AveragingModels(models=(RandomForestRegressor(bootstrap=True, ccp_alpha=0.0,\n",
       "                                              criterion='mse', max_depth=None,\n",
       "                                              max_features='auto',\n",
       "                                              max_leaf_nodes=None,\n",
       "                                              max_samples=None,\n",
       "                                              min_impurity_decrease=0.0,\n",
       "                                              min_impurity_split=None,\n",
       "                                              min_samples_leaf=1,\n",
       "                                              min_samples_split=2,\n",
       "                                              min_weight_fraction_leaf=0.0,\n",
       "                                              n_estimators=1000, n_jobs=None,\n",
       "                                              oob_score=False, random_state=42,\n",
       "                                              verbose...\n",
       "                                     learning_rate=0.05, max_delta_step=0,\n",
       "                                     max_depth=3, min_child_weight=1.7817,\n",
       "                                     missing=nan, monotone_constraints='()',\n",
       "                                     n_estimators=2200, n_jobs=-1, nthread=-1,\n",
       "                                     num_parallel_tree=1,\n",
       "                                     objective='reg:squarederror',\n",
       "                                     random_state=7, reg_alpha=0.464,\n",
       "                                     reg_lambda=0.8571, scale_pos_weight=1,\n",
       "                                     silent=1, subsample=0.5213,\n",
       "                                     tree_method='exact', validate_parameters=1,\n",
       "                                     verbosity=None)))"
      ]
     },
     "execution_count": 133,
     "metadata": {},
     "output_type": "execute_result"
    }
   ],
   "source": [
    "averaged_models.fit(train_features_reg, train_labels_reg)"
   ]
  },
  {
   "cell_type": "code",
   "execution_count": 134,
   "metadata": {
    "colab": {},
    "colab_type": "code",
    "id": "MN-DO0sIVMqW"
   },
   "outputs": [],
   "source": [
    "predictions_stack =averaged_models.predict(test_features_reg)"
   ]
  },
  {
   "cell_type": "code",
   "execution_count": 135,
   "metadata": {
    "colab": {},
    "colab_type": "code",
    "id": "52rFXUPnVMqY",
    "scrolled": true
   },
   "outputs": [
    {
     "name": "stdout",
     "output_type": "stream",
     "text": [
      "Mean Absolute Error: 0.3946592038286984\n",
      "Mean Squared Error: 0.31141984823315005\n",
      "Root Mean Squared Error: 0.558050040975852\n"
     ]
    }
   ],
   "source": [
    "print('Mean Absolute Error:', metrics.mean_absolute_error(test_labels_reg, predictions_stack))  \n",
    "print('Mean Squared Error:', metrics.mean_squared_error(test_labels_reg, predictions_stack))  \n",
    "print('Root Mean Squared Error:', np.sqrt(metrics.mean_squared_error(test_labels_reg, predictions_stack)))"
   ]
  },
  {
   "cell_type": "markdown",
   "metadata": {
    "colab_type": "text",
    "id": "sHlew9x2VMqZ"
   },
   "source": [
    " It seems even the simplest stacking approach really improve the score compare to GBoosting method, Ridge regression, and XGboosing methods while Random Forest Regression method the most accurate model."
   ]
  },
  {
   "cell_type": "markdown",
   "metadata": {
    "colab_type": "text",
    "id": "pHrhhCbkVMqZ"
   },
   "source": [
    "# Part 2: Classification"
   ]
  },
  {
   "cell_type": "markdown",
   "metadata": {
    "colab_type": "text",
    "id": "ULbsg4HjVMqZ"
   },
   "source": [
    "# 2.0. Data preparation for classification modeling"
   ]
  },
  {
   "cell_type": "markdown",
   "metadata": {
    "colab_type": "text",
    "id": "uiaJZKWUVMqa"
   },
   "source": [
    "### Original data with dummy variables"
   ]
  },
  {
   "cell_type": "code",
   "execution_count": 136,
   "metadata": {
    "colab": {},
    "colab_type": "code",
    "id": "0OMP4KuNVMqa"
   },
   "outputs": [],
   "source": [
    "y = df_dummy.Cost_cat\n",
    "x = df_dummy.drop(columns=[\"Cost\", \"Cost_log\", \"Cost_cat\"], axis = 1)\n",
    "train_features_cl, test_features_cl, train_labels_cl, test_labels_cl = train_test_split(x, y,\n",
    "                                                                                test_size=0.2, random_state=0)"
   ]
  },
  {
   "cell_type": "markdown",
   "metadata": {
    "colab_type": "text",
    "id": "f0Dx9fDyVMqb"
   },
   "source": [
    "### Scaled data"
   ]
  },
  {
   "cell_type": "code",
   "execution_count": 137,
   "metadata": {
    "colab": {},
    "colab_type": "code",
    "id": "C91zlx32VMqb"
   },
   "outputs": [],
   "source": [
    "scaler.fit(x)\n",
    "scaled_x = x.copy()\n",
    "scaled_x.iloc[:] = scaler.transform(x)"
   ]
  },
  {
   "cell_type": "code",
   "execution_count": 138,
   "metadata": {
    "colab": {},
    "colab_type": "code",
    "id": "ysTEhX-EVMqe"
   },
   "outputs": [],
   "source": [
    "x_train_scaled, x_test_scaled, y_train_scaled, y_test_scaled = train_test_split(scaled_x, y, test_size=0.2, random_state=0)"
   ]
  },
  {
   "cell_type": "markdown",
   "metadata": {
    "colab_type": "text",
    "id": "lUk8AD4pVMqe"
   },
   "source": [
    "### Compressed data"
   ]
  },
  {
   "cell_type": "code",
   "execution_count": 139,
   "metadata": {
    "colab": {},
    "colab_type": "code",
    "id": "X8NIYtQqVMqf"
   },
   "outputs": [],
   "source": [
    "pca_train = skd.PCA(n_components=230).fit_transform(x_train_scaled)\n",
    "df_pca_train=pd.DataFrame(pca_train)"
   ]
  },
  {
   "cell_type": "code",
   "execution_count": 140,
   "metadata": {
    "colab": {},
    "colab_type": "code",
    "id": "eCPFEgVIVMqf"
   },
   "outputs": [],
   "source": [
    "pca_test = skd.PCA(n_components=230).fit_transform(x_test_scaled)\n",
    "df_pca_test=pd.DataFrame(pca_test)\n",
    "y_train_pca, y_test_pca = y_train_scaled, y_test_scaled"
   ]
  },
  {
   "cell_type": "markdown",
   "metadata": {
    "colab_type": "text",
    "id": "gGDwYU74VMqg"
   },
   "source": [
    "# 2.1. Random Forest Classification"
   ]
  },
  {
   "cell_type": "code",
   "execution_count": 141,
   "metadata": {
    "colab": {},
    "colab_type": "code",
    "id": "p2bfYTXoVMqg"
   },
   "outputs": [
    {
     "data": {
      "text/plain": [
       "RandomForestClassifier(bootstrap=True, ccp_alpha=0.0, class_weight=None,\n",
       "                       criterion='entropy', max_depth=None, max_features='auto',\n",
       "                       max_leaf_nodes=None, max_samples=None,\n",
       "                       min_impurity_decrease=0.0, min_impurity_split=None,\n",
       "                       min_samples_leaf=1, min_samples_split=2,\n",
       "                       min_weight_fraction_leaf=0.0, n_estimators=1000,\n",
       "                       n_jobs=None, oob_score=True, random_state=None,\n",
       "                       verbose=0, warm_start=False)"
      ]
     },
     "execution_count": 141,
     "metadata": {},
     "output_type": "execute_result"
    }
   ],
   "source": [
    "import sklearn.ensemble as skens\n",
    "rf_model = skens.RandomForestClassifier(n_estimators=1000,oob_score=True, criterion='entropy')\n",
    "rf_model.fit(train_features_cl,train_labels_cl)"
   ]
  },
  {
   "cell_type": "code",
   "execution_count": 142,
   "metadata": {
    "colab": {},
    "colab_type": "code",
    "id": "lo6F5EpuVMqh"
   },
   "outputs": [],
   "source": [
    "predicted_labels = rf_model.predict(test_features_cl)\n",
    "label_rf1 = pd.DataFrame(test_labels_cl).copy()\n",
    "label_rf1['predicted_rf_tree'] = predicted_labels"
   ]
  },
  {
   "cell_type": "code",
   "execution_count": 143,
   "metadata": {
    "colab": {},
    "colab_type": "code",
    "id": "IZXEU1rkVMqi",
    "scrolled": false
   },
   "outputs": [
    {
     "data": {
      "text/html": [
       "<div>\n",
       "<style scoped>\n",
       "    .dataframe tbody tr th:only-of-type {\n",
       "        vertical-align: middle;\n",
       "    }\n",
       "\n",
       "    .dataframe tbody tr th {\n",
       "        vertical-align: top;\n",
       "    }\n",
       "\n",
       "    .dataframe thead th {\n",
       "        text-align: right;\n",
       "    }\n",
       "</style>\n",
       "<table border=\"1\" class=\"dataframe\">\n",
       "  <thead>\n",
       "    <tr style=\"text-align: right;\">\n",
       "      <th></th>\n",
       "      <th>Cost_cat</th>\n",
       "      <th>predicted_rf_tree</th>\n",
       "    </tr>\n",
       "  </thead>\n",
       "  <tbody>\n",
       "    <tr>\n",
       "      <th>14868</th>\n",
       "      <td>Under 10k</td>\n",
       "      <td>Under 10k</td>\n",
       "    </tr>\n",
       "    <tr>\n",
       "      <th>14301</th>\n",
       "      <td>Under 10k</td>\n",
       "      <td>Under 10k</td>\n",
       "    </tr>\n",
       "    <tr>\n",
       "      <th>9691</th>\n",
       "      <td>Under 10k</td>\n",
       "      <td>Under 10k</td>\n",
       "    </tr>\n",
       "    <tr>\n",
       "      <th>6274</th>\n",
       "      <td>Under 10k</td>\n",
       "      <td>Under 10k</td>\n",
       "    </tr>\n",
       "    <tr>\n",
       "      <th>12593</th>\n",
       "      <td>Under 10k</td>\n",
       "      <td>Under 10k</td>\n",
       "    </tr>\n",
       "    <tr>\n",
       "      <th>...</th>\n",
       "      <td>...</td>\n",
       "      <td>...</td>\n",
       "    </tr>\n",
       "    <tr>\n",
       "      <th>7576</th>\n",
       "      <td>Under 10k</td>\n",
       "      <td>Under 10k</td>\n",
       "    </tr>\n",
       "    <tr>\n",
       "      <th>1098</th>\n",
       "      <td>10k</td>\n",
       "      <td>10k</td>\n",
       "    </tr>\n",
       "    <tr>\n",
       "      <th>9937</th>\n",
       "      <td>Under 10k</td>\n",
       "      <td>Under 10k</td>\n",
       "    </tr>\n",
       "    <tr>\n",
       "      <th>6918</th>\n",
       "      <td>Under 10k</td>\n",
       "      <td>Under 10k</td>\n",
       "    </tr>\n",
       "    <tr>\n",
       "      <th>1563</th>\n",
       "      <td>10k</td>\n",
       "      <td>10k</td>\n",
       "    </tr>\n",
       "  </tbody>\n",
       "</table>\n",
       "<p>3355 rows × 2 columns</p>\n",
       "</div>"
      ],
      "text/plain": [
       "        Cost_cat predicted_rf_tree\n",
       "14868  Under 10k         Under 10k\n",
       "14301  Under 10k         Under 10k\n",
       "9691   Under 10k         Under 10k\n",
       "6274   Under 10k         Under 10k\n",
       "12593  Under 10k         Under 10k\n",
       "...          ...               ...\n",
       "7576   Under 10k         Under 10k\n",
       "1098         10k               10k\n",
       "9937   Under 10k         Under 10k\n",
       "6918   Under 10k         Under 10k\n",
       "1563         10k               10k\n",
       "\n",
       "[3355 rows x 2 columns]"
      ]
     },
     "execution_count": 143,
     "metadata": {},
     "output_type": "execute_result"
    }
   ],
   "source": [
    "label_rf1"
   ]
  },
  {
   "cell_type": "code",
   "execution_count": 144,
   "metadata": {
    "colab": {},
    "colab_type": "code",
    "id": "9d15FEsYVMqk"
   },
   "outputs": [],
   "source": [
    "def accuracy(predicted_labels, test_labels):\n",
    "    i=0\n",
    "    for l in range(len(predicted_labels)):\n",
    "        if predicted_labels[l]==list(test_labels)[l]:\n",
    "            i+=1\n",
    "    return i/len(predicted_labels)*100"
   ]
  },
  {
   "cell_type": "code",
   "execution_count": 147,
   "metadata": {
    "colab": {},
    "colab_type": "code",
    "id": "mbXfF9UHVMqn"
   },
   "outputs": [
    {
     "name": "stdout",
     "output_type": "stream",
     "text": [
      "Accuracy of the Random Forest Calssification model is :  96.84053651266767 %\n"
     ]
    }
   ],
   "source": [
    "print(\"Accuracy of the Random Forest Calssification model is : \", accuracy(predicted_labels,label_rf1['Cost_cat']),\"%\")"
   ]
  },
  {
   "cell_type": "markdown",
   "metadata": {
    "colab_type": "text",
    "id": "CR1kGFsiVMqo"
   },
   "source": [
    "## Random Forest Classification with compressed data"
   ]
  },
  {
   "cell_type": "code",
   "execution_count": 148,
   "metadata": {
    "colab": {},
    "colab_type": "code",
    "id": "ecmzWs43VMqo",
    "scrolled": true
   },
   "outputs": [
    {
     "data": {
      "text/plain": [
       "RandomForestClassifier(bootstrap=True, ccp_alpha=0.0, class_weight=None,\n",
       "                       criterion='entropy', max_depth=None, max_features='auto',\n",
       "                       max_leaf_nodes=None, max_samples=None,\n",
       "                       min_impurity_decrease=0.0, min_impurity_split=None,\n",
       "                       min_samples_leaf=1, min_samples_split=2,\n",
       "                       min_weight_fraction_leaf=0.0, n_estimators=1000,\n",
       "                       n_jobs=None, oob_score=True, random_state=None,\n",
       "                       verbose=0, warm_start=False)"
      ]
     },
     "execution_count": 148,
     "metadata": {},
     "output_type": "execute_result"
    }
   ],
   "source": [
    "rf_model.fit(df_pca_train,y_train_pca)"
   ]
  },
  {
   "cell_type": "code",
   "execution_count": 149,
   "metadata": {
    "colab": {},
    "colab_type": "code",
    "id": "awe22sbfVMqs"
   },
   "outputs": [],
   "source": [
    "predicted_labels_pca = rf_model.predict(df_pca_test)"
   ]
  },
  {
   "cell_type": "code",
   "execution_count": 150,
   "metadata": {
    "colab": {},
    "colab_type": "code",
    "id": "uZACOWlCVMqu"
   },
   "outputs": [
    {
     "name": "stdout",
     "output_type": "stream",
     "text": [
      "Accuracy of the Random Forest Calssification model is :  90.52160953800298 %\n"
     ]
    }
   ],
   "source": [
    "print(\"Accuracy of the Random Forest Calssification model is : \", accuracy(predicted_labels_pca,y_test_pca),\"%\")"
   ]
  },
  {
   "cell_type": "markdown",
   "metadata": {
    "colab_type": "text",
    "id": "S8Mlqx0iVMqv"
   },
   "source": [
    "## Random Forest Classification with Scaled Data"
   ]
  },
  {
   "cell_type": "code",
   "execution_count": 151,
   "metadata": {
    "colab": {},
    "colab_type": "code",
    "id": "hoNpJW8RVMqv"
   },
   "outputs": [
    {
     "data": {
      "text/plain": [
       "RandomForestClassifier(bootstrap=True, ccp_alpha=0.0, class_weight=None,\n",
       "                       criterion='entropy', max_depth=None, max_features='auto',\n",
       "                       max_leaf_nodes=None, max_samples=None,\n",
       "                       min_impurity_decrease=0.0, min_impurity_split=None,\n",
       "                       min_samples_leaf=1, min_samples_split=2,\n",
       "                       min_weight_fraction_leaf=0.0, n_estimators=1000,\n",
       "                       n_jobs=None, oob_score=True, random_state=None,\n",
       "                       verbose=0, warm_start=False)"
      ]
     },
     "execution_count": 151,
     "metadata": {},
     "output_type": "execute_result"
    }
   ],
   "source": [
    "rf_model.fit(x_train_scaled,y_train_scaled)"
   ]
  },
  {
   "cell_type": "code",
   "execution_count": 152,
   "metadata": {
    "colab": {},
    "colab_type": "code",
    "id": "pV7kjJuEVMqw"
   },
   "outputs": [],
   "source": [
    "predicted_labels_sc = rf_model.predict(x_test_scaled)"
   ]
  },
  {
   "cell_type": "code",
   "execution_count": 153,
   "metadata": {
    "colab": {},
    "colab_type": "code",
    "id": "HN10UBNyVMqw"
   },
   "outputs": [
    {
     "name": "stdout",
     "output_type": "stream",
     "text": [
      "Accuracy of the Random Forest Calssification model is :  96.87034277198212 %\n"
     ]
    }
   ],
   "source": [
    "print(\"Accuracy of the Random Forest Calssification model is : \", accuracy(predicted_labels_sc,y_test_scaled),\"%\")"
   ]
  },
  {
   "cell_type": "markdown",
   "metadata": {
    "colab_type": "text",
    "id": "SashwjbbVMqx"
   },
   "source": [
    "# 2.2. KNN Classification"
   ]
  },
  {
   "cell_type": "code",
   "execution_count": 154,
   "metadata": {
    "colab": {},
    "colab_type": "code",
    "id": "zHdsC2xvVMqx"
   },
   "outputs": [
    {
     "data": {
      "text/plain": [
       "KNeighborsClassifier(algorithm='auto', leaf_size=30, metric='minkowski',\n",
       "                     metric_params=None, n_jobs=None, n_neighbors=5, p=2,\n",
       "                     weights='uniform')"
      ]
     },
     "execution_count": 154,
     "metadata": {},
     "output_type": "execute_result"
    }
   ],
   "source": [
    "from sklearn.neighbors import KNeighborsClassifier\n",
    "classifier = KNeighborsClassifier(n_neighbors=5)\n",
    "classifier.fit(train_features_cl, train_labels_cl)"
   ]
  },
  {
   "cell_type": "code",
   "execution_count": 155,
   "metadata": {
    "colab": {},
    "colab_type": "code",
    "id": "YFYwKJWRVMqy"
   },
   "outputs": [],
   "source": [
    "predicted_labels_Knn = classifier.predict(test_features_cl)"
   ]
  },
  {
   "cell_type": "code",
   "execution_count": 156,
   "metadata": {
    "colab": {},
    "colab_type": "code",
    "id": "4-6Inc_FVMqz"
   },
   "outputs": [
    {
     "name": "stdout",
     "output_type": "stream",
     "text": [
      "Accuracy of the KNN Calssification model is :  95.70789865871832 %\n"
     ]
    }
   ],
   "source": [
    "print(\"Accuracy of the KNN Calssification model is : \", accuracy(predicted_labels_Knn,test_labels_cl),\"%\")"
   ]
  },
  {
   "cell_type": "markdown",
   "metadata": {
    "colab_type": "text",
    "id": "XQ7LDwflVMq0"
   },
   "source": [
    "### KNN Classification With Scaled Data"
   ]
  },
  {
   "cell_type": "code",
   "execution_count": 157,
   "metadata": {
    "colab": {},
    "colab_type": "code",
    "id": "fy65jt3DVMq0"
   },
   "outputs": [
    {
     "data": {
      "text/plain": [
       "KNeighborsClassifier(algorithm='auto', leaf_size=30, metric='minkowski',\n",
       "                     metric_params=None, n_jobs=None, n_neighbors=5, p=2,\n",
       "                     weights='uniform')"
      ]
     },
     "execution_count": 157,
     "metadata": {},
     "output_type": "execute_result"
    }
   ],
   "source": [
    "classifier.fit(x_train_scaled, y_train_scaled)"
   ]
  },
  {
   "cell_type": "code",
   "execution_count": 158,
   "metadata": {
    "colab": {},
    "colab_type": "code",
    "id": "vHfVQED-VMq1"
   },
   "outputs": [],
   "source": [
    "predicted_labels_Knn_sc = classifier.predict(x_test_scaled)"
   ]
  },
  {
   "cell_type": "code",
   "execution_count": 159,
   "metadata": {
    "colab": {},
    "colab_type": "code",
    "id": "FqrfUdnbVMq2",
    "scrolled": true
   },
   "outputs": [
    {
     "name": "stdout",
     "output_type": "stream",
     "text": [
      "Accuracy of the KNN Calssification model is :  96.15499254843517 %\n"
     ]
    }
   ],
   "source": [
    "print(\"Accuracy of the KNN Calssification model is : \", accuracy(predicted_labels_Knn_sc,test_labels_cl),\"%\")"
   ]
  },
  {
   "cell_type": "markdown",
   "metadata": {
    "colab_type": "text",
    "id": "-oKMNotLVMq4"
   },
   "source": [
    "### KNN Classification With Compressed Data"
   ]
  },
  {
   "cell_type": "code",
   "execution_count": 160,
   "metadata": {
    "colab": {},
    "colab_type": "code",
    "id": "I6DQudJgVMq5"
   },
   "outputs": [
    {
     "data": {
      "text/plain": [
       "KNeighborsClassifier(algorithm='auto', leaf_size=30, metric='minkowski',\n",
       "                     metric_params=None, n_jobs=None, n_neighbors=5, p=2,\n",
       "                     weights='uniform')"
      ]
     },
     "execution_count": 160,
     "metadata": {},
     "output_type": "execute_result"
    }
   ],
   "source": [
    "classifier.fit(df_pca_train, y_train_pca)"
   ]
  },
  {
   "cell_type": "code",
   "execution_count": 161,
   "metadata": {
    "colab": {},
    "colab_type": "code",
    "id": "PeGw-t7mVMq6"
   },
   "outputs": [],
   "source": [
    "predicted_labels_Knn_pca = classifier.predict(df_pca_test)"
   ]
  },
  {
   "cell_type": "code",
   "execution_count": 162,
   "metadata": {
    "colab": {},
    "colab_type": "code",
    "id": "fPiS9rWxVMq6",
    "scrolled": false
   },
   "outputs": [
    {
     "name": "stdout",
     "output_type": "stream",
     "text": [
      "Accuracy of the KNN Calssification model is :  89.74664679582712 %\n"
     ]
    }
   ],
   "source": [
    "print(\"Accuracy of the KNN Calssification model is : \", accuracy(predicted_labels_Knn_pca,y_test_pca),\"%\")"
   ]
  },
  {
   "cell_type": "markdown",
   "metadata": {},
   "source": [
    "# 2.2. Logistic Regression"
   ]
  },
  {
   "cell_type": "code",
   "execution_count": 172,
   "metadata": {},
   "outputs": [
    {
     "data": {
      "text/plain": [
       "LogisticRegression(C=0.05, class_weight=None, dual=False, fit_intercept=True,\n",
       "                   intercept_scaling=1, l1_ratio=None, max_iter=100,\n",
       "                   multi_class='ovr', n_jobs=-1, penalty='l2', random_state=0,\n",
       "                   solver='liblinear', tol=0.0001, verbose=0, warm_start=False)"
      ]
     },
     "execution_count": 172,
     "metadata": {},
     "output_type": "execute_result"
    }
   ],
   "source": [
    "classifier = LogisticRegression(solver='liblinear', C=0.05, multi_class='ovr',\n",
    "                           random_state=0, n_jobs=-1)\n",
    "classifier.fit(train_features_cl, train_labels_cl)"
   ]
  },
  {
   "cell_type": "code",
   "execution_count": 173,
   "metadata": {},
   "outputs": [],
   "source": [
    "predicted_labels_log = classifier.predict(test_features_cl)"
   ]
  },
  {
   "cell_type": "code",
   "execution_count": 176,
   "metadata": {
    "scrolled": true
   },
   "outputs": [
    {
     "name": "stdout",
     "output_type": "stream",
     "text": [
      "Accuracy of the Logistic Regression Calssification model is :  95.0521609538003 %\n"
     ]
    }
   ],
   "source": [
    "print(\"Accuracy of the Logistic Regression Calssification model is : \", accuracy(predicted_labels_log,test_labels_cl),\"%\")"
   ]
  },
  {
   "cell_type": "markdown",
   "metadata": {},
   "source": [
    "## Logistic Regression with Scaled Data"
   ]
  },
  {
   "cell_type": "code",
   "execution_count": 177,
   "metadata": {},
   "outputs": [
    {
     "data": {
      "text/plain": [
       "LogisticRegression(C=0.05, class_weight=None, dual=False, fit_intercept=True,\n",
       "                   intercept_scaling=1, l1_ratio=None, max_iter=100,\n",
       "                   multi_class='ovr', n_jobs=-1, penalty='l2', random_state=0,\n",
       "                   solver='liblinear', tol=0.0001, verbose=0, warm_start=False)"
      ]
     },
     "execution_count": 177,
     "metadata": {},
     "output_type": "execute_result"
    }
   ],
   "source": [
    "classifier.fit(x_train_scaled, y_train_scaled)"
   ]
  },
  {
   "cell_type": "code",
   "execution_count": 178,
   "metadata": {},
   "outputs": [],
   "source": [
    "predicted_labels_log_sc = classifier.predict(x_test_scaled)"
   ]
  },
  {
   "cell_type": "code",
   "execution_count": 179,
   "metadata": {},
   "outputs": [
    {
     "name": "stdout",
     "output_type": "stream",
     "text": [
      "Accuracy of the Logistic Regression Calssification is :  94.93293591654248 %\n"
     ]
    }
   ],
   "source": [
    "print(\"Accuracy of the Logistic Regression Calssification is : \", accuracy(predicted_labels_log_sc,test_labels_cl),\"%\")"
   ]
  },
  {
   "cell_type": "markdown",
   "metadata": {},
   "source": [
    "## Logistic Regression with Compressed Data"
   ]
  },
  {
   "cell_type": "code",
   "execution_count": 180,
   "metadata": {},
   "outputs": [],
   "source": [
    "classifier.fit(df_pca_train, y_train_pca)\n",
    "predicted_labels_log_pca = classifier.predict(df_pca_test)"
   ]
  },
  {
   "cell_type": "code",
   "execution_count": 182,
   "metadata": {},
   "outputs": [
    {
     "name": "stdout",
     "output_type": "stream",
     "text": [
      "Accuracy of the Logistic Regression Calssification model is :  88.13710879284649 %\n"
     ]
    }
   ],
   "source": [
    "print(\"Accuracy of the Logistic Regression Calssification model is : \", accuracy(predicted_labels_log_pca,y_test_pca),\"%\")"
   ]
  }
 ],
 "metadata": {
  "accelerator": "GPU",
  "colab": {
   "collapsed_sections": [
    "L27_O84EVMn_",
    "ZRoa9GFVVMoD",
    "h4FqgW0GVMoE",
    "P6qgP5upVMoI",
    "de2utKEkVMoL",
    "d2b2wrfTVMoW",
    "mSmf-1YWVMoZ",
    "j0nL7LRuVMob",
    "gIKkCqJgVMof",
    "y_U2SyK9VMoi",
    "MX2mG08bVMop",
    "Jj93veQiVMow",
    "f03MrXpeVMo0",
    "loo53EGVVMo4",
    "xuRFv-b3VMo6",
    "g7nxPrr0VMo_",
    "vfbtNN2SVMpF",
    "KZMVu59JVMpI",
    "-029D0r9VMpJ",
    "x4fEl4TUVMpM",
    "qMjY1jYkVMpQ",
    "4a3W-uwGVMpW",
    "kOR2liBoVMpc",
    "f8Nyo4W5VMpe",
    "JdtYrC8HVMpf",
    "YovHa_CXVMph",
    "T-ox5UtZVMpi",
    "spPWxAmkVMpn",
    "Fu_WXRqFVMpr",
    "rV-Aw14hVMpv",
    "IhAGWm_TVMpw",
    "vwiRwfBuVMpz",
    "soUv3I7JVMp0",
    "MmVG-OuVVMp7",
    "G6Zd0kDaVMqA",
    "1zmMlauMVMqG",
    "Htupf0zzVMqN",
    "UWyVaFlhVMqS",
    "pHrhhCbkVMqZ",
    "ULbsg4HjVMqZ",
    "uiaJZKWUVMqa",
    "f0Dx9fDyVMqb",
    "lUk8AD4pVMqe",
    "gGDwYU74VMqg",
    "CR1kGFsiVMqo",
    "S8Mlqx0iVMqv",
    "XQ7LDwflVMq0",
    "-oKMNotLVMq4"
   ],
   "name": "Models_Apple&Samsung_Airing_Jung_Han_Lee.ipynb의 사본의 사본",
   "provenance": [],
   "toc_visible": true
  },
  "kernelspec": {
   "display_name": "Python 3",
   "language": "python",
   "name": "python3"
  },
  "language_info": {
   "codemirror_mode": {
    "name": "ipython",
    "version": 3
   },
   "file_extension": ".py",
   "mimetype": "text/x-python",
   "name": "python",
   "nbconvert_exporter": "python",
   "pygments_lexer": "ipython3",
   "version": "3.7.6"
  }
 },
 "nbformat": 4,
 "nbformat_minor": 1
}
